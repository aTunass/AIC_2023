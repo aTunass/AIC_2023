{
  "cells": [
    {
      "cell_type": "code",
      "execution_count": 1,
      "metadata": {
        "colab": {
          "base_uri": "https://localhost:8080/"
        },
        "id": "RBXXxhiagHRr",
        "outputId": "cdfc5486-daa9-4474-8a6c-6c1e3e85c696"
      },
      "outputs": [
        {
          "name": "stdout",
          "output_type": "stream",
          "text": [
            "Drive already mounted at /content/drive; to attempt to forcibly remount, call drive.mount(\"/content/drive\", force_remount=True).\n"
          ]
        }
      ],
      "source": [
        "from google.colab import drive\n",
        "drive.mount('/content/drive')"
      ]
    },
    {
      "cell_type": "markdown",
      "metadata": {
        "id": "vspX9_Rfp2Bq"
      },
      "source": [
        "## Setup"
      ]
    },
    {
      "cell_type": "code",
      "execution_count": 2,
      "metadata": {
        "colab": {
          "base_uri": "https://localhost:8080/"
        },
        "id": "-kPo1GitkG4h",
        "outputId": "4f9cd665-1be9-44be-e86c-29ca11e6277c"
      },
      "outputs": [
        {
          "name": "stdout",
          "output_type": "stream",
          "text": [
            "Requirement already satisfied: moviepy in /usr/local/lib/python3.10/dist-packages (1.0.3)\n",
            "Requirement already satisfied: decorator<5.0,>=4.0.2 in /usr/local/lib/python3.10/dist-packages (from moviepy) (4.4.2)\n",
            "Requirement already satisfied: tqdm<5.0,>=4.11.2 in /usr/local/lib/python3.10/dist-packages (from moviepy) (4.66.1)\n",
            "Requirement already satisfied: requests<3.0,>=2.8.1 in /usr/local/lib/python3.10/dist-packages (from moviepy) (2.31.0)\n",
            "Requirement already satisfied: proglog<=1.0.0 in /usr/local/lib/python3.10/dist-packages (from moviepy) (0.1.10)\n",
            "Requirement already satisfied: numpy>=1.17.3 in /usr/local/lib/python3.10/dist-packages (from moviepy) (1.23.5)\n",
            "Requirement already satisfied: imageio<3.0,>=2.5 in /usr/local/lib/python3.10/dist-packages (from moviepy) (2.31.1)\n",
            "Requirement already satisfied: imageio-ffmpeg>=0.2.0 in /usr/local/lib/python3.10/dist-packages (from moviepy) (0.4.8)\n",
            "Requirement already satisfied: pillow>=8.3.2 in /usr/local/lib/python3.10/dist-packages (from imageio<3.0,>=2.5->moviepy) (9.4.0)\n",
            "Requirement already satisfied: charset-normalizer<4,>=2 in /usr/local/lib/python3.10/dist-packages (from requests<3.0,>=2.8.1->moviepy) (3.2.0)\n",
            "Requirement already satisfied: idna<4,>=2.5 in /usr/local/lib/python3.10/dist-packages (from requests<3.0,>=2.8.1->moviepy) (3.4)\n",
            "Requirement already satisfied: urllib3<3,>=1.21.1 in /usr/local/lib/python3.10/dist-packages (from requests<3.0,>=2.8.1->moviepy) (2.0.4)\n",
            "Requirement already satisfied: certifi>=2017.4.17 in /usr/local/lib/python3.10/dist-packages (from requests<3.0,>=2.8.1->moviepy) (2023.7.22)\n"
          ]
        }
      ],
      "source": [
        "!pip install moviepy\n"
      ]
    },
    {
      "cell_type": "code",
      "execution_count": 3,
      "metadata": {
        "colab": {
          "base_uri": "https://localhost:8080/"
        },
        "id": "Zl9fzWapuQA9",
        "outputId": "de2fc2f7-40a1-4ab2-e126-35688df5471a"
      },
      "outputs": [
        {
          "name": "stdout",
          "output_type": "stream",
          "text": [
            "/content\n",
            "Cloning into 'TransNetV2'...\n",
            "remote: Enumerating objects: 362, done.\u001b[K\n",
            "remote: Counting objects: 100% (7/7), done.\u001b[K\n",
            "remote: Compressing objects: 100% (3/3), done.\u001b[K\n",
            "remote: Total 362 (delta 4), reused 4 (delta 4), pack-reused 355\u001b[K\n",
            "Receiving objects: 100% (362/362), 98.15 KiB | 817.00 KiB/s, done.\n",
            "Resolving deltas: 100% (210/210), done.\n",
            "Requirement already satisfied: tensorflow in /usr/local/lib/python3.10/dist-packages (2.12.0)\n",
            "Requirement already satisfied: absl-py>=1.0.0 in /usr/local/lib/python3.10/dist-packages (from tensorflow) (1.4.0)\n",
            "Requirement already satisfied: astunparse>=1.6.0 in /usr/local/lib/python3.10/dist-packages (from tensorflow) (1.6.3)\n",
            "Requirement already satisfied: flatbuffers>=2.0 in /usr/local/lib/python3.10/dist-packages (from tensorflow) (23.5.26)\n",
            "Requirement already satisfied: gast<=0.4.0,>=0.2.1 in /usr/local/lib/python3.10/dist-packages (from tensorflow) (0.4.0)\n",
            "Requirement already satisfied: google-pasta>=0.1.1 in /usr/local/lib/python3.10/dist-packages (from tensorflow) (0.2.0)\n",
            "Requirement already satisfied: grpcio<2.0,>=1.24.3 in /usr/local/lib/python3.10/dist-packages (from tensorflow) (1.57.0)\n",
            "Requirement already satisfied: h5py>=2.9.0 in /usr/local/lib/python3.10/dist-packages (from tensorflow) (3.9.0)\n",
            "Requirement already satisfied: jax>=0.3.15 in /usr/local/lib/python3.10/dist-packages (from tensorflow) (0.4.14)\n",
            "Requirement already satisfied: keras<2.13,>=2.12.0 in /usr/local/lib/python3.10/dist-packages (from tensorflow) (2.12.0)\n",
            "Requirement already satisfied: libclang>=13.0.0 in /usr/local/lib/python3.10/dist-packages (from tensorflow) (16.0.6)\n",
            "Requirement already satisfied: numpy<1.24,>=1.22 in /usr/local/lib/python3.10/dist-packages (from tensorflow) (1.23.5)\n",
            "Requirement already satisfied: opt-einsum>=2.3.2 in /usr/local/lib/python3.10/dist-packages (from tensorflow) (3.3.0)\n",
            "Requirement already satisfied: packaging in /usr/local/lib/python3.10/dist-packages (from tensorflow) (23.1)\n",
            "Requirement already satisfied: protobuf!=4.21.0,!=4.21.1,!=4.21.2,!=4.21.3,!=4.21.4,!=4.21.5,<5.0.0dev,>=3.20.3 in /usr/local/lib/python3.10/dist-packages (from tensorflow) (3.20.3)\n",
            "Requirement already satisfied: setuptools in /usr/local/lib/python3.10/dist-packages (from tensorflow) (67.7.2)\n",
            "Requirement already satisfied: six>=1.12.0 in /usr/local/lib/python3.10/dist-packages (from tensorflow) (1.16.0)\n",
            "Requirement already satisfied: tensorboard<2.13,>=2.12 in /usr/local/lib/python3.10/dist-packages (from tensorflow) (2.12.3)\n",
            "Requirement already satisfied: tensorflow-estimator<2.13,>=2.12.0 in /usr/local/lib/python3.10/dist-packages (from tensorflow) (2.12.0)\n",
            "Requirement already satisfied: termcolor>=1.1.0 in /usr/local/lib/python3.10/dist-packages (from tensorflow) (2.3.0)\n",
            "Requirement already satisfied: typing-extensions>=3.6.6 in /usr/local/lib/python3.10/dist-packages (from tensorflow) (4.7.1)\n",
            "Requirement already satisfied: wrapt<1.15,>=1.11.0 in /usr/local/lib/python3.10/dist-packages (from tensorflow) (1.14.1)\n",
            "Requirement already satisfied: tensorflow-io-gcs-filesystem>=0.23.1 in /usr/local/lib/python3.10/dist-packages (from tensorflow) (0.33.0)\n",
            "Requirement already satisfied: wheel<1.0,>=0.23.0 in /usr/local/lib/python3.10/dist-packages (from astunparse>=1.6.0->tensorflow) (0.41.2)\n",
            "Requirement already satisfied: ml-dtypes>=0.2.0 in /usr/local/lib/python3.10/dist-packages (from jax>=0.3.15->tensorflow) (0.2.0)\n",
            "Requirement already satisfied: scipy>=1.7 in /usr/local/lib/python3.10/dist-packages (from jax>=0.3.15->tensorflow) (1.10.1)\n",
            "Requirement already satisfied: google-auth<3,>=1.6.3 in /usr/local/lib/python3.10/dist-packages (from tensorboard<2.13,>=2.12->tensorflow) (2.17.3)\n",
            "Requirement already satisfied: google-auth-oauthlib<1.1,>=0.5 in /usr/local/lib/python3.10/dist-packages (from tensorboard<2.13,>=2.12->tensorflow) (1.0.0)\n",
            "Requirement already satisfied: markdown>=2.6.8 in /usr/local/lib/python3.10/dist-packages (from tensorboard<2.13,>=2.12->tensorflow) (3.4.4)\n",
            "Requirement already satisfied: requests<3,>=2.21.0 in /usr/local/lib/python3.10/dist-packages (from tensorboard<2.13,>=2.12->tensorflow) (2.31.0)\n",
            "Requirement already satisfied: tensorboard-data-server<0.8.0,>=0.7.0 in /usr/local/lib/python3.10/dist-packages (from tensorboard<2.13,>=2.12->tensorflow) (0.7.1)\n",
            "Requirement already satisfied: werkzeug>=1.0.1 in /usr/local/lib/python3.10/dist-packages (from tensorboard<2.13,>=2.12->tensorflow) (2.3.7)\n",
            "Requirement already satisfied: cachetools<6.0,>=2.0.0 in /usr/local/lib/python3.10/dist-packages (from google-auth<3,>=1.6.3->tensorboard<2.13,>=2.12->tensorflow) (5.3.1)\n",
            "Requirement already satisfied: pyasn1-modules>=0.2.1 in /usr/local/lib/python3.10/dist-packages (from google-auth<3,>=1.6.3->tensorboard<2.13,>=2.12->tensorflow) (0.3.0)\n",
            "Requirement already satisfied: rsa<5,>=3.1.4 in /usr/local/lib/python3.10/dist-packages (from google-auth<3,>=1.6.3->tensorboard<2.13,>=2.12->tensorflow) (4.9)\n",
            "Requirement already satisfied: requests-oauthlib>=0.7.0 in /usr/local/lib/python3.10/dist-packages (from google-auth-oauthlib<1.1,>=0.5->tensorboard<2.13,>=2.12->tensorflow) (1.3.1)\n",
            "Requirement already satisfied: charset-normalizer<4,>=2 in /usr/local/lib/python3.10/dist-packages (from requests<3,>=2.21.0->tensorboard<2.13,>=2.12->tensorflow) (3.2.0)\n",
            "Requirement already satisfied: idna<4,>=2.5 in /usr/local/lib/python3.10/dist-packages (from requests<3,>=2.21.0->tensorboard<2.13,>=2.12->tensorflow) (3.4)\n",
            "Requirement already satisfied: urllib3<3,>=1.21.1 in /usr/local/lib/python3.10/dist-packages (from requests<3,>=2.21.0->tensorboard<2.13,>=2.12->tensorflow) (2.0.4)\n",
            "Requirement already satisfied: certifi>=2017.4.17 in /usr/local/lib/python3.10/dist-packages (from requests<3,>=2.21.0->tensorboard<2.13,>=2.12->tensorflow) (2023.7.22)\n",
            "Requirement already satisfied: MarkupSafe>=2.1.1 in /usr/local/lib/python3.10/dist-packages (from werkzeug>=1.0.1->tensorboard<2.13,>=2.12->tensorflow) (2.1.3)\n",
            "Requirement already satisfied: pyasn1<0.6.0,>=0.4.6 in /usr/local/lib/python3.10/dist-packages (from pyasn1-modules>=0.2.1->google-auth<3,>=1.6.3->tensorboard<2.13,>=2.12->tensorflow) (0.5.0)\n",
            "Requirement already satisfied: oauthlib>=3.0.0 in /usr/local/lib/python3.10/dist-packages (from requests-oauthlib>=0.7.0->google-auth-oauthlib<1.1,>=0.5->tensorboard<2.13,>=2.12->tensorflow) (3.2.2)\n",
            "Reading package lists... Done\n",
            "Building dependency tree... Done\n",
            "Reading state information... Done\n",
            "ffmpeg is already the newest version (7:4.4.2-0ubuntu0.22.04.1).\n",
            "0 upgraded, 0 newly installed, 0 to remove and 16 not upgraded.\n",
            "Collecting ffmpeg-python\n",
            "  Downloading ffmpeg_python-0.2.0-py3-none-any.whl (25 kB)\n",
            "Requirement already satisfied: pillow in /usr/local/lib/python3.10/dist-packages (9.4.0)\n",
            "Requirement already satisfied: future in /usr/local/lib/python3.10/dist-packages (from ffmpeg-python) (0.18.3)\n",
            "Installing collected packages: ffmpeg-python\n",
            "Successfully installed ffmpeg-python-0.2.0\n"
          ]
        }
      ],
      "source": [
        "%cd /content\n",
        "!git clone https://github.com/soCzech/TransNetV2.git\n",
        "\n",
        "# !pip install tensorflow==2.1\n",
        "!pip install tensorflow\n",
        "!apt-get install ffmpeg\n",
        "!pip install ffmpeg-python pillow\n"
      ]
    },
    {
      "cell_type": "markdown",
      "metadata": {
        "id": "_WmmOflVpel8"
      },
      "source": [
        "## Test code cut clip from video"
      ]
    },
    {
      "cell_type": "code",
      "execution_count": null,
      "metadata": {
        "colab": {
          "base_uri": "https://localhost:8080/"
        },
        "id": "ftY-6FQEuaAu",
        "outputId": "fc7a78b3-d1cf-43fc-cfa1-8d0dde08ba92"
      },
      "outputs": [
        {
          "name": "stdout",
          "output_type": "stream",
          "text": [
            "/content/TransNetV2/inference\n",
            "[TransNetV2] Extracting frames from /content/drive/MyDrive/0._HCM_AI_Challenge_2023/Data_Process/Cut_Video/L03_V001.mp4\n",
            "[TransNetV2] Processing video frames 32910/32910\n"
          ]
        }
      ],
      "source": [
        "\n",
        "from transnetv2 import TransNetV2\n",
        "\n",
        "# location of learned weights is automatically inferred\n",
        "# add argument model_dir=\"/path/to/transnetv2-weights/\" to TransNetV2() if it fails\n",
        "model_dir = \"/content/TransNetV2/inference/transnetv2-weights\"\n",
        "model = TransNetV2(model_dir)\n",
        "path_video = \"/content/drive/MyDrive/0._HCM_AI_Challenge_2023/Data_Process/Cut_Video/L03_V001.mp4\"\n",
        "video_frames, single_frame_predictions, all_frame_predictions = \\\n",
        "    model.predict_video(path_video)\n",
        "\n",
        "# # or\n",
        "# video_frames = ... # np.array, shape: [n_frames, 27, 48, 3], dtype: np.uint8, RGB (not BGR)\n",
        "# single_frame_predictions, all_frame_predictions = \\\n",
        "#     model.predict_frames(video_frames)"
      ]
    },
    {
      "cell_type": "code",
      "execution_count": null,
      "metadata": {
        "id": "7xaL_alIudt1"
      },
      "outputs": [],
      "source": [
        "list_of_scenes = model.predictions_to_scenes(predictions = single_frame_predictions)"
      ]
    },
    {
      "cell_type": "code",
      "execution_count": null,
      "metadata": {
        "colab": {
          "base_uri": "https://localhost:8080/"
        },
        "id": "03ZPznM1ufT5",
        "outputId": "9c524a2e-7779-4a64-df3f-80659a2a08eb"
      },
      "outputs": [
        {
          "name": "stdout",
          "output_type": "stream",
          "text": [
            "391\n",
            "<class 'numpy.ndarray'>\n"
          ]
        }
      ],
      "source": [
        "print(\"Total scenes in video = \", len(list_of_scenes))\n",
        "print(type(list_of_scenes))\n",
        "# print(list_of_scenes)\n",
        "# print(list_of_scenes[1])"
      ]
    },
    {
      "cell_type": "code",
      "execution_count": null,
      "metadata": {
        "id": "M4FwUGVvteG3"
      },
      "outputs": [],
      "source": [
        "import matplotlib.pyplot as plt\n",
        "\n",
        "# visualize scenes in video\n",
        "ls = []\n",
        "for i in range(len(list_of_scenes)):\n",
        "  result = list_of_scenes[i]\n",
        "  start_value = result[0]\n",
        "  end_value = result[1]\n",
        "  val = end_value - start_value\n",
        "  ls.append(val)\n",
        "\n",
        "# print(ls)\n",
        "# print(type(ls))\n",
        "print(\"max list of scenes = \", max(ls))\n",
        "print(\"index max =\", ls.index(max(ls)))\n",
        "print(\"min list of scenes = \",min(ls))\n",
        "print(\"index min = \", ls.index(min(ls)))\n",
        "print(\"mean list of scenes = \", sum(ls)/len(ls))\n",
        "plt.plot(ls)\n",
        "plt.show()"
      ]
    },
    {
      "cell_type": "code",
      "execution_count": null,
      "metadata": {
        "id": "HXfR01VpkWCC"
      },
      "outputs": [],
      "source": [
        "%cd /content/drive/MyDrive/0._HCM_AI_Challenge_2023/Data_Process/Cut_Video\n",
        "from moviepy.video.io.VideoFileClip import VideoFileClip\n",
        "from moviepy.video.io.ffmpeg_tools import ffmpeg_extract_subclip\n",
        "\n",
        "#function cut clip from video \n",
        "def cut_videos(input_video_path, output_video_path, list_of_scenes):\n",
        "    video_clip = VideoFileClip(input_video_path)\n",
        "\n",
        "    for start_frame, end_frame in list_of_scenes:\n",
        "        start_time = start_frame/25\n",
        "        end_time =  end_frame/25\n",
        "        subclip = video_clip.subclip(start_time, end_time)\n",
        "\n",
        "        subclip.write_videofile(output_video_path.format(start_frame, end_frame), codec=\"libx264\")\n",
        "\n",
        "    video_clip.reader.close()\n",
        "    video_clip.audio.reader.close_proc()\n",
        "\n",
        "\n",
        "input_video_path = \"L03_V001.mp4\"\n",
        "output_video_path_template = \"video_L03_V001_from_{}_to_{}.mp4\"\n",
        "\n",
        "cut_videos(input_video_path, output_video_path_template, list_of_scenes)\n"
      ]
    },
    {
      "cell_type": "code",
      "execution_count": null,
      "metadata": {
        "id": "a5Jg-kBbkV_h"
      },
      "outputs": [],
      "source": [
        "%cd /content/TransNetV2\n",
        "\n",
        "pil_image = model.visualize_predictions(\n",
        "            frames = video_frames[19:500],\n",
        "            predictions = (single_frame_predictions, all_frame_predictions))\n",
        "\n",
        "display(pil_image)"
      ]
    },
    {
      "cell_type": "markdown",
      "metadata": {
        "id": "myOZU8YFpSxe"
      },
      "source": [
        "--------------------------\n"
      ]
    },
    {
      "cell_type": "markdown",
      "metadata": {
        "id": "tituv01opl70"
      },
      "source": [
        "## Code cut clip from video"
      ]
    },
    {
      "cell_type": "markdown",
      "metadata": {
        "id": "vqG-7tRxqb8i"
      },
      "source": [
        "**Formula to calculate the total frames in 1 video**\n",
        "\n",
        "Mean frames in 1 scenes in 1 video = 25 FPS\n",
        "\n",
        "```\n",
        "total_frames = time_in_seconds * 25\n",
        "\n",
        "Where:\n",
        "    time_in_seconds: The duration of the video in seconds.\n",
        "    25: Frames per second (FPS).\n",
        "```"
      ]
    },
    {
      "cell_type": "code",
      "execution_count": 4,
      "metadata": {
        "colab": {
          "base_uri": "https://localhost:8080/"
        },
        "id": "WWJbE7IOhTyp",
        "outputId": "59281c12-f99b-4bbf-89c6-73b1026eb39c"
      },
      "outputs": [
        {
          "name": "stdout",
          "output_type": "stream",
          "text": [
            "/content/drive/MyDrive/0._HCM_AI_Challenge_2023/Data_Process/Cut_Video\n"
          ]
        }
      ],
      "source": [
        "%cd /content/drive/MyDrive/0._HCM_AI_Challenge_2023/Data_Process/Cut_Video\n",
        "!mkdir video_scenes_L03\n"
      ]
    },
    {
      "cell_type": "code",
      "execution_count": null,
      "metadata": {
        "colab": {
          "base_uri": "https://localhost:8080/"
        },
        "id": "cRAU2_FWkV86",
        "outputId": "34aeac15-907d-4c2c-8439-adbd4b4078fe"
      },
      "outputs": [
        {
          "name": "stdout",
          "output_type": "stream",
          "text": [
            "/content/TransNetV2/inference\n",
            "[TransNetV2] Extracting frames from /content/drive/MyDrive/0._HCM_AI_Challenge_2023/Data_Process/Video_BTC/Video/video_L03/L03_V001.mp4\n",
            "[TransNetV2] Processing video frames 32910/32910\n",
            "Moviepy - Building video /content/drive/MyDrive/0._HCM_AI_Challenge_2023/Data_Process/Cut_Video/video_scenes_L03/L03_V001/video_from_0_to_19.mp4.\n",
            "MoviePy - Writing audio in video_from_0_to_19TEMP_MPY_wvf_snd.mp3\n"
          ]
        },
        {
          "name": "stderr",
          "output_type": "stream",
          "text": []
        },
        {
          "name": "stdout",
          "output_type": "stream",
          "text": [
            "MoviePy - Done.\n",
            "Moviepy - Writing video /content/drive/MyDrive/0._HCM_AI_Challenge_2023/Data_Process/Cut_Video/video_scenes_L03/L03_V001/video_from_0_to_19.mp4\n",
            "\n"
          ]
        },
        {
          "name": "stderr",
          "output_type": "stream",
          "text": []
        },
        {
          "name": "stdout",
          "output_type": "stream",
          "text": [
            "Moviepy - Done !\n",
            "Moviepy - video ready /content/drive/MyDrive/0._HCM_AI_Challenge_2023/Data_Process/Cut_Video/video_scenes_L03/L03_V001/video_from_0_to_19.mp4\n",
            "Moviepy - Building video /content/drive/MyDrive/0._HCM_AI_Challenge_2023/Data_Process/Cut_Video/video_scenes_L03/L03_V001/video_from_20_to_455.mp4.\n",
            "MoviePy - Writing audio in video_from_20_to_455TEMP_MPY_wvf_snd.mp3\n"
          ]
        },
        {
          "name": "stderr",
          "output_type": "stream",
          "text": []
        },
        {
          "name": "stdout",
          "output_type": "stream",
          "text": [
            "MoviePy - Done.\n",
            "Moviepy - Writing video /content/drive/MyDrive/0._HCM_AI_Challenge_2023/Data_Process/Cut_Video/video_scenes_L03/L03_V001/video_from_20_to_455.mp4\n",
            "\n"
          ]
        },
        {
          "name": "stderr",
          "output_type": "stream",
          "text": []
        },
        {
          "name": "stdout",
          "output_type": "stream",
          "text": [
            "Moviepy - Done !\n",
            "Moviepy - video ready /content/drive/MyDrive/0._HCM_AI_Challenge_2023/Data_Process/Cut_Video/video_scenes_L03/L03_V001/video_from_20_to_455.mp4\n",
            "Moviepy - Building video /content/drive/MyDrive/0._HCM_AI_Challenge_2023/Data_Process/Cut_Video/video_scenes_L03/L03_V001/video_from_456_to_507.mp4.\n",
            "MoviePy - Writing audio in video_from_456_to_507TEMP_MPY_wvf_snd.mp3\n"
          ]
        },
        {
          "name": "stderr",
          "output_type": "stream",
          "text": []
        },
        {
          "name": "stdout",
          "output_type": "stream",
          "text": [
            "MoviePy - Done.\n",
            "Moviepy - Writing video /content/drive/MyDrive/0._HCM_AI_Challenge_2023/Data_Process/Cut_Video/video_scenes_L03/L03_V001/video_from_456_to_507.mp4\n",
            "\n"
          ]
        },
        {
          "name": "stderr",
          "output_type": "stream",
          "text": []
        },
        {
          "name": "stdout",
          "output_type": "stream",
          "text": [
            "Moviepy - Done !\n",
            "Moviepy - video ready /content/drive/MyDrive/0._HCM_AI_Challenge_2023/Data_Process/Cut_Video/video_scenes_L03/L03_V001/video_from_456_to_507.mp4\n",
            "Moviepy - Building video /content/drive/MyDrive/0._HCM_AI_Challenge_2023/Data_Process/Cut_Video/video_scenes_L03/L03_V001/video_from_508_to_547.mp4.\n",
            "MoviePy - Writing audio in video_from_508_to_547TEMP_MPY_wvf_snd.mp3\n"
          ]
        },
        {
          "name": "stderr",
          "output_type": "stream",
          "text": []
        },
        {
          "name": "stdout",
          "output_type": "stream",
          "text": [
            "MoviePy - Done.\n",
            "Moviepy - Writing video /content/drive/MyDrive/0._HCM_AI_Challenge_2023/Data_Process/Cut_Video/video_scenes_L03/L03_V001/video_from_508_to_547.mp4\n",
            "\n"
          ]
        },
        {
          "name": "stderr",
          "output_type": "stream",
          "text": []
        },
        {
          "name": "stdout",
          "output_type": "stream",
          "text": [
            "Moviepy - Done !\n",
            "Moviepy - video ready /content/drive/MyDrive/0._HCM_AI_Challenge_2023/Data_Process/Cut_Video/video_scenes_L03/L03_V001/video_from_508_to_547.mp4\n",
            "Moviepy - Building video /content/drive/MyDrive/0._HCM_AI_Challenge_2023/Data_Process/Cut_Video/video_scenes_L03/L03_V001/video_from_548_to_578.mp4.\n",
            "MoviePy - Writing audio in video_from_548_to_578TEMP_MPY_wvf_snd.mp3\n"
          ]
        },
        {
          "name": "stderr",
          "output_type": "stream",
          "text": []
        },
        {
          "name": "stdout",
          "output_type": "stream",
          "text": [
            "MoviePy - Done.\n",
            "Moviepy - Writing video /content/drive/MyDrive/0._HCM_AI_Challenge_2023/Data_Process/Cut_Video/video_scenes_L03/L03_V001/video_from_548_to_578.mp4\n",
            "\n"
          ]
        },
        {
          "name": "stderr",
          "output_type": "stream",
          "text": []
        },
        {
          "name": "stdout",
          "output_type": "stream",
          "text": [
            "Moviepy - Done !\n",
            "Moviepy - video ready /content/drive/MyDrive/0._HCM_AI_Challenge_2023/Data_Process/Cut_Video/video_scenes_L03/L03_V001/video_from_548_to_578.mp4\n",
            "Moviepy - Building video /content/drive/MyDrive/0._HCM_AI_Challenge_2023/Data_Process/Cut_Video/video_scenes_L03/L03_V001/video_from_579_to_634.mp4.\n",
            "MoviePy - Writing audio in video_from_579_to_634TEMP_MPY_wvf_snd.mp3\n"
          ]
        },
        {
          "name": "stderr",
          "output_type": "stream",
          "text": []
        },
        {
          "name": "stdout",
          "output_type": "stream",
          "text": [
            "MoviePy - Done.\n",
            "Moviepy - Writing video /content/drive/MyDrive/0._HCM_AI_Challenge_2023/Data_Process/Cut_Video/video_scenes_L03/L03_V001/video_from_579_to_634.mp4\n",
            "\n"
          ]
        },
        {
          "name": "stderr",
          "output_type": "stream",
          "text": []
        },
        {
          "name": "stdout",
          "output_type": "stream",
          "text": [
            "Moviepy - Done !\n",
            "Moviepy - video ready /content/drive/MyDrive/0._HCM_AI_Challenge_2023/Data_Process/Cut_Video/video_scenes_L03/L03_V001/video_from_579_to_634.mp4\n",
            "Moviepy - Building video /content/drive/MyDrive/0._HCM_AI_Challenge_2023/Data_Process/Cut_Video/video_scenes_L03/L03_V001/video_from_635_to_660.mp4.\n",
            "MoviePy - Writing audio in video_from_635_to_660TEMP_MPY_wvf_snd.mp3\n"
          ]
        },
        {
          "name": "stderr",
          "output_type": "stream",
          "text": []
        },
        {
          "name": "stdout",
          "output_type": "stream",
          "text": [
            "MoviePy - Done.\n",
            "Moviepy - Writing video /content/drive/MyDrive/0._HCM_AI_Challenge_2023/Data_Process/Cut_Video/video_scenes_L03/L03_V001/video_from_635_to_660.mp4\n",
            "\n"
          ]
        },
        {
          "name": "stderr",
          "output_type": "stream",
          "text": []
        },
        {
          "name": "stdout",
          "output_type": "stream",
          "text": [
            "Moviepy - Done !\n",
            "Moviepy - video ready /content/drive/MyDrive/0._HCM_AI_Challenge_2023/Data_Process/Cut_Video/video_scenes_L03/L03_V001/video_from_635_to_660.mp4\n",
            "Moviepy - Building video /content/drive/MyDrive/0._HCM_AI_Challenge_2023/Data_Process/Cut_Video/video_scenes_L03/L03_V001/video_from_661_to_690.mp4.\n",
            "MoviePy - Writing audio in video_from_661_to_690TEMP_MPY_wvf_snd.mp3\n"
          ]
        },
        {
          "name": "stderr",
          "output_type": "stream",
          "text": []
        },
        {
          "name": "stdout",
          "output_type": "stream",
          "text": [
            "MoviePy - Done.\n",
            "Moviepy - Writing video /content/drive/MyDrive/0._HCM_AI_Challenge_2023/Data_Process/Cut_Video/video_scenes_L03/L03_V001/video_from_661_to_690.mp4\n",
            "\n"
          ]
        },
        {
          "name": "stderr",
          "output_type": "stream",
          "text": []
        },
        {
          "name": "stdout",
          "output_type": "stream",
          "text": [
            "Moviepy - Done !\n",
            "Moviepy - video ready /content/drive/MyDrive/0._HCM_AI_Challenge_2023/Data_Process/Cut_Video/video_scenes_L03/L03_V001/video_from_661_to_690.mp4\n",
            "Moviepy - Building video /content/drive/MyDrive/0._HCM_AI_Challenge_2023/Data_Process/Cut_Video/video_scenes_L03/L03_V001/video_from_691_to_718.mp4.\n",
            "MoviePy - Writing audio in video_from_691_to_718TEMP_MPY_wvf_snd.mp3\n"
          ]
        },
        {
          "name": "stderr",
          "output_type": "stream",
          "text": []
        },
        {
          "name": "stdout",
          "output_type": "stream",
          "text": [
            "MoviePy - Done.\n",
            "Moviepy - Writing video /content/drive/MyDrive/0._HCM_AI_Challenge_2023/Data_Process/Cut_Video/video_scenes_L03/L03_V001/video_from_691_to_718.mp4\n",
            "\n"
          ]
        },
        {
          "name": "stderr",
          "output_type": "stream",
          "text": []
        },
        {
          "name": "stdout",
          "output_type": "stream",
          "text": [
            "Moviepy - Done !\n",
            "Moviepy - video ready /content/drive/MyDrive/0._HCM_AI_Challenge_2023/Data_Process/Cut_Video/video_scenes_L03/L03_V001/video_from_691_to_718.mp4\n",
            "Moviepy - Building video /content/drive/MyDrive/0._HCM_AI_Challenge_2023/Data_Process/Cut_Video/video_scenes_L03/L03_V001/video_from_719_to_758.mp4.\n",
            "MoviePy - Writing audio in video_from_719_to_758TEMP_MPY_wvf_snd.mp3\n"
          ]
        },
        {
          "name": "stderr",
          "output_type": "stream",
          "text": []
        },
        {
          "name": "stdout",
          "output_type": "stream",
          "text": [
            "MoviePy - Done.\n",
            "Moviepy - Writing video /content/drive/MyDrive/0._HCM_AI_Challenge_2023/Data_Process/Cut_Video/video_scenes_L03/L03_V001/video_from_719_to_758.mp4\n",
            "\n"
          ]
        },
        {
          "name": "stderr",
          "output_type": "stream",
          "text": []
        },
        {
          "name": "stdout",
          "output_type": "stream",
          "text": [
            "Moviepy - Done !\n",
            "Moviepy - video ready /content/drive/MyDrive/0._HCM_AI_Challenge_2023/Data_Process/Cut_Video/video_scenes_L03/L03_V001/video_from_719_to_758.mp4\n",
            "Moviepy - Building video /content/drive/MyDrive/0._HCM_AI_Challenge_2023/Data_Process/Cut_Video/video_scenes_L03/L03_V001/video_from_759_to_777.mp4.\n",
            "MoviePy - Writing audio in video_from_759_to_777TEMP_MPY_wvf_snd.mp3\n"
          ]
        },
        {
          "name": "stderr",
          "output_type": "stream",
          "text": []
        },
        {
          "name": "stdout",
          "output_type": "stream",
          "text": [
            "MoviePy - Done.\n",
            "Moviepy - Writing video /content/drive/MyDrive/0._HCM_AI_Challenge_2023/Data_Process/Cut_Video/video_scenes_L03/L03_V001/video_from_759_to_777.mp4\n",
            "\n"
          ]
        },
        {
          "name": "stderr",
          "output_type": "stream",
          "text": []
        },
        {
          "name": "stdout",
          "output_type": "stream",
          "text": [
            "Moviepy - Done !\n",
            "Moviepy - video ready /content/drive/MyDrive/0._HCM_AI_Challenge_2023/Data_Process/Cut_Video/video_scenes_L03/L03_V001/video_from_759_to_777.mp4\n",
            "Moviepy - Building video /content/drive/MyDrive/0._HCM_AI_Challenge_2023/Data_Process/Cut_Video/video_scenes_L03/L03_V001/video_from_778_to_822.mp4.\n",
            "MoviePy - Writing audio in video_from_778_to_822TEMP_MPY_wvf_snd.mp3\n"
          ]
        },
        {
          "name": "stderr",
          "output_type": "stream",
          "text": []
        },
        {
          "name": "stdout",
          "output_type": "stream",
          "text": [
            "MoviePy - Done.\n",
            "Moviepy - Writing video /content/drive/MyDrive/0._HCM_AI_Challenge_2023/Data_Process/Cut_Video/video_scenes_L03/L03_V001/video_from_778_to_822.mp4\n",
            "\n"
          ]
        },
        {
          "name": "stderr",
          "output_type": "stream",
          "text": []
        },
        {
          "name": "stdout",
          "output_type": "stream",
          "text": [
            "Moviepy - Done !\n",
            "Moviepy - video ready /content/drive/MyDrive/0._HCM_AI_Challenge_2023/Data_Process/Cut_Video/video_scenes_L03/L03_V001/video_from_778_to_822.mp4\n",
            "Moviepy - Building video /content/drive/MyDrive/0._HCM_AI_Challenge_2023/Data_Process/Cut_Video/video_scenes_L03/L03_V001/video_from_823_to_883.mp4.\n",
            "MoviePy - Writing audio in video_from_823_to_883TEMP_MPY_wvf_snd.mp3\n"
          ]
        },
        {
          "name": "stderr",
          "output_type": "stream",
          "text": []
        },
        {
          "name": "stdout",
          "output_type": "stream",
          "text": [
            "MoviePy - Done.\n",
            "Moviepy - Writing video /content/drive/MyDrive/0._HCM_AI_Challenge_2023/Data_Process/Cut_Video/video_scenes_L03/L03_V001/video_from_823_to_883.mp4\n",
            "\n"
          ]
        },
        {
          "name": "stderr",
          "output_type": "stream",
          "text": []
        },
        {
          "name": "stdout",
          "output_type": "stream",
          "text": [
            "Moviepy - Done !\n",
            "Moviepy - video ready /content/drive/MyDrive/0._HCM_AI_Challenge_2023/Data_Process/Cut_Video/video_scenes_L03/L03_V001/video_from_823_to_883.mp4\n",
            "Moviepy - Building video /content/drive/MyDrive/0._HCM_AI_Challenge_2023/Data_Process/Cut_Video/video_scenes_L03/L03_V001/video_from_884_to_908.mp4.\n",
            "MoviePy - Writing audio in video_from_884_to_908TEMP_MPY_wvf_snd.mp3\n"
          ]
        },
        {
          "name": "stderr",
          "output_type": "stream",
          "text": []
        },
        {
          "name": "stdout",
          "output_type": "stream",
          "text": [
            "MoviePy - Done.\n",
            "Moviepy - Writing video /content/drive/MyDrive/0._HCM_AI_Challenge_2023/Data_Process/Cut_Video/video_scenes_L03/L03_V001/video_from_884_to_908.mp4\n",
            "\n"
          ]
        },
        {
          "name": "stderr",
          "output_type": "stream",
          "text": []
        },
        {
          "name": "stdout",
          "output_type": "stream",
          "text": [
            "Moviepy - Done !\n",
            "Moviepy - video ready /content/drive/MyDrive/0._HCM_AI_Challenge_2023/Data_Process/Cut_Video/video_scenes_L03/L03_V001/video_from_884_to_908.mp4\n",
            "Moviepy - Building video /content/drive/MyDrive/0._HCM_AI_Challenge_2023/Data_Process/Cut_Video/video_scenes_L03/L03_V001/video_from_909_to_935.mp4.\n",
            "MoviePy - Writing audio in video_from_909_to_935TEMP_MPY_wvf_snd.mp3\n"
          ]
        },
        {
          "name": "stderr",
          "output_type": "stream",
          "text": []
        },
        {
          "name": "stdout",
          "output_type": "stream",
          "text": [
            "MoviePy - Done.\n",
            "Moviepy - Writing video /content/drive/MyDrive/0._HCM_AI_Challenge_2023/Data_Process/Cut_Video/video_scenes_L03/L03_V001/video_from_909_to_935.mp4\n",
            "\n"
          ]
        },
        {
          "name": "stderr",
          "output_type": "stream",
          "text": []
        },
        {
          "name": "stdout",
          "output_type": "stream",
          "text": [
            "Moviepy - Done !\n",
            "Moviepy - video ready /content/drive/MyDrive/0._HCM_AI_Challenge_2023/Data_Process/Cut_Video/video_scenes_L03/L03_V001/video_from_909_to_935.mp4\n",
            "Moviepy - Building video /content/drive/MyDrive/0._HCM_AI_Challenge_2023/Data_Process/Cut_Video/video_scenes_L03/L03_V001/video_from_936_to_956.mp4.\n",
            "MoviePy - Writing audio in video_from_936_to_956TEMP_MPY_wvf_snd.mp3\n"
          ]
        },
        {
          "name": "stderr",
          "output_type": "stream",
          "text": []
        },
        {
          "name": "stdout",
          "output_type": "stream",
          "text": [
            "MoviePy - Done.\n",
            "Moviepy - Writing video /content/drive/MyDrive/0._HCM_AI_Challenge_2023/Data_Process/Cut_Video/video_scenes_L03/L03_V001/video_from_936_to_956.mp4\n",
            "\n"
          ]
        },
        {
          "name": "stderr",
          "output_type": "stream",
          "text": []
        },
        {
          "name": "stdout",
          "output_type": "stream",
          "text": [
            "Moviepy - Done !\n",
            "Moviepy - video ready /content/drive/MyDrive/0._HCM_AI_Challenge_2023/Data_Process/Cut_Video/video_scenes_L03/L03_V001/video_from_936_to_956.mp4\n",
            "Moviepy - Building video /content/drive/MyDrive/0._HCM_AI_Challenge_2023/Data_Process/Cut_Video/video_scenes_L03/L03_V001/video_from_957_to_980.mp4.\n",
            "MoviePy - Writing audio in video_from_957_to_980TEMP_MPY_wvf_snd.mp3\n"
          ]
        },
        {
          "name": "stderr",
          "output_type": "stream",
          "text": []
        },
        {
          "name": "stdout",
          "output_type": "stream",
          "text": [
            "MoviePy - Done.\n",
            "Moviepy - Writing video /content/drive/MyDrive/0._HCM_AI_Challenge_2023/Data_Process/Cut_Video/video_scenes_L03/L03_V001/video_from_957_to_980.mp4\n",
            "\n"
          ]
        },
        {
          "name": "stderr",
          "output_type": "stream",
          "text": []
        },
        {
          "name": "stdout",
          "output_type": "stream",
          "text": [
            "Moviepy - Done !\n",
            "Moviepy - video ready /content/drive/MyDrive/0._HCM_AI_Challenge_2023/Data_Process/Cut_Video/video_scenes_L03/L03_V001/video_from_957_to_980.mp4\n",
            "Moviepy - Building video /content/drive/MyDrive/0._HCM_AI_Challenge_2023/Data_Process/Cut_Video/video_scenes_L03/L03_V001/video_from_981_to_1004.mp4.\n",
            "MoviePy - Writing audio in video_from_981_to_1004TEMP_MPY_wvf_snd.mp3\n"
          ]
        },
        {
          "name": "stderr",
          "output_type": "stream",
          "text": []
        },
        {
          "name": "stdout",
          "output_type": "stream",
          "text": [
            "MoviePy - Done.\n",
            "Moviepy - Writing video /content/drive/MyDrive/0._HCM_AI_Challenge_2023/Data_Process/Cut_Video/video_scenes_L03/L03_V001/video_from_981_to_1004.mp4\n",
            "\n"
          ]
        },
        {
          "name": "stderr",
          "output_type": "stream",
          "text": []
        },
        {
          "name": "stdout",
          "output_type": "stream",
          "text": [
            "Moviepy - Done !\n",
            "Moviepy - video ready /content/drive/MyDrive/0._HCM_AI_Challenge_2023/Data_Process/Cut_Video/video_scenes_L03/L03_V001/video_from_981_to_1004.mp4\n",
            "Moviepy - Building video /content/drive/MyDrive/0._HCM_AI_Challenge_2023/Data_Process/Cut_Video/video_scenes_L03/L03_V001/video_from_1005_to_1087.mp4.\n",
            "MoviePy - Writing audio in video_from_1005_to_1087TEMP_MPY_wvf_snd.mp3\n"
          ]
        },
        {
          "name": "stderr",
          "output_type": "stream",
          "text": []
        },
        {
          "name": "stdout",
          "output_type": "stream",
          "text": [
            "MoviePy - Done.\n",
            "Moviepy - Writing video /content/drive/MyDrive/0._HCM_AI_Challenge_2023/Data_Process/Cut_Video/video_scenes_L03/L03_V001/video_from_1005_to_1087.mp4\n",
            "\n"
          ]
        },
        {
          "name": "stderr",
          "output_type": "stream",
          "text": []
        },
        {
          "name": "stdout",
          "output_type": "stream",
          "text": [
            "Moviepy - Done !\n",
            "Moviepy - video ready /content/drive/MyDrive/0._HCM_AI_Challenge_2023/Data_Process/Cut_Video/video_scenes_L03/L03_V001/video_from_1005_to_1087.mp4\n",
            "Moviepy - Building video /content/drive/MyDrive/0._HCM_AI_Challenge_2023/Data_Process/Cut_Video/video_scenes_L03/L03_V001/video_from_1088_to_1643.mp4.\n",
            "MoviePy - Writing audio in video_from_1088_to_1643TEMP_MPY_wvf_snd.mp3\n"
          ]
        },
        {
          "name": "stderr",
          "output_type": "stream",
          "text": []
        },
        {
          "name": "stdout",
          "output_type": "stream",
          "text": [
            "MoviePy - Done.\n",
            "Moviepy - Writing video /content/drive/MyDrive/0._HCM_AI_Challenge_2023/Data_Process/Cut_Video/video_scenes_L03/L03_V001/video_from_1088_to_1643.mp4\n",
            "\n"
          ]
        },
        {
          "name": "stderr",
          "output_type": "stream",
          "text": []
        },
        {
          "name": "stdout",
          "output_type": "stream",
          "text": [
            "Moviepy - Done !\n",
            "Moviepy - video ready /content/drive/MyDrive/0._HCM_AI_Challenge_2023/Data_Process/Cut_Video/video_scenes_L03/L03_V001/video_from_1088_to_1643.mp4\n",
            "Moviepy - Building video /content/drive/MyDrive/0._HCM_AI_Challenge_2023/Data_Process/Cut_Video/video_scenes_L03/L03_V001/video_from_1644_to_2107.mp4.\n",
            "MoviePy - Writing audio in video_from_1644_to_2107TEMP_MPY_wvf_snd.mp3\n"
          ]
        },
        {
          "name": "stderr",
          "output_type": "stream",
          "text": []
        },
        {
          "name": "stdout",
          "output_type": "stream",
          "text": [
            "MoviePy - Done.\n",
            "Moviepy - Writing video /content/drive/MyDrive/0._HCM_AI_Challenge_2023/Data_Process/Cut_Video/video_scenes_L03/L03_V001/video_from_1644_to_2107.mp4\n",
            "\n"
          ]
        },
        {
          "name": "stderr",
          "output_type": "stream",
          "text": []
        },
        {
          "name": "stdout",
          "output_type": "stream",
          "text": [
            "Moviepy - Done !\n",
            "Moviepy - video ready /content/drive/MyDrive/0._HCM_AI_Challenge_2023/Data_Process/Cut_Video/video_scenes_L03/L03_V001/video_from_1644_to_2107.mp4\n",
            "Moviepy - Building video /content/drive/MyDrive/0._HCM_AI_Challenge_2023/Data_Process/Cut_Video/video_scenes_L03/L03_V001/video_from_2108_to_2143.mp4.\n",
            "MoviePy - Writing audio in video_from_2108_to_2143TEMP_MPY_wvf_snd.mp3\n"
          ]
        },
        {
          "name": "stderr",
          "output_type": "stream",
          "text": []
        },
        {
          "name": "stdout",
          "output_type": "stream",
          "text": [
            "MoviePy - Done.\n",
            "Moviepy - Writing video /content/drive/MyDrive/0._HCM_AI_Challenge_2023/Data_Process/Cut_Video/video_scenes_L03/L03_V001/video_from_2108_to_2143.mp4\n",
            "\n"
          ]
        },
        {
          "name": "stderr",
          "output_type": "stream",
          "text": []
        },
        {
          "name": "stdout",
          "output_type": "stream",
          "text": [
            "Moviepy - Done !\n",
            "Moviepy - video ready /content/drive/MyDrive/0._HCM_AI_Challenge_2023/Data_Process/Cut_Video/video_scenes_L03/L03_V001/video_from_2108_to_2143.mp4\n",
            "Moviepy - Building video /content/drive/MyDrive/0._HCM_AI_Challenge_2023/Data_Process/Cut_Video/video_scenes_L03/L03_V001/video_from_2144_to_2297.mp4.\n",
            "MoviePy - Writing audio in video_from_2144_to_2297TEMP_MPY_wvf_snd.mp3\n"
          ]
        },
        {
          "name": "stderr",
          "output_type": "stream",
          "text": []
        },
        {
          "name": "stdout",
          "output_type": "stream",
          "text": [
            "MoviePy - Done.\n",
            "Moviepy - Writing video /content/drive/MyDrive/0._HCM_AI_Challenge_2023/Data_Process/Cut_Video/video_scenes_L03/L03_V001/video_from_2144_to_2297.mp4\n",
            "\n"
          ]
        },
        {
          "name": "stderr",
          "output_type": "stream",
          "text": []
        },
        {
          "name": "stdout",
          "output_type": "stream",
          "text": [
            "Moviepy - Done !\n",
            "Moviepy - video ready /content/drive/MyDrive/0._HCM_AI_Challenge_2023/Data_Process/Cut_Video/video_scenes_L03/L03_V001/video_from_2144_to_2297.mp4\n",
            "Moviepy - Building video /content/drive/MyDrive/0._HCM_AI_Challenge_2023/Data_Process/Cut_Video/video_scenes_L03/L03_V001/video_from_2298_to_2386.mp4.\n",
            "MoviePy - Writing audio in video_from_2298_to_2386TEMP_MPY_wvf_snd.mp3\n"
          ]
        },
        {
          "name": "stderr",
          "output_type": "stream",
          "text": []
        },
        {
          "name": "stdout",
          "output_type": "stream",
          "text": [
            "MoviePy - Done.\n",
            "Moviepy - Writing video /content/drive/MyDrive/0._HCM_AI_Challenge_2023/Data_Process/Cut_Video/video_scenes_L03/L03_V001/video_from_2298_to_2386.mp4\n",
            "\n"
          ]
        },
        {
          "name": "stderr",
          "output_type": "stream",
          "text": []
        },
        {
          "name": "stdout",
          "output_type": "stream",
          "text": [
            "Moviepy - Done !\n",
            "Moviepy - video ready /content/drive/MyDrive/0._HCM_AI_Challenge_2023/Data_Process/Cut_Video/video_scenes_L03/L03_V001/video_from_2298_to_2386.mp4\n",
            "Moviepy - Building video /content/drive/MyDrive/0._HCM_AI_Challenge_2023/Data_Process/Cut_Video/video_scenes_L03/L03_V001/video_from_2387_to_2781.mp4.\n",
            "MoviePy - Writing audio in video_from_2387_to_2781TEMP_MPY_wvf_snd.mp3\n"
          ]
        },
        {
          "name": "stderr",
          "output_type": "stream",
          "text": []
        },
        {
          "name": "stdout",
          "output_type": "stream",
          "text": [
            "MoviePy - Done.\n",
            "Moviepy - Writing video /content/drive/MyDrive/0._HCM_AI_Challenge_2023/Data_Process/Cut_Video/video_scenes_L03/L03_V001/video_from_2387_to_2781.mp4\n",
            "\n"
          ]
        },
        {
          "name": "stderr",
          "output_type": "stream",
          "text": []
        },
        {
          "name": "stdout",
          "output_type": "stream",
          "text": [
            "Moviepy - Done !\n",
            "Moviepy - video ready /content/drive/MyDrive/0._HCM_AI_Challenge_2023/Data_Process/Cut_Video/video_scenes_L03/L03_V001/video_from_2387_to_2781.mp4\n",
            "Moviepy - Building video /content/drive/MyDrive/0._HCM_AI_Challenge_2023/Data_Process/Cut_Video/video_scenes_L03/L03_V001/video_from_2782_to_3082.mp4.\n",
            "MoviePy - Writing audio in video_from_2782_to_3082TEMP_MPY_wvf_snd.mp3\n"
          ]
        },
        {
          "name": "stderr",
          "output_type": "stream",
          "text": []
        },
        {
          "name": "stdout",
          "output_type": "stream",
          "text": [
            "MoviePy - Done.\n",
            "Moviepy - Writing video /content/drive/MyDrive/0._HCM_AI_Challenge_2023/Data_Process/Cut_Video/video_scenes_L03/L03_V001/video_from_2782_to_3082.mp4\n",
            "\n"
          ]
        },
        {
          "name": "stderr",
          "output_type": "stream",
          "text": []
        },
        {
          "name": "stdout",
          "output_type": "stream",
          "text": [
            "Moviepy - Done !\n",
            "Moviepy - video ready /content/drive/MyDrive/0._HCM_AI_Challenge_2023/Data_Process/Cut_Video/video_scenes_L03/L03_V001/video_from_2782_to_3082.mp4\n",
            "Moviepy - Building video /content/drive/MyDrive/0._HCM_AI_Challenge_2023/Data_Process/Cut_Video/video_scenes_L03/L03_V001/video_from_3083_to_3217.mp4.\n",
            "MoviePy - Writing audio in video_from_3083_to_3217TEMP_MPY_wvf_snd.mp3\n"
          ]
        },
        {
          "name": "stderr",
          "output_type": "stream",
          "text": []
        },
        {
          "name": "stdout",
          "output_type": "stream",
          "text": [
            "MoviePy - Done.\n",
            "Moviepy - Writing video /content/drive/MyDrive/0._HCM_AI_Challenge_2023/Data_Process/Cut_Video/video_scenes_L03/L03_V001/video_from_3083_to_3217.mp4\n",
            "\n"
          ]
        },
        {
          "name": "stderr",
          "output_type": "stream",
          "text": []
        },
        {
          "name": "stdout",
          "output_type": "stream",
          "text": [
            "Moviepy - Done !\n",
            "Moviepy - video ready /content/drive/MyDrive/0._HCM_AI_Challenge_2023/Data_Process/Cut_Video/video_scenes_L03/L03_V001/video_from_3083_to_3217.mp4\n",
            "Moviepy - Building video /content/drive/MyDrive/0._HCM_AI_Challenge_2023/Data_Process/Cut_Video/video_scenes_L03/L03_V001/video_from_3218_to_3402.mp4.\n",
            "MoviePy - Writing audio in video_from_3218_to_3402TEMP_MPY_wvf_snd.mp3\n"
          ]
        },
        {
          "name": "stderr",
          "output_type": "stream",
          "text": []
        },
        {
          "name": "stdout",
          "output_type": "stream",
          "text": [
            "MoviePy - Done.\n",
            "Moviepy - Writing video /content/drive/MyDrive/0._HCM_AI_Challenge_2023/Data_Process/Cut_Video/video_scenes_L03/L03_V001/video_from_3218_to_3402.mp4\n",
            "\n"
          ]
        },
        {
          "name": "stderr",
          "output_type": "stream",
          "text": []
        },
        {
          "name": "stdout",
          "output_type": "stream",
          "text": [
            "Moviepy - Done !\n",
            "Moviepy - video ready /content/drive/MyDrive/0._HCM_AI_Challenge_2023/Data_Process/Cut_Video/video_scenes_L03/L03_V001/video_from_3218_to_3402.mp4\n",
            "Moviepy - Building video /content/drive/MyDrive/0._HCM_AI_Challenge_2023/Data_Process/Cut_Video/video_scenes_L03/L03_V001/video_from_3403_to_3510.mp4.\n",
            "MoviePy - Writing audio in video_from_3403_to_3510TEMP_MPY_wvf_snd.mp3\n"
          ]
        },
        {
          "name": "stderr",
          "output_type": "stream",
          "text": []
        },
        {
          "name": "stdout",
          "output_type": "stream",
          "text": [
            "MoviePy - Done.\n",
            "Moviepy - Writing video /content/drive/MyDrive/0._HCM_AI_Challenge_2023/Data_Process/Cut_Video/video_scenes_L03/L03_V001/video_from_3403_to_3510.mp4\n",
            "\n"
          ]
        },
        {
          "name": "stderr",
          "output_type": "stream",
          "text": []
        },
        {
          "name": "stdout",
          "output_type": "stream",
          "text": [
            "Moviepy - Done !\n",
            "Moviepy - video ready /content/drive/MyDrive/0._HCM_AI_Challenge_2023/Data_Process/Cut_Video/video_scenes_L03/L03_V001/video_from_3403_to_3510.mp4\n",
            "Moviepy - Building video /content/drive/MyDrive/0._HCM_AI_Challenge_2023/Data_Process/Cut_Video/video_scenes_L03/L03_V001/video_from_3511_to_3938.mp4.\n",
            "MoviePy - Writing audio in video_from_3511_to_3938TEMP_MPY_wvf_snd.mp3\n"
          ]
        },
        {
          "name": "stderr",
          "output_type": "stream",
          "text": []
        },
        {
          "name": "stdout",
          "output_type": "stream",
          "text": [
            "MoviePy - Done.\n",
            "Moviepy - Writing video /content/drive/MyDrive/0._HCM_AI_Challenge_2023/Data_Process/Cut_Video/video_scenes_L03/L03_V001/video_from_3511_to_3938.mp4\n",
            "\n"
          ]
        },
        {
          "name": "stderr",
          "output_type": "stream",
          "text": []
        },
        {
          "name": "stdout",
          "output_type": "stream",
          "text": [
            "Moviepy - Done !\n",
            "Moviepy - video ready /content/drive/MyDrive/0._HCM_AI_Challenge_2023/Data_Process/Cut_Video/video_scenes_L03/L03_V001/video_from_3511_to_3938.mp4\n",
            "Moviepy - Building video /content/drive/MyDrive/0._HCM_AI_Challenge_2023/Data_Process/Cut_Video/video_scenes_L03/L03_V001/video_from_3939_to_3992.mp4.\n",
            "MoviePy - Writing audio in video_from_3939_to_3992TEMP_MPY_wvf_snd.mp3\n"
          ]
        },
        {
          "name": "stderr",
          "output_type": "stream",
          "text": []
        },
        {
          "name": "stdout",
          "output_type": "stream",
          "text": [
            "MoviePy - Done.\n",
            "Moviepy - Writing video /content/drive/MyDrive/0._HCM_AI_Challenge_2023/Data_Process/Cut_Video/video_scenes_L03/L03_V001/video_from_3939_to_3992.mp4\n",
            "\n"
          ]
        },
        {
          "name": "stderr",
          "output_type": "stream",
          "text": []
        },
        {
          "name": "stdout",
          "output_type": "stream",
          "text": [
            "Moviepy - Done !\n",
            "Moviepy - video ready /content/drive/MyDrive/0._HCM_AI_Challenge_2023/Data_Process/Cut_Video/video_scenes_L03/L03_V001/video_from_3939_to_3992.mp4\n",
            "Moviepy - Building video /content/drive/MyDrive/0._HCM_AI_Challenge_2023/Data_Process/Cut_Video/video_scenes_L03/L03_V001/video_from_3993_to_4041.mp4.\n",
            "MoviePy - Writing audio in video_from_3993_to_4041TEMP_MPY_wvf_snd.mp3\n"
          ]
        },
        {
          "name": "stderr",
          "output_type": "stream",
          "text": []
        },
        {
          "name": "stdout",
          "output_type": "stream",
          "text": [
            "MoviePy - Done.\n",
            "Moviepy - Writing video /content/drive/MyDrive/0._HCM_AI_Challenge_2023/Data_Process/Cut_Video/video_scenes_L03/L03_V001/video_from_3993_to_4041.mp4\n",
            "\n"
          ]
        },
        {
          "name": "stderr",
          "output_type": "stream",
          "text": []
        },
        {
          "name": "stdout",
          "output_type": "stream",
          "text": [
            "Moviepy - Done !\n",
            "Moviepy - video ready /content/drive/MyDrive/0._HCM_AI_Challenge_2023/Data_Process/Cut_Video/video_scenes_L03/L03_V001/video_from_3993_to_4041.mp4\n",
            "Moviepy - Building video /content/drive/MyDrive/0._HCM_AI_Challenge_2023/Data_Process/Cut_Video/video_scenes_L03/L03_V001/video_from_4042_to_4088.mp4.\n",
            "MoviePy - Writing audio in video_from_4042_to_4088TEMP_MPY_wvf_snd.mp3\n"
          ]
        },
        {
          "name": "stderr",
          "output_type": "stream",
          "text": []
        },
        {
          "name": "stdout",
          "output_type": "stream",
          "text": [
            "MoviePy - Done.\n",
            "Moviepy - Writing video /content/drive/MyDrive/0._HCM_AI_Challenge_2023/Data_Process/Cut_Video/video_scenes_L03/L03_V001/video_from_4042_to_4088.mp4\n",
            "\n"
          ]
        },
        {
          "name": "stderr",
          "output_type": "stream",
          "text": []
        },
        {
          "name": "stdout",
          "output_type": "stream",
          "text": [
            "Moviepy - Done !\n",
            "Moviepy - video ready /content/drive/MyDrive/0._HCM_AI_Challenge_2023/Data_Process/Cut_Video/video_scenes_L03/L03_V001/video_from_4042_to_4088.mp4\n",
            "Moviepy - Building video /content/drive/MyDrive/0._HCM_AI_Challenge_2023/Data_Process/Cut_Video/video_scenes_L03/L03_V001/video_from_4089_to_4120.mp4.\n",
            "MoviePy - Writing audio in video_from_4089_to_4120TEMP_MPY_wvf_snd.mp3\n"
          ]
        },
        {
          "name": "stderr",
          "output_type": "stream",
          "text": []
        },
        {
          "name": "stdout",
          "output_type": "stream",
          "text": [
            "MoviePy - Done.\n",
            "Moviepy - Writing video /content/drive/MyDrive/0._HCM_AI_Challenge_2023/Data_Process/Cut_Video/video_scenes_L03/L03_V001/video_from_4089_to_4120.mp4\n",
            "\n"
          ]
        },
        {
          "name": "stderr",
          "output_type": "stream",
          "text": []
        },
        {
          "name": "stdout",
          "output_type": "stream",
          "text": [
            "Moviepy - Done !\n",
            "Moviepy - video ready /content/drive/MyDrive/0._HCM_AI_Challenge_2023/Data_Process/Cut_Video/video_scenes_L03/L03_V001/video_from_4089_to_4120.mp4\n",
            "Moviepy - Building video /content/drive/MyDrive/0._HCM_AI_Challenge_2023/Data_Process/Cut_Video/video_scenes_L03/L03_V001/video_from_4121_to_4148.mp4.\n",
            "MoviePy - Writing audio in video_from_4121_to_4148TEMP_MPY_wvf_snd.mp3\n"
          ]
        },
        {
          "name": "stderr",
          "output_type": "stream",
          "text": []
        },
        {
          "name": "stdout",
          "output_type": "stream",
          "text": [
            "MoviePy - Done.\n",
            "Moviepy - Writing video /content/drive/MyDrive/0._HCM_AI_Challenge_2023/Data_Process/Cut_Video/video_scenes_L03/L03_V001/video_from_4121_to_4148.mp4\n",
            "\n"
          ]
        },
        {
          "name": "stderr",
          "output_type": "stream",
          "text": []
        },
        {
          "name": "stdout",
          "output_type": "stream",
          "text": [
            "Moviepy - Done !\n",
            "Moviepy - video ready /content/drive/MyDrive/0._HCM_AI_Challenge_2023/Data_Process/Cut_Video/video_scenes_L03/L03_V001/video_from_4121_to_4148.mp4\n",
            "Moviepy - Building video /content/drive/MyDrive/0._HCM_AI_Challenge_2023/Data_Process/Cut_Video/video_scenes_L03/L03_V001/video_from_4149_to_4190.mp4.\n",
            "MoviePy - Writing audio in video_from_4149_to_4190TEMP_MPY_wvf_snd.mp3\n"
          ]
        },
        {
          "name": "stderr",
          "output_type": "stream",
          "text": []
        },
        {
          "name": "stdout",
          "output_type": "stream",
          "text": [
            "MoviePy - Done.\n",
            "Moviepy - Writing video /content/drive/MyDrive/0._HCM_AI_Challenge_2023/Data_Process/Cut_Video/video_scenes_L03/L03_V001/video_from_4149_to_4190.mp4\n",
            "\n"
          ]
        },
        {
          "name": "stderr",
          "output_type": "stream",
          "text": []
        },
        {
          "name": "stdout",
          "output_type": "stream",
          "text": [
            "Moviepy - Done !\n",
            "Moviepy - video ready /content/drive/MyDrive/0._HCM_AI_Challenge_2023/Data_Process/Cut_Video/video_scenes_L03/L03_V001/video_from_4149_to_4190.mp4\n",
            "Moviepy - Building video /content/drive/MyDrive/0._HCM_AI_Challenge_2023/Data_Process/Cut_Video/video_scenes_L03/L03_V001/video_from_4191_to_4251.mp4.\n",
            "MoviePy - Writing audio in video_from_4191_to_4251TEMP_MPY_wvf_snd.mp3\n"
          ]
        },
        {
          "name": "stderr",
          "output_type": "stream",
          "text": []
        },
        {
          "name": "stdout",
          "output_type": "stream",
          "text": [
            "MoviePy - Done.\n",
            "Moviepy - Writing video /content/drive/MyDrive/0._HCM_AI_Challenge_2023/Data_Process/Cut_Video/video_scenes_L03/L03_V001/video_from_4191_to_4251.mp4\n",
            "\n"
          ]
        },
        {
          "name": "stderr",
          "output_type": "stream",
          "text": []
        },
        {
          "name": "stdout",
          "output_type": "stream",
          "text": [
            "Moviepy - Done !\n",
            "Moviepy - video ready /content/drive/MyDrive/0._HCM_AI_Challenge_2023/Data_Process/Cut_Video/video_scenes_L03/L03_V001/video_from_4191_to_4251.mp4\n",
            "Moviepy - Building video /content/drive/MyDrive/0._HCM_AI_Challenge_2023/Data_Process/Cut_Video/video_scenes_L03/L03_V001/video_from_4252_to_4282.mp4.\n",
            "MoviePy - Writing audio in video_from_4252_to_4282TEMP_MPY_wvf_snd.mp3\n"
          ]
        },
        {
          "name": "stderr",
          "output_type": "stream",
          "text": []
        },
        {
          "name": "stdout",
          "output_type": "stream",
          "text": [
            "MoviePy - Done.\n",
            "Moviepy - Writing video /content/drive/MyDrive/0._HCM_AI_Challenge_2023/Data_Process/Cut_Video/video_scenes_L03/L03_V001/video_from_4252_to_4282.mp4\n",
            "\n"
          ]
        },
        {
          "name": "stderr",
          "output_type": "stream",
          "text": []
        },
        {
          "name": "stdout",
          "output_type": "stream",
          "text": [
            "Moviepy - Done !\n",
            "Moviepy - video ready /content/drive/MyDrive/0._HCM_AI_Challenge_2023/Data_Process/Cut_Video/video_scenes_L03/L03_V001/video_from_4252_to_4282.mp4\n",
            "Moviepy - Building video /content/drive/MyDrive/0._HCM_AI_Challenge_2023/Data_Process/Cut_Video/video_scenes_L03/L03_V001/video_from_4283_to_4333.mp4.\n",
            "MoviePy - Writing audio in video_from_4283_to_4333TEMP_MPY_wvf_snd.mp3\n"
          ]
        },
        {
          "name": "stderr",
          "output_type": "stream",
          "text": []
        },
        {
          "name": "stdout",
          "output_type": "stream",
          "text": [
            "MoviePy - Done.\n",
            "Moviepy - Writing video /content/drive/MyDrive/0._HCM_AI_Challenge_2023/Data_Process/Cut_Video/video_scenes_L03/L03_V001/video_from_4283_to_4333.mp4\n",
            "\n"
          ]
        },
        {
          "name": "stderr",
          "output_type": "stream",
          "text": []
        },
        {
          "name": "stdout",
          "output_type": "stream",
          "text": [
            "Moviepy - Done !\n",
            "Moviepy - video ready /content/drive/MyDrive/0._HCM_AI_Challenge_2023/Data_Process/Cut_Video/video_scenes_L03/L03_V001/video_from_4283_to_4333.mp4\n",
            "Moviepy - Building video /content/drive/MyDrive/0._HCM_AI_Challenge_2023/Data_Process/Cut_Video/video_scenes_L03/L03_V001/video_from_4334_to_4388.mp4.\n",
            "MoviePy - Writing audio in video_from_4334_to_4388TEMP_MPY_wvf_snd.mp3\n"
          ]
        },
        {
          "name": "stderr",
          "output_type": "stream",
          "text": []
        },
        {
          "name": "stdout",
          "output_type": "stream",
          "text": [
            "MoviePy - Done.\n",
            "Moviepy - Writing video /content/drive/MyDrive/0._HCM_AI_Challenge_2023/Data_Process/Cut_Video/video_scenes_L03/L03_V001/video_from_4334_to_4388.mp4\n",
            "\n"
          ]
        },
        {
          "name": "stderr",
          "output_type": "stream",
          "text": []
        },
        {
          "name": "stdout",
          "output_type": "stream",
          "text": [
            "Moviepy - Done !\n",
            "Moviepy - video ready /content/drive/MyDrive/0._HCM_AI_Challenge_2023/Data_Process/Cut_Video/video_scenes_L03/L03_V001/video_from_4334_to_4388.mp4\n",
            "Moviepy - Building video /content/drive/MyDrive/0._HCM_AI_Challenge_2023/Data_Process/Cut_Video/video_scenes_L03/L03_V001/video_from_4389_to_4451.mp4.\n",
            "MoviePy - Writing audio in video_from_4389_to_4451TEMP_MPY_wvf_snd.mp3\n"
          ]
        },
        {
          "name": "stderr",
          "output_type": "stream",
          "text": []
        },
        {
          "name": "stdout",
          "output_type": "stream",
          "text": [
            "MoviePy - Done.\n",
            "Moviepy - Writing video /content/drive/MyDrive/0._HCM_AI_Challenge_2023/Data_Process/Cut_Video/video_scenes_L03/L03_V001/video_from_4389_to_4451.mp4\n",
            "\n"
          ]
        },
        {
          "name": "stderr",
          "output_type": "stream",
          "text": []
        },
        {
          "name": "stdout",
          "output_type": "stream",
          "text": [
            "Moviepy - Done !\n",
            "Moviepy - video ready /content/drive/MyDrive/0._HCM_AI_Challenge_2023/Data_Process/Cut_Video/video_scenes_L03/L03_V001/video_from_4389_to_4451.mp4\n",
            "Moviepy - Building video /content/drive/MyDrive/0._HCM_AI_Challenge_2023/Data_Process/Cut_Video/video_scenes_L03/L03_V001/video_from_4452_to_4692.mp4.\n",
            "MoviePy - Writing audio in video_from_4452_to_4692TEMP_MPY_wvf_snd.mp3\n"
          ]
        },
        {
          "name": "stderr",
          "output_type": "stream",
          "text": []
        },
        {
          "name": "stdout",
          "output_type": "stream",
          "text": [
            "MoviePy - Done.\n",
            "Moviepy - Writing video /content/drive/MyDrive/0._HCM_AI_Challenge_2023/Data_Process/Cut_Video/video_scenes_L03/L03_V001/video_from_4452_to_4692.mp4\n",
            "\n"
          ]
        },
        {
          "name": "stderr",
          "output_type": "stream",
          "text": []
        },
        {
          "name": "stdout",
          "output_type": "stream",
          "text": [
            "Moviepy - Done !\n",
            "Moviepy - video ready /content/drive/MyDrive/0._HCM_AI_Challenge_2023/Data_Process/Cut_Video/video_scenes_L03/L03_V001/video_from_4452_to_4692.mp4\n",
            "Moviepy - Building video /content/drive/MyDrive/0._HCM_AI_Challenge_2023/Data_Process/Cut_Video/video_scenes_L03/L03_V001/video_from_4693_to_5003.mp4.\n",
            "MoviePy - Writing audio in video_from_4693_to_5003TEMP_MPY_wvf_snd.mp3\n"
          ]
        },
        {
          "name": "stderr",
          "output_type": "stream",
          "text": []
        },
        {
          "name": "stdout",
          "output_type": "stream",
          "text": [
            "MoviePy - Done.\n",
            "Moviepy - Writing video /content/drive/MyDrive/0._HCM_AI_Challenge_2023/Data_Process/Cut_Video/video_scenes_L03/L03_V001/video_from_4693_to_5003.mp4\n",
            "\n"
          ]
        },
        {
          "name": "stderr",
          "output_type": "stream",
          "text": []
        },
        {
          "name": "stdout",
          "output_type": "stream",
          "text": [
            "Moviepy - Done !\n",
            "Moviepy - video ready /content/drive/MyDrive/0._HCM_AI_Challenge_2023/Data_Process/Cut_Video/video_scenes_L03/L03_V001/video_from_4693_to_5003.mp4\n",
            "Moviepy - Building video /content/drive/MyDrive/0._HCM_AI_Challenge_2023/Data_Process/Cut_Video/video_scenes_L03/L03_V001/video_from_5004_to_5047.mp4.\n",
            "MoviePy - Writing audio in video_from_5004_to_5047TEMP_MPY_wvf_snd.mp3\n"
          ]
        },
        {
          "name": "stderr",
          "output_type": "stream",
          "text": []
        },
        {
          "name": "stdout",
          "output_type": "stream",
          "text": [
            "MoviePy - Done.\n",
            "Moviepy - Writing video /content/drive/MyDrive/0._HCM_AI_Challenge_2023/Data_Process/Cut_Video/video_scenes_L03/L03_V001/video_from_5004_to_5047.mp4\n",
            "\n"
          ]
        },
        {
          "name": "stderr",
          "output_type": "stream",
          "text": []
        },
        {
          "name": "stdout",
          "output_type": "stream",
          "text": [
            "Moviepy - Done !\n",
            "Moviepy - video ready /content/drive/MyDrive/0._HCM_AI_Challenge_2023/Data_Process/Cut_Video/video_scenes_L03/L03_V001/video_from_5004_to_5047.mp4\n",
            "Moviepy - Building video /content/drive/MyDrive/0._HCM_AI_Challenge_2023/Data_Process/Cut_Video/video_scenes_L03/L03_V001/video_from_5048_to_5129.mp4.\n",
            "MoviePy - Writing audio in video_from_5048_to_5129TEMP_MPY_wvf_snd.mp3\n"
          ]
        },
        {
          "name": "stderr",
          "output_type": "stream",
          "text": []
        },
        {
          "name": "stdout",
          "output_type": "stream",
          "text": [
            "MoviePy - Done.\n",
            "Moviepy - Writing video /content/drive/MyDrive/0._HCM_AI_Challenge_2023/Data_Process/Cut_Video/video_scenes_L03/L03_V001/video_from_5048_to_5129.mp4\n",
            "\n"
          ]
        },
        {
          "name": "stderr",
          "output_type": "stream",
          "text": []
        },
        {
          "name": "stdout",
          "output_type": "stream",
          "text": [
            "Moviepy - Done !\n",
            "Moviepy - video ready /content/drive/MyDrive/0._HCM_AI_Challenge_2023/Data_Process/Cut_Video/video_scenes_L03/L03_V001/video_from_5048_to_5129.mp4\n",
            "Moviepy - Building video /content/drive/MyDrive/0._HCM_AI_Challenge_2023/Data_Process/Cut_Video/video_scenes_L03/L03_V001/video_from_5130_to_5220.mp4.\n",
            "MoviePy - Writing audio in video_from_5130_to_5220TEMP_MPY_wvf_snd.mp3\n"
          ]
        },
        {
          "name": "stderr",
          "output_type": "stream",
          "text": []
        },
        {
          "name": "stdout",
          "output_type": "stream",
          "text": [
            "MoviePy - Done.\n",
            "Moviepy - Writing video /content/drive/MyDrive/0._HCM_AI_Challenge_2023/Data_Process/Cut_Video/video_scenes_L03/L03_V001/video_from_5130_to_5220.mp4\n",
            "\n"
          ]
        },
        {
          "name": "stderr",
          "output_type": "stream",
          "text": []
        },
        {
          "name": "stdout",
          "output_type": "stream",
          "text": [
            "Moviepy - Done !\n",
            "Moviepy - video ready /content/drive/MyDrive/0._HCM_AI_Challenge_2023/Data_Process/Cut_Video/video_scenes_L03/L03_V001/video_from_5130_to_5220.mp4\n",
            "Moviepy - Building video /content/drive/MyDrive/0._HCM_AI_Challenge_2023/Data_Process/Cut_Video/video_scenes_L03/L03_V001/video_from_5221_to_5321.mp4.\n",
            "MoviePy - Writing audio in video_from_5221_to_5321TEMP_MPY_wvf_snd.mp3\n"
          ]
        },
        {
          "name": "stderr",
          "output_type": "stream",
          "text": []
        },
        {
          "name": "stdout",
          "output_type": "stream",
          "text": [
            "MoviePy - Done.\n",
            "Moviepy - Writing video /content/drive/MyDrive/0._HCM_AI_Challenge_2023/Data_Process/Cut_Video/video_scenes_L03/L03_V001/video_from_5221_to_5321.mp4\n",
            "\n"
          ]
        },
        {
          "name": "stderr",
          "output_type": "stream",
          "text": []
        },
        {
          "name": "stdout",
          "output_type": "stream",
          "text": [
            "Moviepy - Done !\n",
            "Moviepy - video ready /content/drive/MyDrive/0._HCM_AI_Challenge_2023/Data_Process/Cut_Video/video_scenes_L03/L03_V001/video_from_5221_to_5321.mp4\n",
            "Moviepy - Building video /content/drive/MyDrive/0._HCM_AI_Challenge_2023/Data_Process/Cut_Video/video_scenes_L03/L03_V001/video_from_5322_to_5716.mp4.\n",
            "MoviePy - Writing audio in video_from_5322_to_5716TEMP_MPY_wvf_snd.mp3\n"
          ]
        },
        {
          "name": "stderr",
          "output_type": "stream",
          "text": []
        },
        {
          "name": "stdout",
          "output_type": "stream",
          "text": [
            "MoviePy - Done.\n",
            "Moviepy - Writing video /content/drive/MyDrive/0._HCM_AI_Challenge_2023/Data_Process/Cut_Video/video_scenes_L03/L03_V001/video_from_5322_to_5716.mp4\n",
            "\n"
          ]
        },
        {
          "name": "stderr",
          "output_type": "stream",
          "text": []
        },
        {
          "name": "stdout",
          "output_type": "stream",
          "text": [
            "Moviepy - Done !\n",
            "Moviepy - video ready /content/drive/MyDrive/0._HCM_AI_Challenge_2023/Data_Process/Cut_Video/video_scenes_L03/L03_V001/video_from_5322_to_5716.mp4\n",
            "Moviepy - Building video /content/drive/MyDrive/0._HCM_AI_Challenge_2023/Data_Process/Cut_Video/video_scenes_L03/L03_V001/video_from_5717_to_5771.mp4.\n",
            "MoviePy - Writing audio in video_from_5717_to_5771TEMP_MPY_wvf_snd.mp3\n"
          ]
        },
        {
          "name": "stderr",
          "output_type": "stream",
          "text": []
        },
        {
          "name": "stdout",
          "output_type": "stream",
          "text": [
            "MoviePy - Done.\n",
            "Moviepy - Writing video /content/drive/MyDrive/0._HCM_AI_Challenge_2023/Data_Process/Cut_Video/video_scenes_L03/L03_V001/video_from_5717_to_5771.mp4\n",
            "\n"
          ]
        },
        {
          "name": "stderr",
          "output_type": "stream",
          "text": []
        },
        {
          "name": "stdout",
          "output_type": "stream",
          "text": [
            "Moviepy - Done !\n",
            "Moviepy - video ready /content/drive/MyDrive/0._HCM_AI_Challenge_2023/Data_Process/Cut_Video/video_scenes_L03/L03_V001/video_from_5717_to_5771.mp4\n",
            "Moviepy - Building video /content/drive/MyDrive/0._HCM_AI_Challenge_2023/Data_Process/Cut_Video/video_scenes_L03/L03_V001/video_from_5772_to_5845.mp4.\n",
            "MoviePy - Writing audio in video_from_5772_to_5845TEMP_MPY_wvf_snd.mp3\n"
          ]
        },
        {
          "name": "stderr",
          "output_type": "stream",
          "text": []
        },
        {
          "name": "stdout",
          "output_type": "stream",
          "text": [
            "MoviePy - Done.\n",
            "Moviepy - Writing video /content/drive/MyDrive/0._HCM_AI_Challenge_2023/Data_Process/Cut_Video/video_scenes_L03/L03_V001/video_from_5772_to_5845.mp4\n",
            "\n"
          ]
        },
        {
          "name": "stderr",
          "output_type": "stream",
          "text": []
        },
        {
          "name": "stdout",
          "output_type": "stream",
          "text": [
            "Moviepy - Done !\n",
            "Moviepy - video ready /content/drive/MyDrive/0._HCM_AI_Challenge_2023/Data_Process/Cut_Video/video_scenes_L03/L03_V001/video_from_5772_to_5845.mp4\n",
            "Moviepy - Building video /content/drive/MyDrive/0._HCM_AI_Challenge_2023/Data_Process/Cut_Video/video_scenes_L03/L03_V001/video_from_5846_to_5904.mp4.\n",
            "MoviePy - Writing audio in video_from_5846_to_5904TEMP_MPY_wvf_snd.mp3\n"
          ]
        },
        {
          "name": "stderr",
          "output_type": "stream",
          "text": []
        },
        {
          "name": "stdout",
          "output_type": "stream",
          "text": [
            "MoviePy - Done.\n",
            "Moviepy - Writing video /content/drive/MyDrive/0._HCM_AI_Challenge_2023/Data_Process/Cut_Video/video_scenes_L03/L03_V001/video_from_5846_to_5904.mp4\n",
            "\n"
          ]
        },
        {
          "name": "stderr",
          "output_type": "stream",
          "text": []
        },
        {
          "name": "stdout",
          "output_type": "stream",
          "text": [
            "Moviepy - Done !\n",
            "Moviepy - video ready /content/drive/MyDrive/0._HCM_AI_Challenge_2023/Data_Process/Cut_Video/video_scenes_L03/L03_V001/video_from_5846_to_5904.mp4\n",
            "Moviepy - Building video /content/drive/MyDrive/0._HCM_AI_Challenge_2023/Data_Process/Cut_Video/video_scenes_L03/L03_V001/video_from_5905_to_5930.mp4.\n",
            "MoviePy - Writing audio in video_from_5905_to_5930TEMP_MPY_wvf_snd.mp3\n"
          ]
        },
        {
          "name": "stderr",
          "output_type": "stream",
          "text": []
        },
        {
          "name": "stdout",
          "output_type": "stream",
          "text": [
            "MoviePy - Done.\n",
            "Moviepy - Writing video /content/drive/MyDrive/0._HCM_AI_Challenge_2023/Data_Process/Cut_Video/video_scenes_L03/L03_V001/video_from_5905_to_5930.mp4\n",
            "\n"
          ]
        },
        {
          "name": "stderr",
          "output_type": "stream",
          "text": []
        },
        {
          "name": "stdout",
          "output_type": "stream",
          "text": [
            "Moviepy - Done !\n",
            "Moviepy - video ready /content/drive/MyDrive/0._HCM_AI_Challenge_2023/Data_Process/Cut_Video/video_scenes_L03/L03_V001/video_from_5905_to_5930.mp4\n",
            "Moviepy - Building video /content/drive/MyDrive/0._HCM_AI_Challenge_2023/Data_Process/Cut_Video/video_scenes_L03/L03_V001/video_from_5931_to_5960.mp4.\n",
            "MoviePy - Writing audio in video_from_5931_to_5960TEMP_MPY_wvf_snd.mp3\n"
          ]
        },
        {
          "name": "stderr",
          "output_type": "stream",
          "text": []
        },
        {
          "name": "stdout",
          "output_type": "stream",
          "text": [
            "MoviePy - Done.\n",
            "Moviepy - Writing video /content/drive/MyDrive/0._HCM_AI_Challenge_2023/Data_Process/Cut_Video/video_scenes_L03/L03_V001/video_from_5931_to_5960.mp4\n",
            "\n"
          ]
        },
        {
          "name": "stderr",
          "output_type": "stream",
          "text": []
        },
        {
          "name": "stdout",
          "output_type": "stream",
          "text": [
            "Moviepy - Done !\n",
            "Moviepy - video ready /content/drive/MyDrive/0._HCM_AI_Challenge_2023/Data_Process/Cut_Video/video_scenes_L03/L03_V001/video_from_5931_to_5960.mp4\n",
            "Moviepy - Building video /content/drive/MyDrive/0._HCM_AI_Challenge_2023/Data_Process/Cut_Video/video_scenes_L03/L03_V001/video_from_5961_to_6110.mp4.\n",
            "MoviePy - Writing audio in video_from_5961_to_6110TEMP_MPY_wvf_snd.mp3\n"
          ]
        },
        {
          "name": "stderr",
          "output_type": "stream",
          "text": []
        },
        {
          "name": "stdout",
          "output_type": "stream",
          "text": [
            "MoviePy - Done.\n",
            "Moviepy - Writing video /content/drive/MyDrive/0._HCM_AI_Challenge_2023/Data_Process/Cut_Video/video_scenes_L03/L03_V001/video_from_5961_to_6110.mp4\n",
            "\n"
          ]
        },
        {
          "name": "stderr",
          "output_type": "stream",
          "text": []
        },
        {
          "name": "stdout",
          "output_type": "stream",
          "text": [
            "Moviepy - Done !\n",
            "Moviepy - video ready /content/drive/MyDrive/0._HCM_AI_Challenge_2023/Data_Process/Cut_Video/video_scenes_L03/L03_V001/video_from_5961_to_6110.mp4\n",
            "Moviepy - Building video /content/drive/MyDrive/0._HCM_AI_Challenge_2023/Data_Process/Cut_Video/video_scenes_L03/L03_V001/video_from_6111_to_6215.mp4.\n",
            "MoviePy - Writing audio in video_from_6111_to_6215TEMP_MPY_wvf_snd.mp3\n"
          ]
        },
        {
          "name": "stderr",
          "output_type": "stream",
          "text": []
        },
        {
          "name": "stdout",
          "output_type": "stream",
          "text": [
            "MoviePy - Done.\n",
            "Moviepy - Writing video /content/drive/MyDrive/0._HCM_AI_Challenge_2023/Data_Process/Cut_Video/video_scenes_L03/L03_V001/video_from_6111_to_6215.mp4\n",
            "\n"
          ]
        },
        {
          "name": "stderr",
          "output_type": "stream",
          "text": []
        },
        {
          "name": "stdout",
          "output_type": "stream",
          "text": [
            "Moviepy - Done !\n",
            "Moviepy - video ready /content/drive/MyDrive/0._HCM_AI_Challenge_2023/Data_Process/Cut_Video/video_scenes_L03/L03_V001/video_from_6111_to_6215.mp4\n",
            "Moviepy - Building video /content/drive/MyDrive/0._HCM_AI_Challenge_2023/Data_Process/Cut_Video/video_scenes_L03/L03_V001/video_from_6216_to_6292.mp4.\n",
            "MoviePy - Writing audio in video_from_6216_to_6292TEMP_MPY_wvf_snd.mp3\n"
          ]
        },
        {
          "name": "stderr",
          "output_type": "stream",
          "text": []
        },
        {
          "name": "stdout",
          "output_type": "stream",
          "text": [
            "MoviePy - Done.\n",
            "Moviepy - Writing video /content/drive/MyDrive/0._HCM_AI_Challenge_2023/Data_Process/Cut_Video/video_scenes_L03/L03_V001/video_from_6216_to_6292.mp4\n",
            "\n"
          ]
        },
        {
          "name": "stderr",
          "output_type": "stream",
          "text": []
        },
        {
          "name": "stdout",
          "output_type": "stream",
          "text": [
            "Moviepy - Done !\n",
            "Moviepy - video ready /content/drive/MyDrive/0._HCM_AI_Challenge_2023/Data_Process/Cut_Video/video_scenes_L03/L03_V001/video_from_6216_to_6292.mp4\n",
            "Moviepy - Building video /content/drive/MyDrive/0._HCM_AI_Challenge_2023/Data_Process/Cut_Video/video_scenes_L03/L03_V001/video_from_6293_to_6435.mp4.\n",
            "MoviePy - Writing audio in video_from_6293_to_6435TEMP_MPY_wvf_snd.mp3\n"
          ]
        },
        {
          "name": "stderr",
          "output_type": "stream",
          "text": []
        },
        {
          "name": "stdout",
          "output_type": "stream",
          "text": [
            "MoviePy - Done.\n",
            "Moviepy - Writing video /content/drive/MyDrive/0._HCM_AI_Challenge_2023/Data_Process/Cut_Video/video_scenes_L03/L03_V001/video_from_6293_to_6435.mp4\n",
            "\n"
          ]
        },
        {
          "name": "stderr",
          "output_type": "stream",
          "text": []
        },
        {
          "name": "stdout",
          "output_type": "stream",
          "text": [
            "Moviepy - Done !\n",
            "Moviepy - video ready /content/drive/MyDrive/0._HCM_AI_Challenge_2023/Data_Process/Cut_Video/video_scenes_L03/L03_V001/video_from_6293_to_6435.mp4\n",
            "Moviepy - Building video /content/drive/MyDrive/0._HCM_AI_Challenge_2023/Data_Process/Cut_Video/video_scenes_L03/L03_V001/video_from_6436_to_6743.mp4.\n",
            "MoviePy - Writing audio in video_from_6436_to_6743TEMP_MPY_wvf_snd.mp3\n"
          ]
        },
        {
          "name": "stderr",
          "output_type": "stream",
          "text": []
        },
        {
          "name": "stdout",
          "output_type": "stream",
          "text": [
            "MoviePy - Done.\n",
            "Moviepy - Writing video /content/drive/MyDrive/0._HCM_AI_Challenge_2023/Data_Process/Cut_Video/video_scenes_L03/L03_V001/video_from_6436_to_6743.mp4\n",
            "\n"
          ]
        },
        {
          "name": "stderr",
          "output_type": "stream",
          "text": []
        },
        {
          "name": "stdout",
          "output_type": "stream",
          "text": [
            "Moviepy - Done !\n",
            "Moviepy - video ready /content/drive/MyDrive/0._HCM_AI_Challenge_2023/Data_Process/Cut_Video/video_scenes_L03/L03_V001/video_from_6436_to_6743.mp4\n",
            "Moviepy - Building video /content/drive/MyDrive/0._HCM_AI_Challenge_2023/Data_Process/Cut_Video/video_scenes_L03/L03_V001/video_from_6744_to_6933.mp4.\n",
            "MoviePy - Writing audio in video_from_6744_to_6933TEMP_MPY_wvf_snd.mp3\n"
          ]
        },
        {
          "name": "stderr",
          "output_type": "stream",
          "text": []
        },
        {
          "name": "stdout",
          "output_type": "stream",
          "text": [
            "MoviePy - Done.\n",
            "Moviepy - Writing video /content/drive/MyDrive/0._HCM_AI_Challenge_2023/Data_Process/Cut_Video/video_scenes_L03/L03_V001/video_from_6744_to_6933.mp4\n",
            "\n"
          ]
        },
        {
          "name": "stderr",
          "output_type": "stream",
          "text": []
        },
        {
          "name": "stdout",
          "output_type": "stream",
          "text": [
            "Moviepy - Done !\n",
            "Moviepy - video ready /content/drive/MyDrive/0._HCM_AI_Challenge_2023/Data_Process/Cut_Video/video_scenes_L03/L03_V001/video_from_6744_to_6933.mp4\n",
            "Moviepy - Building video /content/drive/MyDrive/0._HCM_AI_Challenge_2023/Data_Process/Cut_Video/video_scenes_L03/L03_V001/video_from_6934_to_6966.mp4.\n",
            "MoviePy - Writing audio in video_from_6934_to_6966TEMP_MPY_wvf_snd.mp3\n"
          ]
        },
        {
          "name": "stderr",
          "output_type": "stream",
          "text": []
        },
        {
          "name": "stdout",
          "output_type": "stream",
          "text": [
            "MoviePy - Done.\n",
            "Moviepy - Writing video /content/drive/MyDrive/0._HCM_AI_Challenge_2023/Data_Process/Cut_Video/video_scenes_L03/L03_V001/video_from_6934_to_6966.mp4\n",
            "\n"
          ]
        },
        {
          "name": "stderr",
          "output_type": "stream",
          "text": []
        },
        {
          "name": "stdout",
          "output_type": "stream",
          "text": [
            "Moviepy - Done !\n",
            "Moviepy - video ready /content/drive/MyDrive/0._HCM_AI_Challenge_2023/Data_Process/Cut_Video/video_scenes_L03/L03_V001/video_from_6934_to_6966.mp4\n",
            "Moviepy - Building video /content/drive/MyDrive/0._HCM_AI_Challenge_2023/Data_Process/Cut_Video/video_scenes_L03/L03_V001/video_from_6967_to_7030.mp4.\n",
            "MoviePy - Writing audio in video_from_6967_to_7030TEMP_MPY_wvf_snd.mp3\n"
          ]
        },
        {
          "name": "stderr",
          "output_type": "stream",
          "text": []
        },
        {
          "name": "stdout",
          "output_type": "stream",
          "text": [
            "MoviePy - Done.\n",
            "Moviepy - Writing video /content/drive/MyDrive/0._HCM_AI_Challenge_2023/Data_Process/Cut_Video/video_scenes_L03/L03_V001/video_from_6967_to_7030.mp4\n",
            "\n"
          ]
        },
        {
          "name": "stderr",
          "output_type": "stream",
          "text": []
        },
        {
          "name": "stdout",
          "output_type": "stream",
          "text": [
            "Moviepy - Done !\n",
            "Moviepy - video ready /content/drive/MyDrive/0._HCM_AI_Challenge_2023/Data_Process/Cut_Video/video_scenes_L03/L03_V001/video_from_6967_to_7030.mp4\n",
            "Moviepy - Building video /content/drive/MyDrive/0._HCM_AI_Challenge_2023/Data_Process/Cut_Video/video_scenes_L03/L03_V001/video_from_7031_to_7087.mp4.\n",
            "MoviePy - Writing audio in video_from_7031_to_7087TEMP_MPY_wvf_snd.mp3\n"
          ]
        },
        {
          "name": "stderr",
          "output_type": "stream",
          "text": []
        },
        {
          "name": "stdout",
          "output_type": "stream",
          "text": [
            "MoviePy - Done.\n",
            "Moviepy - Writing video /content/drive/MyDrive/0._HCM_AI_Challenge_2023/Data_Process/Cut_Video/video_scenes_L03/L03_V001/video_from_7031_to_7087.mp4\n",
            "\n"
          ]
        },
        {
          "name": "stderr",
          "output_type": "stream",
          "text": []
        },
        {
          "name": "stdout",
          "output_type": "stream",
          "text": [
            "Moviepy - Done !\n",
            "Moviepy - video ready /content/drive/MyDrive/0._HCM_AI_Challenge_2023/Data_Process/Cut_Video/video_scenes_L03/L03_V001/video_from_7031_to_7087.mp4\n",
            "Moviepy - Building video /content/drive/MyDrive/0._HCM_AI_Challenge_2023/Data_Process/Cut_Video/video_scenes_L03/L03_V001/video_from_7088_to_7180.mp4.\n",
            "MoviePy - Writing audio in video_from_7088_to_7180TEMP_MPY_wvf_snd.mp3\n"
          ]
        },
        {
          "name": "stderr",
          "output_type": "stream",
          "text": []
        },
        {
          "name": "stdout",
          "output_type": "stream",
          "text": [
            "MoviePy - Done.\n",
            "Moviepy - Writing video /content/drive/MyDrive/0._HCM_AI_Challenge_2023/Data_Process/Cut_Video/video_scenes_L03/L03_V001/video_from_7088_to_7180.mp4\n",
            "\n"
          ]
        },
        {
          "name": "stderr",
          "output_type": "stream",
          "text": []
        },
        {
          "name": "stdout",
          "output_type": "stream",
          "text": [
            "Moviepy - Done !\n",
            "Moviepy - video ready /content/drive/MyDrive/0._HCM_AI_Challenge_2023/Data_Process/Cut_Video/video_scenes_L03/L03_V001/video_from_7088_to_7180.mp4\n",
            "Moviepy - Building video /content/drive/MyDrive/0._HCM_AI_Challenge_2023/Data_Process/Cut_Video/video_scenes_L03/L03_V001/video_from_7181_to_7217.mp4.\n",
            "MoviePy - Writing audio in video_from_7181_to_7217TEMP_MPY_wvf_snd.mp3\n"
          ]
        },
        {
          "name": "stderr",
          "output_type": "stream",
          "text": []
        },
        {
          "name": "stdout",
          "output_type": "stream",
          "text": [
            "MoviePy - Done.\n",
            "Moviepy - Writing video /content/drive/MyDrive/0._HCM_AI_Challenge_2023/Data_Process/Cut_Video/video_scenes_L03/L03_V001/video_from_7181_to_7217.mp4\n",
            "\n"
          ]
        },
        {
          "name": "stderr",
          "output_type": "stream",
          "text": []
        },
        {
          "name": "stdout",
          "output_type": "stream",
          "text": [
            "Moviepy - Done !\n",
            "Moviepy - video ready /content/drive/MyDrive/0._HCM_AI_Challenge_2023/Data_Process/Cut_Video/video_scenes_L03/L03_V001/video_from_7181_to_7217.mp4\n",
            "Moviepy - Building video /content/drive/MyDrive/0._HCM_AI_Challenge_2023/Data_Process/Cut_Video/video_scenes_L03/L03_V001/video_from_7218_to_7269.mp4.\n",
            "MoviePy - Writing audio in video_from_7218_to_7269TEMP_MPY_wvf_snd.mp3\n"
          ]
        },
        {
          "name": "stderr",
          "output_type": "stream",
          "text": []
        },
        {
          "name": "stdout",
          "output_type": "stream",
          "text": [
            "MoviePy - Done.\n",
            "Moviepy - Writing video /content/drive/MyDrive/0._HCM_AI_Challenge_2023/Data_Process/Cut_Video/video_scenes_L03/L03_V001/video_from_7218_to_7269.mp4\n",
            "\n"
          ]
        },
        {
          "name": "stderr",
          "output_type": "stream",
          "text": []
        },
        {
          "name": "stdout",
          "output_type": "stream",
          "text": [
            "Moviepy - Done !\n",
            "Moviepy - video ready /content/drive/MyDrive/0._HCM_AI_Challenge_2023/Data_Process/Cut_Video/video_scenes_L03/L03_V001/video_from_7218_to_7269.mp4\n",
            "Moviepy - Building video /content/drive/MyDrive/0._HCM_AI_Challenge_2023/Data_Process/Cut_Video/video_scenes_L03/L03_V001/video_from_7270_to_7334.mp4.\n",
            "MoviePy - Writing audio in video_from_7270_to_7334TEMP_MPY_wvf_snd.mp3\n"
          ]
        },
        {
          "name": "stderr",
          "output_type": "stream",
          "text": []
        },
        {
          "name": "stdout",
          "output_type": "stream",
          "text": [
            "MoviePy - Done.\n",
            "Moviepy - Writing video /content/drive/MyDrive/0._HCM_AI_Challenge_2023/Data_Process/Cut_Video/video_scenes_L03/L03_V001/video_from_7270_to_7334.mp4\n",
            "\n"
          ]
        },
        {
          "name": "stderr",
          "output_type": "stream",
          "text": []
        },
        {
          "name": "stdout",
          "output_type": "stream",
          "text": [
            "Moviepy - Done !\n",
            "Moviepy - video ready /content/drive/MyDrive/0._HCM_AI_Challenge_2023/Data_Process/Cut_Video/video_scenes_L03/L03_V001/video_from_7270_to_7334.mp4\n",
            "Moviepy - Building video /content/drive/MyDrive/0._HCM_AI_Challenge_2023/Data_Process/Cut_Video/video_scenes_L03/L03_V001/video_from_7335_to_7396.mp4.\n",
            "MoviePy - Writing audio in video_from_7335_to_7396TEMP_MPY_wvf_snd.mp3\n"
          ]
        },
        {
          "name": "stderr",
          "output_type": "stream",
          "text": []
        },
        {
          "name": "stdout",
          "output_type": "stream",
          "text": [
            "MoviePy - Done.\n",
            "Moviepy - Writing video /content/drive/MyDrive/0._HCM_AI_Challenge_2023/Data_Process/Cut_Video/video_scenes_L03/L03_V001/video_from_7335_to_7396.mp4\n",
            "\n"
          ]
        },
        {
          "name": "stderr",
          "output_type": "stream",
          "text": []
        },
        {
          "name": "stdout",
          "output_type": "stream",
          "text": [
            "Moviepy - Done !\n",
            "Moviepy - video ready /content/drive/MyDrive/0._HCM_AI_Challenge_2023/Data_Process/Cut_Video/video_scenes_L03/L03_V001/video_from_7335_to_7396.mp4\n",
            "Moviepy - Building video /content/drive/MyDrive/0._HCM_AI_Challenge_2023/Data_Process/Cut_Video/video_scenes_L03/L03_V001/video_from_7397_to_7450.mp4.\n",
            "MoviePy - Writing audio in video_from_7397_to_7450TEMP_MPY_wvf_snd.mp3\n"
          ]
        },
        {
          "name": "stderr",
          "output_type": "stream",
          "text": []
        },
        {
          "name": "stdout",
          "output_type": "stream",
          "text": [
            "MoviePy - Done.\n",
            "Moviepy - Writing video /content/drive/MyDrive/0._HCM_AI_Challenge_2023/Data_Process/Cut_Video/video_scenes_L03/L03_V001/video_from_7397_to_7450.mp4\n",
            "\n"
          ]
        },
        {
          "name": "stderr",
          "output_type": "stream",
          "text": []
        },
        {
          "name": "stdout",
          "output_type": "stream",
          "text": [
            "Moviepy - Done !\n",
            "Moviepy - video ready /content/drive/MyDrive/0._HCM_AI_Challenge_2023/Data_Process/Cut_Video/video_scenes_L03/L03_V001/video_from_7397_to_7450.mp4\n",
            "Moviepy - Building video /content/drive/MyDrive/0._HCM_AI_Challenge_2023/Data_Process/Cut_Video/video_scenes_L03/L03_V001/video_from_7451_to_7517.mp4.\n",
            "MoviePy - Writing audio in video_from_7451_to_7517TEMP_MPY_wvf_snd.mp3\n"
          ]
        },
        {
          "name": "stderr",
          "output_type": "stream",
          "text": []
        },
        {
          "name": "stdout",
          "output_type": "stream",
          "text": [
            "MoviePy - Done.\n",
            "Moviepy - Writing video /content/drive/MyDrive/0._HCM_AI_Challenge_2023/Data_Process/Cut_Video/video_scenes_L03/L03_V001/video_from_7451_to_7517.mp4\n",
            "\n"
          ]
        },
        {
          "name": "stderr",
          "output_type": "stream",
          "text": []
        },
        {
          "name": "stdout",
          "output_type": "stream",
          "text": [
            "Moviepy - Done !\n",
            "Moviepy - video ready /content/drive/MyDrive/0._HCM_AI_Challenge_2023/Data_Process/Cut_Video/video_scenes_L03/L03_V001/video_from_7451_to_7517.mp4\n",
            "Moviepy - Building video /content/drive/MyDrive/0._HCM_AI_Challenge_2023/Data_Process/Cut_Video/video_scenes_L03/L03_V001/video_from_7518_to_7580.mp4.\n",
            "MoviePy - Writing audio in video_from_7518_to_7580TEMP_MPY_wvf_snd.mp3\n"
          ]
        },
        {
          "name": "stderr",
          "output_type": "stream",
          "text": []
        },
        {
          "name": "stdout",
          "output_type": "stream",
          "text": [
            "MoviePy - Done.\n",
            "Moviepy - Writing video /content/drive/MyDrive/0._HCM_AI_Challenge_2023/Data_Process/Cut_Video/video_scenes_L03/L03_V001/video_from_7518_to_7580.mp4\n",
            "\n"
          ]
        },
        {
          "name": "stderr",
          "output_type": "stream",
          "text": []
        },
        {
          "name": "stdout",
          "output_type": "stream",
          "text": [
            "Moviepy - Done !\n",
            "Moviepy - video ready /content/drive/MyDrive/0._HCM_AI_Challenge_2023/Data_Process/Cut_Video/video_scenes_L03/L03_V001/video_from_7518_to_7580.mp4\n",
            "Moviepy - Building video /content/drive/MyDrive/0._HCM_AI_Challenge_2023/Data_Process/Cut_Video/video_scenes_L03/L03_V001/video_from_7581_to_7714.mp4.\n",
            "MoviePy - Writing audio in video_from_7581_to_7714TEMP_MPY_wvf_snd.mp3\n"
          ]
        },
        {
          "name": "stderr",
          "output_type": "stream",
          "text": []
        },
        {
          "name": "stdout",
          "output_type": "stream",
          "text": [
            "MoviePy - Done.\n",
            "Moviepy - Writing video /content/drive/MyDrive/0._HCM_AI_Challenge_2023/Data_Process/Cut_Video/video_scenes_L03/L03_V001/video_from_7581_to_7714.mp4\n",
            "\n"
          ]
        },
        {
          "name": "stderr",
          "output_type": "stream",
          "text": []
        },
        {
          "name": "stdout",
          "output_type": "stream",
          "text": [
            "Moviepy - Done !\n",
            "Moviepy - video ready /content/drive/MyDrive/0._HCM_AI_Challenge_2023/Data_Process/Cut_Video/video_scenes_L03/L03_V001/video_from_7581_to_7714.mp4\n",
            "Moviepy - Building video /content/drive/MyDrive/0._HCM_AI_Challenge_2023/Data_Process/Cut_Video/video_scenes_L03/L03_V001/video_from_7715_to_7760.mp4.\n",
            "MoviePy - Writing audio in video_from_7715_to_7760TEMP_MPY_wvf_snd.mp3\n"
          ]
        },
        {
          "name": "stderr",
          "output_type": "stream",
          "text": []
        },
        {
          "name": "stdout",
          "output_type": "stream",
          "text": [
            "MoviePy - Done.\n",
            "Moviepy - Writing video /content/drive/MyDrive/0._HCM_AI_Challenge_2023/Data_Process/Cut_Video/video_scenes_L03/L03_V001/video_from_7715_to_7760.mp4\n",
            "\n"
          ]
        },
        {
          "name": "stderr",
          "output_type": "stream",
          "text": []
        },
        {
          "name": "stdout",
          "output_type": "stream",
          "text": [
            "Moviepy - Done !\n",
            "Moviepy - video ready /content/drive/MyDrive/0._HCM_AI_Challenge_2023/Data_Process/Cut_Video/video_scenes_L03/L03_V001/video_from_7715_to_7760.mp4\n",
            "Moviepy - Building video /content/drive/MyDrive/0._HCM_AI_Challenge_2023/Data_Process/Cut_Video/video_scenes_L03/L03_V001/video_from_7761_to_7783.mp4.\n",
            "MoviePy - Writing audio in video_from_7761_to_7783TEMP_MPY_wvf_snd.mp3\n"
          ]
        },
        {
          "name": "stderr",
          "output_type": "stream",
          "text": []
        },
        {
          "name": "stdout",
          "output_type": "stream",
          "text": [
            "MoviePy - Done.\n",
            "Moviepy - Writing video /content/drive/MyDrive/0._HCM_AI_Challenge_2023/Data_Process/Cut_Video/video_scenes_L03/L03_V001/video_from_7761_to_7783.mp4\n",
            "\n"
          ]
        },
        {
          "name": "stderr",
          "output_type": "stream",
          "text": []
        },
        {
          "name": "stdout",
          "output_type": "stream",
          "text": [
            "Moviepy - Done !\n",
            "Moviepy - video ready /content/drive/MyDrive/0._HCM_AI_Challenge_2023/Data_Process/Cut_Video/video_scenes_L03/L03_V001/video_from_7761_to_7783.mp4\n",
            "Moviepy - Building video /content/drive/MyDrive/0._HCM_AI_Challenge_2023/Data_Process/Cut_Video/video_scenes_L03/L03_V001/video_from_7784_to_7812.mp4.\n",
            "MoviePy - Writing audio in video_from_7784_to_7812TEMP_MPY_wvf_snd.mp3\n"
          ]
        },
        {
          "name": "stderr",
          "output_type": "stream",
          "text": []
        },
        {
          "name": "stdout",
          "output_type": "stream",
          "text": [
            "MoviePy - Done.\n",
            "Moviepy - Writing video /content/drive/MyDrive/0._HCM_AI_Challenge_2023/Data_Process/Cut_Video/video_scenes_L03/L03_V001/video_from_7784_to_7812.mp4\n",
            "\n"
          ]
        },
        {
          "name": "stderr",
          "output_type": "stream",
          "text": []
        },
        {
          "name": "stdout",
          "output_type": "stream",
          "text": [
            "Moviepy - Done !\n",
            "Moviepy - video ready /content/drive/MyDrive/0._HCM_AI_Challenge_2023/Data_Process/Cut_Video/video_scenes_L03/L03_V001/video_from_7784_to_7812.mp4\n",
            "Moviepy - Building video /content/drive/MyDrive/0._HCM_AI_Challenge_2023/Data_Process/Cut_Video/video_scenes_L03/L03_V001/video_from_7813_to_7857.mp4.\n",
            "MoviePy - Writing audio in video_from_7813_to_7857TEMP_MPY_wvf_snd.mp3\n"
          ]
        },
        {
          "name": "stderr",
          "output_type": "stream",
          "text": []
        },
        {
          "name": "stdout",
          "output_type": "stream",
          "text": [
            "MoviePy - Done.\n",
            "Moviepy - Writing video /content/drive/MyDrive/0._HCM_AI_Challenge_2023/Data_Process/Cut_Video/video_scenes_L03/L03_V001/video_from_7813_to_7857.mp4\n",
            "\n"
          ]
        },
        {
          "name": "stderr",
          "output_type": "stream",
          "text": []
        },
        {
          "name": "stdout",
          "output_type": "stream",
          "text": [
            "Moviepy - Done !\n",
            "Moviepy - video ready /content/drive/MyDrive/0._HCM_AI_Challenge_2023/Data_Process/Cut_Video/video_scenes_L03/L03_V001/video_from_7813_to_7857.mp4\n",
            "Moviepy - Building video /content/drive/MyDrive/0._HCM_AI_Challenge_2023/Data_Process/Cut_Video/video_scenes_L03/L03_V001/video_from_7858_to_7894.mp4.\n",
            "MoviePy - Writing audio in video_from_7858_to_7894TEMP_MPY_wvf_snd.mp3\n"
          ]
        },
        {
          "name": "stderr",
          "output_type": "stream",
          "text": []
        },
        {
          "name": "stdout",
          "output_type": "stream",
          "text": [
            "MoviePy - Done.\n",
            "Moviepy - Writing video /content/drive/MyDrive/0._HCM_AI_Challenge_2023/Data_Process/Cut_Video/video_scenes_L03/L03_V001/video_from_7858_to_7894.mp4\n",
            "\n"
          ]
        },
        {
          "name": "stderr",
          "output_type": "stream",
          "text": []
        },
        {
          "name": "stdout",
          "output_type": "stream",
          "text": [
            "Moviepy - Done !\n",
            "Moviepy - video ready /content/drive/MyDrive/0._HCM_AI_Challenge_2023/Data_Process/Cut_Video/video_scenes_L03/L03_V001/video_from_7858_to_7894.mp4\n",
            "Moviepy - Building video /content/drive/MyDrive/0._HCM_AI_Challenge_2023/Data_Process/Cut_Video/video_scenes_L03/L03_V001/video_from_7895_to_7944.mp4.\n",
            "MoviePy - Writing audio in video_from_7895_to_7944TEMP_MPY_wvf_snd.mp3\n"
          ]
        },
        {
          "name": "stderr",
          "output_type": "stream",
          "text": []
        },
        {
          "name": "stdout",
          "output_type": "stream",
          "text": [
            "MoviePy - Done.\n",
            "Moviepy - Writing video /content/drive/MyDrive/0._HCM_AI_Challenge_2023/Data_Process/Cut_Video/video_scenes_L03/L03_V001/video_from_7895_to_7944.mp4\n",
            "\n"
          ]
        },
        {
          "name": "stderr",
          "output_type": "stream",
          "text": []
        },
        {
          "name": "stdout",
          "output_type": "stream",
          "text": [
            "Moviepy - Done !\n",
            "Moviepy - video ready /content/drive/MyDrive/0._HCM_AI_Challenge_2023/Data_Process/Cut_Video/video_scenes_L03/L03_V001/video_from_7895_to_7944.mp4\n",
            "Moviepy - Building video /content/drive/MyDrive/0._HCM_AI_Challenge_2023/Data_Process/Cut_Video/video_scenes_L03/L03_V001/video_from_7945_to_8002.mp4.\n",
            "MoviePy - Writing audio in video_from_7945_to_8002TEMP_MPY_wvf_snd.mp3\n"
          ]
        },
        {
          "name": "stderr",
          "output_type": "stream",
          "text": []
        },
        {
          "name": "stdout",
          "output_type": "stream",
          "text": [
            "MoviePy - Done.\n",
            "Moviepy - Writing video /content/drive/MyDrive/0._HCM_AI_Challenge_2023/Data_Process/Cut_Video/video_scenes_L03/L03_V001/video_from_7945_to_8002.mp4\n",
            "\n"
          ]
        },
        {
          "name": "stderr",
          "output_type": "stream",
          "text": []
        },
        {
          "name": "stdout",
          "output_type": "stream",
          "text": [
            "Moviepy - Done !\n",
            "Moviepy - video ready /content/drive/MyDrive/0._HCM_AI_Challenge_2023/Data_Process/Cut_Video/video_scenes_L03/L03_V001/video_from_7945_to_8002.mp4\n",
            "Moviepy - Building video /content/drive/MyDrive/0._HCM_AI_Challenge_2023/Data_Process/Cut_Video/video_scenes_L03/L03_V001/video_from_8003_to_8050.mp4.\n",
            "MoviePy - Writing audio in video_from_8003_to_8050TEMP_MPY_wvf_snd.mp3\n"
          ]
        },
        {
          "name": "stderr",
          "output_type": "stream",
          "text": []
        },
        {
          "name": "stdout",
          "output_type": "stream",
          "text": [
            "MoviePy - Done.\n",
            "Moviepy - Writing video /content/drive/MyDrive/0._HCM_AI_Challenge_2023/Data_Process/Cut_Video/video_scenes_L03/L03_V001/video_from_8003_to_8050.mp4\n",
            "\n"
          ]
        },
        {
          "name": "stderr",
          "output_type": "stream",
          "text": []
        },
        {
          "name": "stdout",
          "output_type": "stream",
          "text": [
            "Moviepy - Done !\n",
            "Moviepy - video ready /content/drive/MyDrive/0._HCM_AI_Challenge_2023/Data_Process/Cut_Video/video_scenes_L03/L03_V001/video_from_8003_to_8050.mp4\n",
            "Moviepy - Building video /content/drive/MyDrive/0._HCM_AI_Challenge_2023/Data_Process/Cut_Video/video_scenes_L03/L03_V001/video_from_8051_to_8087.mp4.\n",
            "MoviePy - Writing audio in video_from_8051_to_8087TEMP_MPY_wvf_snd.mp3\n"
          ]
        },
        {
          "name": "stderr",
          "output_type": "stream",
          "text": []
        },
        {
          "name": "stdout",
          "output_type": "stream",
          "text": [
            "MoviePy - Done.\n",
            "Moviepy - Writing video /content/drive/MyDrive/0._HCM_AI_Challenge_2023/Data_Process/Cut_Video/video_scenes_L03/L03_V001/video_from_8051_to_8087.mp4\n",
            "\n"
          ]
        },
        {
          "name": "stderr",
          "output_type": "stream",
          "text": []
        },
        {
          "name": "stdout",
          "output_type": "stream",
          "text": [
            "Moviepy - Done !\n",
            "Moviepy - video ready /content/drive/MyDrive/0._HCM_AI_Challenge_2023/Data_Process/Cut_Video/video_scenes_L03/L03_V001/video_from_8051_to_8087.mp4\n",
            "Moviepy - Building video /content/drive/MyDrive/0._HCM_AI_Challenge_2023/Data_Process/Cut_Video/video_scenes_L03/L03_V001/video_from_8088_to_8155.mp4.\n",
            "MoviePy - Writing audio in video_from_8088_to_8155TEMP_MPY_wvf_snd.mp3\n"
          ]
        },
        {
          "name": "stderr",
          "output_type": "stream",
          "text": []
        },
        {
          "name": "stdout",
          "output_type": "stream",
          "text": [
            "MoviePy - Done.\n",
            "Moviepy - Writing video /content/drive/MyDrive/0._HCM_AI_Challenge_2023/Data_Process/Cut_Video/video_scenes_L03/L03_V001/video_from_8088_to_8155.mp4\n",
            "\n"
          ]
        },
        {
          "name": "stderr",
          "output_type": "stream",
          "text": []
        },
        {
          "name": "stdout",
          "output_type": "stream",
          "text": [
            "Moviepy - Done !\n",
            "Moviepy - video ready /content/drive/MyDrive/0._HCM_AI_Challenge_2023/Data_Process/Cut_Video/video_scenes_L03/L03_V001/video_from_8088_to_8155.mp4\n",
            "Moviepy - Building video /content/drive/MyDrive/0._HCM_AI_Challenge_2023/Data_Process/Cut_Video/video_scenes_L03/L03_V001/video_from_8156_to_8551.mp4.\n",
            "MoviePy - Writing audio in video_from_8156_to_8551TEMP_MPY_wvf_snd.mp3\n"
          ]
        },
        {
          "name": "stderr",
          "output_type": "stream",
          "text": []
        },
        {
          "name": "stdout",
          "output_type": "stream",
          "text": [
            "MoviePy - Done.\n",
            "Moviepy - Writing video /content/drive/MyDrive/0._HCM_AI_Challenge_2023/Data_Process/Cut_Video/video_scenes_L03/L03_V001/video_from_8156_to_8551.mp4\n",
            "\n"
          ]
        },
        {
          "name": "stderr",
          "output_type": "stream",
          "text": []
        },
        {
          "name": "stdout",
          "output_type": "stream",
          "text": [
            "Moviepy - Done !\n",
            "Moviepy - video ready /content/drive/MyDrive/0._HCM_AI_Challenge_2023/Data_Process/Cut_Video/video_scenes_L03/L03_V001/video_from_8156_to_8551.mp4\n",
            "Moviepy - Building video /content/drive/MyDrive/0._HCM_AI_Challenge_2023/Data_Process/Cut_Video/video_scenes_L03/L03_V001/video_from_8552_to_8657.mp4.\n",
            "MoviePy - Writing audio in video_from_8552_to_8657TEMP_MPY_wvf_snd.mp3\n"
          ]
        },
        {
          "name": "stderr",
          "output_type": "stream",
          "text": []
        },
        {
          "name": "stdout",
          "output_type": "stream",
          "text": [
            "MoviePy - Done.\n",
            "Moviepy - Writing video /content/drive/MyDrive/0._HCM_AI_Challenge_2023/Data_Process/Cut_Video/video_scenes_L03/L03_V001/video_from_8552_to_8657.mp4\n",
            "\n"
          ]
        },
        {
          "name": "stderr",
          "output_type": "stream",
          "text": []
        },
        {
          "name": "stdout",
          "output_type": "stream",
          "text": [
            "Moviepy - Done !\n",
            "Moviepy - video ready /content/drive/MyDrive/0._HCM_AI_Challenge_2023/Data_Process/Cut_Video/video_scenes_L03/L03_V001/video_from_8552_to_8657.mp4\n",
            "Moviepy - Building video /content/drive/MyDrive/0._HCM_AI_Challenge_2023/Data_Process/Cut_Video/video_scenes_L03/L03_V001/video_from_8658_to_8729.mp4.\n",
            "MoviePy - Writing audio in video_from_8658_to_8729TEMP_MPY_wvf_snd.mp3\n"
          ]
        },
        {
          "name": "stderr",
          "output_type": "stream",
          "text": []
        },
        {
          "name": "stdout",
          "output_type": "stream",
          "text": [
            "MoviePy - Done.\n",
            "Moviepy - Writing video /content/drive/MyDrive/0._HCM_AI_Challenge_2023/Data_Process/Cut_Video/video_scenes_L03/L03_V001/video_from_8658_to_8729.mp4\n",
            "\n"
          ]
        },
        {
          "name": "stderr",
          "output_type": "stream",
          "text": []
        },
        {
          "name": "stdout",
          "output_type": "stream",
          "text": [
            "Moviepy - Done !\n",
            "Moviepy - video ready /content/drive/MyDrive/0._HCM_AI_Challenge_2023/Data_Process/Cut_Video/video_scenes_L03/L03_V001/video_from_8658_to_8729.mp4\n",
            "Moviepy - Building video /content/drive/MyDrive/0._HCM_AI_Challenge_2023/Data_Process/Cut_Video/video_scenes_L03/L03_V001/video_from_8730_to_8769.mp4.\n",
            "MoviePy - Writing audio in video_from_8730_to_8769TEMP_MPY_wvf_snd.mp3\n"
          ]
        },
        {
          "name": "stderr",
          "output_type": "stream",
          "text": []
        },
        {
          "name": "stdout",
          "output_type": "stream",
          "text": [
            "MoviePy - Done.\n",
            "Moviepy - Writing video /content/drive/MyDrive/0._HCM_AI_Challenge_2023/Data_Process/Cut_Video/video_scenes_L03/L03_V001/video_from_8730_to_8769.mp4\n",
            "\n"
          ]
        },
        {
          "name": "stderr",
          "output_type": "stream",
          "text": []
        },
        {
          "name": "stdout",
          "output_type": "stream",
          "text": [
            "Moviepy - Done !\n",
            "Moviepy - video ready /content/drive/MyDrive/0._HCM_AI_Challenge_2023/Data_Process/Cut_Video/video_scenes_L03/L03_V001/video_from_8730_to_8769.mp4\n",
            "Moviepy - Building video /content/drive/MyDrive/0._HCM_AI_Challenge_2023/Data_Process/Cut_Video/video_scenes_L03/L03_V001/video_from_8770_to_8851.mp4.\n",
            "MoviePy - Writing audio in video_from_8770_to_8851TEMP_MPY_wvf_snd.mp3\n"
          ]
        },
        {
          "name": "stderr",
          "output_type": "stream",
          "text": []
        },
        {
          "name": "stdout",
          "output_type": "stream",
          "text": [
            "MoviePy - Done.\n",
            "Moviepy - Writing video /content/drive/MyDrive/0._HCM_AI_Challenge_2023/Data_Process/Cut_Video/video_scenes_L03/L03_V001/video_from_8770_to_8851.mp4\n",
            "\n"
          ]
        },
        {
          "name": "stderr",
          "output_type": "stream",
          "text": []
        },
        {
          "name": "stdout",
          "output_type": "stream",
          "text": [
            "Moviepy - Done !\n",
            "Moviepy - video ready /content/drive/MyDrive/0._HCM_AI_Challenge_2023/Data_Process/Cut_Video/video_scenes_L03/L03_V001/video_from_8770_to_8851.mp4\n",
            "Moviepy - Building video /content/drive/MyDrive/0._HCM_AI_Challenge_2023/Data_Process/Cut_Video/video_scenes_L03/L03_V001/video_from_8852_to_8980.mp4.\n",
            "MoviePy - Writing audio in video_from_8852_to_8980TEMP_MPY_wvf_snd.mp3\n"
          ]
        },
        {
          "name": "stderr",
          "output_type": "stream",
          "text": []
        },
        {
          "name": "stdout",
          "output_type": "stream",
          "text": [
            "MoviePy - Done.\n",
            "Moviepy - Writing video /content/drive/MyDrive/0._HCM_AI_Challenge_2023/Data_Process/Cut_Video/video_scenes_L03/L03_V001/video_from_8852_to_8980.mp4\n",
            "\n"
          ]
        },
        {
          "name": "stderr",
          "output_type": "stream",
          "text": []
        },
        {
          "name": "stdout",
          "output_type": "stream",
          "text": [
            "Moviepy - Done !\n",
            "Moviepy - video ready /content/drive/MyDrive/0._HCM_AI_Challenge_2023/Data_Process/Cut_Video/video_scenes_L03/L03_V001/video_from_8852_to_8980.mp4\n",
            "Moviepy - Building video /content/drive/MyDrive/0._HCM_AI_Challenge_2023/Data_Process/Cut_Video/video_scenes_L03/L03_V001/video_from_8981_to_9025.mp4.\n",
            "MoviePy - Writing audio in video_from_8981_to_9025TEMP_MPY_wvf_snd.mp3\n"
          ]
        },
        {
          "name": "stderr",
          "output_type": "stream",
          "text": []
        },
        {
          "name": "stdout",
          "output_type": "stream",
          "text": [
            "MoviePy - Done.\n",
            "Moviepy - Writing video /content/drive/MyDrive/0._HCM_AI_Challenge_2023/Data_Process/Cut_Video/video_scenes_L03/L03_V001/video_from_8981_to_9025.mp4\n",
            "\n"
          ]
        },
        {
          "name": "stderr",
          "output_type": "stream",
          "text": []
        },
        {
          "name": "stdout",
          "output_type": "stream",
          "text": [
            "Moviepy - Done !\n",
            "Moviepy - video ready /content/drive/MyDrive/0._HCM_AI_Challenge_2023/Data_Process/Cut_Video/video_scenes_L03/L03_V001/video_from_8981_to_9025.mp4\n",
            "Moviepy - Building video /content/drive/MyDrive/0._HCM_AI_Challenge_2023/Data_Process/Cut_Video/video_scenes_L03/L03_V001/video_from_9026_to_9065.mp4.\n",
            "MoviePy - Writing audio in video_from_9026_to_9065TEMP_MPY_wvf_snd.mp3\n"
          ]
        },
        {
          "name": "stderr",
          "output_type": "stream",
          "text": []
        },
        {
          "name": "stdout",
          "output_type": "stream",
          "text": [
            "MoviePy - Done.\n",
            "Moviepy - Writing video /content/drive/MyDrive/0._HCM_AI_Challenge_2023/Data_Process/Cut_Video/video_scenes_L03/L03_V001/video_from_9026_to_9065.mp4\n",
            "\n"
          ]
        },
        {
          "name": "stderr",
          "output_type": "stream",
          "text": []
        },
        {
          "name": "stdout",
          "output_type": "stream",
          "text": [
            "Moviepy - Done !\n",
            "Moviepy - video ready /content/drive/MyDrive/0._HCM_AI_Challenge_2023/Data_Process/Cut_Video/video_scenes_L03/L03_V001/video_from_9026_to_9065.mp4\n",
            "Moviepy - Building video /content/drive/MyDrive/0._HCM_AI_Challenge_2023/Data_Process/Cut_Video/video_scenes_L03/L03_V001/video_from_9066_to_9119.mp4.\n",
            "MoviePy - Writing audio in video_from_9066_to_9119TEMP_MPY_wvf_snd.mp3\n"
          ]
        },
        {
          "name": "stderr",
          "output_type": "stream",
          "text": []
        },
        {
          "name": "stdout",
          "output_type": "stream",
          "text": [
            "MoviePy - Done.\n",
            "Moviepy - Writing video /content/drive/MyDrive/0._HCM_AI_Challenge_2023/Data_Process/Cut_Video/video_scenes_L03/L03_V001/video_from_9066_to_9119.mp4\n",
            "\n"
          ]
        },
        {
          "name": "stderr",
          "output_type": "stream",
          "text": []
        },
        {
          "name": "stdout",
          "output_type": "stream",
          "text": [
            "Moviepy - Done !\n",
            "Moviepy - video ready /content/drive/MyDrive/0._HCM_AI_Challenge_2023/Data_Process/Cut_Video/video_scenes_L03/L03_V001/video_from_9066_to_9119.mp4\n",
            "Moviepy - Building video /content/drive/MyDrive/0._HCM_AI_Challenge_2023/Data_Process/Cut_Video/video_scenes_L03/L03_V001/video_from_9120_to_9321.mp4.\n",
            "MoviePy - Writing audio in video_from_9120_to_9321TEMP_MPY_wvf_snd.mp3\n"
          ]
        },
        {
          "name": "stderr",
          "output_type": "stream",
          "text": []
        },
        {
          "name": "stdout",
          "output_type": "stream",
          "text": [
            "MoviePy - Done.\n",
            "Moviepy - Writing video /content/drive/MyDrive/0._HCM_AI_Challenge_2023/Data_Process/Cut_Video/video_scenes_L03/L03_V001/video_from_9120_to_9321.mp4\n",
            "\n"
          ]
        },
        {
          "name": "stderr",
          "output_type": "stream",
          "text": []
        },
        {
          "name": "stdout",
          "output_type": "stream",
          "text": [
            "Moviepy - Done !\n",
            "Moviepy - video ready /content/drive/MyDrive/0._HCM_AI_Challenge_2023/Data_Process/Cut_Video/video_scenes_L03/L03_V001/video_from_9120_to_9321.mp4\n",
            "Moviepy - Building video /content/drive/MyDrive/0._HCM_AI_Challenge_2023/Data_Process/Cut_Video/video_scenes_L03/L03_V001/video_from_9322_to_9471.mp4.\n",
            "MoviePy - Writing audio in video_from_9322_to_9471TEMP_MPY_wvf_snd.mp3\n"
          ]
        },
        {
          "name": "stderr",
          "output_type": "stream",
          "text": []
        },
        {
          "name": "stdout",
          "output_type": "stream",
          "text": [
            "MoviePy - Done.\n",
            "Moviepy - Writing video /content/drive/MyDrive/0._HCM_AI_Challenge_2023/Data_Process/Cut_Video/video_scenes_L03/L03_V001/video_from_9322_to_9471.mp4\n",
            "\n"
          ]
        },
        {
          "name": "stderr",
          "output_type": "stream",
          "text": []
        },
        {
          "name": "stdout",
          "output_type": "stream",
          "text": [
            "Moviepy - Done !\n",
            "Moviepy - video ready /content/drive/MyDrive/0._HCM_AI_Challenge_2023/Data_Process/Cut_Video/video_scenes_L03/L03_V001/video_from_9322_to_9471.mp4\n",
            "Moviepy - Building video /content/drive/MyDrive/0._HCM_AI_Challenge_2023/Data_Process/Cut_Video/video_scenes_L03/L03_V001/video_from_9472_to_9579.mp4.\n",
            "MoviePy - Writing audio in video_from_9472_to_9579TEMP_MPY_wvf_snd.mp3\n"
          ]
        },
        {
          "name": "stderr",
          "output_type": "stream",
          "text": []
        },
        {
          "name": "stdout",
          "output_type": "stream",
          "text": [
            "MoviePy - Done.\n",
            "Moviepy - Writing video /content/drive/MyDrive/0._HCM_AI_Challenge_2023/Data_Process/Cut_Video/video_scenes_L03/L03_V001/video_from_9472_to_9579.mp4\n",
            "\n"
          ]
        },
        {
          "name": "stderr",
          "output_type": "stream",
          "text": []
        },
        {
          "name": "stdout",
          "output_type": "stream",
          "text": [
            "Moviepy - Done !\n",
            "Moviepy - video ready /content/drive/MyDrive/0._HCM_AI_Challenge_2023/Data_Process/Cut_Video/video_scenes_L03/L03_V001/video_from_9472_to_9579.mp4\n",
            "Moviepy - Building video /content/drive/MyDrive/0._HCM_AI_Challenge_2023/Data_Process/Cut_Video/video_scenes_L03/L03_V001/video_from_9580_to_9651.mp4.\n",
            "MoviePy - Writing audio in video_from_9580_to_9651TEMP_MPY_wvf_snd.mp3\n"
          ]
        },
        {
          "name": "stderr",
          "output_type": "stream",
          "text": []
        },
        {
          "name": "stdout",
          "output_type": "stream",
          "text": [
            "MoviePy - Done.\n",
            "Moviepy - Writing video /content/drive/MyDrive/0._HCM_AI_Challenge_2023/Data_Process/Cut_Video/video_scenes_L03/L03_V001/video_from_9580_to_9651.mp4\n",
            "\n"
          ]
        },
        {
          "name": "stderr",
          "output_type": "stream",
          "text": []
        },
        {
          "name": "stdout",
          "output_type": "stream",
          "text": [
            "Moviepy - Done !\n",
            "Moviepy - video ready /content/drive/MyDrive/0._HCM_AI_Challenge_2023/Data_Process/Cut_Video/video_scenes_L03/L03_V001/video_from_9580_to_9651.mp4\n",
            "Moviepy - Building video /content/drive/MyDrive/0._HCM_AI_Challenge_2023/Data_Process/Cut_Video/video_scenes_L03/L03_V001/video_from_9652_to_9740.mp4.\n",
            "MoviePy - Writing audio in video_from_9652_to_9740TEMP_MPY_wvf_snd.mp3\n"
          ]
        },
        {
          "name": "stderr",
          "output_type": "stream",
          "text": []
        },
        {
          "name": "stdout",
          "output_type": "stream",
          "text": [
            "MoviePy - Done.\n",
            "Moviepy - Writing video /content/drive/MyDrive/0._HCM_AI_Challenge_2023/Data_Process/Cut_Video/video_scenes_L03/L03_V001/video_from_9652_to_9740.mp4\n",
            "\n"
          ]
        },
        {
          "name": "stderr",
          "output_type": "stream",
          "text": []
        },
        {
          "name": "stdout",
          "output_type": "stream",
          "text": [
            "Moviepy - Done !\n",
            "Moviepy - video ready /content/drive/MyDrive/0._HCM_AI_Challenge_2023/Data_Process/Cut_Video/video_scenes_L03/L03_V001/video_from_9652_to_9740.mp4\n",
            "Moviepy - Building video /content/drive/MyDrive/0._HCM_AI_Challenge_2023/Data_Process/Cut_Video/video_scenes_L03/L03_V001/video_from_9741_to_9854.mp4.\n",
            "MoviePy - Writing audio in video_from_9741_to_9854TEMP_MPY_wvf_snd.mp3\n"
          ]
        },
        {
          "name": "stderr",
          "output_type": "stream",
          "text": []
        },
        {
          "name": "stdout",
          "output_type": "stream",
          "text": [
            "MoviePy - Done.\n",
            "Moviepy - Writing video /content/drive/MyDrive/0._HCM_AI_Challenge_2023/Data_Process/Cut_Video/video_scenes_L03/L03_V001/video_from_9741_to_9854.mp4\n",
            "\n"
          ]
        },
        {
          "name": "stderr",
          "output_type": "stream",
          "text": []
        },
        {
          "name": "stdout",
          "output_type": "stream",
          "text": [
            "Moviepy - Done !\n",
            "Moviepy - video ready /content/drive/MyDrive/0._HCM_AI_Challenge_2023/Data_Process/Cut_Video/video_scenes_L03/L03_V001/video_from_9741_to_9854.mp4\n",
            "Moviepy - Building video /content/drive/MyDrive/0._HCM_AI_Challenge_2023/Data_Process/Cut_Video/video_scenes_L03/L03_V001/video_from_9855_to_10121.mp4.\n",
            "MoviePy - Writing audio in video_from_9855_to_10121TEMP_MPY_wvf_snd.mp3\n"
          ]
        },
        {
          "name": "stderr",
          "output_type": "stream",
          "text": []
        },
        {
          "name": "stdout",
          "output_type": "stream",
          "text": [
            "MoviePy - Done.\n",
            "Moviepy - Writing video /content/drive/MyDrive/0._HCM_AI_Challenge_2023/Data_Process/Cut_Video/video_scenes_L03/L03_V001/video_from_9855_to_10121.mp4\n",
            "\n"
          ]
        },
        {
          "name": "stderr",
          "output_type": "stream",
          "text": []
        },
        {
          "name": "stdout",
          "output_type": "stream",
          "text": [
            "Moviepy - Done !\n",
            "Moviepy - video ready /content/drive/MyDrive/0._HCM_AI_Challenge_2023/Data_Process/Cut_Video/video_scenes_L03/L03_V001/video_from_9855_to_10121.mp4\n",
            "Moviepy - Building video /content/drive/MyDrive/0._HCM_AI_Challenge_2023/Data_Process/Cut_Video/video_scenes_L03/L03_V001/video_from_10122_to_10415.mp4.\n",
            "MoviePy - Writing audio in video_from_10122_to_10415TEMP_MPY_wvf_snd.mp3\n"
          ]
        },
        {
          "name": "stderr",
          "output_type": "stream",
          "text": []
        },
        {
          "name": "stdout",
          "output_type": "stream",
          "text": [
            "MoviePy - Done.\n",
            "Moviepy - Writing video /content/drive/MyDrive/0._HCM_AI_Challenge_2023/Data_Process/Cut_Video/video_scenes_L03/L03_V001/video_from_10122_to_10415.mp4\n",
            "\n"
          ]
        },
        {
          "name": "stderr",
          "output_type": "stream",
          "text": []
        },
        {
          "name": "stdout",
          "output_type": "stream",
          "text": [
            "Moviepy - Done !\n",
            "Moviepy - video ready /content/drive/MyDrive/0._HCM_AI_Challenge_2023/Data_Process/Cut_Video/video_scenes_L03/L03_V001/video_from_10122_to_10415.mp4\n",
            "Moviepy - Building video /content/drive/MyDrive/0._HCM_AI_Challenge_2023/Data_Process/Cut_Video/video_scenes_L03/L03_V001/video_from_10416_to_10574.mp4.\n",
            "MoviePy - Writing audio in video_from_10416_to_10574TEMP_MPY_wvf_snd.mp3\n"
          ]
        },
        {
          "name": "stderr",
          "output_type": "stream",
          "text": []
        },
        {
          "name": "stdout",
          "output_type": "stream",
          "text": [
            "MoviePy - Done.\n",
            "Moviepy - Writing video /content/drive/MyDrive/0._HCM_AI_Challenge_2023/Data_Process/Cut_Video/video_scenes_L03/L03_V001/video_from_10416_to_10574.mp4\n",
            "\n"
          ]
        },
        {
          "name": "stderr",
          "output_type": "stream",
          "text": []
        },
        {
          "name": "stdout",
          "output_type": "stream",
          "text": [
            "Moviepy - Done !\n",
            "Moviepy - video ready /content/drive/MyDrive/0._HCM_AI_Challenge_2023/Data_Process/Cut_Video/video_scenes_L03/L03_V001/video_from_10416_to_10574.mp4\n",
            "Moviepy - Building video /content/drive/MyDrive/0._HCM_AI_Challenge_2023/Data_Process/Cut_Video/video_scenes_L03/L03_V001/video_from_10575_to_10663.mp4.\n",
            "MoviePy - Writing audio in video_from_10575_to_10663TEMP_MPY_wvf_snd.mp3\n"
          ]
        },
        {
          "name": "stderr",
          "output_type": "stream",
          "text": []
        },
        {
          "name": "stdout",
          "output_type": "stream",
          "text": [
            "MoviePy - Done.\n",
            "Moviepy - Writing video /content/drive/MyDrive/0._HCM_AI_Challenge_2023/Data_Process/Cut_Video/video_scenes_L03/L03_V001/video_from_10575_to_10663.mp4\n",
            "\n"
          ]
        },
        {
          "name": "stderr",
          "output_type": "stream",
          "text": []
        },
        {
          "name": "stdout",
          "output_type": "stream",
          "text": [
            "Moviepy - Done !\n",
            "Moviepy - video ready /content/drive/MyDrive/0._HCM_AI_Challenge_2023/Data_Process/Cut_Video/video_scenes_L03/L03_V001/video_from_10575_to_10663.mp4\n",
            "Moviepy - Building video /content/drive/MyDrive/0._HCM_AI_Challenge_2023/Data_Process/Cut_Video/video_scenes_L03/L03_V001/video_from_10664_to_10729.mp4.\n",
            "MoviePy - Writing audio in video_from_10664_to_10729TEMP_MPY_wvf_snd.mp3\n"
          ]
        },
        {
          "name": "stderr",
          "output_type": "stream",
          "text": []
        },
        {
          "name": "stdout",
          "output_type": "stream",
          "text": [
            "MoviePy - Done.\n",
            "Moviepy - Writing video /content/drive/MyDrive/0._HCM_AI_Challenge_2023/Data_Process/Cut_Video/video_scenes_L03/L03_V001/video_from_10664_to_10729.mp4\n",
            "\n"
          ]
        },
        {
          "name": "stderr",
          "output_type": "stream",
          "text": []
        },
        {
          "name": "stdout",
          "output_type": "stream",
          "text": [
            "Moviepy - Done !\n",
            "Moviepy - video ready /content/drive/MyDrive/0._HCM_AI_Challenge_2023/Data_Process/Cut_Video/video_scenes_L03/L03_V001/video_from_10664_to_10729.mp4\n",
            "Moviepy - Building video /content/drive/MyDrive/0._HCM_AI_Challenge_2023/Data_Process/Cut_Video/video_scenes_L03/L03_V001/video_from_10730_to_10819.mp4.\n",
            "MoviePy - Writing audio in video_from_10730_to_10819TEMP_MPY_wvf_snd.mp3\n"
          ]
        },
        {
          "name": "stderr",
          "output_type": "stream",
          "text": []
        },
        {
          "name": "stdout",
          "output_type": "stream",
          "text": [
            "MoviePy - Done.\n",
            "Moviepy - Writing video /content/drive/MyDrive/0._HCM_AI_Challenge_2023/Data_Process/Cut_Video/video_scenes_L03/L03_V001/video_from_10730_to_10819.mp4\n",
            "\n"
          ]
        },
        {
          "name": "stderr",
          "output_type": "stream",
          "text": []
        },
        {
          "name": "stdout",
          "output_type": "stream",
          "text": [
            "Moviepy - Done !\n",
            "Moviepy - video ready /content/drive/MyDrive/0._HCM_AI_Challenge_2023/Data_Process/Cut_Video/video_scenes_L03/L03_V001/video_from_10730_to_10819.mp4\n",
            "Moviepy - Building video /content/drive/MyDrive/0._HCM_AI_Challenge_2023/Data_Process/Cut_Video/video_scenes_L03/L03_V001/video_from_10820_to_10894.mp4.\n",
            "MoviePy - Writing audio in video_from_10820_to_10894TEMP_MPY_wvf_snd.mp3\n"
          ]
        },
        {
          "name": "stderr",
          "output_type": "stream",
          "text": []
        },
        {
          "name": "stdout",
          "output_type": "stream",
          "text": [
            "MoviePy - Done.\n",
            "Moviepy - Writing video /content/drive/MyDrive/0._HCM_AI_Challenge_2023/Data_Process/Cut_Video/video_scenes_L03/L03_V001/video_from_10820_to_10894.mp4\n",
            "\n"
          ]
        },
        {
          "name": "stderr",
          "output_type": "stream",
          "text": []
        },
        {
          "name": "stdout",
          "output_type": "stream",
          "text": [
            "Moviepy - Done !\n",
            "Moviepy - video ready /content/drive/MyDrive/0._HCM_AI_Challenge_2023/Data_Process/Cut_Video/video_scenes_L03/L03_V001/video_from_10820_to_10894.mp4\n",
            "Moviepy - Building video /content/drive/MyDrive/0._HCM_AI_Challenge_2023/Data_Process/Cut_Video/video_scenes_L03/L03_V001/video_from_10895_to_10994.mp4.\n",
            "MoviePy - Writing audio in video_from_10895_to_10994TEMP_MPY_wvf_snd.mp3\n"
          ]
        },
        {
          "name": "stderr",
          "output_type": "stream",
          "text": []
        },
        {
          "name": "stdout",
          "output_type": "stream",
          "text": [
            "MoviePy - Done.\n",
            "Moviepy - Writing video /content/drive/MyDrive/0._HCM_AI_Challenge_2023/Data_Process/Cut_Video/video_scenes_L03/L03_V001/video_from_10895_to_10994.mp4\n",
            "\n"
          ]
        },
        {
          "name": "stderr",
          "output_type": "stream",
          "text": []
        },
        {
          "name": "stdout",
          "output_type": "stream",
          "text": [
            "Moviepy - Done !\n",
            "Moviepy - video ready /content/drive/MyDrive/0._HCM_AI_Challenge_2023/Data_Process/Cut_Video/video_scenes_L03/L03_V001/video_from_10895_to_10994.mp4\n",
            "Moviepy - Building video /content/drive/MyDrive/0._HCM_AI_Challenge_2023/Data_Process/Cut_Video/video_scenes_L03/L03_V001/video_from_10995_to_11098.mp4.\n",
            "MoviePy - Writing audio in video_from_10995_to_11098TEMP_MPY_wvf_snd.mp3\n"
          ]
        },
        {
          "name": "stderr",
          "output_type": "stream",
          "text": []
        },
        {
          "name": "stdout",
          "output_type": "stream",
          "text": [
            "MoviePy - Done.\n",
            "Moviepy - Writing video /content/drive/MyDrive/0._HCM_AI_Challenge_2023/Data_Process/Cut_Video/video_scenes_L03/L03_V001/video_from_10995_to_11098.mp4\n",
            "\n"
          ]
        },
        {
          "name": "stderr",
          "output_type": "stream",
          "text": []
        },
        {
          "name": "stdout",
          "output_type": "stream",
          "text": [
            "Moviepy - Done !\n",
            "Moviepy - video ready /content/drive/MyDrive/0._HCM_AI_Challenge_2023/Data_Process/Cut_Video/video_scenes_L03/L03_V001/video_from_10995_to_11098.mp4\n",
            "Moviepy - Building video /content/drive/MyDrive/0._HCM_AI_Challenge_2023/Data_Process/Cut_Video/video_scenes_L03/L03_V001/video_from_11099_to_11178.mp4.\n",
            "MoviePy - Writing audio in video_from_11099_to_11178TEMP_MPY_wvf_snd.mp3\n"
          ]
        },
        {
          "name": "stderr",
          "output_type": "stream",
          "text": []
        },
        {
          "name": "stdout",
          "output_type": "stream",
          "text": [
            "MoviePy - Done.\n",
            "Moviepy - Writing video /content/drive/MyDrive/0._HCM_AI_Challenge_2023/Data_Process/Cut_Video/video_scenes_L03/L03_V001/video_from_11099_to_11178.mp4\n",
            "\n"
          ]
        },
        {
          "name": "stderr",
          "output_type": "stream",
          "text": []
        },
        {
          "name": "stdout",
          "output_type": "stream",
          "text": [
            "Moviepy - Done !\n",
            "Moviepy - video ready /content/drive/MyDrive/0._HCM_AI_Challenge_2023/Data_Process/Cut_Video/video_scenes_L03/L03_V001/video_from_11099_to_11178.mp4\n",
            "Moviepy - Building video /content/drive/MyDrive/0._HCM_AI_Challenge_2023/Data_Process/Cut_Video/video_scenes_L03/L03_V001/video_from_11179_to_11220.mp4.\n",
            "MoviePy - Writing audio in video_from_11179_to_11220TEMP_MPY_wvf_snd.mp3\n"
          ]
        },
        {
          "name": "stderr",
          "output_type": "stream",
          "text": []
        },
        {
          "name": "stdout",
          "output_type": "stream",
          "text": [
            "MoviePy - Done.\n",
            "Moviepy - Writing video /content/drive/MyDrive/0._HCM_AI_Challenge_2023/Data_Process/Cut_Video/video_scenes_L03/L03_V001/video_from_11179_to_11220.mp4\n",
            "\n"
          ]
        },
        {
          "name": "stderr",
          "output_type": "stream",
          "text": []
        },
        {
          "name": "stdout",
          "output_type": "stream",
          "text": [
            "Moviepy - Done !\n",
            "Moviepy - video ready /content/drive/MyDrive/0._HCM_AI_Challenge_2023/Data_Process/Cut_Video/video_scenes_L03/L03_V001/video_from_11179_to_11220.mp4\n",
            "Moviepy - Building video /content/drive/MyDrive/0._HCM_AI_Challenge_2023/Data_Process/Cut_Video/video_scenes_L03/L03_V001/video_from_11221_to_11296.mp4.\n",
            "MoviePy - Writing audio in video_from_11221_to_11296TEMP_MPY_wvf_snd.mp3\n"
          ]
        },
        {
          "name": "stderr",
          "output_type": "stream",
          "text": []
        },
        {
          "name": "stdout",
          "output_type": "stream",
          "text": [
            "MoviePy - Done.\n",
            "Moviepy - Writing video /content/drive/MyDrive/0._HCM_AI_Challenge_2023/Data_Process/Cut_Video/video_scenes_L03/L03_V001/video_from_11221_to_11296.mp4\n",
            "\n"
          ]
        },
        {
          "name": "stderr",
          "output_type": "stream",
          "text": []
        },
        {
          "name": "stdout",
          "output_type": "stream",
          "text": [
            "Moviepy - Done !\n",
            "Moviepy - video ready /content/drive/MyDrive/0._HCM_AI_Challenge_2023/Data_Process/Cut_Video/video_scenes_L03/L03_V001/video_from_11221_to_11296.mp4\n",
            "Moviepy - Building video /content/drive/MyDrive/0._HCM_AI_Challenge_2023/Data_Process/Cut_Video/video_scenes_L03/L03_V001/video_from_11297_to_11385.mp4.\n",
            "MoviePy - Writing audio in video_from_11297_to_11385TEMP_MPY_wvf_snd.mp3\n"
          ]
        },
        {
          "name": "stderr",
          "output_type": "stream",
          "text": []
        },
        {
          "name": "stdout",
          "output_type": "stream",
          "text": [
            "MoviePy - Done.\n",
            "Moviepy - Writing video /content/drive/MyDrive/0._HCM_AI_Challenge_2023/Data_Process/Cut_Video/video_scenes_L03/L03_V001/video_from_11297_to_11385.mp4\n",
            "\n"
          ]
        },
        {
          "name": "stderr",
          "output_type": "stream",
          "text": []
        },
        {
          "name": "stdout",
          "output_type": "stream",
          "text": [
            "Moviepy - Done !\n",
            "Moviepy - video ready /content/drive/MyDrive/0._HCM_AI_Challenge_2023/Data_Process/Cut_Video/video_scenes_L03/L03_V001/video_from_11297_to_11385.mp4\n",
            "Moviepy - Building video /content/drive/MyDrive/0._HCM_AI_Challenge_2023/Data_Process/Cut_Video/video_scenes_L03/L03_V001/video_from_11386_to_11451.mp4.\n",
            "MoviePy - Writing audio in video_from_11386_to_11451TEMP_MPY_wvf_snd.mp3\n"
          ]
        },
        {
          "name": "stderr",
          "output_type": "stream",
          "text": []
        },
        {
          "name": "stdout",
          "output_type": "stream",
          "text": [
            "MoviePy - Done.\n",
            "Moviepy - Writing video /content/drive/MyDrive/0._HCM_AI_Challenge_2023/Data_Process/Cut_Video/video_scenes_L03/L03_V001/video_from_11386_to_11451.mp4\n",
            "\n"
          ]
        },
        {
          "name": "stderr",
          "output_type": "stream",
          "text": []
        },
        {
          "name": "stdout",
          "output_type": "stream",
          "text": [
            "Moviepy - Done !\n",
            "Moviepy - video ready /content/drive/MyDrive/0._HCM_AI_Challenge_2023/Data_Process/Cut_Video/video_scenes_L03/L03_V001/video_from_11386_to_11451.mp4\n",
            "Moviepy - Building video /content/drive/MyDrive/0._HCM_AI_Challenge_2023/Data_Process/Cut_Video/video_scenes_L03/L03_V001/video_from_11452_to_11525.mp4.\n",
            "MoviePy - Writing audio in video_from_11452_to_11525TEMP_MPY_wvf_snd.mp3\n"
          ]
        },
        {
          "name": "stderr",
          "output_type": "stream",
          "text": []
        },
        {
          "name": "stdout",
          "output_type": "stream",
          "text": [
            "MoviePy - Done.\n",
            "Moviepy - Writing video /content/drive/MyDrive/0._HCM_AI_Challenge_2023/Data_Process/Cut_Video/video_scenes_L03/L03_V001/video_from_11452_to_11525.mp4\n",
            "\n"
          ]
        },
        {
          "name": "stderr",
          "output_type": "stream",
          "text": []
        },
        {
          "name": "stdout",
          "output_type": "stream",
          "text": [
            "Moviepy - Done !\n",
            "Moviepy - video ready /content/drive/MyDrive/0._HCM_AI_Challenge_2023/Data_Process/Cut_Video/video_scenes_L03/L03_V001/video_from_11452_to_11525.mp4\n",
            "Moviepy - Building video /content/drive/MyDrive/0._HCM_AI_Challenge_2023/Data_Process/Cut_Video/video_scenes_L03/L03_V001/video_from_11526_to_12020.mp4.\n",
            "MoviePy - Writing audio in video_from_11526_to_12020TEMP_MPY_wvf_snd.mp3\n"
          ]
        },
        {
          "name": "stderr",
          "output_type": "stream",
          "text": []
        },
        {
          "name": "stdout",
          "output_type": "stream",
          "text": [
            "MoviePy - Done.\n",
            "Moviepy - Writing video /content/drive/MyDrive/0._HCM_AI_Challenge_2023/Data_Process/Cut_Video/video_scenes_L03/L03_V001/video_from_11526_to_12020.mp4\n",
            "\n"
          ]
        },
        {
          "name": "stderr",
          "output_type": "stream",
          "text": []
        },
        {
          "name": "stdout",
          "output_type": "stream",
          "text": [
            "Moviepy - Done !\n",
            "Moviepy - video ready /content/drive/MyDrive/0._HCM_AI_Challenge_2023/Data_Process/Cut_Video/video_scenes_L03/L03_V001/video_from_11526_to_12020.mp4\n",
            "Moviepy - Building video /content/drive/MyDrive/0._HCM_AI_Challenge_2023/Data_Process/Cut_Video/video_scenes_L03/L03_V001/video_from_12021_to_12072.mp4.\n",
            "MoviePy - Writing audio in video_from_12021_to_12072TEMP_MPY_wvf_snd.mp3\n"
          ]
        },
        {
          "name": "stderr",
          "output_type": "stream",
          "text": []
        },
        {
          "name": "stdout",
          "output_type": "stream",
          "text": [
            "MoviePy - Done.\n",
            "Moviepy - Writing video /content/drive/MyDrive/0._HCM_AI_Challenge_2023/Data_Process/Cut_Video/video_scenes_L03/L03_V001/video_from_12021_to_12072.mp4\n",
            "\n"
          ]
        },
        {
          "name": "stderr",
          "output_type": "stream",
          "text": []
        },
        {
          "name": "stdout",
          "output_type": "stream",
          "text": [
            "Moviepy - Done !\n",
            "Moviepy - video ready /content/drive/MyDrive/0._HCM_AI_Challenge_2023/Data_Process/Cut_Video/video_scenes_L03/L03_V001/video_from_12021_to_12072.mp4\n",
            "Moviepy - Building video /content/drive/MyDrive/0._HCM_AI_Challenge_2023/Data_Process/Cut_Video/video_scenes_L03/L03_V001/video_from_12073_to_12117.mp4.\n",
            "MoviePy - Writing audio in video_from_12073_to_12117TEMP_MPY_wvf_snd.mp3\n"
          ]
        },
        {
          "name": "stderr",
          "output_type": "stream",
          "text": []
        },
        {
          "name": "stdout",
          "output_type": "stream",
          "text": [
            "MoviePy - Done.\n",
            "Moviepy - Writing video /content/drive/MyDrive/0._HCM_AI_Challenge_2023/Data_Process/Cut_Video/video_scenes_L03/L03_V001/video_from_12073_to_12117.mp4\n",
            "\n"
          ]
        },
        {
          "name": "stderr",
          "output_type": "stream",
          "text": []
        },
        {
          "name": "stdout",
          "output_type": "stream",
          "text": [
            "Moviepy - Done !\n",
            "Moviepy - video ready /content/drive/MyDrive/0._HCM_AI_Challenge_2023/Data_Process/Cut_Video/video_scenes_L03/L03_V001/video_from_12073_to_12117.mp4\n",
            "Moviepy - Building video /content/drive/MyDrive/0._HCM_AI_Challenge_2023/Data_Process/Cut_Video/video_scenes_L03/L03_V001/video_from_12118_to_12184.mp4.\n",
            "MoviePy - Writing audio in video_from_12118_to_12184TEMP_MPY_wvf_snd.mp3\n"
          ]
        },
        {
          "name": "stderr",
          "output_type": "stream",
          "text": []
        },
        {
          "name": "stdout",
          "output_type": "stream",
          "text": [
            "MoviePy - Done.\n",
            "Moviepy - Writing video /content/drive/MyDrive/0._HCM_AI_Challenge_2023/Data_Process/Cut_Video/video_scenes_L03/L03_V001/video_from_12118_to_12184.mp4\n",
            "\n"
          ]
        },
        {
          "name": "stderr",
          "output_type": "stream",
          "text": []
        },
        {
          "name": "stdout",
          "output_type": "stream",
          "text": [
            "Moviepy - Done !\n",
            "Moviepy - video ready /content/drive/MyDrive/0._HCM_AI_Challenge_2023/Data_Process/Cut_Video/video_scenes_L03/L03_V001/video_from_12118_to_12184.mp4\n",
            "Moviepy - Building video /content/drive/MyDrive/0._HCM_AI_Challenge_2023/Data_Process/Cut_Video/video_scenes_L03/L03_V001/video_from_12185_to_12275.mp4.\n",
            "MoviePy - Writing audio in video_from_12185_to_12275TEMP_MPY_wvf_snd.mp3\n"
          ]
        },
        {
          "name": "stderr",
          "output_type": "stream",
          "text": []
        },
        {
          "name": "stdout",
          "output_type": "stream",
          "text": [
            "MoviePy - Done.\n",
            "Moviepy - Writing video /content/drive/MyDrive/0._HCM_AI_Challenge_2023/Data_Process/Cut_Video/video_scenes_L03/L03_V001/video_from_12185_to_12275.mp4\n",
            "\n"
          ]
        },
        {
          "name": "stderr",
          "output_type": "stream",
          "text": []
        },
        {
          "name": "stdout",
          "output_type": "stream",
          "text": [
            "Moviepy - Done !\n",
            "Moviepy - video ready /content/drive/MyDrive/0._HCM_AI_Challenge_2023/Data_Process/Cut_Video/video_scenes_L03/L03_V001/video_from_12185_to_12275.mp4\n",
            "Moviepy - Building video /content/drive/MyDrive/0._HCM_AI_Challenge_2023/Data_Process/Cut_Video/video_scenes_L03/L03_V001/video_from_12276_to_12317.mp4.\n",
            "MoviePy - Writing audio in video_from_12276_to_12317TEMP_MPY_wvf_snd.mp3\n"
          ]
        },
        {
          "name": "stderr",
          "output_type": "stream",
          "text": []
        },
        {
          "name": "stdout",
          "output_type": "stream",
          "text": [
            "MoviePy - Done.\n",
            "Moviepy - Writing video /content/drive/MyDrive/0._HCM_AI_Challenge_2023/Data_Process/Cut_Video/video_scenes_L03/L03_V001/video_from_12276_to_12317.mp4\n",
            "\n"
          ]
        },
        {
          "name": "stderr",
          "output_type": "stream",
          "text": []
        },
        {
          "name": "stdout",
          "output_type": "stream",
          "text": [
            "Moviepy - Done !\n",
            "Moviepy - video ready /content/drive/MyDrive/0._HCM_AI_Challenge_2023/Data_Process/Cut_Video/video_scenes_L03/L03_V001/video_from_12276_to_12317.mp4\n",
            "Moviepy - Building video /content/drive/MyDrive/0._HCM_AI_Challenge_2023/Data_Process/Cut_Video/video_scenes_L03/L03_V001/video_from_12318_to_12520.mp4.\n",
            "MoviePy - Writing audio in video_from_12318_to_12520TEMP_MPY_wvf_snd.mp3\n"
          ]
        },
        {
          "name": "stderr",
          "output_type": "stream",
          "text": []
        },
        {
          "name": "stdout",
          "output_type": "stream",
          "text": [
            "MoviePy - Done.\n",
            "Moviepy - Writing video /content/drive/MyDrive/0._HCM_AI_Challenge_2023/Data_Process/Cut_Video/video_scenes_L03/L03_V001/video_from_12318_to_12520.mp4\n",
            "\n"
          ]
        },
        {
          "name": "stderr",
          "output_type": "stream",
          "text": []
        },
        {
          "name": "stdout",
          "output_type": "stream",
          "text": [
            "Moviepy - Done !\n",
            "Moviepy - video ready /content/drive/MyDrive/0._HCM_AI_Challenge_2023/Data_Process/Cut_Video/video_scenes_L03/L03_V001/video_from_12318_to_12520.mp4\n",
            "Moviepy - Building video /content/drive/MyDrive/0._HCM_AI_Challenge_2023/Data_Process/Cut_Video/video_scenes_L03/L03_V001/video_from_12521_to_12583.mp4.\n",
            "MoviePy - Writing audio in video_from_12521_to_12583TEMP_MPY_wvf_snd.mp3\n"
          ]
        },
        {
          "name": "stderr",
          "output_type": "stream",
          "text": []
        },
        {
          "name": "stdout",
          "output_type": "stream",
          "text": [
            "MoviePy - Done.\n",
            "Moviepy - Writing video /content/drive/MyDrive/0._HCM_AI_Challenge_2023/Data_Process/Cut_Video/video_scenes_L03/L03_V001/video_from_12521_to_12583.mp4\n",
            "\n"
          ]
        },
        {
          "name": "stderr",
          "output_type": "stream",
          "text": []
        },
        {
          "name": "stdout",
          "output_type": "stream",
          "text": [
            "Moviepy - Done !\n",
            "Moviepy - video ready /content/drive/MyDrive/0._HCM_AI_Challenge_2023/Data_Process/Cut_Video/video_scenes_L03/L03_V001/video_from_12521_to_12583.mp4\n",
            "Moviepy - Building video /content/drive/MyDrive/0._HCM_AI_Challenge_2023/Data_Process/Cut_Video/video_scenes_L03/L03_V001/video_from_12584_to_12683.mp4.\n",
            "MoviePy - Writing audio in video_from_12584_to_12683TEMP_MPY_wvf_snd.mp3\n"
          ]
        },
        {
          "name": "stderr",
          "output_type": "stream",
          "text": []
        },
        {
          "name": "stdout",
          "output_type": "stream",
          "text": [
            "MoviePy - Done.\n",
            "Moviepy - Writing video /content/drive/MyDrive/0._HCM_AI_Challenge_2023/Data_Process/Cut_Video/video_scenes_L03/L03_V001/video_from_12584_to_12683.mp4\n",
            "\n"
          ]
        },
        {
          "name": "stderr",
          "output_type": "stream",
          "text": []
        },
        {
          "name": "stdout",
          "output_type": "stream",
          "text": [
            "Moviepy - Done !\n",
            "Moviepy - video ready /content/drive/MyDrive/0._HCM_AI_Challenge_2023/Data_Process/Cut_Video/video_scenes_L03/L03_V001/video_from_12584_to_12683.mp4\n",
            "Moviepy - Building video /content/drive/MyDrive/0._HCM_AI_Challenge_2023/Data_Process/Cut_Video/video_scenes_L03/L03_V001/video_from_12684_to_12753.mp4.\n",
            "MoviePy - Writing audio in video_from_12684_to_12753TEMP_MPY_wvf_snd.mp3\n"
          ]
        },
        {
          "name": "stderr",
          "output_type": "stream",
          "text": []
        },
        {
          "name": "stdout",
          "output_type": "stream",
          "text": [
            "MoviePy - Done.\n",
            "Moviepy - Writing video /content/drive/MyDrive/0._HCM_AI_Challenge_2023/Data_Process/Cut_Video/video_scenes_L03/L03_V001/video_from_12684_to_12753.mp4\n",
            "\n"
          ]
        },
        {
          "name": "stderr",
          "output_type": "stream",
          "text": []
        },
        {
          "name": "stdout",
          "output_type": "stream",
          "text": [
            "Moviepy - Done !\n",
            "Moviepy - video ready /content/drive/MyDrive/0._HCM_AI_Challenge_2023/Data_Process/Cut_Video/video_scenes_L03/L03_V001/video_from_12684_to_12753.mp4\n",
            "Moviepy - Building video /content/drive/MyDrive/0._HCM_AI_Challenge_2023/Data_Process/Cut_Video/video_scenes_L03/L03_V001/video_from_12754_to_12809.mp4.\n",
            "MoviePy - Writing audio in video_from_12754_to_12809TEMP_MPY_wvf_snd.mp3\n"
          ]
        },
        {
          "name": "stderr",
          "output_type": "stream",
          "text": []
        },
        {
          "name": "stdout",
          "output_type": "stream",
          "text": [
            "MoviePy - Done.\n",
            "Moviepy - Writing video /content/drive/MyDrive/0._HCM_AI_Challenge_2023/Data_Process/Cut_Video/video_scenes_L03/L03_V001/video_from_12754_to_12809.mp4\n",
            "\n"
          ]
        },
        {
          "name": "stderr",
          "output_type": "stream",
          "text": []
        },
        {
          "name": "stdout",
          "output_type": "stream",
          "text": [
            "Moviepy - Done !\n",
            "Moviepy - video ready /content/drive/MyDrive/0._HCM_AI_Challenge_2023/Data_Process/Cut_Video/video_scenes_L03/L03_V001/video_from_12754_to_12809.mp4\n",
            "Moviepy - Building video /content/drive/MyDrive/0._HCM_AI_Challenge_2023/Data_Process/Cut_Video/video_scenes_L03/L03_V001/video_from_12810_to_12884.mp4.\n",
            "MoviePy - Writing audio in video_from_12810_to_12884TEMP_MPY_wvf_snd.mp3\n"
          ]
        },
        {
          "name": "stderr",
          "output_type": "stream",
          "text": []
        },
        {
          "name": "stdout",
          "output_type": "stream",
          "text": [
            "MoviePy - Done.\n",
            "Moviepy - Writing video /content/drive/MyDrive/0._HCM_AI_Challenge_2023/Data_Process/Cut_Video/video_scenes_L03/L03_V001/video_from_12810_to_12884.mp4\n",
            "\n"
          ]
        },
        {
          "name": "stderr",
          "output_type": "stream",
          "text": []
        },
        {
          "name": "stdout",
          "output_type": "stream",
          "text": [
            "Moviepy - Done !\n",
            "Moviepy - video ready /content/drive/MyDrive/0._HCM_AI_Challenge_2023/Data_Process/Cut_Video/video_scenes_L03/L03_V001/video_from_12810_to_12884.mp4\n",
            "Moviepy - Building video /content/drive/MyDrive/0._HCM_AI_Challenge_2023/Data_Process/Cut_Video/video_scenes_L03/L03_V001/video_from_12885_to_12933.mp4.\n",
            "MoviePy - Writing audio in video_from_12885_to_12933TEMP_MPY_wvf_snd.mp3\n"
          ]
        },
        {
          "name": "stderr",
          "output_type": "stream",
          "text": []
        },
        {
          "name": "stdout",
          "output_type": "stream",
          "text": [
            "MoviePy - Done.\n",
            "Moviepy - Writing video /content/drive/MyDrive/0._HCM_AI_Challenge_2023/Data_Process/Cut_Video/video_scenes_L03/L03_V001/video_from_12885_to_12933.mp4\n",
            "\n"
          ]
        },
        {
          "name": "stderr",
          "output_type": "stream",
          "text": []
        },
        {
          "name": "stdout",
          "output_type": "stream",
          "text": [
            "Moviepy - Done !\n",
            "Moviepy - video ready /content/drive/MyDrive/0._HCM_AI_Challenge_2023/Data_Process/Cut_Video/video_scenes_L03/L03_V001/video_from_12885_to_12933.mp4\n",
            "Moviepy - Building video /content/drive/MyDrive/0._HCM_AI_Challenge_2023/Data_Process/Cut_Video/video_scenes_L03/L03_V001/video_from_12934_to_13028.mp4.\n",
            "MoviePy - Writing audio in video_from_12934_to_13028TEMP_MPY_wvf_snd.mp3\n"
          ]
        },
        {
          "name": "stderr",
          "output_type": "stream",
          "text": []
        },
        {
          "name": "stdout",
          "output_type": "stream",
          "text": [
            "MoviePy - Done.\n",
            "Moviepy - Writing video /content/drive/MyDrive/0._HCM_AI_Challenge_2023/Data_Process/Cut_Video/video_scenes_L03/L03_V001/video_from_12934_to_13028.mp4\n",
            "\n"
          ]
        },
        {
          "name": "stderr",
          "output_type": "stream",
          "text": []
        },
        {
          "name": "stdout",
          "output_type": "stream",
          "text": [
            "Moviepy - Done !\n",
            "Moviepy - video ready /content/drive/MyDrive/0._HCM_AI_Challenge_2023/Data_Process/Cut_Video/video_scenes_L03/L03_V001/video_from_12934_to_13028.mp4\n",
            "Moviepy - Building video /content/drive/MyDrive/0._HCM_AI_Challenge_2023/Data_Process/Cut_Video/video_scenes_L03/L03_V001/video_from_13029_to_13078.mp4.\n",
            "MoviePy - Writing audio in video_from_13029_to_13078TEMP_MPY_wvf_snd.mp3\n"
          ]
        },
        {
          "name": "stderr",
          "output_type": "stream",
          "text": []
        },
        {
          "name": "stdout",
          "output_type": "stream",
          "text": [
            "MoviePy - Done.\n",
            "Moviepy - Writing video /content/drive/MyDrive/0._HCM_AI_Challenge_2023/Data_Process/Cut_Video/video_scenes_L03/L03_V001/video_from_13029_to_13078.mp4\n",
            "\n"
          ]
        },
        {
          "name": "stderr",
          "output_type": "stream",
          "text": []
        },
        {
          "name": "stdout",
          "output_type": "stream",
          "text": [
            "Moviepy - Done !\n",
            "Moviepy - video ready /content/drive/MyDrive/0._HCM_AI_Challenge_2023/Data_Process/Cut_Video/video_scenes_L03/L03_V001/video_from_13029_to_13078.mp4\n",
            "Moviepy - Building video /content/drive/MyDrive/0._HCM_AI_Challenge_2023/Data_Process/Cut_Video/video_scenes_L03/L03_V001/video_from_13079_to_13144.mp4.\n",
            "MoviePy - Writing audio in video_from_13079_to_13144TEMP_MPY_wvf_snd.mp3\n"
          ]
        },
        {
          "name": "stderr",
          "output_type": "stream",
          "text": []
        },
        {
          "name": "stdout",
          "output_type": "stream",
          "text": [
            "MoviePy - Done.\n",
            "Moviepy - Writing video /content/drive/MyDrive/0._HCM_AI_Challenge_2023/Data_Process/Cut_Video/video_scenes_L03/L03_V001/video_from_13079_to_13144.mp4\n",
            "\n"
          ]
        },
        {
          "name": "stderr",
          "output_type": "stream",
          "text": []
        },
        {
          "name": "stdout",
          "output_type": "stream",
          "text": [
            "Moviepy - Done !\n",
            "Moviepy - video ready /content/drive/MyDrive/0._HCM_AI_Challenge_2023/Data_Process/Cut_Video/video_scenes_L03/L03_V001/video_from_13079_to_13144.mp4\n",
            "Moviepy - Building video /content/drive/MyDrive/0._HCM_AI_Challenge_2023/Data_Process/Cut_Video/video_scenes_L03/L03_V001/video_from_13145_to_13199.mp4.\n",
            "MoviePy - Writing audio in video_from_13145_to_13199TEMP_MPY_wvf_snd.mp3\n"
          ]
        },
        {
          "name": "stderr",
          "output_type": "stream",
          "text": []
        },
        {
          "name": "stdout",
          "output_type": "stream",
          "text": [
            "MoviePy - Done.\n",
            "Moviepy - Writing video /content/drive/MyDrive/0._HCM_AI_Challenge_2023/Data_Process/Cut_Video/video_scenes_L03/L03_V001/video_from_13145_to_13199.mp4\n",
            "\n"
          ]
        },
        {
          "name": "stderr",
          "output_type": "stream",
          "text": []
        },
        {
          "name": "stdout",
          "output_type": "stream",
          "text": [
            "Moviepy - Done !\n",
            "Moviepy - video ready /content/drive/MyDrive/0._HCM_AI_Challenge_2023/Data_Process/Cut_Video/video_scenes_L03/L03_V001/video_from_13145_to_13199.mp4\n",
            "Moviepy - Building video /content/drive/MyDrive/0._HCM_AI_Challenge_2023/Data_Process/Cut_Video/video_scenes_L03/L03_V001/video_from_13200_to_13238.mp4.\n",
            "MoviePy - Writing audio in video_from_13200_to_13238TEMP_MPY_wvf_snd.mp3\n"
          ]
        },
        {
          "name": "stderr",
          "output_type": "stream",
          "text": []
        },
        {
          "name": "stdout",
          "output_type": "stream",
          "text": [
            "MoviePy - Done.\n",
            "Moviepy - Writing video /content/drive/MyDrive/0._HCM_AI_Challenge_2023/Data_Process/Cut_Video/video_scenes_L03/L03_V001/video_from_13200_to_13238.mp4\n",
            "\n"
          ]
        },
        {
          "name": "stderr",
          "output_type": "stream",
          "text": []
        },
        {
          "name": "stdout",
          "output_type": "stream",
          "text": [
            "Moviepy - Done !\n",
            "Moviepy - video ready /content/drive/MyDrive/0._HCM_AI_Challenge_2023/Data_Process/Cut_Video/video_scenes_L03/L03_V001/video_from_13200_to_13238.mp4\n",
            "Moviepy - Building video /content/drive/MyDrive/0._HCM_AI_Challenge_2023/Data_Process/Cut_Video/video_scenes_L03/L03_V001/video_from_13239_to_13293.mp4.\n",
            "MoviePy - Writing audio in video_from_13239_to_13293TEMP_MPY_wvf_snd.mp3\n"
          ]
        },
        {
          "name": "stderr",
          "output_type": "stream",
          "text": []
        },
        {
          "name": "stdout",
          "output_type": "stream",
          "text": [
            "MoviePy - Done.\n",
            "Moviepy - Writing video /content/drive/MyDrive/0._HCM_AI_Challenge_2023/Data_Process/Cut_Video/video_scenes_L03/L03_V001/video_from_13239_to_13293.mp4\n",
            "\n"
          ]
        },
        {
          "name": "stderr",
          "output_type": "stream",
          "text": []
        },
        {
          "name": "stdout",
          "output_type": "stream",
          "text": [
            "Moviepy - Done !\n",
            "Moviepy - video ready /content/drive/MyDrive/0._HCM_AI_Challenge_2023/Data_Process/Cut_Video/video_scenes_L03/L03_V001/video_from_13239_to_13293.mp4\n",
            "Moviepy - Building video /content/drive/MyDrive/0._HCM_AI_Challenge_2023/Data_Process/Cut_Video/video_scenes_L03/L03_V001/video_from_13294_to_13339.mp4.\n",
            "MoviePy - Writing audio in video_from_13294_to_13339TEMP_MPY_wvf_snd.mp3\n"
          ]
        },
        {
          "name": "stderr",
          "output_type": "stream",
          "text": []
        },
        {
          "name": "stdout",
          "output_type": "stream",
          "text": [
            "MoviePy - Done.\n",
            "Moviepy - Writing video /content/drive/MyDrive/0._HCM_AI_Challenge_2023/Data_Process/Cut_Video/video_scenes_L03/L03_V001/video_from_13294_to_13339.mp4\n",
            "\n"
          ]
        },
        {
          "name": "stderr",
          "output_type": "stream",
          "text": []
        },
        {
          "name": "stdout",
          "output_type": "stream",
          "text": [
            "Moviepy - Done !\n",
            "Moviepy - video ready /content/drive/MyDrive/0._HCM_AI_Challenge_2023/Data_Process/Cut_Video/video_scenes_L03/L03_V001/video_from_13294_to_13339.mp4\n",
            "Moviepy - Building video /content/drive/MyDrive/0._HCM_AI_Challenge_2023/Data_Process/Cut_Video/video_scenes_L03/L03_V001/video_from_13340_to_13389.mp4.\n",
            "MoviePy - Writing audio in video_from_13340_to_13389TEMP_MPY_wvf_snd.mp3\n"
          ]
        },
        {
          "name": "stderr",
          "output_type": "stream",
          "text": []
        },
        {
          "name": "stdout",
          "output_type": "stream",
          "text": [
            "MoviePy - Done.\n",
            "Moviepy - Writing video /content/drive/MyDrive/0._HCM_AI_Challenge_2023/Data_Process/Cut_Video/video_scenes_L03/L03_V001/video_from_13340_to_13389.mp4\n",
            "\n"
          ]
        },
        {
          "name": "stderr",
          "output_type": "stream",
          "text": []
        },
        {
          "name": "stdout",
          "output_type": "stream",
          "text": [
            "Moviepy - Done !\n",
            "Moviepy - video ready /content/drive/MyDrive/0._HCM_AI_Challenge_2023/Data_Process/Cut_Video/video_scenes_L03/L03_V001/video_from_13340_to_13389.mp4\n",
            "Moviepy - Building video /content/drive/MyDrive/0._HCM_AI_Challenge_2023/Data_Process/Cut_Video/video_scenes_L03/L03_V001/video_from_13390_to_13651.mp4.\n",
            "MoviePy - Writing audio in video_from_13390_to_13651TEMP_MPY_wvf_snd.mp3\n"
          ]
        },
        {
          "name": "stderr",
          "output_type": "stream",
          "text": []
        },
        {
          "name": "stdout",
          "output_type": "stream",
          "text": [
            "MoviePy - Done.\n",
            "Moviepy - Writing video /content/drive/MyDrive/0._HCM_AI_Challenge_2023/Data_Process/Cut_Video/video_scenes_L03/L03_V001/video_from_13390_to_13651.mp4\n",
            "\n"
          ]
        },
        {
          "name": "stderr",
          "output_type": "stream",
          "text": []
        },
        {
          "name": "stdout",
          "output_type": "stream",
          "text": [
            "Moviepy - Done !\n",
            "Moviepy - video ready /content/drive/MyDrive/0._HCM_AI_Challenge_2023/Data_Process/Cut_Video/video_scenes_L03/L03_V001/video_from_13390_to_13651.mp4\n",
            "Moviepy - Building video /content/drive/MyDrive/0._HCM_AI_Challenge_2023/Data_Process/Cut_Video/video_scenes_L03/L03_V001/video_from_13652_to_13724.mp4.\n",
            "MoviePy - Writing audio in video_from_13652_to_13724TEMP_MPY_wvf_snd.mp3\n"
          ]
        },
        {
          "name": "stderr",
          "output_type": "stream",
          "text": []
        },
        {
          "name": "stdout",
          "output_type": "stream",
          "text": [
            "MoviePy - Done.\n",
            "Moviepy - Writing video /content/drive/MyDrive/0._HCM_AI_Challenge_2023/Data_Process/Cut_Video/video_scenes_L03/L03_V001/video_from_13652_to_13724.mp4\n",
            "\n"
          ]
        },
        {
          "name": "stderr",
          "output_type": "stream",
          "text": []
        },
        {
          "name": "stdout",
          "output_type": "stream",
          "text": [
            "Moviepy - Done !\n",
            "Moviepy - video ready /content/drive/MyDrive/0._HCM_AI_Challenge_2023/Data_Process/Cut_Video/video_scenes_L03/L03_V001/video_from_13652_to_13724.mp4\n",
            "Moviepy - Building video /content/drive/MyDrive/0._HCM_AI_Challenge_2023/Data_Process/Cut_Video/video_scenes_L03/L03_V001/video_from_13725_to_13782.mp4.\n",
            "MoviePy - Writing audio in video_from_13725_to_13782TEMP_MPY_wvf_snd.mp3\n"
          ]
        },
        {
          "name": "stderr",
          "output_type": "stream",
          "text": []
        },
        {
          "name": "stdout",
          "output_type": "stream",
          "text": [
            "MoviePy - Done.\n",
            "Moviepy - Writing video /content/drive/MyDrive/0._HCM_AI_Challenge_2023/Data_Process/Cut_Video/video_scenes_L03/L03_V001/video_from_13725_to_13782.mp4\n",
            "\n"
          ]
        },
        {
          "name": "stderr",
          "output_type": "stream",
          "text": []
        },
        {
          "name": "stdout",
          "output_type": "stream",
          "text": [
            "Moviepy - Done !\n",
            "Moviepy - video ready /content/drive/MyDrive/0._HCM_AI_Challenge_2023/Data_Process/Cut_Video/video_scenes_L03/L03_V001/video_from_13725_to_13782.mp4\n",
            "Moviepy - Building video /content/drive/MyDrive/0._HCM_AI_Challenge_2023/Data_Process/Cut_Video/video_scenes_L03/L03_V001/video_from_13783_to_13848.mp4.\n",
            "MoviePy - Writing audio in video_from_13783_to_13848TEMP_MPY_wvf_snd.mp3\n"
          ]
        },
        {
          "name": "stderr",
          "output_type": "stream",
          "text": []
        },
        {
          "name": "stdout",
          "output_type": "stream",
          "text": [
            "MoviePy - Done.\n",
            "Moviepy - Writing video /content/drive/MyDrive/0._HCM_AI_Challenge_2023/Data_Process/Cut_Video/video_scenes_L03/L03_V001/video_from_13783_to_13848.mp4\n",
            "\n"
          ]
        },
        {
          "name": "stderr",
          "output_type": "stream",
          "text": []
        },
        {
          "name": "stdout",
          "output_type": "stream",
          "text": [
            "Moviepy - Done !\n",
            "Moviepy - video ready /content/drive/MyDrive/0._HCM_AI_Challenge_2023/Data_Process/Cut_Video/video_scenes_L03/L03_V001/video_from_13783_to_13848.mp4\n",
            "Moviepy - Building video /content/drive/MyDrive/0._HCM_AI_Challenge_2023/Data_Process/Cut_Video/video_scenes_L03/L03_V001/video_from_13849_to_13912.mp4.\n",
            "MoviePy - Writing audio in video_from_13849_to_13912TEMP_MPY_wvf_snd.mp3\n"
          ]
        },
        {
          "name": "stderr",
          "output_type": "stream",
          "text": []
        },
        {
          "name": "stdout",
          "output_type": "stream",
          "text": [
            "MoviePy - Done.\n",
            "Moviepy - Writing video /content/drive/MyDrive/0._HCM_AI_Challenge_2023/Data_Process/Cut_Video/video_scenes_L03/L03_V001/video_from_13849_to_13912.mp4\n",
            "\n"
          ]
        },
        {
          "name": "stderr",
          "output_type": "stream",
          "text": []
        },
        {
          "name": "stdout",
          "output_type": "stream",
          "text": [
            "Moviepy - Done !\n",
            "Moviepy - video ready /content/drive/MyDrive/0._HCM_AI_Challenge_2023/Data_Process/Cut_Video/video_scenes_L03/L03_V001/video_from_13849_to_13912.mp4\n",
            "Moviepy - Building video /content/drive/MyDrive/0._HCM_AI_Challenge_2023/Data_Process/Cut_Video/video_scenes_L03/L03_V001/video_from_13913_to_13957.mp4.\n",
            "MoviePy - Writing audio in video_from_13913_to_13957TEMP_MPY_wvf_snd.mp3\n"
          ]
        },
        {
          "name": "stderr",
          "output_type": "stream",
          "text": []
        },
        {
          "name": "stdout",
          "output_type": "stream",
          "text": [
            "MoviePy - Done.\n",
            "Moviepy - Writing video /content/drive/MyDrive/0._HCM_AI_Challenge_2023/Data_Process/Cut_Video/video_scenes_L03/L03_V001/video_from_13913_to_13957.mp4\n",
            "\n"
          ]
        },
        {
          "name": "stderr",
          "output_type": "stream",
          "text": []
        },
        {
          "name": "stdout",
          "output_type": "stream",
          "text": [
            "Moviepy - Done !\n",
            "Moviepy - video ready /content/drive/MyDrive/0._HCM_AI_Challenge_2023/Data_Process/Cut_Video/video_scenes_L03/L03_V001/video_from_13913_to_13957.mp4\n",
            "Moviepy - Building video /content/drive/MyDrive/0._HCM_AI_Challenge_2023/Data_Process/Cut_Video/video_scenes_L03/L03_V001/video_from_13958_to_14009.mp4.\n",
            "MoviePy - Writing audio in video_from_13958_to_14009TEMP_MPY_wvf_snd.mp3\n"
          ]
        },
        {
          "name": "stderr",
          "output_type": "stream",
          "text": []
        },
        {
          "name": "stdout",
          "output_type": "stream",
          "text": [
            "MoviePy - Done.\n",
            "Moviepy - Writing video /content/drive/MyDrive/0._HCM_AI_Challenge_2023/Data_Process/Cut_Video/video_scenes_L03/L03_V001/video_from_13958_to_14009.mp4\n",
            "\n"
          ]
        },
        {
          "name": "stderr",
          "output_type": "stream",
          "text": []
        },
        {
          "name": "stdout",
          "output_type": "stream",
          "text": [
            "Moviepy - Done !\n",
            "Moviepy - video ready /content/drive/MyDrive/0._HCM_AI_Challenge_2023/Data_Process/Cut_Video/video_scenes_L03/L03_V001/video_from_13958_to_14009.mp4\n",
            "Moviepy - Building video /content/drive/MyDrive/0._HCM_AI_Challenge_2023/Data_Process/Cut_Video/video_scenes_L03/L03_V001/video_from_14010_to_14076.mp4.\n",
            "MoviePy - Writing audio in video_from_14010_to_14076TEMP_MPY_wvf_snd.mp3\n"
          ]
        },
        {
          "name": "stderr",
          "output_type": "stream",
          "text": []
        },
        {
          "name": "stdout",
          "output_type": "stream",
          "text": [
            "MoviePy - Done.\n",
            "Moviepy - Writing video /content/drive/MyDrive/0._HCM_AI_Challenge_2023/Data_Process/Cut_Video/video_scenes_L03/L03_V001/video_from_14010_to_14076.mp4\n",
            "\n"
          ]
        },
        {
          "name": "stderr",
          "output_type": "stream",
          "text": []
        },
        {
          "name": "stdout",
          "output_type": "stream",
          "text": [
            "Moviepy - Done !\n",
            "Moviepy - video ready /content/drive/MyDrive/0._HCM_AI_Challenge_2023/Data_Process/Cut_Video/video_scenes_L03/L03_V001/video_from_14010_to_14076.mp4\n",
            "Moviepy - Building video /content/drive/MyDrive/0._HCM_AI_Challenge_2023/Data_Process/Cut_Video/video_scenes_L03/L03_V001/video_from_14077_to_14148.mp4.\n",
            "MoviePy - Writing audio in video_from_14077_to_14148TEMP_MPY_wvf_snd.mp3\n"
          ]
        },
        {
          "name": "stderr",
          "output_type": "stream",
          "text": []
        },
        {
          "name": "stdout",
          "output_type": "stream",
          "text": [
            "MoviePy - Done.\n",
            "Moviepy - Writing video /content/drive/MyDrive/0._HCM_AI_Challenge_2023/Data_Process/Cut_Video/video_scenes_L03/L03_V001/video_from_14077_to_14148.mp4\n",
            "\n"
          ]
        },
        {
          "name": "stderr",
          "output_type": "stream",
          "text": []
        },
        {
          "name": "stdout",
          "output_type": "stream",
          "text": [
            "Moviepy - Done !\n",
            "Moviepy - video ready /content/drive/MyDrive/0._HCM_AI_Challenge_2023/Data_Process/Cut_Video/video_scenes_L03/L03_V001/video_from_14077_to_14148.mp4\n",
            "Moviepy - Building video /content/drive/MyDrive/0._HCM_AI_Challenge_2023/Data_Process/Cut_Video/video_scenes_L03/L03_V001/video_from_14149_to_14443.mp4.\n",
            "MoviePy - Writing audio in video_from_14149_to_14443TEMP_MPY_wvf_snd.mp3\n"
          ]
        },
        {
          "name": "stderr",
          "output_type": "stream",
          "text": []
        },
        {
          "name": "stdout",
          "output_type": "stream",
          "text": [
            "MoviePy - Done.\n",
            "Moviepy - Writing video /content/drive/MyDrive/0._HCM_AI_Challenge_2023/Data_Process/Cut_Video/video_scenes_L03/L03_V001/video_from_14149_to_14443.mp4\n",
            "\n"
          ]
        },
        {
          "name": "stderr",
          "output_type": "stream",
          "text": []
        },
        {
          "name": "stdout",
          "output_type": "stream",
          "text": [
            "Moviepy - Done !\n",
            "Moviepy - video ready /content/drive/MyDrive/0._HCM_AI_Challenge_2023/Data_Process/Cut_Video/video_scenes_L03/L03_V001/video_from_14149_to_14443.mp4\n",
            "Moviepy - Building video /content/drive/MyDrive/0._HCM_AI_Challenge_2023/Data_Process/Cut_Video/video_scenes_L03/L03_V001/video_from_14444_to_14771.mp4.\n",
            "MoviePy - Writing audio in video_from_14444_to_14771TEMP_MPY_wvf_snd.mp3\n"
          ]
        },
        {
          "name": "stderr",
          "output_type": "stream",
          "text": []
        },
        {
          "name": "stdout",
          "output_type": "stream",
          "text": [
            "MoviePy - Done.\n",
            "Moviepy - Writing video /content/drive/MyDrive/0._HCM_AI_Challenge_2023/Data_Process/Cut_Video/video_scenes_L03/L03_V001/video_from_14444_to_14771.mp4\n",
            "\n"
          ]
        },
        {
          "name": "stderr",
          "output_type": "stream",
          "text": []
        },
        {
          "name": "stdout",
          "output_type": "stream",
          "text": [
            "Moviepy - Done !\n",
            "Moviepy - video ready /content/drive/MyDrive/0._HCM_AI_Challenge_2023/Data_Process/Cut_Video/video_scenes_L03/L03_V001/video_from_14444_to_14771.mp4\n",
            "Moviepy - Building video /content/drive/MyDrive/0._HCM_AI_Challenge_2023/Data_Process/Cut_Video/video_scenes_L03/L03_V001/video_from_14772_to_14900.mp4.\n",
            "MoviePy - Writing audio in video_from_14772_to_14900TEMP_MPY_wvf_snd.mp3\n"
          ]
        },
        {
          "name": "stderr",
          "output_type": "stream",
          "text": []
        },
        {
          "name": "stdout",
          "output_type": "stream",
          "text": [
            "MoviePy - Done.\n",
            "Moviepy - Writing video /content/drive/MyDrive/0._HCM_AI_Challenge_2023/Data_Process/Cut_Video/video_scenes_L03/L03_V001/video_from_14772_to_14900.mp4\n",
            "\n"
          ]
        },
        {
          "name": "stderr",
          "output_type": "stream",
          "text": []
        },
        {
          "name": "stdout",
          "output_type": "stream",
          "text": [
            "Moviepy - Done !\n",
            "Moviepy - video ready /content/drive/MyDrive/0._HCM_AI_Challenge_2023/Data_Process/Cut_Video/video_scenes_L03/L03_V001/video_from_14772_to_14900.mp4\n",
            "Moviepy - Building video /content/drive/MyDrive/0._HCM_AI_Challenge_2023/Data_Process/Cut_Video/video_scenes_L03/L03_V001/video_from_14901_to_15021.mp4.\n",
            "MoviePy - Writing audio in video_from_14901_to_15021TEMP_MPY_wvf_snd.mp3\n"
          ]
        },
        {
          "name": "stderr",
          "output_type": "stream",
          "text": []
        },
        {
          "name": "stdout",
          "output_type": "stream",
          "text": [
            "MoviePy - Done.\n",
            "Moviepy - Writing video /content/drive/MyDrive/0._HCM_AI_Challenge_2023/Data_Process/Cut_Video/video_scenes_L03/L03_V001/video_from_14901_to_15021.mp4\n",
            "\n"
          ]
        },
        {
          "name": "stderr",
          "output_type": "stream",
          "text": []
        },
        {
          "name": "stdout",
          "output_type": "stream",
          "text": [
            "Moviepy - Done !\n",
            "Moviepy - video ready /content/drive/MyDrive/0._HCM_AI_Challenge_2023/Data_Process/Cut_Video/video_scenes_L03/L03_V001/video_from_14901_to_15021.mp4\n",
            "Moviepy - Building video /content/drive/MyDrive/0._HCM_AI_Challenge_2023/Data_Process/Cut_Video/video_scenes_L03/L03_V001/video_from_15022_to_15090.mp4.\n",
            "MoviePy - Writing audio in video_from_15022_to_15090TEMP_MPY_wvf_snd.mp3\n"
          ]
        },
        {
          "name": "stderr",
          "output_type": "stream",
          "text": []
        },
        {
          "name": "stdout",
          "output_type": "stream",
          "text": [
            "MoviePy - Done.\n",
            "Moviepy - Writing video /content/drive/MyDrive/0._HCM_AI_Challenge_2023/Data_Process/Cut_Video/video_scenes_L03/L03_V001/video_from_15022_to_15090.mp4\n",
            "\n"
          ]
        },
        {
          "name": "stderr",
          "output_type": "stream",
          "text": []
        },
        {
          "name": "stdout",
          "output_type": "stream",
          "text": [
            "Moviepy - Done !\n",
            "Moviepy - video ready /content/drive/MyDrive/0._HCM_AI_Challenge_2023/Data_Process/Cut_Video/video_scenes_L03/L03_V001/video_from_15022_to_15090.mp4\n",
            "Moviepy - Building video /content/drive/MyDrive/0._HCM_AI_Challenge_2023/Data_Process/Cut_Video/video_scenes_L03/L03_V001/video_from_15091_to_15161.mp4.\n",
            "MoviePy - Writing audio in video_from_15091_to_15161TEMP_MPY_wvf_snd.mp3\n"
          ]
        },
        {
          "name": "stderr",
          "output_type": "stream",
          "text": []
        },
        {
          "name": "stdout",
          "output_type": "stream",
          "text": [
            "MoviePy - Done.\n",
            "Moviepy - Writing video /content/drive/MyDrive/0._HCM_AI_Challenge_2023/Data_Process/Cut_Video/video_scenes_L03/L03_V001/video_from_15091_to_15161.mp4\n",
            "\n"
          ]
        },
        {
          "name": "stderr",
          "output_type": "stream",
          "text": []
        },
        {
          "name": "stdout",
          "output_type": "stream",
          "text": [
            "Moviepy - Done !\n",
            "Moviepy - video ready /content/drive/MyDrive/0._HCM_AI_Challenge_2023/Data_Process/Cut_Video/video_scenes_L03/L03_V001/video_from_15091_to_15161.mp4\n",
            "Moviepy - Building video /content/drive/MyDrive/0._HCM_AI_Challenge_2023/Data_Process/Cut_Video/video_scenes_L03/L03_V001/video_from_15162_to_15241.mp4.\n",
            "MoviePy - Writing audio in video_from_15162_to_15241TEMP_MPY_wvf_snd.mp3\n"
          ]
        },
        {
          "name": "stderr",
          "output_type": "stream",
          "text": []
        },
        {
          "name": "stdout",
          "output_type": "stream",
          "text": [
            "MoviePy - Done.\n",
            "Moviepy - Writing video /content/drive/MyDrive/0._HCM_AI_Challenge_2023/Data_Process/Cut_Video/video_scenes_L03/L03_V001/video_from_15162_to_15241.mp4\n",
            "\n"
          ]
        },
        {
          "name": "stderr",
          "output_type": "stream",
          "text": []
        },
        {
          "name": "stdout",
          "output_type": "stream",
          "text": [
            "Moviepy - Done !\n",
            "Moviepy - video ready /content/drive/MyDrive/0._HCM_AI_Challenge_2023/Data_Process/Cut_Video/video_scenes_L03/L03_V001/video_from_15162_to_15241.mp4\n",
            "Moviepy - Building video /content/drive/MyDrive/0._HCM_AI_Challenge_2023/Data_Process/Cut_Video/video_scenes_L03/L03_V001/video_from_15242_to_15345.mp4.\n",
            "MoviePy - Writing audio in video_from_15242_to_15345TEMP_MPY_wvf_snd.mp3\n"
          ]
        },
        {
          "name": "stderr",
          "output_type": "stream",
          "text": []
        },
        {
          "name": "stdout",
          "output_type": "stream",
          "text": [
            "MoviePy - Done.\n",
            "Moviepy - Writing video /content/drive/MyDrive/0._HCM_AI_Challenge_2023/Data_Process/Cut_Video/video_scenes_L03/L03_V001/video_from_15242_to_15345.mp4\n",
            "\n"
          ]
        },
        {
          "name": "stderr",
          "output_type": "stream",
          "text": []
        },
        {
          "name": "stdout",
          "output_type": "stream",
          "text": [
            "Moviepy - Done !\n",
            "Moviepy - video ready /content/drive/MyDrive/0._HCM_AI_Challenge_2023/Data_Process/Cut_Video/video_scenes_L03/L03_V001/video_from_15242_to_15345.mp4\n",
            "Moviepy - Building video /content/drive/MyDrive/0._HCM_AI_Challenge_2023/Data_Process/Cut_Video/video_scenes_L03/L03_V001/video_from_15346_to_15463.mp4.\n",
            "MoviePy - Writing audio in video_from_15346_to_15463TEMP_MPY_wvf_snd.mp3\n"
          ]
        },
        {
          "name": "stderr",
          "output_type": "stream",
          "text": []
        },
        {
          "name": "stdout",
          "output_type": "stream",
          "text": [
            "MoviePy - Done.\n",
            "Moviepy - Writing video /content/drive/MyDrive/0._HCM_AI_Challenge_2023/Data_Process/Cut_Video/video_scenes_L03/L03_V001/video_from_15346_to_15463.mp4\n",
            "\n"
          ]
        },
        {
          "name": "stderr",
          "output_type": "stream",
          "text": []
        },
        {
          "name": "stdout",
          "output_type": "stream",
          "text": [
            "Moviepy - Done !\n",
            "Moviepy - video ready /content/drive/MyDrive/0._HCM_AI_Challenge_2023/Data_Process/Cut_Video/video_scenes_L03/L03_V001/video_from_15346_to_15463.mp4\n",
            "Moviepy - Building video /content/drive/MyDrive/0._HCM_AI_Challenge_2023/Data_Process/Cut_Video/video_scenes_L03/L03_V001/video_from_15464_to_15558.mp4.\n",
            "MoviePy - Writing audio in video_from_15464_to_15558TEMP_MPY_wvf_snd.mp3\n"
          ]
        },
        {
          "name": "stderr",
          "output_type": "stream",
          "text": []
        },
        {
          "name": "stdout",
          "output_type": "stream",
          "text": [
            "MoviePy - Done.\n",
            "Moviepy - Writing video /content/drive/MyDrive/0._HCM_AI_Challenge_2023/Data_Process/Cut_Video/video_scenes_L03/L03_V001/video_from_15464_to_15558.mp4\n",
            "\n"
          ]
        },
        {
          "name": "stderr",
          "output_type": "stream",
          "text": []
        },
        {
          "name": "stdout",
          "output_type": "stream",
          "text": [
            "Moviepy - Done !\n",
            "Moviepy - video ready /content/drive/MyDrive/0._HCM_AI_Challenge_2023/Data_Process/Cut_Video/video_scenes_L03/L03_V001/video_from_15464_to_15558.mp4\n",
            "Moviepy - Building video /content/drive/MyDrive/0._HCM_AI_Challenge_2023/Data_Process/Cut_Video/video_scenes_L03/L03_V001/video_from_15559_to_15662.mp4.\n",
            "MoviePy - Writing audio in video_from_15559_to_15662TEMP_MPY_wvf_snd.mp3\n"
          ]
        },
        {
          "name": "stderr",
          "output_type": "stream",
          "text": []
        },
        {
          "name": "stdout",
          "output_type": "stream",
          "text": [
            "MoviePy - Done.\n",
            "Moviepy - Writing video /content/drive/MyDrive/0._HCM_AI_Challenge_2023/Data_Process/Cut_Video/video_scenes_L03/L03_V001/video_from_15559_to_15662.mp4\n",
            "\n"
          ]
        },
        {
          "name": "stderr",
          "output_type": "stream",
          "text": []
        },
        {
          "name": "stdout",
          "output_type": "stream",
          "text": [
            "Moviepy - Done !\n",
            "Moviepy - video ready /content/drive/MyDrive/0._HCM_AI_Challenge_2023/Data_Process/Cut_Video/video_scenes_L03/L03_V001/video_from_15559_to_15662.mp4\n",
            "Moviepy - Building video /content/drive/MyDrive/0._HCM_AI_Challenge_2023/Data_Process/Cut_Video/video_scenes_L03/L03_V001/video_from_15663_to_15758.mp4.\n",
            "MoviePy - Writing audio in video_from_15663_to_15758TEMP_MPY_wvf_snd.mp3\n"
          ]
        },
        {
          "name": "stderr",
          "output_type": "stream",
          "text": []
        },
        {
          "name": "stdout",
          "output_type": "stream",
          "text": [
            "MoviePy - Done.\n",
            "Moviepy - Writing video /content/drive/MyDrive/0._HCM_AI_Challenge_2023/Data_Process/Cut_Video/video_scenes_L03/L03_V001/video_from_15663_to_15758.mp4\n",
            "\n"
          ]
        },
        {
          "name": "stderr",
          "output_type": "stream",
          "text": []
        },
        {
          "name": "stdout",
          "output_type": "stream",
          "text": [
            "Moviepy - Done !\n",
            "Moviepy - video ready /content/drive/MyDrive/0._HCM_AI_Challenge_2023/Data_Process/Cut_Video/video_scenes_L03/L03_V001/video_from_15663_to_15758.mp4\n",
            "Moviepy - Building video /content/drive/MyDrive/0._HCM_AI_Challenge_2023/Data_Process/Cut_Video/video_scenes_L03/L03_V001/video_from_15759_to_15827.mp4.\n",
            "MoviePy - Writing audio in video_from_15759_to_15827TEMP_MPY_wvf_snd.mp3\n"
          ]
        },
        {
          "name": "stderr",
          "output_type": "stream",
          "text": []
        },
        {
          "name": "stdout",
          "output_type": "stream",
          "text": [
            "MoviePy - Done.\n",
            "Moviepy - Writing video /content/drive/MyDrive/0._HCM_AI_Challenge_2023/Data_Process/Cut_Video/video_scenes_L03/L03_V001/video_from_15759_to_15827.mp4\n",
            "\n"
          ]
        },
        {
          "name": "stderr",
          "output_type": "stream",
          "text": []
        },
        {
          "name": "stdout",
          "output_type": "stream",
          "text": [
            "Moviepy - Done !\n",
            "Moviepy - video ready /content/drive/MyDrive/0._HCM_AI_Challenge_2023/Data_Process/Cut_Video/video_scenes_L03/L03_V001/video_from_15759_to_15827.mp4\n",
            "Moviepy - Building video /content/drive/MyDrive/0._HCM_AI_Challenge_2023/Data_Process/Cut_Video/video_scenes_L03/L03_V001/video_from_15828_to_16102.mp4.\n",
            "MoviePy - Writing audio in video_from_15828_to_16102TEMP_MPY_wvf_snd.mp3\n"
          ]
        },
        {
          "name": "stderr",
          "output_type": "stream",
          "text": []
        },
        {
          "name": "stdout",
          "output_type": "stream",
          "text": [
            "MoviePy - Done.\n",
            "Moviepy - Writing video /content/drive/MyDrive/0._HCM_AI_Challenge_2023/Data_Process/Cut_Video/video_scenes_L03/L03_V001/video_from_15828_to_16102.mp4\n",
            "\n"
          ]
        },
        {
          "name": "stderr",
          "output_type": "stream",
          "text": []
        },
        {
          "name": "stdout",
          "output_type": "stream",
          "text": [
            "Moviepy - Done !\n",
            "Moviepy - video ready /content/drive/MyDrive/0._HCM_AI_Challenge_2023/Data_Process/Cut_Video/video_scenes_L03/L03_V001/video_from_15828_to_16102.mp4\n",
            "Moviepy - Building video /content/drive/MyDrive/0._HCM_AI_Challenge_2023/Data_Process/Cut_Video/video_scenes_L03/L03_V001/video_from_16103_to_16171.mp4.\n",
            "MoviePy - Writing audio in video_from_16103_to_16171TEMP_MPY_wvf_snd.mp3\n"
          ]
        },
        {
          "name": "stderr",
          "output_type": "stream",
          "text": []
        },
        {
          "name": "stdout",
          "output_type": "stream",
          "text": [
            "MoviePy - Done.\n",
            "Moviepy - Writing video /content/drive/MyDrive/0._HCM_AI_Challenge_2023/Data_Process/Cut_Video/video_scenes_L03/L03_V001/video_from_16103_to_16171.mp4\n",
            "\n"
          ]
        },
        {
          "name": "stderr",
          "output_type": "stream",
          "text": []
        },
        {
          "name": "stdout",
          "output_type": "stream",
          "text": [
            "Moviepy - Done !\n",
            "Moviepy - video ready /content/drive/MyDrive/0._HCM_AI_Challenge_2023/Data_Process/Cut_Video/video_scenes_L03/L03_V001/video_from_16103_to_16171.mp4\n",
            "Moviepy - Building video /content/drive/MyDrive/0._HCM_AI_Challenge_2023/Data_Process/Cut_Video/video_scenes_L03/L03_V001/video_from_16172_to_16225.mp4.\n",
            "MoviePy - Writing audio in video_from_16172_to_16225TEMP_MPY_wvf_snd.mp3\n"
          ]
        },
        {
          "name": "stderr",
          "output_type": "stream",
          "text": []
        },
        {
          "name": "stdout",
          "output_type": "stream",
          "text": [
            "MoviePy - Done.\n",
            "Moviepy - Writing video /content/drive/MyDrive/0._HCM_AI_Challenge_2023/Data_Process/Cut_Video/video_scenes_L03/L03_V001/video_from_16172_to_16225.mp4\n",
            "\n"
          ]
        },
        {
          "name": "stderr",
          "output_type": "stream",
          "text": []
        },
        {
          "name": "stdout",
          "output_type": "stream",
          "text": [
            "Moviepy - Done !\n",
            "Moviepy - video ready /content/drive/MyDrive/0._HCM_AI_Challenge_2023/Data_Process/Cut_Video/video_scenes_L03/L03_V001/video_from_16172_to_16225.mp4\n",
            "Moviepy - Building video /content/drive/MyDrive/0._HCM_AI_Challenge_2023/Data_Process/Cut_Video/video_scenes_L03/L03_V001/video_from_16226_to_16293.mp4.\n",
            "MoviePy - Writing audio in video_from_16226_to_16293TEMP_MPY_wvf_snd.mp3\n"
          ]
        },
        {
          "name": "stderr",
          "output_type": "stream",
          "text": []
        },
        {
          "name": "stdout",
          "output_type": "stream",
          "text": [
            "MoviePy - Done.\n",
            "Moviepy - Writing video /content/drive/MyDrive/0._HCM_AI_Challenge_2023/Data_Process/Cut_Video/video_scenes_L03/L03_V001/video_from_16226_to_16293.mp4\n",
            "\n"
          ]
        },
        {
          "name": "stderr",
          "output_type": "stream",
          "text": []
        },
        {
          "name": "stdout",
          "output_type": "stream",
          "text": [
            "Moviepy - Done !\n",
            "Moviepy - video ready /content/drive/MyDrive/0._HCM_AI_Challenge_2023/Data_Process/Cut_Video/video_scenes_L03/L03_V001/video_from_16226_to_16293.mp4\n",
            "Moviepy - Building video /content/drive/MyDrive/0._HCM_AI_Challenge_2023/Data_Process/Cut_Video/video_scenes_L03/L03_V001/video_from_16294_to_16502.mp4.\n",
            "MoviePy - Writing audio in video_from_16294_to_16502TEMP_MPY_wvf_snd.mp3\n"
          ]
        },
        {
          "name": "stderr",
          "output_type": "stream",
          "text": []
        },
        {
          "name": "stdout",
          "output_type": "stream",
          "text": [
            "MoviePy - Done.\n",
            "Moviepy - Writing video /content/drive/MyDrive/0._HCM_AI_Challenge_2023/Data_Process/Cut_Video/video_scenes_L03/L03_V001/video_from_16294_to_16502.mp4\n",
            "\n"
          ]
        },
        {
          "name": "stderr",
          "output_type": "stream",
          "text": []
        },
        {
          "name": "stdout",
          "output_type": "stream",
          "text": [
            "Moviepy - Done !\n",
            "Moviepy - video ready /content/drive/MyDrive/0._HCM_AI_Challenge_2023/Data_Process/Cut_Video/video_scenes_L03/L03_V001/video_from_16294_to_16502.mp4\n",
            "Moviepy - Building video /content/drive/MyDrive/0._HCM_AI_Challenge_2023/Data_Process/Cut_Video/video_scenes_L03/L03_V001/video_from_16503_to_16561.mp4.\n",
            "MoviePy - Writing audio in video_from_16503_to_16561TEMP_MPY_wvf_snd.mp3\n"
          ]
        },
        {
          "name": "stderr",
          "output_type": "stream",
          "text": []
        },
        {
          "name": "stdout",
          "output_type": "stream",
          "text": [
            "MoviePy - Done.\n",
            "Moviepy - Writing video /content/drive/MyDrive/0._HCM_AI_Challenge_2023/Data_Process/Cut_Video/video_scenes_L03/L03_V001/video_from_16503_to_16561.mp4\n",
            "\n"
          ]
        },
        {
          "name": "stderr",
          "output_type": "stream",
          "text": []
        },
        {
          "name": "stdout",
          "output_type": "stream",
          "text": [
            "Moviepy - Done !\n",
            "Moviepy - video ready /content/drive/MyDrive/0._HCM_AI_Challenge_2023/Data_Process/Cut_Video/video_scenes_L03/L03_V001/video_from_16503_to_16561.mp4\n",
            "Moviepy - Building video /content/drive/MyDrive/0._HCM_AI_Challenge_2023/Data_Process/Cut_Video/video_scenes_L03/L03_V001/video_from_16562_to_16667.mp4.\n",
            "MoviePy - Writing audio in video_from_16562_to_16667TEMP_MPY_wvf_snd.mp3\n"
          ]
        },
        {
          "name": "stderr",
          "output_type": "stream",
          "text": []
        },
        {
          "name": "stdout",
          "output_type": "stream",
          "text": [
            "MoviePy - Done.\n",
            "Moviepy - Writing video /content/drive/MyDrive/0._HCM_AI_Challenge_2023/Data_Process/Cut_Video/video_scenes_L03/L03_V001/video_from_16562_to_16667.mp4\n",
            "\n"
          ]
        },
        {
          "name": "stderr",
          "output_type": "stream",
          "text": []
        },
        {
          "name": "stdout",
          "output_type": "stream",
          "text": [
            "Moviepy - Done !\n",
            "Moviepy - video ready /content/drive/MyDrive/0._HCM_AI_Challenge_2023/Data_Process/Cut_Video/video_scenes_L03/L03_V001/video_from_16562_to_16667.mp4\n",
            "Moviepy - Building video /content/drive/MyDrive/0._HCM_AI_Challenge_2023/Data_Process/Cut_Video/video_scenes_L03/L03_V001/video_from_16668_to_16725.mp4.\n",
            "MoviePy - Writing audio in video_from_16668_to_16725TEMP_MPY_wvf_snd.mp3\n"
          ]
        },
        {
          "name": "stderr",
          "output_type": "stream",
          "text": []
        },
        {
          "name": "stdout",
          "output_type": "stream",
          "text": [
            "MoviePy - Done.\n",
            "Moviepy - Writing video /content/drive/MyDrive/0._HCM_AI_Challenge_2023/Data_Process/Cut_Video/video_scenes_L03/L03_V001/video_from_16668_to_16725.mp4\n",
            "\n"
          ]
        },
        {
          "name": "stderr",
          "output_type": "stream",
          "text": []
        },
        {
          "name": "stdout",
          "output_type": "stream",
          "text": [
            "Moviepy - Done !\n",
            "Moviepy - video ready /content/drive/MyDrive/0._HCM_AI_Challenge_2023/Data_Process/Cut_Video/video_scenes_L03/L03_V001/video_from_16668_to_16725.mp4\n",
            "Moviepy - Building video /content/drive/MyDrive/0._HCM_AI_Challenge_2023/Data_Process/Cut_Video/video_scenes_L03/L03_V001/video_from_16726_to_16777.mp4.\n",
            "MoviePy - Writing audio in video_from_16726_to_16777TEMP_MPY_wvf_snd.mp3\n"
          ]
        },
        {
          "name": "stderr",
          "output_type": "stream",
          "text": []
        },
        {
          "name": "stdout",
          "output_type": "stream",
          "text": [
            "MoviePy - Done.\n",
            "Moviepy - Writing video /content/drive/MyDrive/0._HCM_AI_Challenge_2023/Data_Process/Cut_Video/video_scenes_L03/L03_V001/video_from_16726_to_16777.mp4\n",
            "\n"
          ]
        },
        {
          "name": "stderr",
          "output_type": "stream",
          "text": []
        },
        {
          "name": "stdout",
          "output_type": "stream",
          "text": [
            "Moviepy - Done !\n",
            "Moviepy - video ready /content/drive/MyDrive/0._HCM_AI_Challenge_2023/Data_Process/Cut_Video/video_scenes_L03/L03_V001/video_from_16726_to_16777.mp4\n",
            "Moviepy - Building video /content/drive/MyDrive/0._HCM_AI_Challenge_2023/Data_Process/Cut_Video/video_scenes_L03/L03_V001/video_from_16778_to_16802.mp4.\n",
            "MoviePy - Writing audio in video_from_16778_to_16802TEMP_MPY_wvf_snd.mp3\n"
          ]
        },
        {
          "name": "stderr",
          "output_type": "stream",
          "text": []
        },
        {
          "name": "stdout",
          "output_type": "stream",
          "text": [
            "MoviePy - Done.\n",
            "Moviepy - Writing video /content/drive/MyDrive/0._HCM_AI_Challenge_2023/Data_Process/Cut_Video/video_scenes_L03/L03_V001/video_from_16778_to_16802.mp4\n",
            "\n"
          ]
        },
        {
          "name": "stderr",
          "output_type": "stream",
          "text": []
        },
        {
          "name": "stdout",
          "output_type": "stream",
          "text": [
            "Moviepy - Done !\n",
            "Moviepy - video ready /content/drive/MyDrive/0._HCM_AI_Challenge_2023/Data_Process/Cut_Video/video_scenes_L03/L03_V001/video_from_16778_to_16802.mp4\n",
            "Moviepy - Building video /content/drive/MyDrive/0._HCM_AI_Challenge_2023/Data_Process/Cut_Video/video_scenes_L03/L03_V001/video_from_16803_to_16896.mp4.\n",
            "MoviePy - Writing audio in video_from_16803_to_16896TEMP_MPY_wvf_snd.mp3\n"
          ]
        },
        {
          "name": "stderr",
          "output_type": "stream",
          "text": []
        },
        {
          "name": "stdout",
          "output_type": "stream",
          "text": [
            "MoviePy - Done.\n",
            "Moviepy - Writing video /content/drive/MyDrive/0._HCM_AI_Challenge_2023/Data_Process/Cut_Video/video_scenes_L03/L03_V001/video_from_16803_to_16896.mp4\n",
            "\n"
          ]
        },
        {
          "name": "stderr",
          "output_type": "stream",
          "text": []
        },
        {
          "name": "stdout",
          "output_type": "stream",
          "text": [
            "Moviepy - Done !\n",
            "Moviepy - video ready /content/drive/MyDrive/0._HCM_AI_Challenge_2023/Data_Process/Cut_Video/video_scenes_L03/L03_V001/video_from_16803_to_16896.mp4\n",
            "Moviepy - Building video /content/drive/MyDrive/0._HCM_AI_Challenge_2023/Data_Process/Cut_Video/video_scenes_L03/L03_V001/video_from_16897_to_16957.mp4.\n",
            "MoviePy - Writing audio in video_from_16897_to_16957TEMP_MPY_wvf_snd.mp3\n"
          ]
        },
        {
          "name": "stderr",
          "output_type": "stream",
          "text": []
        },
        {
          "name": "stdout",
          "output_type": "stream",
          "text": [
            "MoviePy - Done.\n",
            "Moviepy - Writing video /content/drive/MyDrive/0._HCM_AI_Challenge_2023/Data_Process/Cut_Video/video_scenes_L03/L03_V001/video_from_16897_to_16957.mp4\n",
            "\n"
          ]
        },
        {
          "name": "stderr",
          "output_type": "stream",
          "text": []
        },
        {
          "name": "stdout",
          "output_type": "stream",
          "text": [
            "Moviepy - Done !\n",
            "Moviepy - video ready /content/drive/MyDrive/0._HCM_AI_Challenge_2023/Data_Process/Cut_Video/video_scenes_L03/L03_V001/video_from_16897_to_16957.mp4\n",
            "Moviepy - Building video /content/drive/MyDrive/0._HCM_AI_Challenge_2023/Data_Process/Cut_Video/video_scenes_L03/L03_V001/video_from_16958_to_17056.mp4.\n",
            "MoviePy - Writing audio in video_from_16958_to_17056TEMP_MPY_wvf_snd.mp3\n"
          ]
        },
        {
          "name": "stderr",
          "output_type": "stream",
          "text": []
        },
        {
          "name": "stdout",
          "output_type": "stream",
          "text": [
            "MoviePy - Done.\n",
            "Moviepy - Writing video /content/drive/MyDrive/0._HCM_AI_Challenge_2023/Data_Process/Cut_Video/video_scenes_L03/L03_V001/video_from_16958_to_17056.mp4\n",
            "\n"
          ]
        },
        {
          "name": "stderr",
          "output_type": "stream",
          "text": []
        },
        {
          "name": "stdout",
          "output_type": "stream",
          "text": [
            "Moviepy - Done !\n",
            "Moviepy - video ready /content/drive/MyDrive/0._HCM_AI_Challenge_2023/Data_Process/Cut_Video/video_scenes_L03/L03_V001/video_from_16958_to_17056.mp4\n",
            "Moviepy - Building video /content/drive/MyDrive/0._HCM_AI_Challenge_2023/Data_Process/Cut_Video/video_scenes_L03/L03_V001/video_from_17057_to_17115.mp4.\n",
            "MoviePy - Writing audio in video_from_17057_to_17115TEMP_MPY_wvf_snd.mp3\n"
          ]
        },
        {
          "name": "stderr",
          "output_type": "stream",
          "text": []
        },
        {
          "name": "stdout",
          "output_type": "stream",
          "text": [
            "MoviePy - Done.\n",
            "Moviepy - Writing video /content/drive/MyDrive/0._HCM_AI_Challenge_2023/Data_Process/Cut_Video/video_scenes_L03/L03_V001/video_from_17057_to_17115.mp4\n",
            "\n"
          ]
        },
        {
          "name": "stderr",
          "output_type": "stream",
          "text": []
        },
        {
          "name": "stdout",
          "output_type": "stream",
          "text": [
            "Moviepy - Done !\n",
            "Moviepy - video ready /content/drive/MyDrive/0._HCM_AI_Challenge_2023/Data_Process/Cut_Video/video_scenes_L03/L03_V001/video_from_17057_to_17115.mp4\n",
            "Moviepy - Building video /content/drive/MyDrive/0._HCM_AI_Challenge_2023/Data_Process/Cut_Video/video_scenes_L03/L03_V001/video_from_17116_to_17317.mp4.\n",
            "MoviePy - Writing audio in video_from_17116_to_17317TEMP_MPY_wvf_snd.mp3\n"
          ]
        },
        {
          "name": "stderr",
          "output_type": "stream",
          "text": []
        },
        {
          "name": "stdout",
          "output_type": "stream",
          "text": [
            "MoviePy - Done.\n",
            "Moviepy - Writing video /content/drive/MyDrive/0._HCM_AI_Challenge_2023/Data_Process/Cut_Video/video_scenes_L03/L03_V001/video_from_17116_to_17317.mp4\n",
            "\n"
          ]
        },
        {
          "name": "stderr",
          "output_type": "stream",
          "text": []
        },
        {
          "name": "stdout",
          "output_type": "stream",
          "text": [
            "Moviepy - Done !\n",
            "Moviepy - video ready /content/drive/MyDrive/0._HCM_AI_Challenge_2023/Data_Process/Cut_Video/video_scenes_L03/L03_V001/video_from_17116_to_17317.mp4\n",
            "Moviepy - Building video /content/drive/MyDrive/0._HCM_AI_Challenge_2023/Data_Process/Cut_Video/video_scenes_L03/L03_V001/video_from_17318_to_17429.mp4.\n",
            "MoviePy - Writing audio in video_from_17318_to_17429TEMP_MPY_wvf_snd.mp3\n"
          ]
        },
        {
          "name": "stderr",
          "output_type": "stream",
          "text": []
        },
        {
          "name": "stdout",
          "output_type": "stream",
          "text": [
            "MoviePy - Done.\n",
            "Moviepy - Writing video /content/drive/MyDrive/0._HCM_AI_Challenge_2023/Data_Process/Cut_Video/video_scenes_L03/L03_V001/video_from_17318_to_17429.mp4\n",
            "\n"
          ]
        },
        {
          "name": "stderr",
          "output_type": "stream",
          "text": []
        },
        {
          "name": "stdout",
          "output_type": "stream",
          "text": [
            "Moviepy - Done !\n",
            "Moviepy - video ready /content/drive/MyDrive/0._HCM_AI_Challenge_2023/Data_Process/Cut_Video/video_scenes_L03/L03_V001/video_from_17318_to_17429.mp4\n",
            "Moviepy - Building video /content/drive/MyDrive/0._HCM_AI_Challenge_2023/Data_Process/Cut_Video/video_scenes_L03/L03_V001/video_from_17430_to_17529.mp4.\n",
            "MoviePy - Writing audio in video_from_17430_to_17529TEMP_MPY_wvf_snd.mp3\n"
          ]
        },
        {
          "name": "stderr",
          "output_type": "stream",
          "text": []
        },
        {
          "name": "stdout",
          "output_type": "stream",
          "text": [
            "MoviePy - Done.\n",
            "Moviepy - Writing video /content/drive/MyDrive/0._HCM_AI_Challenge_2023/Data_Process/Cut_Video/video_scenes_L03/L03_V001/video_from_17430_to_17529.mp4\n",
            "\n"
          ]
        },
        {
          "name": "stderr",
          "output_type": "stream",
          "text": []
        },
        {
          "name": "stdout",
          "output_type": "stream",
          "text": [
            "Moviepy - Done !\n",
            "Moviepy - video ready /content/drive/MyDrive/0._HCM_AI_Challenge_2023/Data_Process/Cut_Video/video_scenes_L03/L03_V001/video_from_17430_to_17529.mp4\n",
            "Moviepy - Building video /content/drive/MyDrive/0._HCM_AI_Challenge_2023/Data_Process/Cut_Video/video_scenes_L03/L03_V001/video_from_17530_to_17623.mp4.\n",
            "MoviePy - Writing audio in video_from_17530_to_17623TEMP_MPY_wvf_snd.mp3\n"
          ]
        },
        {
          "name": "stderr",
          "output_type": "stream",
          "text": []
        },
        {
          "name": "stdout",
          "output_type": "stream",
          "text": [
            "MoviePy - Done.\n",
            "Moviepy - Writing video /content/drive/MyDrive/0._HCM_AI_Challenge_2023/Data_Process/Cut_Video/video_scenes_L03/L03_V001/video_from_17530_to_17623.mp4\n",
            "\n"
          ]
        },
        {
          "name": "stderr",
          "output_type": "stream",
          "text": []
        },
        {
          "name": "stdout",
          "output_type": "stream",
          "text": [
            "Moviepy - Done !\n",
            "Moviepy - video ready /content/drive/MyDrive/0._HCM_AI_Challenge_2023/Data_Process/Cut_Video/video_scenes_L03/L03_V001/video_from_17530_to_17623.mp4\n",
            "Moviepy - Building video /content/drive/MyDrive/0._HCM_AI_Challenge_2023/Data_Process/Cut_Video/video_scenes_L03/L03_V001/video_from_17624_to_17730.mp4.\n",
            "MoviePy - Writing audio in video_from_17624_to_17730TEMP_MPY_wvf_snd.mp3\n"
          ]
        },
        {
          "name": "stderr",
          "output_type": "stream",
          "text": []
        },
        {
          "name": "stdout",
          "output_type": "stream",
          "text": [
            "MoviePy - Done.\n",
            "Moviepy - Writing video /content/drive/MyDrive/0._HCM_AI_Challenge_2023/Data_Process/Cut_Video/video_scenes_L03/L03_V001/video_from_17624_to_17730.mp4\n",
            "\n"
          ]
        },
        {
          "name": "stderr",
          "output_type": "stream",
          "text": []
        },
        {
          "name": "stdout",
          "output_type": "stream",
          "text": [
            "Moviepy - Done !\n",
            "Moviepy - video ready /content/drive/MyDrive/0._HCM_AI_Challenge_2023/Data_Process/Cut_Video/video_scenes_L03/L03_V001/video_from_17624_to_17730.mp4\n",
            "Moviepy - Building video /content/drive/MyDrive/0._HCM_AI_Challenge_2023/Data_Process/Cut_Video/video_scenes_L03/L03_V001/video_from_17731_to_17767.mp4.\n",
            "MoviePy - Writing audio in video_from_17731_to_17767TEMP_MPY_wvf_snd.mp3\n"
          ]
        },
        {
          "name": "stderr",
          "output_type": "stream",
          "text": []
        },
        {
          "name": "stdout",
          "output_type": "stream",
          "text": [
            "MoviePy - Done.\n",
            "Moviepy - Writing video /content/drive/MyDrive/0._HCM_AI_Challenge_2023/Data_Process/Cut_Video/video_scenes_L03/L03_V001/video_from_17731_to_17767.mp4\n",
            "\n"
          ]
        },
        {
          "name": "stderr",
          "output_type": "stream",
          "text": []
        },
        {
          "name": "stdout",
          "output_type": "stream",
          "text": [
            "Moviepy - Done !\n",
            "Moviepy - video ready /content/drive/MyDrive/0._HCM_AI_Challenge_2023/Data_Process/Cut_Video/video_scenes_L03/L03_V001/video_from_17731_to_17767.mp4\n",
            "Moviepy - Building video /content/drive/MyDrive/0._HCM_AI_Challenge_2023/Data_Process/Cut_Video/video_scenes_L03/L03_V001/video_from_17768_to_17829.mp4.\n",
            "MoviePy - Writing audio in video_from_17768_to_17829TEMP_MPY_wvf_snd.mp3\n"
          ]
        },
        {
          "name": "stderr",
          "output_type": "stream",
          "text": []
        },
        {
          "name": "stdout",
          "output_type": "stream",
          "text": [
            "MoviePy - Done.\n",
            "Moviepy - Writing video /content/drive/MyDrive/0._HCM_AI_Challenge_2023/Data_Process/Cut_Video/video_scenes_L03/L03_V001/video_from_17768_to_17829.mp4\n",
            "\n"
          ]
        },
        {
          "name": "stderr",
          "output_type": "stream",
          "text": []
        },
        {
          "name": "stdout",
          "output_type": "stream",
          "text": [
            "Moviepy - Done !\n",
            "Moviepy - video ready /content/drive/MyDrive/0._HCM_AI_Challenge_2023/Data_Process/Cut_Video/video_scenes_L03/L03_V001/video_from_17768_to_17829.mp4\n",
            "Moviepy - Building video /content/drive/MyDrive/0._HCM_AI_Challenge_2023/Data_Process/Cut_Video/video_scenes_L03/L03_V001/video_from_17830_to_17884.mp4.\n",
            "MoviePy - Writing audio in video_from_17830_to_17884TEMP_MPY_wvf_snd.mp3\n"
          ]
        },
        {
          "name": "stderr",
          "output_type": "stream",
          "text": []
        },
        {
          "name": "stdout",
          "output_type": "stream",
          "text": [
            "MoviePy - Done.\n",
            "Moviepy - Writing video /content/drive/MyDrive/0._HCM_AI_Challenge_2023/Data_Process/Cut_Video/video_scenes_L03/L03_V001/video_from_17830_to_17884.mp4\n",
            "\n"
          ]
        },
        {
          "name": "stderr",
          "output_type": "stream",
          "text": []
        },
        {
          "name": "stdout",
          "output_type": "stream",
          "text": [
            "Moviepy - Done !\n",
            "Moviepy - video ready /content/drive/MyDrive/0._HCM_AI_Challenge_2023/Data_Process/Cut_Video/video_scenes_L03/L03_V001/video_from_17830_to_17884.mp4\n",
            "Moviepy - Building video /content/drive/MyDrive/0._HCM_AI_Challenge_2023/Data_Process/Cut_Video/video_scenes_L03/L03_V001/video_from_17885_to_17923.mp4.\n",
            "MoviePy - Writing audio in video_from_17885_to_17923TEMP_MPY_wvf_snd.mp3\n"
          ]
        },
        {
          "name": "stderr",
          "output_type": "stream",
          "text": []
        },
        {
          "name": "stdout",
          "output_type": "stream",
          "text": [
            "MoviePy - Done.\n",
            "Moviepy - Writing video /content/drive/MyDrive/0._HCM_AI_Challenge_2023/Data_Process/Cut_Video/video_scenes_L03/L03_V001/video_from_17885_to_17923.mp4\n",
            "\n"
          ]
        },
        {
          "name": "stderr",
          "output_type": "stream",
          "text": []
        },
        {
          "name": "stdout",
          "output_type": "stream",
          "text": [
            "Moviepy - Done !\n",
            "Moviepy - video ready /content/drive/MyDrive/0._HCM_AI_Challenge_2023/Data_Process/Cut_Video/video_scenes_L03/L03_V001/video_from_17885_to_17923.mp4\n",
            "Moviepy - Building video /content/drive/MyDrive/0._HCM_AI_Challenge_2023/Data_Process/Cut_Video/video_scenes_L03/L03_V001/video_from_17924_to_17960.mp4.\n",
            "MoviePy - Writing audio in video_from_17924_to_17960TEMP_MPY_wvf_snd.mp3\n"
          ]
        },
        {
          "name": "stderr",
          "output_type": "stream",
          "text": []
        },
        {
          "name": "stdout",
          "output_type": "stream",
          "text": [
            "MoviePy - Done.\n",
            "Moviepy - Writing video /content/drive/MyDrive/0._HCM_AI_Challenge_2023/Data_Process/Cut_Video/video_scenes_L03/L03_V001/video_from_17924_to_17960.mp4\n",
            "\n"
          ]
        },
        {
          "name": "stderr",
          "output_type": "stream",
          "text": []
        },
        {
          "name": "stdout",
          "output_type": "stream",
          "text": [
            "Moviepy - Done !\n",
            "Moviepy - video ready /content/drive/MyDrive/0._HCM_AI_Challenge_2023/Data_Process/Cut_Video/video_scenes_L03/L03_V001/video_from_17924_to_17960.mp4\n",
            "Moviepy - Building video /content/drive/MyDrive/0._HCM_AI_Challenge_2023/Data_Process/Cut_Video/video_scenes_L03/L03_V001/video_from_17961_to_18235.mp4.\n",
            "MoviePy - Writing audio in video_from_17961_to_18235TEMP_MPY_wvf_snd.mp3\n"
          ]
        },
        {
          "name": "stderr",
          "output_type": "stream",
          "text": []
        },
        {
          "name": "stdout",
          "output_type": "stream",
          "text": [
            "MoviePy - Done.\n",
            "Moviepy - Writing video /content/drive/MyDrive/0._HCM_AI_Challenge_2023/Data_Process/Cut_Video/video_scenes_L03/L03_V001/video_from_17961_to_18235.mp4\n",
            "\n"
          ]
        },
        {
          "name": "stderr",
          "output_type": "stream",
          "text": []
        },
        {
          "name": "stdout",
          "output_type": "stream",
          "text": [
            "Moviepy - Done !\n",
            "Moviepy - video ready /content/drive/MyDrive/0._HCM_AI_Challenge_2023/Data_Process/Cut_Video/video_scenes_L03/L03_V001/video_from_17961_to_18235.mp4\n",
            "Moviepy - Building video /content/drive/MyDrive/0._HCM_AI_Challenge_2023/Data_Process/Cut_Video/video_scenes_L03/L03_V001/video_from_18236_to_18313.mp4.\n",
            "MoviePy - Writing audio in video_from_18236_to_18313TEMP_MPY_wvf_snd.mp3\n"
          ]
        },
        {
          "name": "stderr",
          "output_type": "stream",
          "text": []
        },
        {
          "name": "stdout",
          "output_type": "stream",
          "text": [
            "MoviePy - Done.\n",
            "Moviepy - Writing video /content/drive/MyDrive/0._HCM_AI_Challenge_2023/Data_Process/Cut_Video/video_scenes_L03/L03_V001/video_from_18236_to_18313.mp4\n",
            "\n"
          ]
        },
        {
          "name": "stderr",
          "output_type": "stream",
          "text": []
        },
        {
          "name": "stdout",
          "output_type": "stream",
          "text": [
            "Moviepy - Done !\n",
            "Moviepy - video ready /content/drive/MyDrive/0._HCM_AI_Challenge_2023/Data_Process/Cut_Video/video_scenes_L03/L03_V001/video_from_18236_to_18313.mp4\n",
            "Moviepy - Building video /content/drive/MyDrive/0._HCM_AI_Challenge_2023/Data_Process/Cut_Video/video_scenes_L03/L03_V001/video_from_18314_to_18335.mp4.\n",
            "MoviePy - Writing audio in video_from_18314_to_18335TEMP_MPY_wvf_snd.mp3\n"
          ]
        },
        {
          "name": "stderr",
          "output_type": "stream",
          "text": []
        },
        {
          "name": "stdout",
          "output_type": "stream",
          "text": [
            "MoviePy - Done.\n",
            "Moviepy - Writing video /content/drive/MyDrive/0._HCM_AI_Challenge_2023/Data_Process/Cut_Video/video_scenes_L03/L03_V001/video_from_18314_to_18335.mp4\n",
            "\n"
          ]
        },
        {
          "name": "stderr",
          "output_type": "stream",
          "text": []
        },
        {
          "name": "stdout",
          "output_type": "stream",
          "text": [
            "Moviepy - Done !\n",
            "Moviepy - video ready /content/drive/MyDrive/0._HCM_AI_Challenge_2023/Data_Process/Cut_Video/video_scenes_L03/L03_V001/video_from_18314_to_18335.mp4\n",
            "Moviepy - Building video /content/drive/MyDrive/0._HCM_AI_Challenge_2023/Data_Process/Cut_Video/video_scenes_L03/L03_V001/video_from_18336_to_18362.mp4.\n",
            "MoviePy - Writing audio in video_from_18336_to_18362TEMP_MPY_wvf_snd.mp3\n"
          ]
        },
        {
          "name": "stderr",
          "output_type": "stream",
          "text": []
        },
        {
          "name": "stdout",
          "output_type": "stream",
          "text": [
            "MoviePy - Done.\n",
            "Moviepy - Writing video /content/drive/MyDrive/0._HCM_AI_Challenge_2023/Data_Process/Cut_Video/video_scenes_L03/L03_V001/video_from_18336_to_18362.mp4\n",
            "\n"
          ]
        },
        {
          "name": "stderr",
          "output_type": "stream",
          "text": []
        },
        {
          "name": "stdout",
          "output_type": "stream",
          "text": [
            "Moviepy - Done !\n",
            "Moviepy - video ready /content/drive/MyDrive/0._HCM_AI_Challenge_2023/Data_Process/Cut_Video/video_scenes_L03/L03_V001/video_from_18336_to_18362.mp4\n",
            "Moviepy - Building video /content/drive/MyDrive/0._HCM_AI_Challenge_2023/Data_Process/Cut_Video/video_scenes_L03/L03_V001/video_from_18363_to_18429.mp4.\n",
            "MoviePy - Writing audio in video_from_18363_to_18429TEMP_MPY_wvf_snd.mp3\n"
          ]
        },
        {
          "name": "stderr",
          "output_type": "stream",
          "text": []
        },
        {
          "name": "stdout",
          "output_type": "stream",
          "text": [
            "MoviePy - Done.\n",
            "Moviepy - Writing video /content/drive/MyDrive/0._HCM_AI_Challenge_2023/Data_Process/Cut_Video/video_scenes_L03/L03_V001/video_from_18363_to_18429.mp4\n",
            "\n"
          ]
        },
        {
          "name": "stderr",
          "output_type": "stream",
          "text": []
        },
        {
          "name": "stdout",
          "output_type": "stream",
          "text": [
            "Moviepy - Done !\n",
            "Moviepy - video ready /content/drive/MyDrive/0._HCM_AI_Challenge_2023/Data_Process/Cut_Video/video_scenes_L03/L03_V001/video_from_18363_to_18429.mp4\n",
            "Moviepy - Building video /content/drive/MyDrive/0._HCM_AI_Challenge_2023/Data_Process/Cut_Video/video_scenes_L03/L03_V001/video_from_18430_to_18504.mp4.\n",
            "MoviePy - Writing audio in video_from_18430_to_18504TEMP_MPY_wvf_snd.mp3\n"
          ]
        },
        {
          "name": "stderr",
          "output_type": "stream",
          "text": []
        },
        {
          "name": "stdout",
          "output_type": "stream",
          "text": [
            "MoviePy - Done.\n",
            "Moviepy - Writing video /content/drive/MyDrive/0._HCM_AI_Challenge_2023/Data_Process/Cut_Video/video_scenes_L03/L03_V001/video_from_18430_to_18504.mp4\n",
            "\n"
          ]
        },
        {
          "name": "stderr",
          "output_type": "stream",
          "text": []
        },
        {
          "name": "stdout",
          "output_type": "stream",
          "text": [
            "Moviepy - Done !\n",
            "Moviepy - video ready /content/drive/MyDrive/0._HCM_AI_Challenge_2023/Data_Process/Cut_Video/video_scenes_L03/L03_V001/video_from_18430_to_18504.mp4\n",
            "Moviepy - Building video /content/drive/MyDrive/0._HCM_AI_Challenge_2023/Data_Process/Cut_Video/video_scenes_L03/L03_V001/video_from_18505_to_18547.mp4.\n",
            "MoviePy - Writing audio in video_from_18505_to_18547TEMP_MPY_wvf_snd.mp3\n"
          ]
        },
        {
          "name": "stderr",
          "output_type": "stream",
          "text": []
        },
        {
          "name": "stdout",
          "output_type": "stream",
          "text": [
            "MoviePy - Done.\n",
            "Moviepy - Writing video /content/drive/MyDrive/0._HCM_AI_Challenge_2023/Data_Process/Cut_Video/video_scenes_L03/L03_V001/video_from_18505_to_18547.mp4\n",
            "\n"
          ]
        },
        {
          "name": "stderr",
          "output_type": "stream",
          "text": []
        },
        {
          "name": "stdout",
          "output_type": "stream",
          "text": [
            "Moviepy - Done !\n",
            "Moviepy - video ready /content/drive/MyDrive/0._HCM_AI_Challenge_2023/Data_Process/Cut_Video/video_scenes_L03/L03_V001/video_from_18505_to_18547.mp4\n",
            "Moviepy - Building video /content/drive/MyDrive/0._HCM_AI_Challenge_2023/Data_Process/Cut_Video/video_scenes_L03/L03_V001/video_from_18548_to_18587.mp4.\n",
            "MoviePy - Writing audio in video_from_18548_to_18587TEMP_MPY_wvf_snd.mp3\n"
          ]
        },
        {
          "name": "stderr",
          "output_type": "stream",
          "text": []
        },
        {
          "name": "stdout",
          "output_type": "stream",
          "text": [
            "MoviePy - Done.\n",
            "Moviepy - Writing video /content/drive/MyDrive/0._HCM_AI_Challenge_2023/Data_Process/Cut_Video/video_scenes_L03/L03_V001/video_from_18548_to_18587.mp4\n",
            "\n"
          ]
        },
        {
          "name": "stderr",
          "output_type": "stream",
          "text": []
        },
        {
          "name": "stdout",
          "output_type": "stream",
          "text": [
            "Moviepy - Done !\n",
            "Moviepy - video ready /content/drive/MyDrive/0._HCM_AI_Challenge_2023/Data_Process/Cut_Video/video_scenes_L03/L03_V001/video_from_18548_to_18587.mp4\n",
            "Moviepy - Building video /content/drive/MyDrive/0._HCM_AI_Challenge_2023/Data_Process/Cut_Video/video_scenes_L03/L03_V001/video_from_18588_to_18661.mp4.\n",
            "MoviePy - Writing audio in video_from_18588_to_18661TEMP_MPY_wvf_snd.mp3\n"
          ]
        },
        {
          "name": "stderr",
          "output_type": "stream",
          "text": []
        },
        {
          "name": "stdout",
          "output_type": "stream",
          "text": [
            "MoviePy - Done.\n",
            "Moviepy - Writing video /content/drive/MyDrive/0._HCM_AI_Challenge_2023/Data_Process/Cut_Video/video_scenes_L03/L03_V001/video_from_18588_to_18661.mp4\n",
            "\n"
          ]
        },
        {
          "name": "stderr",
          "output_type": "stream",
          "text": []
        },
        {
          "name": "stdout",
          "output_type": "stream",
          "text": [
            "Moviepy - Done !\n",
            "Moviepy - video ready /content/drive/MyDrive/0._HCM_AI_Challenge_2023/Data_Process/Cut_Video/video_scenes_L03/L03_V001/video_from_18588_to_18661.mp4\n",
            "Moviepy - Building video /content/drive/MyDrive/0._HCM_AI_Challenge_2023/Data_Process/Cut_Video/video_scenes_L03/L03_V001/video_from_18662_to_18726.mp4.\n",
            "MoviePy - Writing audio in video_from_18662_to_18726TEMP_MPY_wvf_snd.mp3\n"
          ]
        },
        {
          "name": "stderr",
          "output_type": "stream",
          "text": []
        },
        {
          "name": "stdout",
          "output_type": "stream",
          "text": [
            "MoviePy - Done.\n",
            "Moviepy - Writing video /content/drive/MyDrive/0._HCM_AI_Challenge_2023/Data_Process/Cut_Video/video_scenes_L03/L03_V001/video_from_18662_to_18726.mp4\n",
            "\n"
          ]
        },
        {
          "name": "stderr",
          "output_type": "stream",
          "text": []
        },
        {
          "name": "stdout",
          "output_type": "stream",
          "text": [
            "Moviepy - Done !\n",
            "Moviepy - video ready /content/drive/MyDrive/0._HCM_AI_Challenge_2023/Data_Process/Cut_Video/video_scenes_L03/L03_V001/video_from_18662_to_18726.mp4\n",
            "Moviepy - Building video /content/drive/MyDrive/0._HCM_AI_Challenge_2023/Data_Process/Cut_Video/video_scenes_L03/L03_V001/video_from_18727_to_18812.mp4.\n",
            "MoviePy - Writing audio in video_from_18727_to_18812TEMP_MPY_wvf_snd.mp3\n"
          ]
        },
        {
          "name": "stderr",
          "output_type": "stream",
          "text": []
        },
        {
          "name": "stdout",
          "output_type": "stream",
          "text": [
            "MoviePy - Done.\n",
            "Moviepy - Writing video /content/drive/MyDrive/0._HCM_AI_Challenge_2023/Data_Process/Cut_Video/video_scenes_L03/L03_V001/video_from_18727_to_18812.mp4\n",
            "\n"
          ]
        },
        {
          "name": "stderr",
          "output_type": "stream",
          "text": []
        },
        {
          "name": "stdout",
          "output_type": "stream",
          "text": [
            "Moviepy - Done !\n",
            "Moviepy - video ready /content/drive/MyDrive/0._HCM_AI_Challenge_2023/Data_Process/Cut_Video/video_scenes_L03/L03_V001/video_from_18727_to_18812.mp4\n",
            "Moviepy - Building video /content/drive/MyDrive/0._HCM_AI_Challenge_2023/Data_Process/Cut_Video/video_scenes_L03/L03_V001/video_from_18813_to_18866.mp4.\n",
            "MoviePy - Writing audio in video_from_18813_to_18866TEMP_MPY_wvf_snd.mp3\n"
          ]
        },
        {
          "name": "stderr",
          "output_type": "stream",
          "text": []
        },
        {
          "name": "stdout",
          "output_type": "stream",
          "text": [
            "MoviePy - Done.\n",
            "Moviepy - Writing video /content/drive/MyDrive/0._HCM_AI_Challenge_2023/Data_Process/Cut_Video/video_scenes_L03/L03_V001/video_from_18813_to_18866.mp4\n",
            "\n"
          ]
        },
        {
          "name": "stderr",
          "output_type": "stream",
          "text": []
        },
        {
          "name": "stdout",
          "output_type": "stream",
          "text": [
            "Moviepy - Done !\n",
            "Moviepy - video ready /content/drive/MyDrive/0._HCM_AI_Challenge_2023/Data_Process/Cut_Video/video_scenes_L03/L03_V001/video_from_18813_to_18866.mp4\n",
            "Moviepy - Building video /content/drive/MyDrive/0._HCM_AI_Challenge_2023/Data_Process/Cut_Video/video_scenes_L03/L03_V001/video_from_18867_to_18911.mp4.\n",
            "MoviePy - Writing audio in video_from_18867_to_18911TEMP_MPY_wvf_snd.mp3\n"
          ]
        },
        {
          "name": "stderr",
          "output_type": "stream",
          "text": []
        },
        {
          "name": "stdout",
          "output_type": "stream",
          "text": [
            "MoviePy - Done.\n",
            "Moviepy - Writing video /content/drive/MyDrive/0._HCM_AI_Challenge_2023/Data_Process/Cut_Video/video_scenes_L03/L03_V001/video_from_18867_to_18911.mp4\n",
            "\n"
          ]
        },
        {
          "name": "stderr",
          "output_type": "stream",
          "text": []
        },
        {
          "name": "stdout",
          "output_type": "stream",
          "text": [
            "Moviepy - Done !\n",
            "Moviepy - video ready /content/drive/MyDrive/0._HCM_AI_Challenge_2023/Data_Process/Cut_Video/video_scenes_L03/L03_V001/video_from_18867_to_18911.mp4\n",
            "Moviepy - Building video /content/drive/MyDrive/0._HCM_AI_Challenge_2023/Data_Process/Cut_Video/video_scenes_L03/L03_V001/video_from_18912_to_18973.mp4.\n",
            "MoviePy - Writing audio in video_from_18912_to_18973TEMP_MPY_wvf_snd.mp3\n"
          ]
        },
        {
          "name": "stderr",
          "output_type": "stream",
          "text": []
        },
        {
          "name": "stdout",
          "output_type": "stream",
          "text": [
            "MoviePy - Done.\n",
            "Moviepy - Writing video /content/drive/MyDrive/0._HCM_AI_Challenge_2023/Data_Process/Cut_Video/video_scenes_L03/L03_V001/video_from_18912_to_18973.mp4\n",
            "\n"
          ]
        },
        {
          "name": "stderr",
          "output_type": "stream",
          "text": []
        },
        {
          "name": "stdout",
          "output_type": "stream",
          "text": [
            "Moviepy - Done !\n",
            "Moviepy - video ready /content/drive/MyDrive/0._HCM_AI_Challenge_2023/Data_Process/Cut_Video/video_scenes_L03/L03_V001/video_from_18912_to_18973.mp4\n",
            "Moviepy - Building video /content/drive/MyDrive/0._HCM_AI_Challenge_2023/Data_Process/Cut_Video/video_scenes_L03/L03_V001/video_from_18974_to_19386.mp4.\n",
            "MoviePy - Writing audio in video_from_18974_to_19386TEMP_MPY_wvf_snd.mp3\n"
          ]
        },
        {
          "name": "stderr",
          "output_type": "stream",
          "text": []
        },
        {
          "name": "stdout",
          "output_type": "stream",
          "text": [
            "MoviePy - Done.\n",
            "Moviepy - Writing video /content/drive/MyDrive/0._HCM_AI_Challenge_2023/Data_Process/Cut_Video/video_scenes_L03/L03_V001/video_from_18974_to_19386.mp4\n",
            "\n"
          ]
        },
        {
          "name": "stderr",
          "output_type": "stream",
          "text": []
        },
        {
          "name": "stdout",
          "output_type": "stream",
          "text": [
            "Moviepy - Done !\n",
            "Moviepy - video ready /content/drive/MyDrive/0._HCM_AI_Challenge_2023/Data_Process/Cut_Video/video_scenes_L03/L03_V001/video_from_18974_to_19386.mp4\n",
            "Moviepy - Building video /content/drive/MyDrive/0._HCM_AI_Challenge_2023/Data_Process/Cut_Video/video_scenes_L03/L03_V001/video_from_19387_to_19444.mp4.\n",
            "MoviePy - Writing audio in video_from_19387_to_19444TEMP_MPY_wvf_snd.mp3\n"
          ]
        },
        {
          "name": "stderr",
          "output_type": "stream",
          "text": []
        },
        {
          "name": "stdout",
          "output_type": "stream",
          "text": [
            "MoviePy - Done.\n",
            "Moviepy - Writing video /content/drive/MyDrive/0._HCM_AI_Challenge_2023/Data_Process/Cut_Video/video_scenes_L03/L03_V001/video_from_19387_to_19444.mp4\n",
            "\n"
          ]
        },
        {
          "name": "stderr",
          "output_type": "stream",
          "text": []
        },
        {
          "name": "stdout",
          "output_type": "stream",
          "text": [
            "Moviepy - Done !\n",
            "Moviepy - video ready /content/drive/MyDrive/0._HCM_AI_Challenge_2023/Data_Process/Cut_Video/video_scenes_L03/L03_V001/video_from_19387_to_19444.mp4\n",
            "Moviepy - Building video /content/drive/MyDrive/0._HCM_AI_Challenge_2023/Data_Process/Cut_Video/video_scenes_L03/L03_V001/video_from_19445_to_19523.mp4.\n",
            "MoviePy - Writing audio in video_from_19445_to_19523TEMP_MPY_wvf_snd.mp3\n"
          ]
        },
        {
          "name": "stderr",
          "output_type": "stream",
          "text": []
        },
        {
          "name": "stdout",
          "output_type": "stream",
          "text": [
            "MoviePy - Done.\n",
            "Moviepy - Writing video /content/drive/MyDrive/0._HCM_AI_Challenge_2023/Data_Process/Cut_Video/video_scenes_L03/L03_V001/video_from_19445_to_19523.mp4\n",
            "\n"
          ]
        },
        {
          "name": "stderr",
          "output_type": "stream",
          "text": []
        },
        {
          "name": "stdout",
          "output_type": "stream",
          "text": [
            "Moviepy - Done !\n",
            "Moviepy - video ready /content/drive/MyDrive/0._HCM_AI_Challenge_2023/Data_Process/Cut_Video/video_scenes_L03/L03_V001/video_from_19445_to_19523.mp4\n",
            "Moviepy - Building video /content/drive/MyDrive/0._HCM_AI_Challenge_2023/Data_Process/Cut_Video/video_scenes_L03/L03_V001/video_from_19524_to_19576.mp4.\n",
            "MoviePy - Writing audio in video_from_19524_to_19576TEMP_MPY_wvf_snd.mp3\n"
          ]
        },
        {
          "name": "stderr",
          "output_type": "stream",
          "text": []
        },
        {
          "name": "stdout",
          "output_type": "stream",
          "text": [
            "MoviePy - Done.\n",
            "Moviepy - Writing video /content/drive/MyDrive/0._HCM_AI_Challenge_2023/Data_Process/Cut_Video/video_scenes_L03/L03_V001/video_from_19524_to_19576.mp4\n",
            "\n"
          ]
        },
        {
          "name": "stderr",
          "output_type": "stream",
          "text": []
        },
        {
          "name": "stdout",
          "output_type": "stream",
          "text": [
            "Moviepy - Done !\n",
            "Moviepy - video ready /content/drive/MyDrive/0._HCM_AI_Challenge_2023/Data_Process/Cut_Video/video_scenes_L03/L03_V001/video_from_19524_to_19576.mp4\n",
            "Moviepy - Building video /content/drive/MyDrive/0._HCM_AI_Challenge_2023/Data_Process/Cut_Video/video_scenes_L03/L03_V001/video_from_19577_to_19630.mp4.\n",
            "MoviePy - Writing audio in video_from_19577_to_19630TEMP_MPY_wvf_snd.mp3\n"
          ]
        },
        {
          "name": "stderr",
          "output_type": "stream",
          "text": []
        },
        {
          "name": "stdout",
          "output_type": "stream",
          "text": [
            "MoviePy - Done.\n",
            "Moviepy - Writing video /content/drive/MyDrive/0._HCM_AI_Challenge_2023/Data_Process/Cut_Video/video_scenes_L03/L03_V001/video_from_19577_to_19630.mp4\n",
            "\n"
          ]
        },
        {
          "name": "stderr",
          "output_type": "stream",
          "text": []
        },
        {
          "name": "stdout",
          "output_type": "stream",
          "text": [
            "Moviepy - Done !\n",
            "Moviepy - video ready /content/drive/MyDrive/0._HCM_AI_Challenge_2023/Data_Process/Cut_Video/video_scenes_L03/L03_V001/video_from_19577_to_19630.mp4\n",
            "Moviepy - Building video /content/drive/MyDrive/0._HCM_AI_Challenge_2023/Data_Process/Cut_Video/video_scenes_L03/L03_V001/video_from_19631_to_19660.mp4.\n",
            "MoviePy - Writing audio in video_from_19631_to_19660TEMP_MPY_wvf_snd.mp3\n"
          ]
        },
        {
          "name": "stderr",
          "output_type": "stream",
          "text": []
        },
        {
          "name": "stdout",
          "output_type": "stream",
          "text": [
            "MoviePy - Done.\n",
            "Moviepy - Writing video /content/drive/MyDrive/0._HCM_AI_Challenge_2023/Data_Process/Cut_Video/video_scenes_L03/L03_V001/video_from_19631_to_19660.mp4\n",
            "\n"
          ]
        },
        {
          "name": "stderr",
          "output_type": "stream",
          "text": []
        },
        {
          "name": "stdout",
          "output_type": "stream",
          "text": [
            "Moviepy - Done !\n",
            "Moviepy - video ready /content/drive/MyDrive/0._HCM_AI_Challenge_2023/Data_Process/Cut_Video/video_scenes_L03/L03_V001/video_from_19631_to_19660.mp4\n",
            "Moviepy - Building video /content/drive/MyDrive/0._HCM_AI_Challenge_2023/Data_Process/Cut_Video/video_scenes_L03/L03_V001/video_from_19661_to_19710.mp4.\n",
            "MoviePy - Writing audio in video_from_19661_to_19710TEMP_MPY_wvf_snd.mp3\n"
          ]
        },
        {
          "name": "stderr",
          "output_type": "stream",
          "text": []
        },
        {
          "name": "stdout",
          "output_type": "stream",
          "text": [
            "MoviePy - Done.\n",
            "Moviepy - Writing video /content/drive/MyDrive/0._HCM_AI_Challenge_2023/Data_Process/Cut_Video/video_scenes_L03/L03_V001/video_from_19661_to_19710.mp4\n",
            "\n"
          ]
        },
        {
          "name": "stderr",
          "output_type": "stream",
          "text": []
        },
        {
          "name": "stdout",
          "output_type": "stream",
          "text": [
            "Moviepy - Done !\n",
            "Moviepy - video ready /content/drive/MyDrive/0._HCM_AI_Challenge_2023/Data_Process/Cut_Video/video_scenes_L03/L03_V001/video_from_19661_to_19710.mp4\n",
            "Moviepy - Building video /content/drive/MyDrive/0._HCM_AI_Challenge_2023/Data_Process/Cut_Video/video_scenes_L03/L03_V001/video_from_19711_to_19761.mp4.\n",
            "MoviePy - Writing audio in video_from_19711_to_19761TEMP_MPY_wvf_snd.mp3\n"
          ]
        },
        {
          "name": "stderr",
          "output_type": "stream",
          "text": []
        },
        {
          "name": "stdout",
          "output_type": "stream",
          "text": [
            "MoviePy - Done.\n",
            "Moviepy - Writing video /content/drive/MyDrive/0._HCM_AI_Challenge_2023/Data_Process/Cut_Video/video_scenes_L03/L03_V001/video_from_19711_to_19761.mp4\n",
            "\n"
          ]
        },
        {
          "name": "stderr",
          "output_type": "stream",
          "text": []
        },
        {
          "name": "stdout",
          "output_type": "stream",
          "text": [
            "Moviepy - Done !\n",
            "Moviepy - video ready /content/drive/MyDrive/0._HCM_AI_Challenge_2023/Data_Process/Cut_Video/video_scenes_L03/L03_V001/video_from_19711_to_19761.mp4\n",
            "Moviepy - Building video /content/drive/MyDrive/0._HCM_AI_Challenge_2023/Data_Process/Cut_Video/video_scenes_L03/L03_V001/video_from_19762_to_19799.mp4.\n",
            "MoviePy - Writing audio in video_from_19762_to_19799TEMP_MPY_wvf_snd.mp3\n"
          ]
        },
        {
          "name": "stderr",
          "output_type": "stream",
          "text": []
        },
        {
          "name": "stdout",
          "output_type": "stream",
          "text": [
            "MoviePy - Done.\n",
            "Moviepy - Writing video /content/drive/MyDrive/0._HCM_AI_Challenge_2023/Data_Process/Cut_Video/video_scenes_L03/L03_V001/video_from_19762_to_19799.mp4\n",
            "\n"
          ]
        },
        {
          "name": "stderr",
          "output_type": "stream",
          "text": []
        },
        {
          "name": "stdout",
          "output_type": "stream",
          "text": [
            "Moviepy - Done !\n",
            "Moviepy - video ready /content/drive/MyDrive/0._HCM_AI_Challenge_2023/Data_Process/Cut_Video/video_scenes_L03/L03_V001/video_from_19762_to_19799.mp4\n",
            "Moviepy - Building video /content/drive/MyDrive/0._HCM_AI_Challenge_2023/Data_Process/Cut_Video/video_scenes_L03/L03_V001/video_from_19800_to_19858.mp4.\n",
            "MoviePy - Writing audio in video_from_19800_to_19858TEMP_MPY_wvf_snd.mp3\n"
          ]
        },
        {
          "name": "stderr",
          "output_type": "stream",
          "text": []
        },
        {
          "name": "stdout",
          "output_type": "stream",
          "text": [
            "MoviePy - Done.\n",
            "Moviepy - Writing video /content/drive/MyDrive/0._HCM_AI_Challenge_2023/Data_Process/Cut_Video/video_scenes_L03/L03_V001/video_from_19800_to_19858.mp4\n",
            "\n"
          ]
        },
        {
          "name": "stderr",
          "output_type": "stream",
          "text": []
        },
        {
          "name": "stdout",
          "output_type": "stream",
          "text": [
            "Moviepy - Done !\n",
            "Moviepy - video ready /content/drive/MyDrive/0._HCM_AI_Challenge_2023/Data_Process/Cut_Video/video_scenes_L03/L03_V001/video_from_19800_to_19858.mp4\n",
            "Moviepy - Building video /content/drive/MyDrive/0._HCM_AI_Challenge_2023/Data_Process/Cut_Video/video_scenes_L03/L03_V001/video_from_19859_to_19919.mp4.\n",
            "MoviePy - Writing audio in video_from_19859_to_19919TEMP_MPY_wvf_snd.mp3\n"
          ]
        },
        {
          "name": "stderr",
          "output_type": "stream",
          "text": []
        },
        {
          "name": "stdout",
          "output_type": "stream",
          "text": [
            "MoviePy - Done.\n",
            "Moviepy - Writing video /content/drive/MyDrive/0._HCM_AI_Challenge_2023/Data_Process/Cut_Video/video_scenes_L03/L03_V001/video_from_19859_to_19919.mp4\n",
            "\n"
          ]
        },
        {
          "name": "stderr",
          "output_type": "stream",
          "text": []
        },
        {
          "name": "stdout",
          "output_type": "stream",
          "text": [
            "Moviepy - Done !\n",
            "Moviepy - video ready /content/drive/MyDrive/0._HCM_AI_Challenge_2023/Data_Process/Cut_Video/video_scenes_L03/L03_V001/video_from_19859_to_19919.mp4\n",
            "Moviepy - Building video /content/drive/MyDrive/0._HCM_AI_Challenge_2023/Data_Process/Cut_Video/video_scenes_L03/L03_V001/video_from_19920_to_19976.mp4.\n",
            "MoviePy - Writing audio in video_from_19920_to_19976TEMP_MPY_wvf_snd.mp3\n"
          ]
        },
        {
          "name": "stderr",
          "output_type": "stream",
          "text": []
        },
        {
          "name": "stdout",
          "output_type": "stream",
          "text": [
            "MoviePy - Done.\n",
            "Moviepy - Writing video /content/drive/MyDrive/0._HCM_AI_Challenge_2023/Data_Process/Cut_Video/video_scenes_L03/L03_V001/video_from_19920_to_19976.mp4\n",
            "\n"
          ]
        },
        {
          "name": "stderr",
          "output_type": "stream",
          "text": []
        },
        {
          "name": "stdout",
          "output_type": "stream",
          "text": [
            "Moviepy - Done !\n",
            "Moviepy - video ready /content/drive/MyDrive/0._HCM_AI_Challenge_2023/Data_Process/Cut_Video/video_scenes_L03/L03_V001/video_from_19920_to_19976.mp4\n",
            "Moviepy - Building video /content/drive/MyDrive/0._HCM_AI_Challenge_2023/Data_Process/Cut_Video/video_scenes_L03/L03_V001/video_from_19977_to_20046.mp4.\n",
            "MoviePy - Writing audio in video_from_19977_to_20046TEMP_MPY_wvf_snd.mp3\n"
          ]
        },
        {
          "name": "stderr",
          "output_type": "stream",
          "text": []
        },
        {
          "name": "stdout",
          "output_type": "stream",
          "text": [
            "MoviePy - Done.\n",
            "Moviepy - Writing video /content/drive/MyDrive/0._HCM_AI_Challenge_2023/Data_Process/Cut_Video/video_scenes_L03/L03_V001/video_from_19977_to_20046.mp4\n",
            "\n"
          ]
        },
        {
          "name": "stderr",
          "output_type": "stream",
          "text": []
        },
        {
          "name": "stdout",
          "output_type": "stream",
          "text": [
            "Moviepy - Done !\n",
            "Moviepy - video ready /content/drive/MyDrive/0._HCM_AI_Challenge_2023/Data_Process/Cut_Video/video_scenes_L03/L03_V001/video_from_19977_to_20046.mp4\n",
            "Moviepy - Building video /content/drive/MyDrive/0._HCM_AI_Challenge_2023/Data_Process/Cut_Video/video_scenes_L03/L03_V001/video_from_20047_to_20107.mp4.\n",
            "MoviePy - Writing audio in video_from_20047_to_20107TEMP_MPY_wvf_snd.mp3\n"
          ]
        },
        {
          "name": "stderr",
          "output_type": "stream",
          "text": []
        },
        {
          "name": "stdout",
          "output_type": "stream",
          "text": [
            "MoviePy - Done.\n",
            "Moviepy - Writing video /content/drive/MyDrive/0._HCM_AI_Challenge_2023/Data_Process/Cut_Video/video_scenes_L03/L03_V001/video_from_20047_to_20107.mp4\n",
            "\n"
          ]
        },
        {
          "name": "stderr",
          "output_type": "stream",
          "text": []
        },
        {
          "name": "stdout",
          "output_type": "stream",
          "text": [
            "Moviepy - Done !\n",
            "Moviepy - video ready /content/drive/MyDrive/0._HCM_AI_Challenge_2023/Data_Process/Cut_Video/video_scenes_L03/L03_V001/video_from_20047_to_20107.mp4\n",
            "Moviepy - Building video /content/drive/MyDrive/0._HCM_AI_Challenge_2023/Data_Process/Cut_Video/video_scenes_L03/L03_V001/video_from_20108_to_20182.mp4.\n",
            "MoviePy - Writing audio in video_from_20108_to_20182TEMP_MPY_wvf_snd.mp3\n"
          ]
        },
        {
          "name": "stderr",
          "output_type": "stream",
          "text": []
        },
        {
          "name": "stdout",
          "output_type": "stream",
          "text": [
            "MoviePy - Done.\n",
            "Moviepy - Writing video /content/drive/MyDrive/0._HCM_AI_Challenge_2023/Data_Process/Cut_Video/video_scenes_L03/L03_V001/video_from_20108_to_20182.mp4\n",
            "\n"
          ]
        },
        {
          "name": "stderr",
          "output_type": "stream",
          "text": []
        },
        {
          "name": "stdout",
          "output_type": "stream",
          "text": [
            "Moviepy - Done !\n",
            "Moviepy - video ready /content/drive/MyDrive/0._HCM_AI_Challenge_2023/Data_Process/Cut_Video/video_scenes_L03/L03_V001/video_from_20108_to_20182.mp4\n",
            "Moviepy - Building video /content/drive/MyDrive/0._HCM_AI_Challenge_2023/Data_Process/Cut_Video/video_scenes_L03/L03_V001/video_from_20183_to_20231.mp4.\n",
            "MoviePy - Writing audio in video_from_20183_to_20231TEMP_MPY_wvf_snd.mp3\n"
          ]
        },
        {
          "name": "stderr",
          "output_type": "stream",
          "text": []
        },
        {
          "name": "stdout",
          "output_type": "stream",
          "text": [
            "MoviePy - Done.\n",
            "Moviepy - Writing video /content/drive/MyDrive/0._HCM_AI_Challenge_2023/Data_Process/Cut_Video/video_scenes_L03/L03_V001/video_from_20183_to_20231.mp4\n",
            "\n"
          ]
        },
        {
          "name": "stderr",
          "output_type": "stream",
          "text": []
        },
        {
          "name": "stdout",
          "output_type": "stream",
          "text": [
            "Moviepy - Done !\n",
            "Moviepy - video ready /content/drive/MyDrive/0._HCM_AI_Challenge_2023/Data_Process/Cut_Video/video_scenes_L03/L03_V001/video_from_20183_to_20231.mp4\n",
            "Moviepy - Building video /content/drive/MyDrive/0._HCM_AI_Challenge_2023/Data_Process/Cut_Video/video_scenes_L03/L03_V001/video_from_20232_to_20351.mp4.\n",
            "MoviePy - Writing audio in video_from_20232_to_20351TEMP_MPY_wvf_snd.mp3\n"
          ]
        },
        {
          "name": "stderr",
          "output_type": "stream",
          "text": []
        },
        {
          "name": "stdout",
          "output_type": "stream",
          "text": [
            "MoviePy - Done.\n",
            "Moviepy - Writing video /content/drive/MyDrive/0._HCM_AI_Challenge_2023/Data_Process/Cut_Video/video_scenes_L03/L03_V001/video_from_20232_to_20351.mp4\n",
            "\n"
          ]
        },
        {
          "name": "stderr",
          "output_type": "stream",
          "text": []
        },
        {
          "name": "stdout",
          "output_type": "stream",
          "text": [
            "Moviepy - Done !\n",
            "Moviepy - video ready /content/drive/MyDrive/0._HCM_AI_Challenge_2023/Data_Process/Cut_Video/video_scenes_L03/L03_V001/video_from_20232_to_20351.mp4\n",
            "Moviepy - Building video /content/drive/MyDrive/0._HCM_AI_Challenge_2023/Data_Process/Cut_Video/video_scenes_L03/L03_V001/video_from_20352_to_20400.mp4.\n",
            "MoviePy - Writing audio in video_from_20352_to_20400TEMP_MPY_wvf_snd.mp3\n"
          ]
        },
        {
          "name": "stderr",
          "output_type": "stream",
          "text": []
        },
        {
          "name": "stdout",
          "output_type": "stream",
          "text": [
            "MoviePy - Done.\n",
            "Moviepy - Writing video /content/drive/MyDrive/0._HCM_AI_Challenge_2023/Data_Process/Cut_Video/video_scenes_L03/L03_V001/video_from_20352_to_20400.mp4\n",
            "\n"
          ]
        },
        {
          "name": "stderr",
          "output_type": "stream",
          "text": []
        },
        {
          "name": "stdout",
          "output_type": "stream",
          "text": [
            "Moviepy - Done !\n",
            "Moviepy - video ready /content/drive/MyDrive/0._HCM_AI_Challenge_2023/Data_Process/Cut_Video/video_scenes_L03/L03_V001/video_from_20352_to_20400.mp4\n",
            "Moviepy - Building video /content/drive/MyDrive/0._HCM_AI_Challenge_2023/Data_Process/Cut_Video/video_scenes_L03/L03_V001/video_from_20401_to_20420.mp4.\n",
            "MoviePy - Writing audio in video_from_20401_to_20420TEMP_MPY_wvf_snd.mp3\n"
          ]
        },
        {
          "name": "stderr",
          "output_type": "stream",
          "text": []
        },
        {
          "name": "stdout",
          "output_type": "stream",
          "text": [
            "MoviePy - Done.\n",
            "Moviepy - Writing video /content/drive/MyDrive/0._HCM_AI_Challenge_2023/Data_Process/Cut_Video/video_scenes_L03/L03_V001/video_from_20401_to_20420.mp4\n",
            "\n"
          ]
        },
        {
          "name": "stderr",
          "output_type": "stream",
          "text": []
        },
        {
          "name": "stdout",
          "output_type": "stream",
          "text": [
            "Moviepy - Done !\n",
            "Moviepy - video ready /content/drive/MyDrive/0._HCM_AI_Challenge_2023/Data_Process/Cut_Video/video_scenes_L03/L03_V001/video_from_20401_to_20420.mp4\n",
            "Moviepy - Building video /content/drive/MyDrive/0._HCM_AI_Challenge_2023/Data_Process/Cut_Video/video_scenes_L03/L03_V001/video_from_20421_to_20438.mp4.\n",
            "MoviePy - Writing audio in video_from_20421_to_20438TEMP_MPY_wvf_snd.mp3\n"
          ]
        },
        {
          "name": "stderr",
          "output_type": "stream",
          "text": []
        },
        {
          "name": "stdout",
          "output_type": "stream",
          "text": [
            "MoviePy - Done.\n",
            "Moviepy - Writing video /content/drive/MyDrive/0._HCM_AI_Challenge_2023/Data_Process/Cut_Video/video_scenes_L03/L03_V001/video_from_20421_to_20438.mp4\n",
            "\n"
          ]
        },
        {
          "name": "stderr",
          "output_type": "stream",
          "text": []
        },
        {
          "name": "stdout",
          "output_type": "stream",
          "text": [
            "Moviepy - Done !\n",
            "Moviepy - video ready /content/drive/MyDrive/0._HCM_AI_Challenge_2023/Data_Process/Cut_Video/video_scenes_L03/L03_V001/video_from_20421_to_20438.mp4\n",
            "Moviepy - Building video /content/drive/MyDrive/0._HCM_AI_Challenge_2023/Data_Process/Cut_Video/video_scenes_L03/L03_V001/video_from_20439_to_20494.mp4.\n",
            "MoviePy - Writing audio in video_from_20439_to_20494TEMP_MPY_wvf_snd.mp3\n"
          ]
        },
        {
          "name": "stderr",
          "output_type": "stream",
          "text": []
        },
        {
          "name": "stdout",
          "output_type": "stream",
          "text": [
            "MoviePy - Done.\n",
            "Moviepy - Writing video /content/drive/MyDrive/0._HCM_AI_Challenge_2023/Data_Process/Cut_Video/video_scenes_L03/L03_V001/video_from_20439_to_20494.mp4\n",
            "\n"
          ]
        },
        {
          "name": "stderr",
          "output_type": "stream",
          "text": []
        },
        {
          "name": "stdout",
          "output_type": "stream",
          "text": [
            "Moviepy - Done !\n",
            "Moviepy - video ready /content/drive/MyDrive/0._HCM_AI_Challenge_2023/Data_Process/Cut_Video/video_scenes_L03/L03_V001/video_from_20439_to_20494.mp4\n",
            "Moviepy - Building video /content/drive/MyDrive/0._HCM_AI_Challenge_2023/Data_Process/Cut_Video/video_scenes_L03/L03_V001/video_from_20495_to_20532.mp4.\n",
            "MoviePy - Writing audio in video_from_20495_to_20532TEMP_MPY_wvf_snd.mp3\n"
          ]
        },
        {
          "name": "stderr",
          "output_type": "stream",
          "text": []
        },
        {
          "name": "stdout",
          "output_type": "stream",
          "text": [
            "MoviePy - Done.\n",
            "Moviepy - Writing video /content/drive/MyDrive/0._HCM_AI_Challenge_2023/Data_Process/Cut_Video/video_scenes_L03/L03_V001/video_from_20495_to_20532.mp4\n",
            "\n"
          ]
        },
        {
          "name": "stderr",
          "output_type": "stream",
          "text": []
        },
        {
          "name": "stdout",
          "output_type": "stream",
          "text": [
            "Moviepy - Done !\n",
            "Moviepy - video ready /content/drive/MyDrive/0._HCM_AI_Challenge_2023/Data_Process/Cut_Video/video_scenes_L03/L03_V001/video_from_20495_to_20532.mp4\n",
            "Moviepy - Building video /content/drive/MyDrive/0._HCM_AI_Challenge_2023/Data_Process/Cut_Video/video_scenes_L03/L03_V001/video_from_20533_to_20572.mp4.\n",
            "MoviePy - Writing audio in video_from_20533_to_20572TEMP_MPY_wvf_snd.mp3\n"
          ]
        },
        {
          "name": "stderr",
          "output_type": "stream",
          "text": []
        },
        {
          "name": "stdout",
          "output_type": "stream",
          "text": [
            "MoviePy - Done.\n",
            "Moviepy - Writing video /content/drive/MyDrive/0._HCM_AI_Challenge_2023/Data_Process/Cut_Video/video_scenes_L03/L03_V001/video_from_20533_to_20572.mp4\n",
            "\n"
          ]
        },
        {
          "name": "stderr",
          "output_type": "stream",
          "text": []
        },
        {
          "name": "stdout",
          "output_type": "stream",
          "text": [
            "Moviepy - Done !\n",
            "Moviepy - video ready /content/drive/MyDrive/0._HCM_AI_Challenge_2023/Data_Process/Cut_Video/video_scenes_L03/L03_V001/video_from_20533_to_20572.mp4\n",
            "Moviepy - Building video /content/drive/MyDrive/0._HCM_AI_Challenge_2023/Data_Process/Cut_Video/video_scenes_L03/L03_V001/video_from_20573_to_20596.mp4.\n",
            "MoviePy - Writing audio in video_from_20573_to_20596TEMP_MPY_wvf_snd.mp3\n"
          ]
        },
        {
          "name": "stderr",
          "output_type": "stream",
          "text": []
        },
        {
          "name": "stdout",
          "output_type": "stream",
          "text": [
            "MoviePy - Done.\n",
            "Moviepy - Writing video /content/drive/MyDrive/0._HCM_AI_Challenge_2023/Data_Process/Cut_Video/video_scenes_L03/L03_V001/video_from_20573_to_20596.mp4\n",
            "\n"
          ]
        },
        {
          "name": "stderr",
          "output_type": "stream",
          "text": []
        },
        {
          "name": "stdout",
          "output_type": "stream",
          "text": [
            "Moviepy - Done !\n",
            "Moviepy - video ready /content/drive/MyDrive/0._HCM_AI_Challenge_2023/Data_Process/Cut_Video/video_scenes_L03/L03_V001/video_from_20573_to_20596.mp4\n",
            "Moviepy - Building video /content/drive/MyDrive/0._HCM_AI_Challenge_2023/Data_Process/Cut_Video/video_scenes_L03/L03_V001/video_from_20597_to_20621.mp4.\n",
            "MoviePy - Writing audio in video_from_20597_to_20621TEMP_MPY_wvf_snd.mp3\n"
          ]
        },
        {
          "name": "stderr",
          "output_type": "stream",
          "text": []
        },
        {
          "name": "stdout",
          "output_type": "stream",
          "text": [
            "MoviePy - Done.\n",
            "Moviepy - Writing video /content/drive/MyDrive/0._HCM_AI_Challenge_2023/Data_Process/Cut_Video/video_scenes_L03/L03_V001/video_from_20597_to_20621.mp4\n",
            "\n"
          ]
        },
        {
          "name": "stderr",
          "output_type": "stream",
          "text": []
        },
        {
          "name": "stdout",
          "output_type": "stream",
          "text": [
            "Moviepy - Done !\n",
            "Moviepy - video ready /content/drive/MyDrive/0._HCM_AI_Challenge_2023/Data_Process/Cut_Video/video_scenes_L03/L03_V001/video_from_20597_to_20621.mp4\n",
            "Moviepy - Building video /content/drive/MyDrive/0._HCM_AI_Challenge_2023/Data_Process/Cut_Video/video_scenes_L03/L03_V001/video_from_20622_to_20635.mp4.\n",
            "MoviePy - Writing audio in video_from_20622_to_20635TEMP_MPY_wvf_snd.mp3\n"
          ]
        },
        {
          "name": "stderr",
          "output_type": "stream",
          "text": []
        },
        {
          "name": "stdout",
          "output_type": "stream",
          "text": [
            "MoviePy - Done.\n",
            "Moviepy - Writing video /content/drive/MyDrive/0._HCM_AI_Challenge_2023/Data_Process/Cut_Video/video_scenes_L03/L03_V001/video_from_20622_to_20635.mp4\n",
            "\n"
          ]
        },
        {
          "name": "stderr",
          "output_type": "stream",
          "text": []
        },
        {
          "name": "stdout",
          "output_type": "stream",
          "text": [
            "Moviepy - Done !\n",
            "Moviepy - video ready /content/drive/MyDrive/0._HCM_AI_Challenge_2023/Data_Process/Cut_Video/video_scenes_L03/L03_V001/video_from_20622_to_20635.mp4\n",
            "Moviepy - Building video /content/drive/MyDrive/0._HCM_AI_Challenge_2023/Data_Process/Cut_Video/video_scenes_L03/L03_V001/video_from_20636_to_20689.mp4.\n",
            "MoviePy - Writing audio in video_from_20636_to_20689TEMP_MPY_wvf_snd.mp3\n"
          ]
        },
        {
          "name": "stderr",
          "output_type": "stream",
          "text": []
        },
        {
          "name": "stdout",
          "output_type": "stream",
          "text": [
            "MoviePy - Done.\n",
            "Moviepy - Writing video /content/drive/MyDrive/0._HCM_AI_Challenge_2023/Data_Process/Cut_Video/video_scenes_L03/L03_V001/video_from_20636_to_20689.mp4\n",
            "\n"
          ]
        },
        {
          "name": "stderr",
          "output_type": "stream",
          "text": []
        },
        {
          "name": "stdout",
          "output_type": "stream",
          "text": [
            "Moviepy - Done !\n",
            "Moviepy - video ready /content/drive/MyDrive/0._HCM_AI_Challenge_2023/Data_Process/Cut_Video/video_scenes_L03/L03_V001/video_from_20636_to_20689.mp4\n",
            "Moviepy - Building video /content/drive/MyDrive/0._HCM_AI_Challenge_2023/Data_Process/Cut_Video/video_scenes_L03/L03_V001/video_from_20690_to_20724.mp4.\n",
            "MoviePy - Writing audio in video_from_20690_to_20724TEMP_MPY_wvf_snd.mp3\n"
          ]
        },
        {
          "name": "stderr",
          "output_type": "stream",
          "text": []
        },
        {
          "name": "stdout",
          "output_type": "stream",
          "text": [
            "MoviePy - Done.\n",
            "Moviepy - Writing video /content/drive/MyDrive/0._HCM_AI_Challenge_2023/Data_Process/Cut_Video/video_scenes_L03/L03_V001/video_from_20690_to_20724.mp4\n",
            "\n"
          ]
        },
        {
          "name": "stderr",
          "output_type": "stream",
          "text": []
        },
        {
          "name": "stdout",
          "output_type": "stream",
          "text": [
            "Moviepy - Done !\n",
            "Moviepy - video ready /content/drive/MyDrive/0._HCM_AI_Challenge_2023/Data_Process/Cut_Video/video_scenes_L03/L03_V001/video_from_20690_to_20724.mp4\n",
            "Moviepy - Building video /content/drive/MyDrive/0._HCM_AI_Challenge_2023/Data_Process/Cut_Video/video_scenes_L03/L03_V001/video_from_20725_to_20792.mp4.\n",
            "MoviePy - Writing audio in video_from_20725_to_20792TEMP_MPY_wvf_snd.mp3\n"
          ]
        },
        {
          "name": "stderr",
          "output_type": "stream",
          "text": []
        },
        {
          "name": "stdout",
          "output_type": "stream",
          "text": [
            "MoviePy - Done.\n",
            "Moviepy - Writing video /content/drive/MyDrive/0._HCM_AI_Challenge_2023/Data_Process/Cut_Video/video_scenes_L03/L03_V001/video_from_20725_to_20792.mp4\n",
            "\n"
          ]
        },
        {
          "name": "stderr",
          "output_type": "stream",
          "text": []
        },
        {
          "name": "stdout",
          "output_type": "stream",
          "text": [
            "Moviepy - Done !\n",
            "Moviepy - video ready /content/drive/MyDrive/0._HCM_AI_Challenge_2023/Data_Process/Cut_Video/video_scenes_L03/L03_V001/video_from_20725_to_20792.mp4\n",
            "Moviepy - Building video /content/drive/MyDrive/0._HCM_AI_Challenge_2023/Data_Process/Cut_Video/video_scenes_L03/L03_V001/video_from_20793_to_21223.mp4.\n",
            "MoviePy - Writing audio in video_from_20793_to_21223TEMP_MPY_wvf_snd.mp3\n"
          ]
        },
        {
          "name": "stderr",
          "output_type": "stream",
          "text": []
        },
        {
          "name": "stdout",
          "output_type": "stream",
          "text": [
            "MoviePy - Done.\n",
            "Moviepy - Writing video /content/drive/MyDrive/0._HCM_AI_Challenge_2023/Data_Process/Cut_Video/video_scenes_L03/L03_V001/video_from_20793_to_21223.mp4\n",
            "\n"
          ]
        },
        {
          "name": "stderr",
          "output_type": "stream",
          "text": []
        },
        {
          "name": "stdout",
          "output_type": "stream",
          "text": [
            "Moviepy - Done !\n",
            "Moviepy - video ready /content/drive/MyDrive/0._HCM_AI_Challenge_2023/Data_Process/Cut_Video/video_scenes_L03/L03_V001/video_from_20793_to_21223.mp4\n",
            "Moviepy - Building video /content/drive/MyDrive/0._HCM_AI_Challenge_2023/Data_Process/Cut_Video/video_scenes_L03/L03_V001/video_from_21224_to_21293.mp4.\n",
            "MoviePy - Writing audio in video_from_21224_to_21293TEMP_MPY_wvf_snd.mp3\n"
          ]
        },
        {
          "name": "stderr",
          "output_type": "stream",
          "text": []
        },
        {
          "name": "stdout",
          "output_type": "stream",
          "text": [
            "MoviePy - Done.\n",
            "Moviepy - Writing video /content/drive/MyDrive/0._HCM_AI_Challenge_2023/Data_Process/Cut_Video/video_scenes_L03/L03_V001/video_from_21224_to_21293.mp4\n",
            "\n"
          ]
        },
        {
          "name": "stderr",
          "output_type": "stream",
          "text": []
        },
        {
          "name": "stdout",
          "output_type": "stream",
          "text": [
            "Moviepy - Done !\n",
            "Moviepy - video ready /content/drive/MyDrive/0._HCM_AI_Challenge_2023/Data_Process/Cut_Video/video_scenes_L03/L03_V001/video_from_21224_to_21293.mp4\n",
            "Moviepy - Building video /content/drive/MyDrive/0._HCM_AI_Challenge_2023/Data_Process/Cut_Video/video_scenes_L03/L03_V001/video_from_21294_to_21340.mp4.\n",
            "MoviePy - Writing audio in video_from_21294_to_21340TEMP_MPY_wvf_snd.mp3\n"
          ]
        },
        {
          "name": "stderr",
          "output_type": "stream",
          "text": []
        },
        {
          "name": "stdout",
          "output_type": "stream",
          "text": [
            "MoviePy - Done.\n",
            "Moviepy - Writing video /content/drive/MyDrive/0._HCM_AI_Challenge_2023/Data_Process/Cut_Video/video_scenes_L03/L03_V001/video_from_21294_to_21340.mp4\n",
            "\n"
          ]
        },
        {
          "name": "stderr",
          "output_type": "stream",
          "text": []
        },
        {
          "name": "stdout",
          "output_type": "stream",
          "text": [
            "Moviepy - Done !\n",
            "Moviepy - video ready /content/drive/MyDrive/0._HCM_AI_Challenge_2023/Data_Process/Cut_Video/video_scenes_L03/L03_V001/video_from_21294_to_21340.mp4\n",
            "Moviepy - Building video /content/drive/MyDrive/0._HCM_AI_Challenge_2023/Data_Process/Cut_Video/video_scenes_L03/L03_V001/video_from_21341_to_21390.mp4.\n",
            "MoviePy - Writing audio in video_from_21341_to_21390TEMP_MPY_wvf_snd.mp3\n"
          ]
        },
        {
          "name": "stderr",
          "output_type": "stream",
          "text": []
        },
        {
          "name": "stdout",
          "output_type": "stream",
          "text": [
            "MoviePy - Done.\n",
            "Moviepy - Writing video /content/drive/MyDrive/0._HCM_AI_Challenge_2023/Data_Process/Cut_Video/video_scenes_L03/L03_V001/video_from_21341_to_21390.mp4\n",
            "\n"
          ]
        },
        {
          "name": "stderr",
          "output_type": "stream",
          "text": []
        },
        {
          "name": "stdout",
          "output_type": "stream",
          "text": [
            "Moviepy - Done !\n",
            "Moviepy - video ready /content/drive/MyDrive/0._HCM_AI_Challenge_2023/Data_Process/Cut_Video/video_scenes_L03/L03_V001/video_from_21341_to_21390.mp4\n",
            "Moviepy - Building video /content/drive/MyDrive/0._HCM_AI_Challenge_2023/Data_Process/Cut_Video/video_scenes_L03/L03_V001/video_from_21391_to_21444.mp4.\n",
            "MoviePy - Writing audio in video_from_21391_to_21444TEMP_MPY_wvf_snd.mp3\n"
          ]
        },
        {
          "name": "stderr",
          "output_type": "stream",
          "text": []
        },
        {
          "name": "stdout",
          "output_type": "stream",
          "text": [
            "MoviePy - Done.\n",
            "Moviepy - Writing video /content/drive/MyDrive/0._HCM_AI_Challenge_2023/Data_Process/Cut_Video/video_scenes_L03/L03_V001/video_from_21391_to_21444.mp4\n",
            "\n"
          ]
        },
        {
          "name": "stderr",
          "output_type": "stream",
          "text": []
        },
        {
          "name": "stdout",
          "output_type": "stream",
          "text": [
            "Moviepy - Done !\n",
            "Moviepy - video ready /content/drive/MyDrive/0._HCM_AI_Challenge_2023/Data_Process/Cut_Video/video_scenes_L03/L03_V001/video_from_21391_to_21444.mp4\n",
            "Moviepy - Building video /content/drive/MyDrive/0._HCM_AI_Challenge_2023/Data_Process/Cut_Video/video_scenes_L03/L03_V001/video_from_21445_to_21489.mp4.\n",
            "MoviePy - Writing audio in video_from_21445_to_21489TEMP_MPY_wvf_snd.mp3\n"
          ]
        },
        {
          "name": "stderr",
          "output_type": "stream",
          "text": []
        },
        {
          "name": "stdout",
          "output_type": "stream",
          "text": [
            "MoviePy - Done.\n",
            "Moviepy - Writing video /content/drive/MyDrive/0._HCM_AI_Challenge_2023/Data_Process/Cut_Video/video_scenes_L03/L03_V001/video_from_21445_to_21489.mp4\n",
            "\n"
          ]
        },
        {
          "name": "stderr",
          "output_type": "stream",
          "text": []
        },
        {
          "name": "stdout",
          "output_type": "stream",
          "text": [
            "Moviepy - Done !\n",
            "Moviepy - video ready /content/drive/MyDrive/0._HCM_AI_Challenge_2023/Data_Process/Cut_Video/video_scenes_L03/L03_V001/video_from_21445_to_21489.mp4\n",
            "Moviepy - Building video /content/drive/MyDrive/0._HCM_AI_Challenge_2023/Data_Process/Cut_Video/video_scenes_L03/L03_V001/video_from_21490_to_21558.mp4.\n",
            "MoviePy - Writing audio in video_from_21490_to_21558TEMP_MPY_wvf_snd.mp3\n"
          ]
        },
        {
          "name": "stderr",
          "output_type": "stream",
          "text": []
        },
        {
          "name": "stdout",
          "output_type": "stream",
          "text": [
            "MoviePy - Done.\n",
            "Moviepy - Writing video /content/drive/MyDrive/0._HCM_AI_Challenge_2023/Data_Process/Cut_Video/video_scenes_L03/L03_V001/video_from_21490_to_21558.mp4\n",
            "\n"
          ]
        },
        {
          "name": "stderr",
          "output_type": "stream",
          "text": []
        },
        {
          "name": "stdout",
          "output_type": "stream",
          "text": [
            "Moviepy - Done !\n",
            "Moviepy - video ready /content/drive/MyDrive/0._HCM_AI_Challenge_2023/Data_Process/Cut_Video/video_scenes_L03/L03_V001/video_from_21490_to_21558.mp4\n",
            "Moviepy - Building video /content/drive/MyDrive/0._HCM_AI_Challenge_2023/Data_Process/Cut_Video/video_scenes_L03/L03_V001/video_from_21559_to_21615.mp4.\n",
            "MoviePy - Writing audio in video_from_21559_to_21615TEMP_MPY_wvf_snd.mp3\n"
          ]
        },
        {
          "name": "stderr",
          "output_type": "stream",
          "text": []
        },
        {
          "name": "stdout",
          "output_type": "stream",
          "text": [
            "MoviePy - Done.\n",
            "Moviepy - Writing video /content/drive/MyDrive/0._HCM_AI_Challenge_2023/Data_Process/Cut_Video/video_scenes_L03/L03_V001/video_from_21559_to_21615.mp4\n",
            "\n"
          ]
        },
        {
          "name": "stderr",
          "output_type": "stream",
          "text": []
        },
        {
          "name": "stdout",
          "output_type": "stream",
          "text": [
            "Moviepy - Done !\n",
            "Moviepy - video ready /content/drive/MyDrive/0._HCM_AI_Challenge_2023/Data_Process/Cut_Video/video_scenes_L03/L03_V001/video_from_21559_to_21615.mp4\n",
            "Moviepy - Building video /content/drive/MyDrive/0._HCM_AI_Challenge_2023/Data_Process/Cut_Video/video_scenes_L03/L03_V001/video_from_21616_to_21635.mp4.\n",
            "MoviePy - Writing audio in video_from_21616_to_21635TEMP_MPY_wvf_snd.mp3\n"
          ]
        },
        {
          "name": "stderr",
          "output_type": "stream",
          "text": []
        },
        {
          "name": "stdout",
          "output_type": "stream",
          "text": [
            "MoviePy - Done.\n",
            "Moviepy - Writing video /content/drive/MyDrive/0._HCM_AI_Challenge_2023/Data_Process/Cut_Video/video_scenes_L03/L03_V001/video_from_21616_to_21635.mp4\n",
            "\n"
          ]
        },
        {
          "name": "stderr",
          "output_type": "stream",
          "text": []
        },
        {
          "name": "stdout",
          "output_type": "stream",
          "text": [
            "Moviepy - Done !\n",
            "Moviepy - video ready /content/drive/MyDrive/0._HCM_AI_Challenge_2023/Data_Process/Cut_Video/video_scenes_L03/L03_V001/video_from_21616_to_21635.mp4\n",
            "Moviepy - Building video /content/drive/MyDrive/0._HCM_AI_Challenge_2023/Data_Process/Cut_Video/video_scenes_L03/L03_V001/video_from_21636_to_21677.mp4.\n",
            "MoviePy - Writing audio in video_from_21636_to_21677TEMP_MPY_wvf_snd.mp3\n"
          ]
        },
        {
          "name": "stderr",
          "output_type": "stream",
          "text": []
        },
        {
          "name": "stdout",
          "output_type": "stream",
          "text": [
            "MoviePy - Done.\n",
            "Moviepy - Writing video /content/drive/MyDrive/0._HCM_AI_Challenge_2023/Data_Process/Cut_Video/video_scenes_L03/L03_V001/video_from_21636_to_21677.mp4\n",
            "\n"
          ]
        },
        {
          "name": "stderr",
          "output_type": "stream",
          "text": []
        },
        {
          "name": "stdout",
          "output_type": "stream",
          "text": [
            "Moviepy - Done !\n",
            "Moviepy - video ready /content/drive/MyDrive/0._HCM_AI_Challenge_2023/Data_Process/Cut_Video/video_scenes_L03/L03_V001/video_from_21636_to_21677.mp4\n",
            "Moviepy - Building video /content/drive/MyDrive/0._HCM_AI_Challenge_2023/Data_Process/Cut_Video/video_scenes_L03/L03_V001/video_from_21678_to_21723.mp4.\n",
            "MoviePy - Writing audio in video_from_21678_to_21723TEMP_MPY_wvf_snd.mp3\n"
          ]
        },
        {
          "name": "stderr",
          "output_type": "stream",
          "text": []
        },
        {
          "name": "stdout",
          "output_type": "stream",
          "text": [
            "MoviePy - Done.\n",
            "Moviepy - Writing video /content/drive/MyDrive/0._HCM_AI_Challenge_2023/Data_Process/Cut_Video/video_scenes_L03/L03_V001/video_from_21678_to_21723.mp4\n",
            "\n"
          ]
        },
        {
          "name": "stderr",
          "output_type": "stream",
          "text": []
        },
        {
          "name": "stdout",
          "output_type": "stream",
          "text": [
            "Moviepy - Done !\n",
            "Moviepy - video ready /content/drive/MyDrive/0._HCM_AI_Challenge_2023/Data_Process/Cut_Video/video_scenes_L03/L03_V001/video_from_21678_to_21723.mp4\n",
            "Moviepy - Building video /content/drive/MyDrive/0._HCM_AI_Challenge_2023/Data_Process/Cut_Video/video_scenes_L03/L03_V001/video_from_21724_to_21763.mp4.\n",
            "MoviePy - Writing audio in video_from_21724_to_21763TEMP_MPY_wvf_snd.mp3\n"
          ]
        },
        {
          "name": "stderr",
          "output_type": "stream",
          "text": []
        },
        {
          "name": "stdout",
          "output_type": "stream",
          "text": [
            "MoviePy - Done.\n",
            "Moviepy - Writing video /content/drive/MyDrive/0._HCM_AI_Challenge_2023/Data_Process/Cut_Video/video_scenes_L03/L03_V001/video_from_21724_to_21763.mp4\n",
            "\n"
          ]
        },
        {
          "name": "stderr",
          "output_type": "stream",
          "text": []
        },
        {
          "name": "stdout",
          "output_type": "stream",
          "text": [
            "Moviepy - Done !\n",
            "Moviepy - video ready /content/drive/MyDrive/0._HCM_AI_Challenge_2023/Data_Process/Cut_Video/video_scenes_L03/L03_V001/video_from_21724_to_21763.mp4\n",
            "Moviepy - Building video /content/drive/MyDrive/0._HCM_AI_Challenge_2023/Data_Process/Cut_Video/video_scenes_L03/L03_V001/video_from_21764_to_21837.mp4.\n",
            "MoviePy - Writing audio in video_from_21764_to_21837TEMP_MPY_wvf_snd.mp3\n"
          ]
        },
        {
          "name": "stderr",
          "output_type": "stream",
          "text": []
        },
        {
          "name": "stdout",
          "output_type": "stream",
          "text": [
            "MoviePy - Done.\n",
            "Moviepy - Writing video /content/drive/MyDrive/0._HCM_AI_Challenge_2023/Data_Process/Cut_Video/video_scenes_L03/L03_V001/video_from_21764_to_21837.mp4\n",
            "\n"
          ]
        },
        {
          "name": "stderr",
          "output_type": "stream",
          "text": []
        },
        {
          "name": "stdout",
          "output_type": "stream",
          "text": [
            "Moviepy - Done !\n",
            "Moviepy - video ready /content/drive/MyDrive/0._HCM_AI_Challenge_2023/Data_Process/Cut_Video/video_scenes_L03/L03_V001/video_from_21764_to_21837.mp4\n",
            "Moviepy - Building video /content/drive/MyDrive/0._HCM_AI_Challenge_2023/Data_Process/Cut_Video/video_scenes_L03/L03_V001/video_from_21838_to_21885.mp4.\n",
            "MoviePy - Writing audio in video_from_21838_to_21885TEMP_MPY_wvf_snd.mp3\n"
          ]
        },
        {
          "name": "stderr",
          "output_type": "stream",
          "text": []
        },
        {
          "name": "stdout",
          "output_type": "stream",
          "text": [
            "MoviePy - Done.\n",
            "Moviepy - Writing video /content/drive/MyDrive/0._HCM_AI_Challenge_2023/Data_Process/Cut_Video/video_scenes_L03/L03_V001/video_from_21838_to_21885.mp4\n",
            "\n"
          ]
        },
        {
          "name": "stderr",
          "output_type": "stream",
          "text": []
        },
        {
          "name": "stdout",
          "output_type": "stream",
          "text": [
            "Moviepy - Done !\n",
            "Moviepy - video ready /content/drive/MyDrive/0._HCM_AI_Challenge_2023/Data_Process/Cut_Video/video_scenes_L03/L03_V001/video_from_21838_to_21885.mp4\n",
            "Moviepy - Building video /content/drive/MyDrive/0._HCM_AI_Challenge_2023/Data_Process/Cut_Video/video_scenes_L03/L03_V001/video_from_21886_to_21948.mp4.\n",
            "MoviePy - Writing audio in video_from_21886_to_21948TEMP_MPY_wvf_snd.mp3\n"
          ]
        },
        {
          "name": "stderr",
          "output_type": "stream",
          "text": []
        },
        {
          "name": "stdout",
          "output_type": "stream",
          "text": [
            "MoviePy - Done.\n",
            "Moviepy - Writing video /content/drive/MyDrive/0._HCM_AI_Challenge_2023/Data_Process/Cut_Video/video_scenes_L03/L03_V001/video_from_21886_to_21948.mp4\n",
            "\n"
          ]
        },
        {
          "name": "stderr",
          "output_type": "stream",
          "text": []
        },
        {
          "name": "stdout",
          "output_type": "stream",
          "text": [
            "Moviepy - Done !\n",
            "Moviepy - video ready /content/drive/MyDrive/0._HCM_AI_Challenge_2023/Data_Process/Cut_Video/video_scenes_L03/L03_V001/video_from_21886_to_21948.mp4\n",
            "Moviepy - Building video /content/drive/MyDrive/0._HCM_AI_Challenge_2023/Data_Process/Cut_Video/video_scenes_L03/L03_V001/video_from_21949_to_21999.mp4.\n",
            "MoviePy - Writing audio in video_from_21949_to_21999TEMP_MPY_wvf_snd.mp3\n"
          ]
        },
        {
          "name": "stderr",
          "output_type": "stream",
          "text": []
        },
        {
          "name": "stdout",
          "output_type": "stream",
          "text": [
            "MoviePy - Done.\n",
            "Moviepy - Writing video /content/drive/MyDrive/0._HCM_AI_Challenge_2023/Data_Process/Cut_Video/video_scenes_L03/L03_V001/video_from_21949_to_21999.mp4\n",
            "\n"
          ]
        },
        {
          "name": "stderr",
          "output_type": "stream",
          "text": []
        },
        {
          "name": "stdout",
          "output_type": "stream",
          "text": [
            "Moviepy - Done !\n",
            "Moviepy - video ready /content/drive/MyDrive/0._HCM_AI_Challenge_2023/Data_Process/Cut_Video/video_scenes_L03/L03_V001/video_from_21949_to_21999.mp4\n",
            "Moviepy - Building video /content/drive/MyDrive/0._HCM_AI_Challenge_2023/Data_Process/Cut_Video/video_scenes_L03/L03_V001/video_from_22000_to_22033.mp4.\n",
            "MoviePy - Writing audio in video_from_22000_to_22033TEMP_MPY_wvf_snd.mp3\n"
          ]
        },
        {
          "name": "stderr",
          "output_type": "stream",
          "text": []
        },
        {
          "name": "stdout",
          "output_type": "stream",
          "text": [
            "MoviePy - Done.\n",
            "Moviepy - Writing video /content/drive/MyDrive/0._HCM_AI_Challenge_2023/Data_Process/Cut_Video/video_scenes_L03/L03_V001/video_from_22000_to_22033.mp4\n",
            "\n"
          ]
        },
        {
          "name": "stderr",
          "output_type": "stream",
          "text": []
        },
        {
          "name": "stdout",
          "output_type": "stream",
          "text": [
            "Moviepy - Done !\n",
            "Moviepy - video ready /content/drive/MyDrive/0._HCM_AI_Challenge_2023/Data_Process/Cut_Video/video_scenes_L03/L03_V001/video_from_22000_to_22033.mp4\n",
            "Moviepy - Building video /content/drive/MyDrive/0._HCM_AI_Challenge_2023/Data_Process/Cut_Video/video_scenes_L03/L03_V001/video_from_22034_to_22070.mp4.\n",
            "MoviePy - Writing audio in video_from_22034_to_22070TEMP_MPY_wvf_snd.mp3\n"
          ]
        },
        {
          "name": "stderr",
          "output_type": "stream",
          "text": []
        },
        {
          "name": "stdout",
          "output_type": "stream",
          "text": [
            "MoviePy - Done.\n",
            "Moviepy - Writing video /content/drive/MyDrive/0._HCM_AI_Challenge_2023/Data_Process/Cut_Video/video_scenes_L03/L03_V001/video_from_22034_to_22070.mp4\n",
            "\n"
          ]
        },
        {
          "name": "stderr",
          "output_type": "stream",
          "text": []
        },
        {
          "name": "stdout",
          "output_type": "stream",
          "text": [
            "Moviepy - Done !\n",
            "Moviepy - video ready /content/drive/MyDrive/0._HCM_AI_Challenge_2023/Data_Process/Cut_Video/video_scenes_L03/L03_V001/video_from_22034_to_22070.mp4\n",
            "Moviepy - Building video /content/drive/MyDrive/0._HCM_AI_Challenge_2023/Data_Process/Cut_Video/video_scenes_L03/L03_V001/video_from_22071_to_22090.mp4.\n",
            "MoviePy - Writing audio in video_from_22071_to_22090TEMP_MPY_wvf_snd.mp3\n"
          ]
        },
        {
          "name": "stderr",
          "output_type": "stream",
          "text": []
        },
        {
          "name": "stdout",
          "output_type": "stream",
          "text": [
            "MoviePy - Done.\n",
            "Moviepy - Writing video /content/drive/MyDrive/0._HCM_AI_Challenge_2023/Data_Process/Cut_Video/video_scenes_L03/L03_V001/video_from_22071_to_22090.mp4\n",
            "\n"
          ]
        },
        {
          "name": "stderr",
          "output_type": "stream",
          "text": []
        },
        {
          "name": "stdout",
          "output_type": "stream",
          "text": [
            "Moviepy - Done !\n",
            "Moviepy - video ready /content/drive/MyDrive/0._HCM_AI_Challenge_2023/Data_Process/Cut_Video/video_scenes_L03/L03_V001/video_from_22071_to_22090.mp4\n",
            "Moviepy - Building video /content/drive/MyDrive/0._HCM_AI_Challenge_2023/Data_Process/Cut_Video/video_scenes_L03/L03_V001/video_from_22091_to_22236.mp4.\n",
            "MoviePy - Writing audio in video_from_22091_to_22236TEMP_MPY_wvf_snd.mp3\n"
          ]
        },
        {
          "name": "stderr",
          "output_type": "stream",
          "text": []
        },
        {
          "name": "stdout",
          "output_type": "stream",
          "text": [
            "MoviePy - Done.\n",
            "Moviepy - Writing video /content/drive/MyDrive/0._HCM_AI_Challenge_2023/Data_Process/Cut_Video/video_scenes_L03/L03_V001/video_from_22091_to_22236.mp4\n",
            "\n"
          ]
        },
        {
          "name": "stderr",
          "output_type": "stream",
          "text": []
        },
        {
          "name": "stdout",
          "output_type": "stream",
          "text": [
            "Moviepy - Done !\n",
            "Moviepy - video ready /content/drive/MyDrive/0._HCM_AI_Challenge_2023/Data_Process/Cut_Video/video_scenes_L03/L03_V001/video_from_22091_to_22236.mp4\n",
            "Moviepy - Building video /content/drive/MyDrive/0._HCM_AI_Challenge_2023/Data_Process/Cut_Video/video_scenes_L03/L03_V001/video_from_22237_to_22330.mp4.\n",
            "MoviePy - Writing audio in video_from_22237_to_22330TEMP_MPY_wvf_snd.mp3\n"
          ]
        },
        {
          "name": "stderr",
          "output_type": "stream",
          "text": []
        },
        {
          "name": "stdout",
          "output_type": "stream",
          "text": [
            "MoviePy - Done.\n",
            "Moviepy - Writing video /content/drive/MyDrive/0._HCM_AI_Challenge_2023/Data_Process/Cut_Video/video_scenes_L03/L03_V001/video_from_22237_to_22330.mp4\n",
            "\n"
          ]
        },
        {
          "name": "stderr",
          "output_type": "stream",
          "text": []
        },
        {
          "name": "stdout",
          "output_type": "stream",
          "text": [
            "Moviepy - Done !\n",
            "Moviepy - video ready /content/drive/MyDrive/0._HCM_AI_Challenge_2023/Data_Process/Cut_Video/video_scenes_L03/L03_V001/video_from_22237_to_22330.mp4\n",
            "Moviepy - Building video /content/drive/MyDrive/0._HCM_AI_Challenge_2023/Data_Process/Cut_Video/video_scenes_L03/L03_V001/video_from_22331_to_22456.mp4.\n",
            "MoviePy - Writing audio in video_from_22331_to_22456TEMP_MPY_wvf_snd.mp3\n"
          ]
        },
        {
          "name": "stderr",
          "output_type": "stream",
          "text": []
        },
        {
          "name": "stdout",
          "output_type": "stream",
          "text": [
            "MoviePy - Done.\n",
            "Moviepy - Writing video /content/drive/MyDrive/0._HCM_AI_Challenge_2023/Data_Process/Cut_Video/video_scenes_L03/L03_V001/video_from_22331_to_22456.mp4\n",
            "\n"
          ]
        },
        {
          "name": "stderr",
          "output_type": "stream",
          "text": []
        },
        {
          "name": "stdout",
          "output_type": "stream",
          "text": [
            "Moviepy - Done !\n",
            "Moviepy - video ready /content/drive/MyDrive/0._HCM_AI_Challenge_2023/Data_Process/Cut_Video/video_scenes_L03/L03_V001/video_from_22331_to_22456.mp4\n",
            "Moviepy - Building video /content/drive/MyDrive/0._HCM_AI_Challenge_2023/Data_Process/Cut_Video/video_scenes_L03/L03_V001/video_from_22457_to_22476.mp4.\n",
            "MoviePy - Writing audio in video_from_22457_to_22476TEMP_MPY_wvf_snd.mp3\n"
          ]
        },
        {
          "name": "stderr",
          "output_type": "stream",
          "text": []
        },
        {
          "name": "stdout",
          "output_type": "stream",
          "text": [
            "MoviePy - Done.\n",
            "Moviepy - Writing video /content/drive/MyDrive/0._HCM_AI_Challenge_2023/Data_Process/Cut_Video/video_scenes_L03/L03_V001/video_from_22457_to_22476.mp4\n",
            "\n"
          ]
        },
        {
          "name": "stderr",
          "output_type": "stream",
          "text": []
        },
        {
          "name": "stdout",
          "output_type": "stream",
          "text": [
            "Moviepy - Done !\n",
            "Moviepy - video ready /content/drive/MyDrive/0._HCM_AI_Challenge_2023/Data_Process/Cut_Video/video_scenes_L03/L03_V001/video_from_22457_to_22476.mp4\n",
            "Moviepy - Building video /content/drive/MyDrive/0._HCM_AI_Challenge_2023/Data_Process/Cut_Video/video_scenes_L03/L03_V001/video_from_22477_to_22502.mp4.\n",
            "MoviePy - Writing audio in video_from_22477_to_22502TEMP_MPY_wvf_snd.mp3\n"
          ]
        },
        {
          "name": "stderr",
          "output_type": "stream",
          "text": []
        },
        {
          "name": "stdout",
          "output_type": "stream",
          "text": [
            "MoviePy - Done.\n",
            "Moviepy - Writing video /content/drive/MyDrive/0._HCM_AI_Challenge_2023/Data_Process/Cut_Video/video_scenes_L03/L03_V001/video_from_22477_to_22502.mp4\n",
            "\n"
          ]
        },
        {
          "name": "stderr",
          "output_type": "stream",
          "text": []
        },
        {
          "name": "stdout",
          "output_type": "stream",
          "text": [
            "Moviepy - Done !\n",
            "Moviepy - video ready /content/drive/MyDrive/0._HCM_AI_Challenge_2023/Data_Process/Cut_Video/video_scenes_L03/L03_V001/video_from_22477_to_22502.mp4\n",
            "Moviepy - Building video /content/drive/MyDrive/0._HCM_AI_Challenge_2023/Data_Process/Cut_Video/video_scenes_L03/L03_V001/video_from_22503_to_22521.mp4.\n",
            "MoviePy - Writing audio in video_from_22503_to_22521TEMP_MPY_wvf_snd.mp3\n"
          ]
        },
        {
          "name": "stderr",
          "output_type": "stream",
          "text": []
        },
        {
          "name": "stdout",
          "output_type": "stream",
          "text": [
            "MoviePy - Done.\n",
            "Moviepy - Writing video /content/drive/MyDrive/0._HCM_AI_Challenge_2023/Data_Process/Cut_Video/video_scenes_L03/L03_V001/video_from_22503_to_22521.mp4\n",
            "\n"
          ]
        },
        {
          "name": "stderr",
          "output_type": "stream",
          "text": []
        },
        {
          "name": "stdout",
          "output_type": "stream",
          "text": [
            "Moviepy - Done !\n",
            "Moviepy - video ready /content/drive/MyDrive/0._HCM_AI_Challenge_2023/Data_Process/Cut_Video/video_scenes_L03/L03_V001/video_from_22503_to_22521.mp4\n",
            "Moviepy - Building video /content/drive/MyDrive/0._HCM_AI_Challenge_2023/Data_Process/Cut_Video/video_scenes_L03/L03_V001/video_from_22522_to_22573.mp4.\n",
            "MoviePy - Writing audio in video_from_22522_to_22573TEMP_MPY_wvf_snd.mp3\n"
          ]
        },
        {
          "name": "stderr",
          "output_type": "stream",
          "text": []
        },
        {
          "name": "stdout",
          "output_type": "stream",
          "text": [
            "MoviePy - Done.\n",
            "Moviepy - Writing video /content/drive/MyDrive/0._HCM_AI_Challenge_2023/Data_Process/Cut_Video/video_scenes_L03/L03_V001/video_from_22522_to_22573.mp4\n",
            "\n"
          ]
        },
        {
          "name": "stderr",
          "output_type": "stream",
          "text": []
        },
        {
          "name": "stdout",
          "output_type": "stream",
          "text": [
            "Moviepy - Done !\n",
            "Moviepy - video ready /content/drive/MyDrive/0._HCM_AI_Challenge_2023/Data_Process/Cut_Video/video_scenes_L03/L03_V001/video_from_22522_to_22573.mp4\n",
            "Moviepy - Building video /content/drive/MyDrive/0._HCM_AI_Challenge_2023/Data_Process/Cut_Video/video_scenes_L03/L03_V001/video_from_22574_to_22607.mp4.\n",
            "MoviePy - Writing audio in video_from_22574_to_22607TEMP_MPY_wvf_snd.mp3\n"
          ]
        },
        {
          "name": "stderr",
          "output_type": "stream",
          "text": []
        },
        {
          "name": "stdout",
          "output_type": "stream",
          "text": [
            "MoviePy - Done.\n",
            "Moviepy - Writing video /content/drive/MyDrive/0._HCM_AI_Challenge_2023/Data_Process/Cut_Video/video_scenes_L03/L03_V001/video_from_22574_to_22607.mp4\n",
            "\n"
          ]
        },
        {
          "name": "stderr",
          "output_type": "stream",
          "text": []
        },
        {
          "name": "stdout",
          "output_type": "stream",
          "text": [
            "Moviepy - Done !\n",
            "Moviepy - video ready /content/drive/MyDrive/0._HCM_AI_Challenge_2023/Data_Process/Cut_Video/video_scenes_L03/L03_V001/video_from_22574_to_22607.mp4\n",
            "Moviepy - Building video /content/drive/MyDrive/0._HCM_AI_Challenge_2023/Data_Process/Cut_Video/video_scenes_L03/L03_V001/video_from_22608_to_22682.mp4.\n",
            "MoviePy - Writing audio in video_from_22608_to_22682TEMP_MPY_wvf_snd.mp3\n"
          ]
        },
        {
          "name": "stderr",
          "output_type": "stream",
          "text": []
        },
        {
          "name": "stdout",
          "output_type": "stream",
          "text": [
            "MoviePy - Done.\n",
            "Moviepy - Writing video /content/drive/MyDrive/0._HCM_AI_Challenge_2023/Data_Process/Cut_Video/video_scenes_L03/L03_V001/video_from_22608_to_22682.mp4\n",
            "\n"
          ]
        },
        {
          "name": "stderr",
          "output_type": "stream",
          "text": []
        },
        {
          "name": "stdout",
          "output_type": "stream",
          "text": [
            "Moviepy - Done !\n",
            "Moviepy - video ready /content/drive/MyDrive/0._HCM_AI_Challenge_2023/Data_Process/Cut_Video/video_scenes_L03/L03_V001/video_from_22608_to_22682.mp4\n",
            "Moviepy - Building video /content/drive/MyDrive/0._HCM_AI_Challenge_2023/Data_Process/Cut_Video/video_scenes_L03/L03_V001/video_from_22683_to_22811.mp4.\n",
            "MoviePy - Writing audio in video_from_22683_to_22811TEMP_MPY_wvf_snd.mp3\n"
          ]
        },
        {
          "name": "stderr",
          "output_type": "stream",
          "text": []
        },
        {
          "name": "stdout",
          "output_type": "stream",
          "text": [
            "MoviePy - Done.\n",
            "Moviepy - Writing video /content/drive/MyDrive/0._HCM_AI_Challenge_2023/Data_Process/Cut_Video/video_scenes_L03/L03_V001/video_from_22683_to_22811.mp4\n",
            "\n"
          ]
        },
        {
          "name": "stderr",
          "output_type": "stream",
          "text": []
        },
        {
          "name": "stdout",
          "output_type": "stream",
          "text": [
            "Moviepy - Done !\n",
            "Moviepy - video ready /content/drive/MyDrive/0._HCM_AI_Challenge_2023/Data_Process/Cut_Video/video_scenes_L03/L03_V001/video_from_22683_to_22811.mp4\n",
            "Moviepy - Building video /content/drive/MyDrive/0._HCM_AI_Challenge_2023/Data_Process/Cut_Video/video_scenes_L03/L03_V001/video_from_22812_to_22911.mp4.\n",
            "MoviePy - Writing audio in video_from_22812_to_22911TEMP_MPY_wvf_snd.mp3\n"
          ]
        },
        {
          "name": "stderr",
          "output_type": "stream",
          "text": []
        },
        {
          "name": "stdout",
          "output_type": "stream",
          "text": [
            "MoviePy - Done.\n",
            "Moviepy - Writing video /content/drive/MyDrive/0._HCM_AI_Challenge_2023/Data_Process/Cut_Video/video_scenes_L03/L03_V001/video_from_22812_to_22911.mp4\n",
            "\n"
          ]
        },
        {
          "name": "stderr",
          "output_type": "stream",
          "text": []
        },
        {
          "name": "stdout",
          "output_type": "stream",
          "text": [
            "Moviepy - Done !\n",
            "Moviepy - video ready /content/drive/MyDrive/0._HCM_AI_Challenge_2023/Data_Process/Cut_Video/video_scenes_L03/L03_V001/video_from_22812_to_22911.mp4\n",
            "Moviepy - Building video /content/drive/MyDrive/0._HCM_AI_Challenge_2023/Data_Process/Cut_Video/video_scenes_L03/L03_V001/video_from_22912_to_22980.mp4.\n",
            "MoviePy - Writing audio in video_from_22912_to_22980TEMP_MPY_wvf_snd.mp3\n"
          ]
        },
        {
          "name": "stderr",
          "output_type": "stream",
          "text": []
        },
        {
          "name": "stdout",
          "output_type": "stream",
          "text": [
            "MoviePy - Done.\n",
            "Moviepy - Writing video /content/drive/MyDrive/0._HCM_AI_Challenge_2023/Data_Process/Cut_Video/video_scenes_L03/L03_V001/video_from_22912_to_22980.mp4\n",
            "\n"
          ]
        },
        {
          "name": "stderr",
          "output_type": "stream",
          "text": []
        },
        {
          "name": "stdout",
          "output_type": "stream",
          "text": [
            "Moviepy - Done !\n",
            "Moviepy - video ready /content/drive/MyDrive/0._HCM_AI_Challenge_2023/Data_Process/Cut_Video/video_scenes_L03/L03_V001/video_from_22912_to_22980.mp4\n",
            "Moviepy - Building video /content/drive/MyDrive/0._HCM_AI_Challenge_2023/Data_Process/Cut_Video/video_scenes_L03/L03_V001/video_from_22981_to_23423.mp4.\n",
            "MoviePy - Writing audio in video_from_22981_to_23423TEMP_MPY_wvf_snd.mp3\n"
          ]
        },
        {
          "name": "stderr",
          "output_type": "stream",
          "text": []
        },
        {
          "name": "stdout",
          "output_type": "stream",
          "text": [
            "MoviePy - Done.\n",
            "Moviepy - Writing video /content/drive/MyDrive/0._HCM_AI_Challenge_2023/Data_Process/Cut_Video/video_scenes_L03/L03_V001/video_from_22981_to_23423.mp4\n",
            "\n"
          ]
        },
        {
          "name": "stderr",
          "output_type": "stream",
          "text": []
        },
        {
          "name": "stdout",
          "output_type": "stream",
          "text": [
            "Moviepy - Done !\n",
            "Moviepy - video ready /content/drive/MyDrive/0._HCM_AI_Challenge_2023/Data_Process/Cut_Video/video_scenes_L03/L03_V001/video_from_22981_to_23423.mp4\n",
            "Moviepy - Building video /content/drive/MyDrive/0._HCM_AI_Challenge_2023/Data_Process/Cut_Video/video_scenes_L03/L03_V001/video_from_23424_to_23480.mp4.\n",
            "MoviePy - Writing audio in video_from_23424_to_23480TEMP_MPY_wvf_snd.mp3\n"
          ]
        },
        {
          "name": "stderr",
          "output_type": "stream",
          "text": []
        },
        {
          "name": "stdout",
          "output_type": "stream",
          "text": [
            "MoviePy - Done.\n",
            "Moviepy - Writing video /content/drive/MyDrive/0._HCM_AI_Challenge_2023/Data_Process/Cut_Video/video_scenes_L03/L03_V001/video_from_23424_to_23480.mp4\n",
            "\n"
          ]
        },
        {
          "name": "stderr",
          "output_type": "stream",
          "text": []
        },
        {
          "name": "stdout",
          "output_type": "stream",
          "text": [
            "Moviepy - Done !\n",
            "Moviepy - video ready /content/drive/MyDrive/0._HCM_AI_Challenge_2023/Data_Process/Cut_Video/video_scenes_L03/L03_V001/video_from_23424_to_23480.mp4\n",
            "Moviepy - Building video /content/drive/MyDrive/0._HCM_AI_Challenge_2023/Data_Process/Cut_Video/video_scenes_L03/L03_V001/video_from_23481_to_23519.mp4.\n",
            "MoviePy - Writing audio in video_from_23481_to_23519TEMP_MPY_wvf_snd.mp3\n"
          ]
        },
        {
          "name": "stderr",
          "output_type": "stream",
          "text": []
        },
        {
          "name": "stdout",
          "output_type": "stream",
          "text": [
            "MoviePy - Done.\n",
            "Moviepy - Writing video /content/drive/MyDrive/0._HCM_AI_Challenge_2023/Data_Process/Cut_Video/video_scenes_L03/L03_V001/video_from_23481_to_23519.mp4\n",
            "\n"
          ]
        },
        {
          "name": "stderr",
          "output_type": "stream",
          "text": []
        },
        {
          "name": "stdout",
          "output_type": "stream",
          "text": [
            "Moviepy - Done !\n",
            "Moviepy - video ready /content/drive/MyDrive/0._HCM_AI_Challenge_2023/Data_Process/Cut_Video/video_scenes_L03/L03_V001/video_from_23481_to_23519.mp4\n",
            "Moviepy - Building video /content/drive/MyDrive/0._HCM_AI_Challenge_2023/Data_Process/Cut_Video/video_scenes_L03/L03_V001/video_from_23520_to_23569.mp4.\n",
            "MoviePy - Writing audio in video_from_23520_to_23569TEMP_MPY_wvf_snd.mp3\n"
          ]
        },
        {
          "name": "stderr",
          "output_type": "stream",
          "text": []
        },
        {
          "name": "stdout",
          "output_type": "stream",
          "text": [
            "MoviePy - Done.\n",
            "Moviepy - Writing video /content/drive/MyDrive/0._HCM_AI_Challenge_2023/Data_Process/Cut_Video/video_scenes_L03/L03_V001/video_from_23520_to_23569.mp4\n",
            "\n"
          ]
        },
        {
          "name": "stderr",
          "output_type": "stream",
          "text": []
        },
        {
          "name": "stdout",
          "output_type": "stream",
          "text": [
            "Moviepy - Done !\n",
            "Moviepy - video ready /content/drive/MyDrive/0._HCM_AI_Challenge_2023/Data_Process/Cut_Video/video_scenes_L03/L03_V001/video_from_23520_to_23569.mp4\n",
            "Moviepy - Building video /content/drive/MyDrive/0._HCM_AI_Challenge_2023/Data_Process/Cut_Video/video_scenes_L03/L03_V001/video_from_23570_to_23611.mp4.\n",
            "MoviePy - Writing audio in video_from_23570_to_23611TEMP_MPY_wvf_snd.mp3\n"
          ]
        },
        {
          "name": "stderr",
          "output_type": "stream",
          "text": []
        },
        {
          "name": "stdout",
          "output_type": "stream",
          "text": [
            "MoviePy - Done.\n",
            "Moviepy - Writing video /content/drive/MyDrive/0._HCM_AI_Challenge_2023/Data_Process/Cut_Video/video_scenes_L03/L03_V001/video_from_23570_to_23611.mp4\n",
            "\n"
          ]
        },
        {
          "name": "stderr",
          "output_type": "stream",
          "text": []
        },
        {
          "name": "stdout",
          "output_type": "stream",
          "text": [
            "Moviepy - Done !\n",
            "Moviepy - video ready /content/drive/MyDrive/0._HCM_AI_Challenge_2023/Data_Process/Cut_Video/video_scenes_L03/L03_V001/video_from_23570_to_23611.mp4\n",
            "Moviepy - Building video /content/drive/MyDrive/0._HCM_AI_Challenge_2023/Data_Process/Cut_Video/video_scenes_L03/L03_V001/video_from_23612_to_23658.mp4.\n",
            "MoviePy - Writing audio in video_from_23612_to_23658TEMP_MPY_wvf_snd.mp3\n"
          ]
        },
        {
          "name": "stderr",
          "output_type": "stream",
          "text": []
        },
        {
          "name": "stdout",
          "output_type": "stream",
          "text": [
            "MoviePy - Done.\n",
            "Moviepy - Writing video /content/drive/MyDrive/0._HCM_AI_Challenge_2023/Data_Process/Cut_Video/video_scenes_L03/L03_V001/video_from_23612_to_23658.mp4\n",
            "\n"
          ]
        },
        {
          "name": "stderr",
          "output_type": "stream",
          "text": []
        },
        {
          "name": "stdout",
          "output_type": "stream",
          "text": [
            "Moviepy - Done !\n",
            "Moviepy - video ready /content/drive/MyDrive/0._HCM_AI_Challenge_2023/Data_Process/Cut_Video/video_scenes_L03/L03_V001/video_from_23612_to_23658.mp4\n",
            "Moviepy - Building video /content/drive/MyDrive/0._HCM_AI_Challenge_2023/Data_Process/Cut_Video/video_scenes_L03/L03_V001/video_from_23659_to_23705.mp4.\n",
            "MoviePy - Writing audio in video_from_23659_to_23705TEMP_MPY_wvf_snd.mp3\n"
          ]
        },
        {
          "name": "stderr",
          "output_type": "stream",
          "text": []
        },
        {
          "name": "stdout",
          "output_type": "stream",
          "text": [
            "MoviePy - Done.\n",
            "Moviepy - Writing video /content/drive/MyDrive/0._HCM_AI_Challenge_2023/Data_Process/Cut_Video/video_scenes_L03/L03_V001/video_from_23659_to_23705.mp4\n",
            "\n"
          ]
        },
        {
          "name": "stderr",
          "output_type": "stream",
          "text": []
        },
        {
          "name": "stdout",
          "output_type": "stream",
          "text": [
            "Moviepy - Done !\n",
            "Moviepy - video ready /content/drive/MyDrive/0._HCM_AI_Challenge_2023/Data_Process/Cut_Video/video_scenes_L03/L03_V001/video_from_23659_to_23705.mp4\n",
            "Moviepy - Building video /content/drive/MyDrive/0._HCM_AI_Challenge_2023/Data_Process/Cut_Video/video_scenes_L03/L03_V001/video_from_23706_to_23779.mp4.\n",
            "MoviePy - Writing audio in video_from_23706_to_23779TEMP_MPY_wvf_snd.mp3\n"
          ]
        },
        {
          "name": "stderr",
          "output_type": "stream",
          "text": []
        },
        {
          "name": "stdout",
          "output_type": "stream",
          "text": [
            "MoviePy - Done.\n",
            "Moviepy - Writing video /content/drive/MyDrive/0._HCM_AI_Challenge_2023/Data_Process/Cut_Video/video_scenes_L03/L03_V001/video_from_23706_to_23779.mp4\n",
            "\n"
          ]
        },
        {
          "name": "stderr",
          "output_type": "stream",
          "text": []
        },
        {
          "name": "stdout",
          "output_type": "stream",
          "text": [
            "Moviepy - Done !\n",
            "Moviepy - video ready /content/drive/MyDrive/0._HCM_AI_Challenge_2023/Data_Process/Cut_Video/video_scenes_L03/L03_V001/video_from_23706_to_23779.mp4\n",
            "Moviepy - Building video /content/drive/MyDrive/0._HCM_AI_Challenge_2023/Data_Process/Cut_Video/video_scenes_L03/L03_V001/video_from_23780_to_23880.mp4.\n",
            "MoviePy - Writing audio in video_from_23780_to_23880TEMP_MPY_wvf_snd.mp3\n"
          ]
        },
        {
          "name": "stderr",
          "output_type": "stream",
          "text": []
        },
        {
          "name": "stdout",
          "output_type": "stream",
          "text": [
            "MoviePy - Done.\n",
            "Moviepy - Writing video /content/drive/MyDrive/0._HCM_AI_Challenge_2023/Data_Process/Cut_Video/video_scenes_L03/L03_V001/video_from_23780_to_23880.mp4\n",
            "\n"
          ]
        },
        {
          "name": "stderr",
          "output_type": "stream",
          "text": []
        },
        {
          "name": "stdout",
          "output_type": "stream",
          "text": [
            "Moviepy - Done !\n",
            "Moviepy - video ready /content/drive/MyDrive/0._HCM_AI_Challenge_2023/Data_Process/Cut_Video/video_scenes_L03/L03_V001/video_from_23780_to_23880.mp4\n",
            "Moviepy - Building video /content/drive/MyDrive/0._HCM_AI_Challenge_2023/Data_Process/Cut_Video/video_scenes_L03/L03_V001/video_from_23881_to_23922.mp4.\n",
            "MoviePy - Writing audio in video_from_23881_to_23922TEMP_MPY_wvf_snd.mp3\n"
          ]
        },
        {
          "name": "stderr",
          "output_type": "stream",
          "text": []
        },
        {
          "name": "stdout",
          "output_type": "stream",
          "text": [
            "MoviePy - Done.\n",
            "Moviepy - Writing video /content/drive/MyDrive/0._HCM_AI_Challenge_2023/Data_Process/Cut_Video/video_scenes_L03/L03_V001/video_from_23881_to_23922.mp4\n",
            "\n"
          ]
        },
        {
          "name": "stderr",
          "output_type": "stream",
          "text": []
        },
        {
          "name": "stdout",
          "output_type": "stream",
          "text": [
            "Moviepy - Done !\n",
            "Moviepy - video ready /content/drive/MyDrive/0._HCM_AI_Challenge_2023/Data_Process/Cut_Video/video_scenes_L03/L03_V001/video_from_23881_to_23922.mp4\n",
            "Moviepy - Building video /content/drive/MyDrive/0._HCM_AI_Challenge_2023/Data_Process/Cut_Video/video_scenes_L03/L03_V001/video_from_23923_to_23942.mp4.\n",
            "MoviePy - Writing audio in video_from_23923_to_23942TEMP_MPY_wvf_snd.mp3\n"
          ]
        },
        {
          "name": "stderr",
          "output_type": "stream",
          "text": []
        },
        {
          "name": "stdout",
          "output_type": "stream",
          "text": [
            "MoviePy - Done.\n",
            "Moviepy - Writing video /content/drive/MyDrive/0._HCM_AI_Challenge_2023/Data_Process/Cut_Video/video_scenes_L03/L03_V001/video_from_23923_to_23942.mp4\n",
            "\n"
          ]
        },
        {
          "name": "stderr",
          "output_type": "stream",
          "text": []
        },
        {
          "name": "stdout",
          "output_type": "stream",
          "text": [
            "Moviepy - Done !\n",
            "Moviepy - video ready /content/drive/MyDrive/0._HCM_AI_Challenge_2023/Data_Process/Cut_Video/video_scenes_L03/L03_V001/video_from_23923_to_23942.mp4\n",
            "Moviepy - Building video /content/drive/MyDrive/0._HCM_AI_Challenge_2023/Data_Process/Cut_Video/video_scenes_L03/L03_V001/video_from_23943_to_23998.mp4.\n",
            "MoviePy - Writing audio in video_from_23943_to_23998TEMP_MPY_wvf_snd.mp3\n"
          ]
        },
        {
          "name": "stderr",
          "output_type": "stream",
          "text": []
        },
        {
          "name": "stdout",
          "output_type": "stream",
          "text": [
            "MoviePy - Done.\n",
            "Moviepy - Writing video /content/drive/MyDrive/0._HCM_AI_Challenge_2023/Data_Process/Cut_Video/video_scenes_L03/L03_V001/video_from_23943_to_23998.mp4\n",
            "\n"
          ]
        },
        {
          "name": "stderr",
          "output_type": "stream",
          "text": []
        },
        {
          "name": "stdout",
          "output_type": "stream",
          "text": [
            "Moviepy - Done !\n",
            "Moviepy - video ready /content/drive/MyDrive/0._HCM_AI_Challenge_2023/Data_Process/Cut_Video/video_scenes_L03/L03_V001/video_from_23943_to_23998.mp4\n",
            "Moviepy - Building video /content/drive/MyDrive/0._HCM_AI_Challenge_2023/Data_Process/Cut_Video/video_scenes_L03/L03_V001/video_from_23999_to_24044.mp4.\n",
            "MoviePy - Writing audio in video_from_23999_to_24044TEMP_MPY_wvf_snd.mp3\n"
          ]
        },
        {
          "name": "stderr",
          "output_type": "stream",
          "text": []
        },
        {
          "name": "stdout",
          "output_type": "stream",
          "text": [
            "MoviePy - Done.\n",
            "Moviepy - Writing video /content/drive/MyDrive/0._HCM_AI_Challenge_2023/Data_Process/Cut_Video/video_scenes_L03/L03_V001/video_from_23999_to_24044.mp4\n",
            "\n"
          ]
        },
        {
          "name": "stderr",
          "output_type": "stream",
          "text": []
        },
        {
          "name": "stdout",
          "output_type": "stream",
          "text": [
            "Moviepy - Done !\n",
            "Moviepy - video ready /content/drive/MyDrive/0._HCM_AI_Challenge_2023/Data_Process/Cut_Video/video_scenes_L03/L03_V001/video_from_23999_to_24044.mp4\n",
            "Moviepy - Building video /content/drive/MyDrive/0._HCM_AI_Challenge_2023/Data_Process/Cut_Video/video_scenes_L03/L03_V001/video_from_24045_to_24084.mp4.\n",
            "MoviePy - Writing audio in video_from_24045_to_24084TEMP_MPY_wvf_snd.mp3\n"
          ]
        },
        {
          "name": "stderr",
          "output_type": "stream",
          "text": []
        },
        {
          "name": "stdout",
          "output_type": "stream",
          "text": [
            "MoviePy - Done.\n",
            "Moviepy - Writing video /content/drive/MyDrive/0._HCM_AI_Challenge_2023/Data_Process/Cut_Video/video_scenes_L03/L03_V001/video_from_24045_to_24084.mp4\n",
            "\n"
          ]
        },
        {
          "name": "stderr",
          "output_type": "stream",
          "text": []
        },
        {
          "name": "stdout",
          "output_type": "stream",
          "text": [
            "Moviepy - Done !\n",
            "Moviepy - video ready /content/drive/MyDrive/0._HCM_AI_Challenge_2023/Data_Process/Cut_Video/video_scenes_L03/L03_V001/video_from_24045_to_24084.mp4\n",
            "Moviepy - Building video /content/drive/MyDrive/0._HCM_AI_Challenge_2023/Data_Process/Cut_Video/video_scenes_L03/L03_V001/video_from_24085_to_24143.mp4.\n",
            "MoviePy - Writing audio in video_from_24085_to_24143TEMP_MPY_wvf_snd.mp3\n"
          ]
        },
        {
          "name": "stderr",
          "output_type": "stream",
          "text": []
        },
        {
          "name": "stdout",
          "output_type": "stream",
          "text": [
            "MoviePy - Done.\n",
            "Moviepy - Writing video /content/drive/MyDrive/0._HCM_AI_Challenge_2023/Data_Process/Cut_Video/video_scenes_L03/L03_V001/video_from_24085_to_24143.mp4\n",
            "\n"
          ]
        },
        {
          "name": "stderr",
          "output_type": "stream",
          "text": []
        },
        {
          "name": "stdout",
          "output_type": "stream",
          "text": [
            "Moviepy - Done !\n",
            "Moviepy - video ready /content/drive/MyDrive/0._HCM_AI_Challenge_2023/Data_Process/Cut_Video/video_scenes_L03/L03_V001/video_from_24085_to_24143.mp4\n",
            "Moviepy - Building video /content/drive/MyDrive/0._HCM_AI_Challenge_2023/Data_Process/Cut_Video/video_scenes_L03/L03_V001/video_from_24144_to_24185.mp4.\n",
            "MoviePy - Writing audio in video_from_24144_to_24185TEMP_MPY_wvf_snd.mp3\n"
          ]
        },
        {
          "name": "stderr",
          "output_type": "stream",
          "text": []
        },
        {
          "name": "stdout",
          "output_type": "stream",
          "text": [
            "MoviePy - Done.\n",
            "Moviepy - Writing video /content/drive/MyDrive/0._HCM_AI_Challenge_2023/Data_Process/Cut_Video/video_scenes_L03/L03_V001/video_from_24144_to_24185.mp4\n",
            "\n"
          ]
        },
        {
          "name": "stderr",
          "output_type": "stream",
          "text": []
        },
        {
          "name": "stdout",
          "output_type": "stream",
          "text": [
            "Moviepy - Done !\n",
            "Moviepy - video ready /content/drive/MyDrive/0._HCM_AI_Challenge_2023/Data_Process/Cut_Video/video_scenes_L03/L03_V001/video_from_24144_to_24185.mp4\n",
            "Moviepy - Building video /content/drive/MyDrive/0._HCM_AI_Challenge_2023/Data_Process/Cut_Video/video_scenes_L03/L03_V001/video_from_24186_to_24341.mp4.\n",
            "MoviePy - Writing audio in video_from_24186_to_24341TEMP_MPY_wvf_snd.mp3\n"
          ]
        },
        {
          "name": "stderr",
          "output_type": "stream",
          "text": []
        },
        {
          "name": "stdout",
          "output_type": "stream",
          "text": [
            "MoviePy - Done.\n",
            "Moviepy - Writing video /content/drive/MyDrive/0._HCM_AI_Challenge_2023/Data_Process/Cut_Video/video_scenes_L03/L03_V001/video_from_24186_to_24341.mp4\n",
            "\n"
          ]
        },
        {
          "name": "stderr",
          "output_type": "stream",
          "text": []
        },
        {
          "name": "stdout",
          "output_type": "stream",
          "text": [
            "Moviepy - Done !\n",
            "Moviepy - video ready /content/drive/MyDrive/0._HCM_AI_Challenge_2023/Data_Process/Cut_Video/video_scenes_L03/L03_V001/video_from_24186_to_24341.mp4\n",
            "Moviepy - Building video /content/drive/MyDrive/0._HCM_AI_Challenge_2023/Data_Process/Cut_Video/video_scenes_L03/L03_V001/video_from_24342_to_24392.mp4.\n",
            "MoviePy - Writing audio in video_from_24342_to_24392TEMP_MPY_wvf_snd.mp3\n"
          ]
        },
        {
          "name": "stderr",
          "output_type": "stream",
          "text": []
        },
        {
          "name": "stdout",
          "output_type": "stream",
          "text": [
            "MoviePy - Done.\n",
            "Moviepy - Writing video /content/drive/MyDrive/0._HCM_AI_Challenge_2023/Data_Process/Cut_Video/video_scenes_L03/L03_V001/video_from_24342_to_24392.mp4\n",
            "\n"
          ]
        },
        {
          "name": "stderr",
          "output_type": "stream",
          "text": []
        },
        {
          "name": "stdout",
          "output_type": "stream",
          "text": [
            "Moviepy - Done !\n",
            "Moviepy - video ready /content/drive/MyDrive/0._HCM_AI_Challenge_2023/Data_Process/Cut_Video/video_scenes_L03/L03_V001/video_from_24342_to_24392.mp4\n",
            "Moviepy - Building video /content/drive/MyDrive/0._HCM_AI_Challenge_2023/Data_Process/Cut_Video/video_scenes_L03/L03_V001/video_from_24393_to_24441.mp4.\n",
            "MoviePy - Writing audio in video_from_24393_to_24441TEMP_MPY_wvf_snd.mp3\n"
          ]
        },
        {
          "name": "stderr",
          "output_type": "stream",
          "text": []
        },
        {
          "name": "stdout",
          "output_type": "stream",
          "text": [
            "MoviePy - Done.\n",
            "Moviepy - Writing video /content/drive/MyDrive/0._HCM_AI_Challenge_2023/Data_Process/Cut_Video/video_scenes_L03/L03_V001/video_from_24393_to_24441.mp4\n",
            "\n"
          ]
        },
        {
          "name": "stderr",
          "output_type": "stream",
          "text": []
        },
        {
          "name": "stdout",
          "output_type": "stream",
          "text": [
            "Moviepy - Done !\n",
            "Moviepy - video ready /content/drive/MyDrive/0._HCM_AI_Challenge_2023/Data_Process/Cut_Video/video_scenes_L03/L03_V001/video_from_24393_to_24441.mp4\n",
            "Moviepy - Building video /content/drive/MyDrive/0._HCM_AI_Challenge_2023/Data_Process/Cut_Video/video_scenes_L03/L03_V001/video_from_24442_to_24488.mp4.\n",
            "MoviePy - Writing audio in video_from_24442_to_24488TEMP_MPY_wvf_snd.mp3\n"
          ]
        },
        {
          "name": "stderr",
          "output_type": "stream",
          "text": []
        },
        {
          "name": "stdout",
          "output_type": "stream",
          "text": [
            "MoviePy - Done.\n",
            "Moviepy - Writing video /content/drive/MyDrive/0._HCM_AI_Challenge_2023/Data_Process/Cut_Video/video_scenes_L03/L03_V001/video_from_24442_to_24488.mp4\n",
            "\n"
          ]
        },
        {
          "name": "stderr",
          "output_type": "stream",
          "text": []
        },
        {
          "name": "stdout",
          "output_type": "stream",
          "text": [
            "Moviepy - Done !\n",
            "Moviepy - video ready /content/drive/MyDrive/0._HCM_AI_Challenge_2023/Data_Process/Cut_Video/video_scenes_L03/L03_V001/video_from_24442_to_24488.mp4\n",
            "Moviepy - Building video /content/drive/MyDrive/0._HCM_AI_Challenge_2023/Data_Process/Cut_Video/video_scenes_L03/L03_V001/video_from_24489_to_24525.mp4.\n",
            "MoviePy - Writing audio in video_from_24489_to_24525TEMP_MPY_wvf_snd.mp3\n"
          ]
        },
        {
          "name": "stderr",
          "output_type": "stream",
          "text": []
        },
        {
          "name": "stdout",
          "output_type": "stream",
          "text": [
            "MoviePy - Done.\n",
            "Moviepy - Writing video /content/drive/MyDrive/0._HCM_AI_Challenge_2023/Data_Process/Cut_Video/video_scenes_L03/L03_V001/video_from_24489_to_24525.mp4\n",
            "\n"
          ]
        },
        {
          "name": "stderr",
          "output_type": "stream",
          "text": []
        },
        {
          "name": "stdout",
          "output_type": "stream",
          "text": [
            "Moviepy - Done !\n",
            "Moviepy - video ready /content/drive/MyDrive/0._HCM_AI_Challenge_2023/Data_Process/Cut_Video/video_scenes_L03/L03_V001/video_from_24489_to_24525.mp4\n",
            "Moviepy - Building video /content/drive/MyDrive/0._HCM_AI_Challenge_2023/Data_Process/Cut_Video/video_scenes_L03/L03_V001/video_from_24526_to_24556.mp4.\n",
            "MoviePy - Writing audio in video_from_24526_to_24556TEMP_MPY_wvf_snd.mp3\n"
          ]
        },
        {
          "name": "stderr",
          "output_type": "stream",
          "text": []
        },
        {
          "name": "stdout",
          "output_type": "stream",
          "text": [
            "MoviePy - Done.\n",
            "Moviepy - Writing video /content/drive/MyDrive/0._HCM_AI_Challenge_2023/Data_Process/Cut_Video/video_scenes_L03/L03_V001/video_from_24526_to_24556.mp4\n",
            "\n"
          ]
        },
        {
          "name": "stderr",
          "output_type": "stream",
          "text": []
        },
        {
          "name": "stdout",
          "output_type": "stream",
          "text": [
            "Moviepy - Done !\n",
            "Moviepy - video ready /content/drive/MyDrive/0._HCM_AI_Challenge_2023/Data_Process/Cut_Video/video_scenes_L03/L03_V001/video_from_24526_to_24556.mp4\n",
            "Moviepy - Building video /content/drive/MyDrive/0._HCM_AI_Challenge_2023/Data_Process/Cut_Video/video_scenes_L03/L03_V001/video_from_24557_to_24600.mp4.\n",
            "MoviePy - Writing audio in video_from_24557_to_24600TEMP_MPY_wvf_snd.mp3\n"
          ]
        },
        {
          "name": "stderr",
          "output_type": "stream",
          "text": []
        },
        {
          "name": "stdout",
          "output_type": "stream",
          "text": [
            "MoviePy - Done.\n",
            "Moviepy - Writing video /content/drive/MyDrive/0._HCM_AI_Challenge_2023/Data_Process/Cut_Video/video_scenes_L03/L03_V001/video_from_24557_to_24600.mp4\n",
            "\n"
          ]
        },
        {
          "name": "stderr",
          "output_type": "stream",
          "text": []
        },
        {
          "name": "stdout",
          "output_type": "stream",
          "text": [
            "Moviepy - Done !\n",
            "Moviepy - video ready /content/drive/MyDrive/0._HCM_AI_Challenge_2023/Data_Process/Cut_Video/video_scenes_L03/L03_V001/video_from_24557_to_24600.mp4\n",
            "Moviepy - Building video /content/drive/MyDrive/0._HCM_AI_Challenge_2023/Data_Process/Cut_Video/video_scenes_L03/L03_V001/video_from_24601_to_24685.mp4.\n",
            "MoviePy - Writing audio in video_from_24601_to_24685TEMP_MPY_wvf_snd.mp3\n"
          ]
        },
        {
          "name": "stderr",
          "output_type": "stream",
          "text": []
        },
        {
          "name": "stdout",
          "output_type": "stream",
          "text": [
            "MoviePy - Done.\n",
            "Moviepy - Writing video /content/drive/MyDrive/0._HCM_AI_Challenge_2023/Data_Process/Cut_Video/video_scenes_L03/L03_V001/video_from_24601_to_24685.mp4\n",
            "\n"
          ]
        },
        {
          "name": "stderr",
          "output_type": "stream",
          "text": []
        },
        {
          "name": "stdout",
          "output_type": "stream",
          "text": [
            "Moviepy - Done !\n",
            "Moviepy - video ready /content/drive/MyDrive/0._HCM_AI_Challenge_2023/Data_Process/Cut_Video/video_scenes_L03/L03_V001/video_from_24601_to_24685.mp4\n",
            "Moviepy - Building video /content/drive/MyDrive/0._HCM_AI_Challenge_2023/Data_Process/Cut_Video/video_scenes_L03/L03_V001/video_from_24686_to_24786.mp4.\n",
            "MoviePy - Writing audio in video_from_24686_to_24786TEMP_MPY_wvf_snd.mp3\n"
          ]
        },
        {
          "name": "stderr",
          "output_type": "stream",
          "text": []
        },
        {
          "name": "stdout",
          "output_type": "stream",
          "text": [
            "MoviePy - Done.\n",
            "Moviepy - Writing video /content/drive/MyDrive/0._HCM_AI_Challenge_2023/Data_Process/Cut_Video/video_scenes_L03/L03_V001/video_from_24686_to_24786.mp4\n",
            "\n"
          ]
        },
        {
          "name": "stderr",
          "output_type": "stream",
          "text": []
        },
        {
          "name": "stdout",
          "output_type": "stream",
          "text": [
            "Moviepy - Done !\n",
            "Moviepy - video ready /content/drive/MyDrive/0._HCM_AI_Challenge_2023/Data_Process/Cut_Video/video_scenes_L03/L03_V001/video_from_24686_to_24786.mp4\n",
            "Moviepy - Building video /content/drive/MyDrive/0._HCM_AI_Challenge_2023/Data_Process/Cut_Video/video_scenes_L03/L03_V001/video_from_24787_to_24848.mp4.\n",
            "MoviePy - Writing audio in video_from_24787_to_24848TEMP_MPY_wvf_snd.mp3\n"
          ]
        },
        {
          "name": "stderr",
          "output_type": "stream",
          "text": []
        },
        {
          "name": "stdout",
          "output_type": "stream",
          "text": [
            "MoviePy - Done.\n",
            "Moviepy - Writing video /content/drive/MyDrive/0._HCM_AI_Challenge_2023/Data_Process/Cut_Video/video_scenes_L03/L03_V001/video_from_24787_to_24848.mp4\n",
            "\n"
          ]
        },
        {
          "name": "stderr",
          "output_type": "stream",
          "text": []
        },
        {
          "name": "stdout",
          "output_type": "stream",
          "text": [
            "Moviepy - Done !\n",
            "Moviepy - video ready /content/drive/MyDrive/0._HCM_AI_Challenge_2023/Data_Process/Cut_Video/video_scenes_L03/L03_V001/video_from_24787_to_24848.mp4\n",
            "Moviepy - Building video /content/drive/MyDrive/0._HCM_AI_Challenge_2023/Data_Process/Cut_Video/video_scenes_L03/L03_V001/video_from_24849_to_25165.mp4.\n",
            "MoviePy - Writing audio in video_from_24849_to_25165TEMP_MPY_wvf_snd.mp3\n"
          ]
        },
        {
          "name": "stderr",
          "output_type": "stream",
          "text": []
        },
        {
          "name": "stdout",
          "output_type": "stream",
          "text": [
            "MoviePy - Done.\n",
            "Moviepy - Writing video /content/drive/MyDrive/0._HCM_AI_Challenge_2023/Data_Process/Cut_Video/video_scenes_L03/L03_V001/video_from_24849_to_25165.mp4\n",
            "\n"
          ]
        },
        {
          "name": "stderr",
          "output_type": "stream",
          "text": []
        },
        {
          "name": "stdout",
          "output_type": "stream",
          "text": [
            "Moviepy - Done !\n",
            "Moviepy - video ready /content/drive/MyDrive/0._HCM_AI_Challenge_2023/Data_Process/Cut_Video/video_scenes_L03/L03_V001/video_from_24849_to_25165.mp4\n",
            "Moviepy - Building video /content/drive/MyDrive/0._HCM_AI_Challenge_2023/Data_Process/Cut_Video/video_scenes_L03/L03_V001/video_from_25166_to_25226.mp4.\n",
            "MoviePy - Writing audio in video_from_25166_to_25226TEMP_MPY_wvf_snd.mp3\n"
          ]
        },
        {
          "name": "stderr",
          "output_type": "stream",
          "text": []
        },
        {
          "name": "stdout",
          "output_type": "stream",
          "text": [
            "MoviePy - Done.\n",
            "Moviepy - Writing video /content/drive/MyDrive/0._HCM_AI_Challenge_2023/Data_Process/Cut_Video/video_scenes_L03/L03_V001/video_from_25166_to_25226.mp4\n",
            "\n"
          ]
        },
        {
          "name": "stderr",
          "output_type": "stream",
          "text": []
        },
        {
          "name": "stdout",
          "output_type": "stream",
          "text": [
            "Moviepy - Done !\n",
            "Moviepy - video ready /content/drive/MyDrive/0._HCM_AI_Challenge_2023/Data_Process/Cut_Video/video_scenes_L03/L03_V001/video_from_25166_to_25226.mp4\n",
            "Moviepy - Building video /content/drive/MyDrive/0._HCM_AI_Challenge_2023/Data_Process/Cut_Video/video_scenes_L03/L03_V001/video_from_25227_to_25317.mp4.\n",
            "MoviePy - Writing audio in video_from_25227_to_25317TEMP_MPY_wvf_snd.mp3\n"
          ]
        },
        {
          "name": "stderr",
          "output_type": "stream",
          "text": []
        },
        {
          "name": "stdout",
          "output_type": "stream",
          "text": [
            "MoviePy - Done.\n",
            "Moviepy - Writing video /content/drive/MyDrive/0._HCM_AI_Challenge_2023/Data_Process/Cut_Video/video_scenes_L03/L03_V001/video_from_25227_to_25317.mp4\n",
            "\n"
          ]
        },
        {
          "name": "stderr",
          "output_type": "stream",
          "text": []
        },
        {
          "name": "stdout",
          "output_type": "stream",
          "text": [
            "Moviepy - Done !\n",
            "Moviepy - video ready /content/drive/MyDrive/0._HCM_AI_Challenge_2023/Data_Process/Cut_Video/video_scenes_L03/L03_V001/video_from_25227_to_25317.mp4\n",
            "Moviepy - Building video /content/drive/MyDrive/0._HCM_AI_Challenge_2023/Data_Process/Cut_Video/video_scenes_L03/L03_V001/video_from_25318_to_25385.mp4.\n",
            "MoviePy - Writing audio in video_from_25318_to_25385TEMP_MPY_wvf_snd.mp3\n"
          ]
        },
        {
          "name": "stderr",
          "output_type": "stream",
          "text": []
        },
        {
          "name": "stdout",
          "output_type": "stream",
          "text": [
            "MoviePy - Done.\n",
            "Moviepy - Writing video /content/drive/MyDrive/0._HCM_AI_Challenge_2023/Data_Process/Cut_Video/video_scenes_L03/L03_V001/video_from_25318_to_25385.mp4\n",
            "\n"
          ]
        },
        {
          "name": "stderr",
          "output_type": "stream",
          "text": []
        },
        {
          "name": "stdout",
          "output_type": "stream",
          "text": [
            "Moviepy - Done !\n",
            "Moviepy - video ready /content/drive/MyDrive/0._HCM_AI_Challenge_2023/Data_Process/Cut_Video/video_scenes_L03/L03_V001/video_from_25318_to_25385.mp4\n",
            "Moviepy - Building video /content/drive/MyDrive/0._HCM_AI_Challenge_2023/Data_Process/Cut_Video/video_scenes_L03/L03_V001/video_from_25386_to_25493.mp4.\n",
            "MoviePy - Writing audio in video_from_25386_to_25493TEMP_MPY_wvf_snd.mp3\n"
          ]
        },
        {
          "name": "stderr",
          "output_type": "stream",
          "text": []
        },
        {
          "name": "stdout",
          "output_type": "stream",
          "text": [
            "MoviePy - Done.\n",
            "Moviepy - Writing video /content/drive/MyDrive/0._HCM_AI_Challenge_2023/Data_Process/Cut_Video/video_scenes_L03/L03_V001/video_from_25386_to_25493.mp4\n",
            "\n"
          ]
        },
        {
          "name": "stderr",
          "output_type": "stream",
          "text": []
        },
        {
          "name": "stdout",
          "output_type": "stream",
          "text": [
            "Moviepy - Done !\n",
            "Moviepy - video ready /content/drive/MyDrive/0._HCM_AI_Challenge_2023/Data_Process/Cut_Video/video_scenes_L03/L03_V001/video_from_25386_to_25493.mp4\n",
            "Moviepy - Building video /content/drive/MyDrive/0._HCM_AI_Challenge_2023/Data_Process/Cut_Video/video_scenes_L03/L03_V001/video_from_25494_to_25623.mp4.\n",
            "MoviePy - Writing audio in video_from_25494_to_25623TEMP_MPY_wvf_snd.mp3\n"
          ]
        },
        {
          "name": "stderr",
          "output_type": "stream",
          "text": []
        },
        {
          "name": "stdout",
          "output_type": "stream",
          "text": [
            "MoviePy - Done.\n",
            "Moviepy - Writing video /content/drive/MyDrive/0._HCM_AI_Challenge_2023/Data_Process/Cut_Video/video_scenes_L03/L03_V001/video_from_25494_to_25623.mp4\n",
            "\n"
          ]
        },
        {
          "name": "stderr",
          "output_type": "stream",
          "text": []
        },
        {
          "name": "stdout",
          "output_type": "stream",
          "text": [
            "Moviepy - Done !\n",
            "Moviepy - video ready /content/drive/MyDrive/0._HCM_AI_Challenge_2023/Data_Process/Cut_Video/video_scenes_L03/L03_V001/video_from_25494_to_25623.mp4\n",
            "Moviepy - Building video /content/drive/MyDrive/0._HCM_AI_Challenge_2023/Data_Process/Cut_Video/video_scenes_L03/L03_V001/video_from_25624_to_25679.mp4.\n",
            "MoviePy - Writing audio in video_from_25624_to_25679TEMP_MPY_wvf_snd.mp3\n"
          ]
        },
        {
          "name": "stderr",
          "output_type": "stream",
          "text": []
        },
        {
          "name": "stdout",
          "output_type": "stream",
          "text": [
            "MoviePy - Done.\n",
            "Moviepy - Writing video /content/drive/MyDrive/0._HCM_AI_Challenge_2023/Data_Process/Cut_Video/video_scenes_L03/L03_V001/video_from_25624_to_25679.mp4\n",
            "\n"
          ]
        },
        {
          "name": "stderr",
          "output_type": "stream",
          "text": []
        },
        {
          "name": "stdout",
          "output_type": "stream",
          "text": [
            "Moviepy - Done !\n",
            "Moviepy - video ready /content/drive/MyDrive/0._HCM_AI_Challenge_2023/Data_Process/Cut_Video/video_scenes_L03/L03_V001/video_from_25624_to_25679.mp4\n",
            "Moviepy - Building video /content/drive/MyDrive/0._HCM_AI_Challenge_2023/Data_Process/Cut_Video/video_scenes_L03/L03_V001/video_from_25680_to_25712.mp4.\n",
            "MoviePy - Writing audio in video_from_25680_to_25712TEMP_MPY_wvf_snd.mp3\n"
          ]
        },
        {
          "name": "stderr",
          "output_type": "stream",
          "text": []
        },
        {
          "name": "stdout",
          "output_type": "stream",
          "text": [
            "MoviePy - Done.\n",
            "Moviepy - Writing video /content/drive/MyDrive/0._HCM_AI_Challenge_2023/Data_Process/Cut_Video/video_scenes_L03/L03_V001/video_from_25680_to_25712.mp4\n",
            "\n"
          ]
        },
        {
          "name": "stderr",
          "output_type": "stream",
          "text": []
        },
        {
          "name": "stdout",
          "output_type": "stream",
          "text": [
            "Moviepy - Done !\n",
            "Moviepy - video ready /content/drive/MyDrive/0._HCM_AI_Challenge_2023/Data_Process/Cut_Video/video_scenes_L03/L03_V001/video_from_25680_to_25712.mp4\n",
            "Moviepy - Building video /content/drive/MyDrive/0._HCM_AI_Challenge_2023/Data_Process/Cut_Video/video_scenes_L03/L03_V001/video_from_25713_to_25763.mp4.\n",
            "MoviePy - Writing audio in video_from_25713_to_25763TEMP_MPY_wvf_snd.mp3\n"
          ]
        },
        {
          "name": "stderr",
          "output_type": "stream",
          "text": []
        },
        {
          "name": "stdout",
          "output_type": "stream",
          "text": [
            "MoviePy - Done.\n",
            "Moviepy - Writing video /content/drive/MyDrive/0._HCM_AI_Challenge_2023/Data_Process/Cut_Video/video_scenes_L03/L03_V001/video_from_25713_to_25763.mp4\n",
            "\n"
          ]
        },
        {
          "name": "stderr",
          "output_type": "stream",
          "text": []
        },
        {
          "name": "stdout",
          "output_type": "stream",
          "text": [
            "Moviepy - Done !\n",
            "Moviepy - video ready /content/drive/MyDrive/0._HCM_AI_Challenge_2023/Data_Process/Cut_Video/video_scenes_L03/L03_V001/video_from_25713_to_25763.mp4\n",
            "Moviepy - Building video /content/drive/MyDrive/0._HCM_AI_Challenge_2023/Data_Process/Cut_Video/video_scenes_L03/L03_V001/video_from_25764_to_25819.mp4.\n",
            "MoviePy - Writing audio in video_from_25764_to_25819TEMP_MPY_wvf_snd.mp3\n"
          ]
        },
        {
          "name": "stderr",
          "output_type": "stream",
          "text": []
        },
        {
          "name": "stdout",
          "output_type": "stream",
          "text": [
            "MoviePy - Done.\n",
            "Moviepy - Writing video /content/drive/MyDrive/0._HCM_AI_Challenge_2023/Data_Process/Cut_Video/video_scenes_L03/L03_V001/video_from_25764_to_25819.mp4\n",
            "\n"
          ]
        },
        {
          "name": "stderr",
          "output_type": "stream",
          "text": []
        },
        {
          "name": "stdout",
          "output_type": "stream",
          "text": [
            "Moviepy - Done !\n",
            "Moviepy - video ready /content/drive/MyDrive/0._HCM_AI_Challenge_2023/Data_Process/Cut_Video/video_scenes_L03/L03_V001/video_from_25764_to_25819.mp4\n",
            "Moviepy - Building video /content/drive/MyDrive/0._HCM_AI_Challenge_2023/Data_Process/Cut_Video/video_scenes_L03/L03_V001/video_from_25820_to_25850.mp4.\n",
            "MoviePy - Writing audio in video_from_25820_to_25850TEMP_MPY_wvf_snd.mp3\n"
          ]
        },
        {
          "name": "stderr",
          "output_type": "stream",
          "text": []
        },
        {
          "name": "stdout",
          "output_type": "stream",
          "text": [
            "MoviePy - Done.\n",
            "Moviepy - Writing video /content/drive/MyDrive/0._HCM_AI_Challenge_2023/Data_Process/Cut_Video/video_scenes_L03/L03_V001/video_from_25820_to_25850.mp4\n",
            "\n"
          ]
        },
        {
          "name": "stderr",
          "output_type": "stream",
          "text": []
        },
        {
          "name": "stdout",
          "output_type": "stream",
          "text": [
            "Moviepy - Done !\n",
            "Moviepy - video ready /content/drive/MyDrive/0._HCM_AI_Challenge_2023/Data_Process/Cut_Video/video_scenes_L03/L03_V001/video_from_25820_to_25850.mp4\n",
            "Moviepy - Building video /content/drive/MyDrive/0._HCM_AI_Challenge_2023/Data_Process/Cut_Video/video_scenes_L03/L03_V001/video_from_25851_to_25906.mp4.\n",
            "MoviePy - Writing audio in video_from_25851_to_25906TEMP_MPY_wvf_snd.mp3\n"
          ]
        },
        {
          "name": "stderr",
          "output_type": "stream",
          "text": []
        },
        {
          "name": "stdout",
          "output_type": "stream",
          "text": [
            "MoviePy - Done.\n",
            "Moviepy - Writing video /content/drive/MyDrive/0._HCM_AI_Challenge_2023/Data_Process/Cut_Video/video_scenes_L03/L03_V001/video_from_25851_to_25906.mp4\n",
            "\n"
          ]
        },
        {
          "name": "stderr",
          "output_type": "stream",
          "text": []
        },
        {
          "name": "stdout",
          "output_type": "stream",
          "text": [
            "Moviepy - Done !\n",
            "Moviepy - video ready /content/drive/MyDrive/0._HCM_AI_Challenge_2023/Data_Process/Cut_Video/video_scenes_L03/L03_V001/video_from_25851_to_25906.mp4\n",
            "Moviepy - Building video /content/drive/MyDrive/0._HCM_AI_Challenge_2023/Data_Process/Cut_Video/video_scenes_L03/L03_V001/video_from_25907_to_25968.mp4.\n",
            "MoviePy - Writing audio in video_from_25907_to_25968TEMP_MPY_wvf_snd.mp3\n"
          ]
        },
        {
          "name": "stderr",
          "output_type": "stream",
          "text": []
        },
        {
          "name": "stdout",
          "output_type": "stream",
          "text": [
            "MoviePy - Done.\n",
            "Moviepy - Writing video /content/drive/MyDrive/0._HCM_AI_Challenge_2023/Data_Process/Cut_Video/video_scenes_L03/L03_V001/video_from_25907_to_25968.mp4\n",
            "\n"
          ]
        },
        {
          "name": "stderr",
          "output_type": "stream",
          "text": []
        },
        {
          "name": "stdout",
          "output_type": "stream",
          "text": [
            "Moviepy - Done !\n",
            "Moviepy - video ready /content/drive/MyDrive/0._HCM_AI_Challenge_2023/Data_Process/Cut_Video/video_scenes_L03/L03_V001/video_from_25907_to_25968.mp4\n",
            "Moviepy - Building video /content/drive/MyDrive/0._HCM_AI_Challenge_2023/Data_Process/Cut_Video/video_scenes_L03/L03_V001/video_from_25969_to_26042.mp4.\n",
            "MoviePy - Writing audio in video_from_25969_to_26042TEMP_MPY_wvf_snd.mp3\n"
          ]
        },
        {
          "name": "stderr",
          "output_type": "stream",
          "text": []
        },
        {
          "name": "stdout",
          "output_type": "stream",
          "text": [
            "MoviePy - Done.\n",
            "Moviepy - Writing video /content/drive/MyDrive/0._HCM_AI_Challenge_2023/Data_Process/Cut_Video/video_scenes_L03/L03_V001/video_from_25969_to_26042.mp4\n",
            "\n"
          ]
        },
        {
          "name": "stderr",
          "output_type": "stream",
          "text": []
        },
        {
          "name": "stdout",
          "output_type": "stream",
          "text": [
            "Moviepy - Done !\n",
            "Moviepy - video ready /content/drive/MyDrive/0._HCM_AI_Challenge_2023/Data_Process/Cut_Video/video_scenes_L03/L03_V001/video_from_25969_to_26042.mp4\n",
            "Moviepy - Building video /content/drive/MyDrive/0._HCM_AI_Challenge_2023/Data_Process/Cut_Video/video_scenes_L03/L03_V001/video_from_26043_to_26096.mp4.\n",
            "MoviePy - Writing audio in video_from_26043_to_26096TEMP_MPY_wvf_snd.mp3\n"
          ]
        },
        {
          "name": "stderr",
          "output_type": "stream",
          "text": []
        },
        {
          "name": "stdout",
          "output_type": "stream",
          "text": [
            "MoviePy - Done.\n",
            "Moviepy - Writing video /content/drive/MyDrive/0._HCM_AI_Challenge_2023/Data_Process/Cut_Video/video_scenes_L03/L03_V001/video_from_26043_to_26096.mp4\n",
            "\n"
          ]
        },
        {
          "name": "stderr",
          "output_type": "stream",
          "text": []
        },
        {
          "name": "stdout",
          "output_type": "stream",
          "text": [
            "Moviepy - Done !\n",
            "Moviepy - video ready /content/drive/MyDrive/0._HCM_AI_Challenge_2023/Data_Process/Cut_Video/video_scenes_L03/L03_V001/video_from_26043_to_26096.mp4\n",
            "Moviepy - Building video /content/drive/MyDrive/0._HCM_AI_Challenge_2023/Data_Process/Cut_Video/video_scenes_L03/L03_V001/video_from_26097_to_26156.mp4.\n",
            "MoviePy - Writing audio in video_from_26097_to_26156TEMP_MPY_wvf_snd.mp3\n"
          ]
        },
        {
          "name": "stderr",
          "output_type": "stream",
          "text": []
        },
        {
          "name": "stdout",
          "output_type": "stream",
          "text": [
            "MoviePy - Done.\n",
            "Moviepy - Writing video /content/drive/MyDrive/0._HCM_AI_Challenge_2023/Data_Process/Cut_Video/video_scenes_L03/L03_V001/video_from_26097_to_26156.mp4\n",
            "\n"
          ]
        },
        {
          "name": "stderr",
          "output_type": "stream",
          "text": []
        },
        {
          "name": "stdout",
          "output_type": "stream",
          "text": [
            "Moviepy - Done !\n",
            "Moviepy - video ready /content/drive/MyDrive/0._HCM_AI_Challenge_2023/Data_Process/Cut_Video/video_scenes_L03/L03_V001/video_from_26097_to_26156.mp4\n",
            "Moviepy - Building video /content/drive/MyDrive/0._HCM_AI_Challenge_2023/Data_Process/Cut_Video/video_scenes_L03/L03_V001/video_from_26157_to_26384.mp4.\n",
            "MoviePy - Writing audio in video_from_26157_to_26384TEMP_MPY_wvf_snd.mp3\n"
          ]
        },
        {
          "name": "stderr",
          "output_type": "stream",
          "text": []
        },
        {
          "name": "stdout",
          "output_type": "stream",
          "text": [
            "MoviePy - Done.\n",
            "Moviepy - Writing video /content/drive/MyDrive/0._HCM_AI_Challenge_2023/Data_Process/Cut_Video/video_scenes_L03/L03_V001/video_from_26157_to_26384.mp4\n",
            "\n"
          ]
        },
        {
          "name": "stderr",
          "output_type": "stream",
          "text": []
        },
        {
          "name": "stdout",
          "output_type": "stream",
          "text": [
            "Moviepy - Done !\n",
            "Moviepy - video ready /content/drive/MyDrive/0._HCM_AI_Challenge_2023/Data_Process/Cut_Video/video_scenes_L03/L03_V001/video_from_26157_to_26384.mp4\n",
            "Moviepy - Building video /content/drive/MyDrive/0._HCM_AI_Challenge_2023/Data_Process/Cut_Video/video_scenes_L03/L03_V001/video_from_26385_to_26431.mp4.\n",
            "MoviePy - Writing audio in video_from_26385_to_26431TEMP_MPY_wvf_snd.mp3\n"
          ]
        },
        {
          "name": "stderr",
          "output_type": "stream",
          "text": []
        },
        {
          "name": "stdout",
          "output_type": "stream",
          "text": [
            "MoviePy - Done.\n",
            "Moviepy - Writing video /content/drive/MyDrive/0._HCM_AI_Challenge_2023/Data_Process/Cut_Video/video_scenes_L03/L03_V001/video_from_26385_to_26431.mp4\n",
            "\n"
          ]
        },
        {
          "name": "stderr",
          "output_type": "stream",
          "text": []
        },
        {
          "name": "stdout",
          "output_type": "stream",
          "text": [
            "Moviepy - Done !\n",
            "Moviepy - video ready /content/drive/MyDrive/0._HCM_AI_Challenge_2023/Data_Process/Cut_Video/video_scenes_L03/L03_V001/video_from_26385_to_26431.mp4\n",
            "Moviepy - Building video /content/drive/MyDrive/0._HCM_AI_Challenge_2023/Data_Process/Cut_Video/video_scenes_L03/L03_V001/video_from_26432_to_26475.mp4.\n",
            "MoviePy - Writing audio in video_from_26432_to_26475TEMP_MPY_wvf_snd.mp3\n"
          ]
        },
        {
          "name": "stderr",
          "output_type": "stream",
          "text": []
        },
        {
          "name": "stdout",
          "output_type": "stream",
          "text": [
            "MoviePy - Done.\n",
            "Moviepy - Writing video /content/drive/MyDrive/0._HCM_AI_Challenge_2023/Data_Process/Cut_Video/video_scenes_L03/L03_V001/video_from_26432_to_26475.mp4\n",
            "\n"
          ]
        },
        {
          "name": "stderr",
          "output_type": "stream",
          "text": []
        },
        {
          "name": "stdout",
          "output_type": "stream",
          "text": [
            "Moviepy - Done !\n",
            "Moviepy - video ready /content/drive/MyDrive/0._HCM_AI_Challenge_2023/Data_Process/Cut_Video/video_scenes_L03/L03_V001/video_from_26432_to_26475.mp4\n",
            "Moviepy - Building video /content/drive/MyDrive/0._HCM_AI_Challenge_2023/Data_Process/Cut_Video/video_scenes_L03/L03_V001/video_from_26476_to_26525.mp4.\n",
            "MoviePy - Writing audio in video_from_26476_to_26525TEMP_MPY_wvf_snd.mp3\n"
          ]
        },
        {
          "name": "stderr",
          "output_type": "stream",
          "text": []
        },
        {
          "name": "stdout",
          "output_type": "stream",
          "text": [
            "MoviePy - Done.\n",
            "Moviepy - Writing video /content/drive/MyDrive/0._HCM_AI_Challenge_2023/Data_Process/Cut_Video/video_scenes_L03/L03_V001/video_from_26476_to_26525.mp4\n",
            "\n"
          ]
        },
        {
          "name": "stderr",
          "output_type": "stream",
          "text": []
        },
        {
          "name": "stdout",
          "output_type": "stream",
          "text": [
            "Moviepy - Done !\n",
            "Moviepy - video ready /content/drive/MyDrive/0._HCM_AI_Challenge_2023/Data_Process/Cut_Video/video_scenes_L03/L03_V001/video_from_26476_to_26525.mp4\n",
            "Moviepy - Building video /content/drive/MyDrive/0._HCM_AI_Challenge_2023/Data_Process/Cut_Video/video_scenes_L03/L03_V001/video_from_26526_to_26625.mp4.\n",
            "MoviePy - Writing audio in video_from_26526_to_26625TEMP_MPY_wvf_snd.mp3\n"
          ]
        },
        {
          "name": "stderr",
          "output_type": "stream",
          "text": []
        },
        {
          "name": "stdout",
          "output_type": "stream",
          "text": [
            "MoviePy - Done.\n",
            "Moviepy - Writing video /content/drive/MyDrive/0._HCM_AI_Challenge_2023/Data_Process/Cut_Video/video_scenes_L03/L03_V001/video_from_26526_to_26625.mp4\n",
            "\n"
          ]
        },
        {
          "name": "stderr",
          "output_type": "stream",
          "text": []
        },
        {
          "name": "stdout",
          "output_type": "stream",
          "text": [
            "Moviepy - Done !\n",
            "Moviepy - video ready /content/drive/MyDrive/0._HCM_AI_Challenge_2023/Data_Process/Cut_Video/video_scenes_L03/L03_V001/video_from_26526_to_26625.mp4\n",
            "Moviepy - Building video /content/drive/MyDrive/0._HCM_AI_Challenge_2023/Data_Process/Cut_Video/video_scenes_L03/L03_V001/video_from_26626_to_26673.mp4.\n",
            "MoviePy - Writing audio in video_from_26626_to_26673TEMP_MPY_wvf_snd.mp3\n"
          ]
        },
        {
          "name": "stderr",
          "output_type": "stream",
          "text": []
        },
        {
          "name": "stdout",
          "output_type": "stream",
          "text": [
            "MoviePy - Done.\n",
            "Moviepy - Writing video /content/drive/MyDrive/0._HCM_AI_Challenge_2023/Data_Process/Cut_Video/video_scenes_L03/L03_V001/video_from_26626_to_26673.mp4\n",
            "\n"
          ]
        },
        {
          "name": "stderr",
          "output_type": "stream",
          "text": []
        },
        {
          "name": "stdout",
          "output_type": "stream",
          "text": [
            "Moviepy - Done !\n",
            "Moviepy - video ready /content/drive/MyDrive/0._HCM_AI_Challenge_2023/Data_Process/Cut_Video/video_scenes_L03/L03_V001/video_from_26626_to_26673.mp4\n",
            "Moviepy - Building video /content/drive/MyDrive/0._HCM_AI_Challenge_2023/Data_Process/Cut_Video/video_scenes_L03/L03_V001/video_from_26674_to_26728.mp4.\n",
            "MoviePy - Writing audio in video_from_26674_to_26728TEMP_MPY_wvf_snd.mp3\n"
          ]
        },
        {
          "name": "stderr",
          "output_type": "stream",
          "text": []
        },
        {
          "name": "stdout",
          "output_type": "stream",
          "text": [
            "MoviePy - Done.\n",
            "Moviepy - Writing video /content/drive/MyDrive/0._HCM_AI_Challenge_2023/Data_Process/Cut_Video/video_scenes_L03/L03_V001/video_from_26674_to_26728.mp4\n",
            "\n"
          ]
        },
        {
          "name": "stderr",
          "output_type": "stream",
          "text": []
        },
        {
          "name": "stdout",
          "output_type": "stream",
          "text": [
            "Moviepy - Done !\n",
            "Moviepy - video ready /content/drive/MyDrive/0._HCM_AI_Challenge_2023/Data_Process/Cut_Video/video_scenes_L03/L03_V001/video_from_26674_to_26728.mp4\n",
            "Moviepy - Building video /content/drive/MyDrive/0._HCM_AI_Challenge_2023/Data_Process/Cut_Video/video_scenes_L03/L03_V001/video_from_26729_to_26784.mp4.\n",
            "MoviePy - Writing audio in video_from_26729_to_26784TEMP_MPY_wvf_snd.mp3\n"
          ]
        },
        {
          "name": "stderr",
          "output_type": "stream",
          "text": []
        },
        {
          "name": "stdout",
          "output_type": "stream",
          "text": [
            "MoviePy - Done.\n",
            "Moviepy - Writing video /content/drive/MyDrive/0._HCM_AI_Challenge_2023/Data_Process/Cut_Video/video_scenes_L03/L03_V001/video_from_26729_to_26784.mp4\n",
            "\n"
          ]
        },
        {
          "name": "stderr",
          "output_type": "stream",
          "text": []
        },
        {
          "name": "stdout",
          "output_type": "stream",
          "text": [
            "Moviepy - Done !\n",
            "Moviepy - video ready /content/drive/MyDrive/0._HCM_AI_Challenge_2023/Data_Process/Cut_Video/video_scenes_L03/L03_V001/video_from_26729_to_26784.mp4\n",
            "Moviepy - Building video /content/drive/MyDrive/0._HCM_AI_Challenge_2023/Data_Process/Cut_Video/video_scenes_L03/L03_V001/video_from_26785_to_26908.mp4.\n",
            "MoviePy - Writing audio in video_from_26785_to_26908TEMP_MPY_wvf_snd.mp3\n"
          ]
        },
        {
          "name": "stderr",
          "output_type": "stream",
          "text": []
        },
        {
          "name": "stdout",
          "output_type": "stream",
          "text": [
            "MoviePy - Done.\n",
            "Moviepy - Writing video /content/drive/MyDrive/0._HCM_AI_Challenge_2023/Data_Process/Cut_Video/video_scenes_L03/L03_V001/video_from_26785_to_26908.mp4\n",
            "\n"
          ]
        },
        {
          "name": "stderr",
          "output_type": "stream",
          "text": []
        },
        {
          "name": "stdout",
          "output_type": "stream",
          "text": [
            "Moviepy - Done !\n",
            "Moviepy - video ready /content/drive/MyDrive/0._HCM_AI_Challenge_2023/Data_Process/Cut_Video/video_scenes_L03/L03_V001/video_from_26785_to_26908.mp4\n",
            "Moviepy - Building video /content/drive/MyDrive/0._HCM_AI_Challenge_2023/Data_Process/Cut_Video/video_scenes_L03/L03_V001/video_from_26909_to_27007.mp4.\n",
            "MoviePy - Writing audio in video_from_26909_to_27007TEMP_MPY_wvf_snd.mp3\n"
          ]
        },
        {
          "name": "stderr",
          "output_type": "stream",
          "text": []
        },
        {
          "name": "stdout",
          "output_type": "stream",
          "text": [
            "MoviePy - Done.\n",
            "Moviepy - Writing video /content/drive/MyDrive/0._HCM_AI_Challenge_2023/Data_Process/Cut_Video/video_scenes_L03/L03_V001/video_from_26909_to_27007.mp4\n",
            "\n"
          ]
        },
        {
          "name": "stderr",
          "output_type": "stream",
          "text": []
        },
        {
          "name": "stdout",
          "output_type": "stream",
          "text": [
            "Moviepy - Done !\n",
            "Moviepy - video ready /content/drive/MyDrive/0._HCM_AI_Challenge_2023/Data_Process/Cut_Video/video_scenes_L03/L03_V001/video_from_26909_to_27007.mp4\n",
            "Moviepy - Building video /content/drive/MyDrive/0._HCM_AI_Challenge_2023/Data_Process/Cut_Video/video_scenes_L03/L03_V001/video_from_27008_to_27068.mp4.\n",
            "MoviePy - Writing audio in video_from_27008_to_27068TEMP_MPY_wvf_snd.mp3\n"
          ]
        },
        {
          "name": "stderr",
          "output_type": "stream",
          "text": []
        },
        {
          "name": "stdout",
          "output_type": "stream",
          "text": [
            "MoviePy - Done.\n",
            "Moviepy - Writing video /content/drive/MyDrive/0._HCM_AI_Challenge_2023/Data_Process/Cut_Video/video_scenes_L03/L03_V001/video_from_27008_to_27068.mp4\n",
            "\n"
          ]
        },
        {
          "name": "stderr",
          "output_type": "stream",
          "text": []
        },
        {
          "name": "stdout",
          "output_type": "stream",
          "text": [
            "Moviepy - Done !\n",
            "Moviepy - video ready /content/drive/MyDrive/0._HCM_AI_Challenge_2023/Data_Process/Cut_Video/video_scenes_L03/L03_V001/video_from_27008_to_27068.mp4\n",
            "Moviepy - Building video /content/drive/MyDrive/0._HCM_AI_Challenge_2023/Data_Process/Cut_Video/video_scenes_L03/L03_V001/video_from_27069_to_27118.mp4.\n",
            "MoviePy - Writing audio in video_from_27069_to_27118TEMP_MPY_wvf_snd.mp3\n"
          ]
        },
        {
          "name": "stderr",
          "output_type": "stream",
          "text": []
        },
        {
          "name": "stdout",
          "output_type": "stream",
          "text": [
            "MoviePy - Done.\n",
            "Moviepy - Writing video /content/drive/MyDrive/0._HCM_AI_Challenge_2023/Data_Process/Cut_Video/video_scenes_L03/L03_V001/video_from_27069_to_27118.mp4\n",
            "\n"
          ]
        },
        {
          "name": "stderr",
          "output_type": "stream",
          "text": []
        },
        {
          "name": "stdout",
          "output_type": "stream",
          "text": [
            "Moviepy - Done !\n",
            "Moviepy - video ready /content/drive/MyDrive/0._HCM_AI_Challenge_2023/Data_Process/Cut_Video/video_scenes_L03/L03_V001/video_from_27069_to_27118.mp4\n",
            "Moviepy - Building video /content/drive/MyDrive/0._HCM_AI_Challenge_2023/Data_Process/Cut_Video/video_scenes_L03/L03_V001/video_from_27119_to_27175.mp4.\n",
            "MoviePy - Writing audio in video_from_27119_to_27175TEMP_MPY_wvf_snd.mp3\n"
          ]
        },
        {
          "name": "stderr",
          "output_type": "stream",
          "text": []
        },
        {
          "name": "stdout",
          "output_type": "stream",
          "text": [
            "MoviePy - Done.\n",
            "Moviepy - Writing video /content/drive/MyDrive/0._HCM_AI_Challenge_2023/Data_Process/Cut_Video/video_scenes_L03/L03_V001/video_from_27119_to_27175.mp4\n",
            "\n"
          ]
        },
        {
          "name": "stderr",
          "output_type": "stream",
          "text": []
        },
        {
          "name": "stdout",
          "output_type": "stream",
          "text": [
            "Moviepy - Done !\n",
            "Moviepy - video ready /content/drive/MyDrive/0._HCM_AI_Challenge_2023/Data_Process/Cut_Video/video_scenes_L03/L03_V001/video_from_27119_to_27175.mp4\n",
            "Moviepy - Building video /content/drive/MyDrive/0._HCM_AI_Challenge_2023/Data_Process/Cut_Video/video_scenes_L03/L03_V001/video_from_27176_to_27287.mp4.\n",
            "MoviePy - Writing audio in video_from_27176_to_27287TEMP_MPY_wvf_snd.mp3\n"
          ]
        },
        {
          "name": "stderr",
          "output_type": "stream",
          "text": []
        },
        {
          "name": "stdout",
          "output_type": "stream",
          "text": [
            "MoviePy - Done.\n",
            "Moviepy - Writing video /content/drive/MyDrive/0._HCM_AI_Challenge_2023/Data_Process/Cut_Video/video_scenes_L03/L03_V001/video_from_27176_to_27287.mp4\n",
            "\n"
          ]
        },
        {
          "name": "stderr",
          "output_type": "stream",
          "text": []
        },
        {
          "name": "stdout",
          "output_type": "stream",
          "text": [
            "Moviepy - Done !\n",
            "Moviepy - video ready /content/drive/MyDrive/0._HCM_AI_Challenge_2023/Data_Process/Cut_Video/video_scenes_L03/L03_V001/video_from_27176_to_27287.mp4\n",
            "Moviepy - Building video /content/drive/MyDrive/0._HCM_AI_Challenge_2023/Data_Process/Cut_Video/video_scenes_L03/L03_V001/video_from_27288_to_27345.mp4.\n",
            "MoviePy - Writing audio in video_from_27288_to_27345TEMP_MPY_wvf_snd.mp3\n"
          ]
        },
        {
          "name": "stderr",
          "output_type": "stream",
          "text": []
        },
        {
          "name": "stdout",
          "output_type": "stream",
          "text": [
            "MoviePy - Done.\n",
            "Moviepy - Writing video /content/drive/MyDrive/0._HCM_AI_Challenge_2023/Data_Process/Cut_Video/video_scenes_L03/L03_V001/video_from_27288_to_27345.mp4\n",
            "\n"
          ]
        },
        {
          "name": "stderr",
          "output_type": "stream",
          "text": []
        },
        {
          "name": "stdout",
          "output_type": "stream",
          "text": [
            "Moviepy - Done !\n",
            "Moviepy - video ready /content/drive/MyDrive/0._HCM_AI_Challenge_2023/Data_Process/Cut_Video/video_scenes_L03/L03_V001/video_from_27288_to_27345.mp4\n",
            "Moviepy - Building video /content/drive/MyDrive/0._HCM_AI_Challenge_2023/Data_Process/Cut_Video/video_scenes_L03/L03_V001/video_from_27346_to_27409.mp4.\n",
            "MoviePy - Writing audio in video_from_27346_to_27409TEMP_MPY_wvf_snd.mp3\n"
          ]
        },
        {
          "name": "stderr",
          "output_type": "stream",
          "text": []
        },
        {
          "name": "stdout",
          "output_type": "stream",
          "text": [
            "MoviePy - Done.\n",
            "Moviepy - Writing video /content/drive/MyDrive/0._HCM_AI_Challenge_2023/Data_Process/Cut_Video/video_scenes_L03/L03_V001/video_from_27346_to_27409.mp4\n",
            "\n"
          ]
        },
        {
          "name": "stderr",
          "output_type": "stream",
          "text": []
        },
        {
          "name": "stdout",
          "output_type": "stream",
          "text": [
            "Moviepy - Done !\n",
            "Moviepy - video ready /content/drive/MyDrive/0._HCM_AI_Challenge_2023/Data_Process/Cut_Video/video_scenes_L03/L03_V001/video_from_27346_to_27409.mp4\n",
            "Moviepy - Building video /content/drive/MyDrive/0._HCM_AI_Challenge_2023/Data_Process/Cut_Video/video_scenes_L03/L03_V001/video_from_27410_to_27484.mp4.\n",
            "MoviePy - Writing audio in video_from_27410_to_27484TEMP_MPY_wvf_snd.mp3\n"
          ]
        },
        {
          "name": "stderr",
          "output_type": "stream",
          "text": []
        },
        {
          "name": "stdout",
          "output_type": "stream",
          "text": [
            "MoviePy - Done.\n",
            "Moviepy - Writing video /content/drive/MyDrive/0._HCM_AI_Challenge_2023/Data_Process/Cut_Video/video_scenes_L03/L03_V001/video_from_27410_to_27484.mp4\n",
            "\n"
          ]
        },
        {
          "name": "stderr",
          "output_type": "stream",
          "text": []
        },
        {
          "name": "stdout",
          "output_type": "stream",
          "text": [
            "Moviepy - Done !\n",
            "Moviepy - video ready /content/drive/MyDrive/0._HCM_AI_Challenge_2023/Data_Process/Cut_Video/video_scenes_L03/L03_V001/video_from_27410_to_27484.mp4\n",
            "Moviepy - Building video /content/drive/MyDrive/0._HCM_AI_Challenge_2023/Data_Process/Cut_Video/video_scenes_L03/L03_V001/video_from_27485_to_27539.mp4.\n",
            "MoviePy - Writing audio in video_from_27485_to_27539TEMP_MPY_wvf_snd.mp3\n"
          ]
        },
        {
          "name": "stderr",
          "output_type": "stream",
          "text": []
        },
        {
          "name": "stdout",
          "output_type": "stream",
          "text": [
            "MoviePy - Done.\n",
            "Moviepy - Writing video /content/drive/MyDrive/0._HCM_AI_Challenge_2023/Data_Process/Cut_Video/video_scenes_L03/L03_V001/video_from_27485_to_27539.mp4\n",
            "\n"
          ]
        },
        {
          "name": "stderr",
          "output_type": "stream",
          "text": []
        },
        {
          "name": "stdout",
          "output_type": "stream",
          "text": [
            "Moviepy - Done !\n",
            "Moviepy - video ready /content/drive/MyDrive/0._HCM_AI_Challenge_2023/Data_Process/Cut_Video/video_scenes_L03/L03_V001/video_from_27485_to_27539.mp4\n",
            "Moviepy - Building video /content/drive/MyDrive/0._HCM_AI_Challenge_2023/Data_Process/Cut_Video/video_scenes_L03/L03_V001/video_from_27540_to_27610.mp4.\n",
            "MoviePy - Writing audio in video_from_27540_to_27610TEMP_MPY_wvf_snd.mp3\n"
          ]
        },
        {
          "name": "stderr",
          "output_type": "stream",
          "text": []
        },
        {
          "name": "stdout",
          "output_type": "stream",
          "text": [
            "MoviePy - Done.\n",
            "Moviepy - Writing video /content/drive/MyDrive/0._HCM_AI_Challenge_2023/Data_Process/Cut_Video/video_scenes_L03/L03_V001/video_from_27540_to_27610.mp4\n",
            "\n"
          ]
        },
        {
          "name": "stderr",
          "output_type": "stream",
          "text": []
        },
        {
          "name": "stdout",
          "output_type": "stream",
          "text": [
            "Moviepy - Done !\n",
            "Moviepy - video ready /content/drive/MyDrive/0._HCM_AI_Challenge_2023/Data_Process/Cut_Video/video_scenes_L03/L03_V001/video_from_27540_to_27610.mp4\n",
            "Moviepy - Building video /content/drive/MyDrive/0._HCM_AI_Challenge_2023/Data_Process/Cut_Video/video_scenes_L03/L03_V001/video_from_27611_to_27633.mp4.\n",
            "MoviePy - Writing audio in video_from_27611_to_27633TEMP_MPY_wvf_snd.mp3\n"
          ]
        },
        {
          "name": "stderr",
          "output_type": "stream",
          "text": []
        },
        {
          "name": "stdout",
          "output_type": "stream",
          "text": [
            "MoviePy - Done.\n",
            "Moviepy - Writing video /content/drive/MyDrive/0._HCM_AI_Challenge_2023/Data_Process/Cut_Video/video_scenes_L03/L03_V001/video_from_27611_to_27633.mp4\n",
            "\n"
          ]
        },
        {
          "name": "stderr",
          "output_type": "stream",
          "text": []
        },
        {
          "name": "stdout",
          "output_type": "stream",
          "text": [
            "Moviepy - Done !\n",
            "Moviepy - video ready /content/drive/MyDrive/0._HCM_AI_Challenge_2023/Data_Process/Cut_Video/video_scenes_L03/L03_V001/video_from_27611_to_27633.mp4\n",
            "Moviepy - Building video /content/drive/MyDrive/0._HCM_AI_Challenge_2023/Data_Process/Cut_Video/video_scenes_L03/L03_V001/video_from_27634_to_27669.mp4.\n",
            "MoviePy - Writing audio in video_from_27634_to_27669TEMP_MPY_wvf_snd.mp3\n"
          ]
        },
        {
          "name": "stderr",
          "output_type": "stream",
          "text": []
        },
        {
          "name": "stdout",
          "output_type": "stream",
          "text": [
            "MoviePy - Done.\n",
            "Moviepy - Writing video /content/drive/MyDrive/0._HCM_AI_Challenge_2023/Data_Process/Cut_Video/video_scenes_L03/L03_V001/video_from_27634_to_27669.mp4\n",
            "\n"
          ]
        },
        {
          "name": "stderr",
          "output_type": "stream",
          "text": []
        },
        {
          "name": "stdout",
          "output_type": "stream",
          "text": [
            "Moviepy - Done !\n",
            "Moviepy - video ready /content/drive/MyDrive/0._HCM_AI_Challenge_2023/Data_Process/Cut_Video/video_scenes_L03/L03_V001/video_from_27634_to_27669.mp4\n",
            "Moviepy - Building video /content/drive/MyDrive/0._HCM_AI_Challenge_2023/Data_Process/Cut_Video/video_scenes_L03/L03_V001/video_from_27670_to_27735.mp4.\n",
            "MoviePy - Writing audio in video_from_27670_to_27735TEMP_MPY_wvf_snd.mp3\n"
          ]
        },
        {
          "name": "stderr",
          "output_type": "stream",
          "text": []
        },
        {
          "name": "stdout",
          "output_type": "stream",
          "text": [
            "MoviePy - Done.\n",
            "Moviepy - Writing video /content/drive/MyDrive/0._HCM_AI_Challenge_2023/Data_Process/Cut_Video/video_scenes_L03/L03_V001/video_from_27670_to_27735.mp4\n",
            "\n"
          ]
        },
        {
          "name": "stderr",
          "output_type": "stream",
          "text": []
        },
        {
          "name": "stdout",
          "output_type": "stream",
          "text": [
            "Moviepy - Done !\n",
            "Moviepy - video ready /content/drive/MyDrive/0._HCM_AI_Challenge_2023/Data_Process/Cut_Video/video_scenes_L03/L03_V001/video_from_27670_to_27735.mp4\n",
            "Moviepy - Building video /content/drive/MyDrive/0._HCM_AI_Challenge_2023/Data_Process/Cut_Video/video_scenes_L03/L03_V001/video_from_27736_to_28011.mp4.\n",
            "MoviePy - Writing audio in video_from_27736_to_28011TEMP_MPY_wvf_snd.mp3\n"
          ]
        },
        {
          "name": "stderr",
          "output_type": "stream",
          "text": []
        },
        {
          "name": "stdout",
          "output_type": "stream",
          "text": [
            "MoviePy - Done.\n",
            "Moviepy - Writing video /content/drive/MyDrive/0._HCM_AI_Challenge_2023/Data_Process/Cut_Video/video_scenes_L03/L03_V001/video_from_27736_to_28011.mp4\n",
            "\n"
          ]
        },
        {
          "name": "stderr",
          "output_type": "stream",
          "text": []
        },
        {
          "name": "stdout",
          "output_type": "stream",
          "text": [
            "Moviepy - Done !\n",
            "Moviepy - video ready /content/drive/MyDrive/0._HCM_AI_Challenge_2023/Data_Process/Cut_Video/video_scenes_L03/L03_V001/video_from_27736_to_28011.mp4\n",
            "Moviepy - Building video /content/drive/MyDrive/0._HCM_AI_Challenge_2023/Data_Process/Cut_Video/video_scenes_L03/L03_V001/video_from_28012_to_28056.mp4.\n",
            "MoviePy - Writing audio in video_from_28012_to_28056TEMP_MPY_wvf_snd.mp3\n"
          ]
        },
        {
          "name": "stderr",
          "output_type": "stream",
          "text": []
        },
        {
          "name": "stdout",
          "output_type": "stream",
          "text": [
            "MoviePy - Done.\n",
            "Moviepy - Writing video /content/drive/MyDrive/0._HCM_AI_Challenge_2023/Data_Process/Cut_Video/video_scenes_L03/L03_V001/video_from_28012_to_28056.mp4\n",
            "\n"
          ]
        },
        {
          "name": "stderr",
          "output_type": "stream",
          "text": []
        },
        {
          "name": "stdout",
          "output_type": "stream",
          "text": [
            "Moviepy - Done !\n",
            "Moviepy - video ready /content/drive/MyDrive/0._HCM_AI_Challenge_2023/Data_Process/Cut_Video/video_scenes_L03/L03_V001/video_from_28012_to_28056.mp4\n",
            "Moviepy - Building video /content/drive/MyDrive/0._HCM_AI_Challenge_2023/Data_Process/Cut_Video/video_scenes_L03/L03_V001/video_from_28057_to_28100.mp4.\n",
            "MoviePy - Writing audio in video_from_28057_to_28100TEMP_MPY_wvf_snd.mp3\n"
          ]
        },
        {
          "name": "stderr",
          "output_type": "stream",
          "text": []
        },
        {
          "name": "stdout",
          "output_type": "stream",
          "text": [
            "MoviePy - Done.\n",
            "Moviepy - Writing video /content/drive/MyDrive/0._HCM_AI_Challenge_2023/Data_Process/Cut_Video/video_scenes_L03/L03_V001/video_from_28057_to_28100.mp4\n",
            "\n"
          ]
        },
        {
          "name": "stderr",
          "output_type": "stream",
          "text": []
        },
        {
          "name": "stdout",
          "output_type": "stream",
          "text": [
            "Moviepy - Done !\n",
            "Moviepy - video ready /content/drive/MyDrive/0._HCM_AI_Challenge_2023/Data_Process/Cut_Video/video_scenes_L03/L03_V001/video_from_28057_to_28100.mp4\n",
            "Moviepy - Building video /content/drive/MyDrive/0._HCM_AI_Challenge_2023/Data_Process/Cut_Video/video_scenes_L03/L03_V001/video_from_28101_to_28154.mp4.\n",
            "MoviePy - Writing audio in video_from_28101_to_28154TEMP_MPY_wvf_snd.mp3\n"
          ]
        },
        {
          "name": "stderr",
          "output_type": "stream",
          "text": []
        },
        {
          "name": "stdout",
          "output_type": "stream",
          "text": [
            "MoviePy - Done.\n",
            "Moviepy - Writing video /content/drive/MyDrive/0._HCM_AI_Challenge_2023/Data_Process/Cut_Video/video_scenes_L03/L03_V001/video_from_28101_to_28154.mp4\n",
            "\n"
          ]
        },
        {
          "name": "stderr",
          "output_type": "stream",
          "text": []
        },
        {
          "name": "stdout",
          "output_type": "stream",
          "text": [
            "Moviepy - Done !\n",
            "Moviepy - video ready /content/drive/MyDrive/0._HCM_AI_Challenge_2023/Data_Process/Cut_Video/video_scenes_L03/L03_V001/video_from_28101_to_28154.mp4\n",
            "Moviepy - Building video /content/drive/MyDrive/0._HCM_AI_Challenge_2023/Data_Process/Cut_Video/video_scenes_L03/L03_V001/video_from_28155_to_28232.mp4.\n",
            "MoviePy - Writing audio in video_from_28155_to_28232TEMP_MPY_wvf_snd.mp3\n"
          ]
        },
        {
          "name": "stderr",
          "output_type": "stream",
          "text": []
        },
        {
          "name": "stdout",
          "output_type": "stream",
          "text": [
            "MoviePy - Done.\n",
            "Moviepy - Writing video /content/drive/MyDrive/0._HCM_AI_Challenge_2023/Data_Process/Cut_Video/video_scenes_L03/L03_V001/video_from_28155_to_28232.mp4\n",
            "\n"
          ]
        },
        {
          "name": "stderr",
          "output_type": "stream",
          "text": []
        },
        {
          "name": "stdout",
          "output_type": "stream",
          "text": [
            "Moviepy - Done !\n",
            "Moviepy - video ready /content/drive/MyDrive/0._HCM_AI_Challenge_2023/Data_Process/Cut_Video/video_scenes_L03/L03_V001/video_from_28155_to_28232.mp4\n",
            "Moviepy - Building video /content/drive/MyDrive/0._HCM_AI_Challenge_2023/Data_Process/Cut_Video/video_scenes_L03/L03_V001/video_from_28233_to_28311.mp4.\n",
            "MoviePy - Writing audio in video_from_28233_to_28311TEMP_MPY_wvf_snd.mp3\n"
          ]
        },
        {
          "name": "stderr",
          "output_type": "stream",
          "text": []
        },
        {
          "name": "stdout",
          "output_type": "stream",
          "text": [
            "MoviePy - Done.\n",
            "Moviepy - Writing video /content/drive/MyDrive/0._HCM_AI_Challenge_2023/Data_Process/Cut_Video/video_scenes_L03/L03_V001/video_from_28233_to_28311.mp4\n",
            "\n"
          ]
        },
        {
          "name": "stderr",
          "output_type": "stream",
          "text": []
        },
        {
          "name": "stdout",
          "output_type": "stream",
          "text": [
            "Moviepy - Done !\n",
            "Moviepy - video ready /content/drive/MyDrive/0._HCM_AI_Challenge_2023/Data_Process/Cut_Video/video_scenes_L03/L03_V001/video_from_28233_to_28311.mp4\n",
            "Moviepy - Building video /content/drive/MyDrive/0._HCM_AI_Challenge_2023/Data_Process/Cut_Video/video_scenes_L03/L03_V001/video_from_28312_to_28369.mp4.\n",
            "MoviePy - Writing audio in video_from_28312_to_28369TEMP_MPY_wvf_snd.mp3\n"
          ]
        },
        {
          "name": "stderr",
          "output_type": "stream",
          "text": []
        },
        {
          "name": "stdout",
          "output_type": "stream",
          "text": [
            "MoviePy - Done.\n",
            "Moviepy - Writing video /content/drive/MyDrive/0._HCM_AI_Challenge_2023/Data_Process/Cut_Video/video_scenes_L03/L03_V001/video_from_28312_to_28369.mp4\n",
            "\n"
          ]
        },
        {
          "name": "stderr",
          "output_type": "stream",
          "text": []
        },
        {
          "name": "stdout",
          "output_type": "stream",
          "text": [
            "Moviepy - Done !\n",
            "Moviepy - video ready /content/drive/MyDrive/0._HCM_AI_Challenge_2023/Data_Process/Cut_Video/video_scenes_L03/L03_V001/video_from_28312_to_28369.mp4\n",
            "Moviepy - Building video /content/drive/MyDrive/0._HCM_AI_Challenge_2023/Data_Process/Cut_Video/video_scenes_L03/L03_V001/video_from_28370_to_28424.mp4.\n",
            "MoviePy - Writing audio in video_from_28370_to_28424TEMP_MPY_wvf_snd.mp3\n"
          ]
        },
        {
          "name": "stderr",
          "output_type": "stream",
          "text": []
        },
        {
          "name": "stdout",
          "output_type": "stream",
          "text": [
            "MoviePy - Done.\n",
            "Moviepy - Writing video /content/drive/MyDrive/0._HCM_AI_Challenge_2023/Data_Process/Cut_Video/video_scenes_L03/L03_V001/video_from_28370_to_28424.mp4\n",
            "\n"
          ]
        },
        {
          "name": "stderr",
          "output_type": "stream",
          "text": []
        },
        {
          "name": "stdout",
          "output_type": "stream",
          "text": [
            "Moviepy - Done !\n",
            "Moviepy - video ready /content/drive/MyDrive/0._HCM_AI_Challenge_2023/Data_Process/Cut_Video/video_scenes_L03/L03_V001/video_from_28370_to_28424.mp4\n",
            "Moviepy - Building video /content/drive/MyDrive/0._HCM_AI_Challenge_2023/Data_Process/Cut_Video/video_scenes_L03/L03_V001/video_from_28425_to_28435.mp4.\n",
            "MoviePy - Writing audio in video_from_28425_to_28435TEMP_MPY_wvf_snd.mp3\n"
          ]
        },
        {
          "name": "stderr",
          "output_type": "stream",
          "text": []
        },
        {
          "name": "stdout",
          "output_type": "stream",
          "text": [
            "MoviePy - Done.\n",
            "Moviepy - Writing video /content/drive/MyDrive/0._HCM_AI_Challenge_2023/Data_Process/Cut_Video/video_scenes_L03/L03_V001/video_from_28425_to_28435.mp4\n",
            "\n"
          ]
        },
        {
          "name": "stderr",
          "output_type": "stream",
          "text": []
        },
        {
          "name": "stdout",
          "output_type": "stream",
          "text": [
            "Moviepy - Done !\n",
            "Moviepy - video ready /content/drive/MyDrive/0._HCM_AI_Challenge_2023/Data_Process/Cut_Video/video_scenes_L03/L03_V001/video_from_28425_to_28435.mp4\n",
            "Moviepy - Building video /content/drive/MyDrive/0._HCM_AI_Challenge_2023/Data_Process/Cut_Video/video_scenes_L03/L03_V001/video_from_28436_to_28480.mp4.\n",
            "MoviePy - Writing audio in video_from_28436_to_28480TEMP_MPY_wvf_snd.mp3\n"
          ]
        },
        {
          "name": "stderr",
          "output_type": "stream",
          "text": []
        },
        {
          "name": "stdout",
          "output_type": "stream",
          "text": [
            "MoviePy - Done.\n",
            "Moviepy - Writing video /content/drive/MyDrive/0._HCM_AI_Challenge_2023/Data_Process/Cut_Video/video_scenes_L03/L03_V001/video_from_28436_to_28480.mp4\n",
            "\n"
          ]
        },
        {
          "name": "stderr",
          "output_type": "stream",
          "text": []
        },
        {
          "name": "stdout",
          "output_type": "stream",
          "text": [
            "Moviepy - Done !\n",
            "Moviepy - video ready /content/drive/MyDrive/0._HCM_AI_Challenge_2023/Data_Process/Cut_Video/video_scenes_L03/L03_V001/video_from_28436_to_28480.mp4\n",
            "Moviepy - Building video /content/drive/MyDrive/0._HCM_AI_Challenge_2023/Data_Process/Cut_Video/video_scenes_L03/L03_V001/video_from_28481_to_28542.mp4.\n",
            "MoviePy - Writing audio in video_from_28481_to_28542TEMP_MPY_wvf_snd.mp3\n"
          ]
        },
        {
          "name": "stderr",
          "output_type": "stream",
          "text": []
        },
        {
          "name": "stdout",
          "output_type": "stream",
          "text": [
            "MoviePy - Done.\n",
            "Moviepy - Writing video /content/drive/MyDrive/0._HCM_AI_Challenge_2023/Data_Process/Cut_Video/video_scenes_L03/L03_V001/video_from_28481_to_28542.mp4\n",
            "\n"
          ]
        },
        {
          "name": "stderr",
          "output_type": "stream",
          "text": []
        },
        {
          "name": "stdout",
          "output_type": "stream",
          "text": [
            "Moviepy - Done !\n",
            "Moviepy - video ready /content/drive/MyDrive/0._HCM_AI_Challenge_2023/Data_Process/Cut_Video/video_scenes_L03/L03_V001/video_from_28481_to_28542.mp4\n",
            "Moviepy - Building video /content/drive/MyDrive/0._HCM_AI_Challenge_2023/Data_Process/Cut_Video/video_scenes_L03/L03_V001/video_from_28543_to_28647.mp4.\n",
            "MoviePy - Writing audio in video_from_28543_to_28647TEMP_MPY_wvf_snd.mp3\n"
          ]
        },
        {
          "name": "stderr",
          "output_type": "stream",
          "text": []
        },
        {
          "name": "stdout",
          "output_type": "stream",
          "text": [
            "MoviePy - Done.\n",
            "Moviepy - Writing video /content/drive/MyDrive/0._HCM_AI_Challenge_2023/Data_Process/Cut_Video/video_scenes_L03/L03_V001/video_from_28543_to_28647.mp4\n",
            "\n"
          ]
        },
        {
          "name": "stderr",
          "output_type": "stream",
          "text": []
        },
        {
          "name": "stdout",
          "output_type": "stream",
          "text": [
            "Moviepy - Done !\n",
            "Moviepy - video ready /content/drive/MyDrive/0._HCM_AI_Challenge_2023/Data_Process/Cut_Video/video_scenes_L03/L03_V001/video_from_28543_to_28647.mp4\n",
            "Moviepy - Building video /content/drive/MyDrive/0._HCM_AI_Challenge_2023/Data_Process/Cut_Video/video_scenes_L03/L03_V001/video_from_28648_to_28698.mp4.\n",
            "MoviePy - Writing audio in video_from_28648_to_28698TEMP_MPY_wvf_snd.mp3\n"
          ]
        },
        {
          "name": "stderr",
          "output_type": "stream",
          "text": []
        },
        {
          "name": "stdout",
          "output_type": "stream",
          "text": [
            "MoviePy - Done.\n",
            "Moviepy - Writing video /content/drive/MyDrive/0._HCM_AI_Challenge_2023/Data_Process/Cut_Video/video_scenes_L03/L03_V001/video_from_28648_to_28698.mp4\n",
            "\n"
          ]
        },
        {
          "name": "stderr",
          "output_type": "stream",
          "text": []
        },
        {
          "name": "stdout",
          "output_type": "stream",
          "text": [
            "Moviepy - Done !\n",
            "Moviepy - video ready /content/drive/MyDrive/0._HCM_AI_Challenge_2023/Data_Process/Cut_Video/video_scenes_L03/L03_V001/video_from_28648_to_28698.mp4\n",
            "Moviepy - Building video /content/drive/MyDrive/0._HCM_AI_Challenge_2023/Data_Process/Cut_Video/video_scenes_L03/L03_V001/video_from_28699_to_28754.mp4.\n",
            "MoviePy - Writing audio in video_from_28699_to_28754TEMP_MPY_wvf_snd.mp3\n"
          ]
        },
        {
          "name": "stderr",
          "output_type": "stream",
          "text": []
        },
        {
          "name": "stdout",
          "output_type": "stream",
          "text": [
            "MoviePy - Done.\n",
            "Moviepy - Writing video /content/drive/MyDrive/0._HCM_AI_Challenge_2023/Data_Process/Cut_Video/video_scenes_L03/L03_V001/video_from_28699_to_28754.mp4\n",
            "\n"
          ]
        },
        {
          "name": "stderr",
          "output_type": "stream",
          "text": []
        },
        {
          "name": "stdout",
          "output_type": "stream",
          "text": [
            "Moviepy - Done !\n",
            "Moviepy - video ready /content/drive/MyDrive/0._HCM_AI_Challenge_2023/Data_Process/Cut_Video/video_scenes_L03/L03_V001/video_from_28699_to_28754.mp4\n",
            "Moviepy - Building video /content/drive/MyDrive/0._HCM_AI_Challenge_2023/Data_Process/Cut_Video/video_scenes_L03/L03_V001/video_from_28755_to_28814.mp4.\n",
            "MoviePy - Writing audio in video_from_28755_to_28814TEMP_MPY_wvf_snd.mp3\n"
          ]
        },
        {
          "name": "stderr",
          "output_type": "stream",
          "text": []
        },
        {
          "name": "stdout",
          "output_type": "stream",
          "text": [
            "MoviePy - Done.\n",
            "Moviepy - Writing video /content/drive/MyDrive/0._HCM_AI_Challenge_2023/Data_Process/Cut_Video/video_scenes_L03/L03_V001/video_from_28755_to_28814.mp4\n",
            "\n"
          ]
        },
        {
          "name": "stderr",
          "output_type": "stream",
          "text": []
        },
        {
          "name": "stdout",
          "output_type": "stream",
          "text": [
            "Moviepy - Done !\n",
            "Moviepy - video ready /content/drive/MyDrive/0._HCM_AI_Challenge_2023/Data_Process/Cut_Video/video_scenes_L03/L03_V001/video_from_28755_to_28814.mp4\n",
            "Moviepy - Building video /content/drive/MyDrive/0._HCM_AI_Challenge_2023/Data_Process/Cut_Video/video_scenes_L03/L03_V001/video_from_28815_to_28826.mp4.\n",
            "MoviePy - Writing audio in video_from_28815_to_28826TEMP_MPY_wvf_snd.mp3\n"
          ]
        },
        {
          "name": "stderr",
          "output_type": "stream",
          "text": []
        },
        {
          "name": "stdout",
          "output_type": "stream",
          "text": [
            "MoviePy - Done.\n",
            "Moviepy - Writing video /content/drive/MyDrive/0._HCM_AI_Challenge_2023/Data_Process/Cut_Video/video_scenes_L03/L03_V001/video_from_28815_to_28826.mp4\n",
            "\n"
          ]
        },
        {
          "name": "stderr",
          "output_type": "stream",
          "text": []
        },
        {
          "name": "stdout",
          "output_type": "stream",
          "text": [
            "Moviepy - Done !\n",
            "Moviepy - video ready /content/drive/MyDrive/0._HCM_AI_Challenge_2023/Data_Process/Cut_Video/video_scenes_L03/L03_V001/video_from_28815_to_28826.mp4\n",
            "Moviepy - Building video /content/drive/MyDrive/0._HCM_AI_Challenge_2023/Data_Process/Cut_Video/video_scenes_L03/L03_V001/video_from_28827_to_28880.mp4.\n",
            "MoviePy - Writing audio in video_from_28827_to_28880TEMP_MPY_wvf_snd.mp3\n"
          ]
        },
        {
          "name": "stderr",
          "output_type": "stream",
          "text": []
        },
        {
          "name": "stdout",
          "output_type": "stream",
          "text": [
            "MoviePy - Done.\n",
            "Moviepy - Writing video /content/drive/MyDrive/0._HCM_AI_Challenge_2023/Data_Process/Cut_Video/video_scenes_L03/L03_V001/video_from_28827_to_28880.mp4\n",
            "\n"
          ]
        },
        {
          "name": "stderr",
          "output_type": "stream",
          "text": []
        },
        {
          "name": "stdout",
          "output_type": "stream",
          "text": [
            "Moviepy - Done !\n",
            "Moviepy - video ready /content/drive/MyDrive/0._HCM_AI_Challenge_2023/Data_Process/Cut_Video/video_scenes_L03/L03_V001/video_from_28827_to_28880.mp4\n",
            "Moviepy - Building video /content/drive/MyDrive/0._HCM_AI_Challenge_2023/Data_Process/Cut_Video/video_scenes_L03/L03_V001/video_from_28881_to_28915.mp4.\n",
            "MoviePy - Writing audio in video_from_28881_to_28915TEMP_MPY_wvf_snd.mp3\n"
          ]
        },
        {
          "name": "stderr",
          "output_type": "stream",
          "text": []
        },
        {
          "name": "stdout",
          "output_type": "stream",
          "text": [
            "MoviePy - Done.\n",
            "Moviepy - Writing video /content/drive/MyDrive/0._HCM_AI_Challenge_2023/Data_Process/Cut_Video/video_scenes_L03/L03_V001/video_from_28881_to_28915.mp4\n",
            "\n"
          ]
        },
        {
          "name": "stderr",
          "output_type": "stream",
          "text": []
        },
        {
          "name": "stdout",
          "output_type": "stream",
          "text": [
            "Moviepy - Done !\n",
            "Moviepy - video ready /content/drive/MyDrive/0._HCM_AI_Challenge_2023/Data_Process/Cut_Video/video_scenes_L03/L03_V001/video_from_28881_to_28915.mp4\n",
            "Moviepy - Building video /content/drive/MyDrive/0._HCM_AI_Challenge_2023/Data_Process/Cut_Video/video_scenes_L03/L03_V001/video_from_28916_to_28962.mp4.\n",
            "MoviePy - Writing audio in video_from_28916_to_28962TEMP_MPY_wvf_snd.mp3\n"
          ]
        },
        {
          "name": "stderr",
          "output_type": "stream",
          "text": []
        },
        {
          "name": "stdout",
          "output_type": "stream",
          "text": [
            "MoviePy - Done.\n",
            "Moviepy - Writing video /content/drive/MyDrive/0._HCM_AI_Challenge_2023/Data_Process/Cut_Video/video_scenes_L03/L03_V001/video_from_28916_to_28962.mp4\n",
            "\n"
          ]
        },
        {
          "name": "stderr",
          "output_type": "stream",
          "text": []
        },
        {
          "name": "stdout",
          "output_type": "stream",
          "text": [
            "Moviepy - Done !\n",
            "Moviepy - video ready /content/drive/MyDrive/0._HCM_AI_Challenge_2023/Data_Process/Cut_Video/video_scenes_L03/L03_V001/video_from_28916_to_28962.mp4\n",
            "Moviepy - Building video /content/drive/MyDrive/0._HCM_AI_Challenge_2023/Data_Process/Cut_Video/video_scenes_L03/L03_V001/video_from_28963_to_29014.mp4.\n",
            "MoviePy - Writing audio in video_from_28963_to_29014TEMP_MPY_wvf_snd.mp3\n"
          ]
        },
        {
          "name": "stderr",
          "output_type": "stream",
          "text": []
        },
        {
          "name": "stdout",
          "output_type": "stream",
          "text": [
            "MoviePy - Done.\n",
            "Moviepy - Writing video /content/drive/MyDrive/0._HCM_AI_Challenge_2023/Data_Process/Cut_Video/video_scenes_L03/L03_V001/video_from_28963_to_29014.mp4\n",
            "\n"
          ]
        },
        {
          "name": "stderr",
          "output_type": "stream",
          "text": []
        },
        {
          "name": "stdout",
          "output_type": "stream",
          "text": [
            "Moviepy - Done !\n",
            "Moviepy - video ready /content/drive/MyDrive/0._HCM_AI_Challenge_2023/Data_Process/Cut_Video/video_scenes_L03/L03_V001/video_from_28963_to_29014.mp4\n",
            "Moviepy - Building video /content/drive/MyDrive/0._HCM_AI_Challenge_2023/Data_Process/Cut_Video/video_scenes_L03/L03_V001/video_from_29015_to_29040.mp4.\n",
            "MoviePy - Writing audio in video_from_29015_to_29040TEMP_MPY_wvf_snd.mp3\n"
          ]
        },
        {
          "name": "stderr",
          "output_type": "stream",
          "text": []
        },
        {
          "name": "stdout",
          "output_type": "stream",
          "text": [
            "MoviePy - Done.\n",
            "Moviepy - Writing video /content/drive/MyDrive/0._HCM_AI_Challenge_2023/Data_Process/Cut_Video/video_scenes_L03/L03_V001/video_from_29015_to_29040.mp4\n",
            "\n"
          ]
        },
        {
          "name": "stderr",
          "output_type": "stream",
          "text": []
        },
        {
          "name": "stdout",
          "output_type": "stream",
          "text": [
            "Moviepy - Done !\n",
            "Moviepy - video ready /content/drive/MyDrive/0._HCM_AI_Challenge_2023/Data_Process/Cut_Video/video_scenes_L03/L03_V001/video_from_29015_to_29040.mp4\n",
            "Moviepy - Building video /content/drive/MyDrive/0._HCM_AI_Challenge_2023/Data_Process/Cut_Video/video_scenes_L03/L03_V001/video_from_29041_to_29123.mp4.\n",
            "MoviePy - Writing audio in video_from_29041_to_29123TEMP_MPY_wvf_snd.mp3\n"
          ]
        },
        {
          "name": "stderr",
          "output_type": "stream",
          "text": []
        },
        {
          "name": "stdout",
          "output_type": "stream",
          "text": [
            "MoviePy - Done.\n",
            "Moviepy - Writing video /content/drive/MyDrive/0._HCM_AI_Challenge_2023/Data_Process/Cut_Video/video_scenes_L03/L03_V001/video_from_29041_to_29123.mp4\n",
            "\n"
          ]
        },
        {
          "name": "stderr",
          "output_type": "stream",
          "text": []
        },
        {
          "name": "stdout",
          "output_type": "stream",
          "text": [
            "Moviepy - Done !\n",
            "Moviepy - video ready /content/drive/MyDrive/0._HCM_AI_Challenge_2023/Data_Process/Cut_Video/video_scenes_L03/L03_V001/video_from_29041_to_29123.mp4\n",
            "Moviepy - Building video /content/drive/MyDrive/0._HCM_AI_Challenge_2023/Data_Process/Cut_Video/video_scenes_L03/L03_V001/video_from_29124_to_29258.mp4.\n",
            "MoviePy - Writing audio in video_from_29124_to_29258TEMP_MPY_wvf_snd.mp3\n"
          ]
        },
        {
          "name": "stderr",
          "output_type": "stream",
          "text": []
        },
        {
          "name": "stdout",
          "output_type": "stream",
          "text": [
            "MoviePy - Done.\n",
            "Moviepy - Writing video /content/drive/MyDrive/0._HCM_AI_Challenge_2023/Data_Process/Cut_Video/video_scenes_L03/L03_V001/video_from_29124_to_29258.mp4\n",
            "\n"
          ]
        },
        {
          "name": "stderr",
          "output_type": "stream",
          "text": []
        },
        {
          "name": "stdout",
          "output_type": "stream",
          "text": [
            "Moviepy - Done !\n",
            "Moviepy - video ready /content/drive/MyDrive/0._HCM_AI_Challenge_2023/Data_Process/Cut_Video/video_scenes_L03/L03_V001/video_from_29124_to_29258.mp4\n",
            "Moviepy - Building video /content/drive/MyDrive/0._HCM_AI_Challenge_2023/Data_Process/Cut_Video/video_scenes_L03/L03_V001/video_from_29259_to_29297.mp4.\n",
            "MoviePy - Writing audio in video_from_29259_to_29297TEMP_MPY_wvf_snd.mp3\n"
          ]
        },
        {
          "name": "stderr",
          "output_type": "stream",
          "text": []
        },
        {
          "name": "stdout",
          "output_type": "stream",
          "text": [
            "MoviePy - Done.\n",
            "Moviepy - Writing video /content/drive/MyDrive/0._HCM_AI_Challenge_2023/Data_Process/Cut_Video/video_scenes_L03/L03_V001/video_from_29259_to_29297.mp4\n",
            "\n"
          ]
        },
        {
          "name": "stderr",
          "output_type": "stream",
          "text": []
        },
        {
          "name": "stdout",
          "output_type": "stream",
          "text": [
            "Moviepy - Done !\n",
            "Moviepy - video ready /content/drive/MyDrive/0._HCM_AI_Challenge_2023/Data_Process/Cut_Video/video_scenes_L03/L03_V001/video_from_29259_to_29297.mp4\n",
            "Moviepy - Building video /content/drive/MyDrive/0._HCM_AI_Challenge_2023/Data_Process/Cut_Video/video_scenes_L03/L03_V001/video_from_29298_to_29370.mp4.\n",
            "MoviePy - Writing audio in video_from_29298_to_29370TEMP_MPY_wvf_snd.mp3\n"
          ]
        },
        {
          "name": "stderr",
          "output_type": "stream",
          "text": []
        },
        {
          "name": "stdout",
          "output_type": "stream",
          "text": [
            "MoviePy - Done.\n",
            "Moviepy - Writing video /content/drive/MyDrive/0._HCM_AI_Challenge_2023/Data_Process/Cut_Video/video_scenes_L03/L03_V001/video_from_29298_to_29370.mp4\n",
            "\n"
          ]
        },
        {
          "name": "stderr",
          "output_type": "stream",
          "text": []
        },
        {
          "name": "stdout",
          "output_type": "stream",
          "text": [
            "Moviepy - Done !\n",
            "Moviepy - video ready /content/drive/MyDrive/0._HCM_AI_Challenge_2023/Data_Process/Cut_Video/video_scenes_L03/L03_V001/video_from_29298_to_29370.mp4\n",
            "Moviepy - Building video /content/drive/MyDrive/0._HCM_AI_Challenge_2023/Data_Process/Cut_Video/video_scenes_L03/L03_V001/video_from_29371_to_29420.mp4.\n",
            "MoviePy - Writing audio in video_from_29371_to_29420TEMP_MPY_wvf_snd.mp3\n"
          ]
        },
        {
          "name": "stderr",
          "output_type": "stream",
          "text": []
        },
        {
          "name": "stdout",
          "output_type": "stream",
          "text": [
            "MoviePy - Done.\n",
            "Moviepy - Writing video /content/drive/MyDrive/0._HCM_AI_Challenge_2023/Data_Process/Cut_Video/video_scenes_L03/L03_V001/video_from_29371_to_29420.mp4\n",
            "\n"
          ]
        },
        {
          "name": "stderr",
          "output_type": "stream",
          "text": []
        },
        {
          "name": "stdout",
          "output_type": "stream",
          "text": [
            "Moviepy - Done !\n",
            "Moviepy - video ready /content/drive/MyDrive/0._HCM_AI_Challenge_2023/Data_Process/Cut_Video/video_scenes_L03/L03_V001/video_from_29371_to_29420.mp4\n",
            "Moviepy - Building video /content/drive/MyDrive/0._HCM_AI_Challenge_2023/Data_Process/Cut_Video/video_scenes_L03/L03_V001/video_from_29421_to_29535.mp4.\n",
            "MoviePy - Writing audio in video_from_29421_to_29535TEMP_MPY_wvf_snd.mp3\n"
          ]
        },
        {
          "name": "stderr",
          "output_type": "stream",
          "text": []
        },
        {
          "name": "stdout",
          "output_type": "stream",
          "text": [
            "MoviePy - Done.\n",
            "Moviepy - Writing video /content/drive/MyDrive/0._HCM_AI_Challenge_2023/Data_Process/Cut_Video/video_scenes_L03/L03_V001/video_from_29421_to_29535.mp4\n",
            "\n"
          ]
        },
        {
          "name": "stderr",
          "output_type": "stream",
          "text": []
        },
        {
          "name": "stdout",
          "output_type": "stream",
          "text": [
            "Moviepy - Done !\n",
            "Moviepy - video ready /content/drive/MyDrive/0._HCM_AI_Challenge_2023/Data_Process/Cut_Video/video_scenes_L03/L03_V001/video_from_29421_to_29535.mp4\n",
            "Moviepy - Building video /content/drive/MyDrive/0._HCM_AI_Challenge_2023/Data_Process/Cut_Video/video_scenes_L03/L03_V001/video_from_29536_to_29549.mp4.\n",
            "MoviePy - Writing audio in video_from_29536_to_29549TEMP_MPY_wvf_snd.mp3\n"
          ]
        },
        {
          "name": "stderr",
          "output_type": "stream",
          "text": []
        },
        {
          "name": "stdout",
          "output_type": "stream",
          "text": [
            "MoviePy - Done.\n",
            "Moviepy - Writing video /content/drive/MyDrive/0._HCM_AI_Challenge_2023/Data_Process/Cut_Video/video_scenes_L03/L03_V001/video_from_29536_to_29549.mp4\n",
            "\n"
          ]
        },
        {
          "name": "stderr",
          "output_type": "stream",
          "text": []
        },
        {
          "name": "stdout",
          "output_type": "stream",
          "text": [
            "Moviepy - Done !\n",
            "Moviepy - video ready /content/drive/MyDrive/0._HCM_AI_Challenge_2023/Data_Process/Cut_Video/video_scenes_L03/L03_V001/video_from_29536_to_29549.mp4\n",
            "Moviepy - Building video /content/drive/MyDrive/0._HCM_AI_Challenge_2023/Data_Process/Cut_Video/video_scenes_L03/L03_V001/video_from_29550_to_29577.mp4.\n",
            "MoviePy - Writing audio in video_from_29550_to_29577TEMP_MPY_wvf_snd.mp3\n"
          ]
        },
        {
          "name": "stderr",
          "output_type": "stream",
          "text": []
        },
        {
          "name": "stdout",
          "output_type": "stream",
          "text": [
            "MoviePy - Done.\n",
            "Moviepy - Writing video /content/drive/MyDrive/0._HCM_AI_Challenge_2023/Data_Process/Cut_Video/video_scenes_L03/L03_V001/video_from_29550_to_29577.mp4\n",
            "\n"
          ]
        },
        {
          "name": "stderr",
          "output_type": "stream",
          "text": []
        },
        {
          "name": "stdout",
          "output_type": "stream",
          "text": [
            "Moviepy - Done !\n",
            "Moviepy - video ready /content/drive/MyDrive/0._HCM_AI_Challenge_2023/Data_Process/Cut_Video/video_scenes_L03/L03_V001/video_from_29550_to_29577.mp4\n",
            "Moviepy - Building video /content/drive/MyDrive/0._HCM_AI_Challenge_2023/Data_Process/Cut_Video/video_scenes_L03/L03_V001/video_from_29578_to_29617.mp4.\n",
            "MoviePy - Writing audio in video_from_29578_to_29617TEMP_MPY_wvf_snd.mp3\n"
          ]
        },
        {
          "name": "stderr",
          "output_type": "stream",
          "text": []
        },
        {
          "name": "stdout",
          "output_type": "stream",
          "text": [
            "MoviePy - Done.\n",
            "Moviepy - Writing video /content/drive/MyDrive/0._HCM_AI_Challenge_2023/Data_Process/Cut_Video/video_scenes_L03/L03_V001/video_from_29578_to_29617.mp4\n",
            "\n"
          ]
        },
        {
          "name": "stderr",
          "output_type": "stream",
          "text": []
        },
        {
          "name": "stdout",
          "output_type": "stream",
          "text": [
            "Moviepy - Done !\n",
            "Moviepy - video ready /content/drive/MyDrive/0._HCM_AI_Challenge_2023/Data_Process/Cut_Video/video_scenes_L03/L03_V001/video_from_29578_to_29617.mp4\n",
            "Moviepy - Building video /content/drive/MyDrive/0._HCM_AI_Challenge_2023/Data_Process/Cut_Video/video_scenes_L03/L03_V001/video_from_29618_to_29675.mp4.\n",
            "MoviePy - Writing audio in video_from_29618_to_29675TEMP_MPY_wvf_snd.mp3\n"
          ]
        },
        {
          "name": "stderr",
          "output_type": "stream",
          "text": []
        },
        {
          "name": "stdout",
          "output_type": "stream",
          "text": [
            "MoviePy - Done.\n",
            "Moviepy - Writing video /content/drive/MyDrive/0._HCM_AI_Challenge_2023/Data_Process/Cut_Video/video_scenes_L03/L03_V001/video_from_29618_to_29675.mp4\n",
            "\n"
          ]
        },
        {
          "name": "stderr",
          "output_type": "stream",
          "text": []
        },
        {
          "name": "stdout",
          "output_type": "stream",
          "text": [
            "Moviepy - Done !\n",
            "Moviepy - video ready /content/drive/MyDrive/0._HCM_AI_Challenge_2023/Data_Process/Cut_Video/video_scenes_L03/L03_V001/video_from_29618_to_29675.mp4\n",
            "Moviepy - Building video /content/drive/MyDrive/0._HCM_AI_Challenge_2023/Data_Process/Cut_Video/video_scenes_L03/L03_V001/video_from_29676_to_29721.mp4.\n",
            "MoviePy - Writing audio in video_from_29676_to_29721TEMP_MPY_wvf_snd.mp3\n"
          ]
        },
        {
          "name": "stderr",
          "output_type": "stream",
          "text": []
        },
        {
          "name": "stdout",
          "output_type": "stream",
          "text": [
            "MoviePy - Done.\n",
            "Moviepy - Writing video /content/drive/MyDrive/0._HCM_AI_Challenge_2023/Data_Process/Cut_Video/video_scenes_L03/L03_V001/video_from_29676_to_29721.mp4\n",
            "\n"
          ]
        },
        {
          "name": "stderr",
          "output_type": "stream",
          "text": []
        },
        {
          "name": "stdout",
          "output_type": "stream",
          "text": [
            "Moviepy - Done !\n",
            "Moviepy - video ready /content/drive/MyDrive/0._HCM_AI_Challenge_2023/Data_Process/Cut_Video/video_scenes_L03/L03_V001/video_from_29676_to_29721.mp4\n",
            "Moviepy - Building video /content/drive/MyDrive/0._HCM_AI_Challenge_2023/Data_Process/Cut_Video/video_scenes_L03/L03_V001/video_from_29722_to_29770.mp4.\n",
            "MoviePy - Writing audio in video_from_29722_to_29770TEMP_MPY_wvf_snd.mp3\n"
          ]
        },
        {
          "name": "stderr",
          "output_type": "stream",
          "text": []
        },
        {
          "name": "stdout",
          "output_type": "stream",
          "text": [
            "MoviePy - Done.\n",
            "Moviepy - Writing video /content/drive/MyDrive/0._HCM_AI_Challenge_2023/Data_Process/Cut_Video/video_scenes_L03/L03_V001/video_from_29722_to_29770.mp4\n",
            "\n"
          ]
        },
        {
          "name": "stderr",
          "output_type": "stream",
          "text": []
        },
        {
          "name": "stdout",
          "output_type": "stream",
          "text": [
            "Moviepy - Done !\n",
            "Moviepy - video ready /content/drive/MyDrive/0._HCM_AI_Challenge_2023/Data_Process/Cut_Video/video_scenes_L03/L03_V001/video_from_29722_to_29770.mp4\n",
            "Moviepy - Building video /content/drive/MyDrive/0._HCM_AI_Challenge_2023/Data_Process/Cut_Video/video_scenes_L03/L03_V001/video_from_29771_to_29830.mp4.\n",
            "MoviePy - Writing audio in video_from_29771_to_29830TEMP_MPY_wvf_snd.mp3\n"
          ]
        },
        {
          "name": "stderr",
          "output_type": "stream",
          "text": []
        },
        {
          "name": "stdout",
          "output_type": "stream",
          "text": [
            "MoviePy - Done.\n",
            "Moviepy - Writing video /content/drive/MyDrive/0._HCM_AI_Challenge_2023/Data_Process/Cut_Video/video_scenes_L03/L03_V001/video_from_29771_to_29830.mp4\n",
            "\n"
          ]
        },
        {
          "name": "stderr",
          "output_type": "stream",
          "text": []
        },
        {
          "name": "stdout",
          "output_type": "stream",
          "text": [
            "Moviepy - Done !\n",
            "Moviepy - video ready /content/drive/MyDrive/0._HCM_AI_Challenge_2023/Data_Process/Cut_Video/video_scenes_L03/L03_V001/video_from_29771_to_29830.mp4\n",
            "Moviepy - Building video /content/drive/MyDrive/0._HCM_AI_Challenge_2023/Data_Process/Cut_Video/video_scenes_L03/L03_V001/video_from_29831_to_29896.mp4.\n",
            "MoviePy - Writing audio in video_from_29831_to_29896TEMP_MPY_wvf_snd.mp3\n"
          ]
        },
        {
          "name": "stderr",
          "output_type": "stream",
          "text": []
        },
        {
          "name": "stdout",
          "output_type": "stream",
          "text": [
            "MoviePy - Done.\n",
            "Moviepy - Writing video /content/drive/MyDrive/0._HCM_AI_Challenge_2023/Data_Process/Cut_Video/video_scenes_L03/L03_V001/video_from_29831_to_29896.mp4\n",
            "\n"
          ]
        },
        {
          "name": "stderr",
          "output_type": "stream",
          "text": []
        },
        {
          "name": "stdout",
          "output_type": "stream",
          "text": [
            "Moviepy - Done !\n",
            "Moviepy - video ready /content/drive/MyDrive/0._HCM_AI_Challenge_2023/Data_Process/Cut_Video/video_scenes_L03/L03_V001/video_from_29831_to_29896.mp4\n",
            "Moviepy - Building video /content/drive/MyDrive/0._HCM_AI_Challenge_2023/Data_Process/Cut_Video/video_scenes_L03/L03_V001/video_from_29897_to_29936.mp4.\n",
            "MoviePy - Writing audio in video_from_29897_to_29936TEMP_MPY_wvf_snd.mp3\n"
          ]
        },
        {
          "name": "stderr",
          "output_type": "stream",
          "text": []
        },
        {
          "name": "stdout",
          "output_type": "stream",
          "text": [
            "MoviePy - Done.\n",
            "Moviepy - Writing video /content/drive/MyDrive/0._HCM_AI_Challenge_2023/Data_Process/Cut_Video/video_scenes_L03/L03_V001/video_from_29897_to_29936.mp4\n",
            "\n"
          ]
        },
        {
          "name": "stderr",
          "output_type": "stream",
          "text": []
        },
        {
          "name": "stdout",
          "output_type": "stream",
          "text": [
            "Moviepy - Done !\n",
            "Moviepy - video ready /content/drive/MyDrive/0._HCM_AI_Challenge_2023/Data_Process/Cut_Video/video_scenes_L03/L03_V001/video_from_29897_to_29936.mp4\n",
            "Moviepy - Building video /content/drive/MyDrive/0._HCM_AI_Challenge_2023/Data_Process/Cut_Video/video_scenes_L03/L03_V001/video_from_29937_to_29982.mp4.\n",
            "MoviePy - Writing audio in video_from_29937_to_29982TEMP_MPY_wvf_snd.mp3\n"
          ]
        },
        {
          "name": "stderr",
          "output_type": "stream",
          "text": []
        },
        {
          "name": "stdout",
          "output_type": "stream",
          "text": [
            "MoviePy - Done.\n",
            "Moviepy - Writing video /content/drive/MyDrive/0._HCM_AI_Challenge_2023/Data_Process/Cut_Video/video_scenes_L03/L03_V001/video_from_29937_to_29982.mp4\n",
            "\n"
          ]
        },
        {
          "name": "stderr",
          "output_type": "stream",
          "text": []
        },
        {
          "name": "stdout",
          "output_type": "stream",
          "text": [
            "Moviepy - Done !\n",
            "Moviepy - video ready /content/drive/MyDrive/0._HCM_AI_Challenge_2023/Data_Process/Cut_Video/video_scenes_L03/L03_V001/video_from_29937_to_29982.mp4\n",
            "Moviepy - Building video /content/drive/MyDrive/0._HCM_AI_Challenge_2023/Data_Process/Cut_Video/video_scenes_L03/L03_V001/video_from_29983_to_30011.mp4.\n",
            "MoviePy - Writing audio in video_from_29983_to_30011TEMP_MPY_wvf_snd.mp3\n"
          ]
        },
        {
          "name": "stderr",
          "output_type": "stream",
          "text": []
        },
        {
          "name": "stdout",
          "output_type": "stream",
          "text": [
            "MoviePy - Done.\n",
            "Moviepy - Writing video /content/drive/MyDrive/0._HCM_AI_Challenge_2023/Data_Process/Cut_Video/video_scenes_L03/L03_V001/video_from_29983_to_30011.mp4\n",
            "\n"
          ]
        },
        {
          "name": "stderr",
          "output_type": "stream",
          "text": []
        },
        {
          "name": "stdout",
          "output_type": "stream",
          "text": [
            "Moviepy - Done !\n",
            "Moviepy - video ready /content/drive/MyDrive/0._HCM_AI_Challenge_2023/Data_Process/Cut_Video/video_scenes_L03/L03_V001/video_from_29983_to_30011.mp4\n",
            "Moviepy - Building video /content/drive/MyDrive/0._HCM_AI_Challenge_2023/Data_Process/Cut_Video/video_scenes_L03/L03_V001/video_from_30012_to_30064.mp4.\n",
            "MoviePy - Writing audio in video_from_30012_to_30064TEMP_MPY_wvf_snd.mp3\n"
          ]
        },
        {
          "name": "stderr",
          "output_type": "stream",
          "text": []
        },
        {
          "name": "stdout",
          "output_type": "stream",
          "text": [
            "MoviePy - Done.\n",
            "Moviepy - Writing video /content/drive/MyDrive/0._HCM_AI_Challenge_2023/Data_Process/Cut_Video/video_scenes_L03/L03_V001/video_from_30012_to_30064.mp4\n",
            "\n"
          ]
        },
        {
          "name": "stderr",
          "output_type": "stream",
          "text": []
        },
        {
          "name": "stdout",
          "output_type": "stream",
          "text": [
            "Moviepy - Done !\n",
            "Moviepy - video ready /content/drive/MyDrive/0._HCM_AI_Challenge_2023/Data_Process/Cut_Video/video_scenes_L03/L03_V001/video_from_30012_to_30064.mp4\n",
            "Moviepy - Building video /content/drive/MyDrive/0._HCM_AI_Challenge_2023/Data_Process/Cut_Video/video_scenes_L03/L03_V001/video_from_30065_to_30112.mp4.\n",
            "MoviePy - Writing audio in video_from_30065_to_30112TEMP_MPY_wvf_snd.mp3\n"
          ]
        },
        {
          "name": "stderr",
          "output_type": "stream",
          "text": []
        },
        {
          "name": "stdout",
          "output_type": "stream",
          "text": [
            "MoviePy - Done.\n",
            "Moviepy - Writing video /content/drive/MyDrive/0._HCM_AI_Challenge_2023/Data_Process/Cut_Video/video_scenes_L03/L03_V001/video_from_30065_to_30112.mp4\n",
            "\n"
          ]
        },
        {
          "name": "stderr",
          "output_type": "stream",
          "text": []
        },
        {
          "name": "stdout",
          "output_type": "stream",
          "text": [
            "Moviepy - Done !\n",
            "Moviepy - video ready /content/drive/MyDrive/0._HCM_AI_Challenge_2023/Data_Process/Cut_Video/video_scenes_L03/L03_V001/video_from_30065_to_30112.mp4\n",
            "Moviepy - Building video /content/drive/MyDrive/0._HCM_AI_Challenge_2023/Data_Process/Cut_Video/video_scenes_L03/L03_V001/video_from_30113_to_30170.mp4.\n",
            "MoviePy - Writing audio in video_from_30113_to_30170TEMP_MPY_wvf_snd.mp3\n"
          ]
        },
        {
          "name": "stderr",
          "output_type": "stream",
          "text": []
        },
        {
          "name": "stdout",
          "output_type": "stream",
          "text": [
            "MoviePy - Done.\n",
            "Moviepy - Writing video /content/drive/MyDrive/0._HCM_AI_Challenge_2023/Data_Process/Cut_Video/video_scenes_L03/L03_V001/video_from_30113_to_30170.mp4\n",
            "\n"
          ]
        },
        {
          "name": "stderr",
          "output_type": "stream",
          "text": []
        },
        {
          "name": "stdout",
          "output_type": "stream",
          "text": [
            "Moviepy - Done !\n",
            "Moviepy - video ready /content/drive/MyDrive/0._HCM_AI_Challenge_2023/Data_Process/Cut_Video/video_scenes_L03/L03_V001/video_from_30113_to_30170.mp4\n",
            "Moviepy - Building video /content/drive/MyDrive/0._HCM_AI_Challenge_2023/Data_Process/Cut_Video/video_scenes_L03/L03_V001/video_from_30171_to_30231.mp4.\n",
            "MoviePy - Writing audio in video_from_30171_to_30231TEMP_MPY_wvf_snd.mp3\n"
          ]
        },
        {
          "name": "stderr",
          "output_type": "stream",
          "text": []
        },
        {
          "name": "stdout",
          "output_type": "stream",
          "text": [
            "MoviePy - Done.\n",
            "Moviepy - Writing video /content/drive/MyDrive/0._HCM_AI_Challenge_2023/Data_Process/Cut_Video/video_scenes_L03/L03_V001/video_from_30171_to_30231.mp4\n",
            "\n"
          ]
        },
        {
          "name": "stderr",
          "output_type": "stream",
          "text": []
        },
        {
          "name": "stdout",
          "output_type": "stream",
          "text": [
            "Moviepy - Done !\n",
            "Moviepy - video ready /content/drive/MyDrive/0._HCM_AI_Challenge_2023/Data_Process/Cut_Video/video_scenes_L03/L03_V001/video_from_30171_to_30231.mp4\n",
            "Moviepy - Building video /content/drive/MyDrive/0._HCM_AI_Challenge_2023/Data_Process/Cut_Video/video_scenes_L03/L03_V001/video_from_30232_to_30286.mp4.\n",
            "MoviePy - Writing audio in video_from_30232_to_30286TEMP_MPY_wvf_snd.mp3\n"
          ]
        },
        {
          "name": "stderr",
          "output_type": "stream",
          "text": []
        },
        {
          "name": "stdout",
          "output_type": "stream",
          "text": [
            "MoviePy - Done.\n",
            "Moviepy - Writing video /content/drive/MyDrive/0._HCM_AI_Challenge_2023/Data_Process/Cut_Video/video_scenes_L03/L03_V001/video_from_30232_to_30286.mp4\n",
            "\n"
          ]
        },
        {
          "name": "stderr",
          "output_type": "stream",
          "text": []
        },
        {
          "name": "stdout",
          "output_type": "stream",
          "text": [
            "Moviepy - Done !\n",
            "Moviepy - video ready /content/drive/MyDrive/0._HCM_AI_Challenge_2023/Data_Process/Cut_Video/video_scenes_L03/L03_V001/video_from_30232_to_30286.mp4\n",
            "Moviepy - Building video /content/drive/MyDrive/0._HCM_AI_Challenge_2023/Data_Process/Cut_Video/video_scenes_L03/L03_V001/video_from_30287_to_30331.mp4.\n",
            "MoviePy - Writing audio in video_from_30287_to_30331TEMP_MPY_wvf_snd.mp3\n"
          ]
        },
        {
          "name": "stderr",
          "output_type": "stream",
          "text": []
        },
        {
          "name": "stdout",
          "output_type": "stream",
          "text": [
            "MoviePy - Done.\n",
            "Moviepy - Writing video /content/drive/MyDrive/0._HCM_AI_Challenge_2023/Data_Process/Cut_Video/video_scenes_L03/L03_V001/video_from_30287_to_30331.mp4\n",
            "\n"
          ]
        },
        {
          "name": "stderr",
          "output_type": "stream",
          "text": []
        },
        {
          "name": "stdout",
          "output_type": "stream",
          "text": [
            "Moviepy - Done !\n",
            "Moviepy - video ready /content/drive/MyDrive/0._HCM_AI_Challenge_2023/Data_Process/Cut_Video/video_scenes_L03/L03_V001/video_from_30287_to_30331.mp4\n",
            "Moviepy - Building video /content/drive/MyDrive/0._HCM_AI_Challenge_2023/Data_Process/Cut_Video/video_scenes_L03/L03_V001/video_from_30332_to_30381.mp4.\n",
            "MoviePy - Writing audio in video_from_30332_to_30381TEMP_MPY_wvf_snd.mp3\n"
          ]
        },
        {
          "name": "stderr",
          "output_type": "stream",
          "text": []
        },
        {
          "name": "stdout",
          "output_type": "stream",
          "text": [
            "MoviePy - Done.\n",
            "Moviepy - Writing video /content/drive/MyDrive/0._HCM_AI_Challenge_2023/Data_Process/Cut_Video/video_scenes_L03/L03_V001/video_from_30332_to_30381.mp4\n",
            "\n"
          ]
        },
        {
          "name": "stderr",
          "output_type": "stream",
          "text": []
        },
        {
          "name": "stdout",
          "output_type": "stream",
          "text": [
            "Moviepy - Done !\n",
            "Moviepy - video ready /content/drive/MyDrive/0._HCM_AI_Challenge_2023/Data_Process/Cut_Video/video_scenes_L03/L03_V001/video_from_30332_to_30381.mp4\n",
            "Moviepy - Building video /content/drive/MyDrive/0._HCM_AI_Challenge_2023/Data_Process/Cut_Video/video_scenes_L03/L03_V001/video_from_30382_to_30566.mp4.\n",
            "MoviePy - Writing audio in video_from_30382_to_30566TEMP_MPY_wvf_snd.mp3\n"
          ]
        },
        {
          "name": "stderr",
          "output_type": "stream",
          "text": []
        },
        {
          "name": "stdout",
          "output_type": "stream",
          "text": [
            "MoviePy - Done.\n",
            "Moviepy - Writing video /content/drive/MyDrive/0._HCM_AI_Challenge_2023/Data_Process/Cut_Video/video_scenes_L03/L03_V001/video_from_30382_to_30566.mp4\n",
            "\n"
          ]
        },
        {
          "name": "stderr",
          "output_type": "stream",
          "text": []
        },
        {
          "name": "stdout",
          "output_type": "stream",
          "text": [
            "Moviepy - Done !\n",
            "Moviepy - video ready /content/drive/MyDrive/0._HCM_AI_Challenge_2023/Data_Process/Cut_Video/video_scenes_L03/L03_V001/video_from_30382_to_30566.mp4\n",
            "Moviepy - Building video /content/drive/MyDrive/0._HCM_AI_Challenge_2023/Data_Process/Cut_Video/video_scenes_L03/L03_V001/video_from_30567_to_30657.mp4.\n",
            "MoviePy - Writing audio in video_from_30567_to_30657TEMP_MPY_wvf_snd.mp3\n"
          ]
        },
        {
          "name": "stderr",
          "output_type": "stream",
          "text": []
        },
        {
          "name": "stdout",
          "output_type": "stream",
          "text": [
            "MoviePy - Done.\n",
            "Moviepy - Writing video /content/drive/MyDrive/0._HCM_AI_Challenge_2023/Data_Process/Cut_Video/video_scenes_L03/L03_V001/video_from_30567_to_30657.mp4\n",
            "\n"
          ]
        },
        {
          "name": "stderr",
          "output_type": "stream",
          "text": []
        },
        {
          "name": "stdout",
          "output_type": "stream",
          "text": [
            "Moviepy - Done !\n",
            "Moviepy - video ready /content/drive/MyDrive/0._HCM_AI_Challenge_2023/Data_Process/Cut_Video/video_scenes_L03/L03_V001/video_from_30567_to_30657.mp4\n",
            "Moviepy - Building video /content/drive/MyDrive/0._HCM_AI_Challenge_2023/Data_Process/Cut_Video/video_scenes_L03/L03_V001/video_from_30658_to_30707.mp4.\n",
            "MoviePy - Writing audio in video_from_30658_to_30707TEMP_MPY_wvf_snd.mp3\n"
          ]
        },
        {
          "name": "stderr",
          "output_type": "stream",
          "text": []
        },
        {
          "name": "stdout",
          "output_type": "stream",
          "text": [
            "MoviePy - Done.\n",
            "Moviepy - Writing video /content/drive/MyDrive/0._HCM_AI_Challenge_2023/Data_Process/Cut_Video/video_scenes_L03/L03_V001/video_from_30658_to_30707.mp4\n",
            "\n"
          ]
        },
        {
          "name": "stderr",
          "output_type": "stream",
          "text": []
        },
        {
          "name": "stdout",
          "output_type": "stream",
          "text": [
            "Moviepy - Done !\n",
            "Moviepy - video ready /content/drive/MyDrive/0._HCM_AI_Challenge_2023/Data_Process/Cut_Video/video_scenes_L03/L03_V001/video_from_30658_to_30707.mp4\n",
            "Moviepy - Building video /content/drive/MyDrive/0._HCM_AI_Challenge_2023/Data_Process/Cut_Video/video_scenes_L03/L03_V001/video_from_30708_to_30727.mp4.\n",
            "MoviePy - Writing audio in video_from_30708_to_30727TEMP_MPY_wvf_snd.mp3\n"
          ]
        },
        {
          "name": "stderr",
          "output_type": "stream",
          "text": []
        },
        {
          "name": "stdout",
          "output_type": "stream",
          "text": [
            "MoviePy - Done.\n",
            "Moviepy - Writing video /content/drive/MyDrive/0._HCM_AI_Challenge_2023/Data_Process/Cut_Video/video_scenes_L03/L03_V001/video_from_30708_to_30727.mp4\n",
            "\n"
          ]
        },
        {
          "name": "stderr",
          "output_type": "stream",
          "text": []
        },
        {
          "name": "stdout",
          "output_type": "stream",
          "text": [
            "Moviepy - Done !\n",
            "Moviepy - video ready /content/drive/MyDrive/0._HCM_AI_Challenge_2023/Data_Process/Cut_Video/video_scenes_L03/L03_V001/video_from_30708_to_30727.mp4\n",
            "Moviepy - Building video /content/drive/MyDrive/0._HCM_AI_Challenge_2023/Data_Process/Cut_Video/video_scenes_L03/L03_V001/video_from_30728_to_30757.mp4.\n",
            "MoviePy - Writing audio in video_from_30728_to_30757TEMP_MPY_wvf_snd.mp3\n"
          ]
        },
        {
          "name": "stderr",
          "output_type": "stream",
          "text": []
        },
        {
          "name": "stdout",
          "output_type": "stream",
          "text": [
            "MoviePy - Done.\n",
            "Moviepy - Writing video /content/drive/MyDrive/0._HCM_AI_Challenge_2023/Data_Process/Cut_Video/video_scenes_L03/L03_V001/video_from_30728_to_30757.mp4\n",
            "\n"
          ]
        },
        {
          "name": "stderr",
          "output_type": "stream",
          "text": []
        },
        {
          "name": "stdout",
          "output_type": "stream",
          "text": [
            "Moviepy - Done !\n",
            "Moviepy - video ready /content/drive/MyDrive/0._HCM_AI_Challenge_2023/Data_Process/Cut_Video/video_scenes_L03/L03_V001/video_from_30728_to_30757.mp4\n",
            "Moviepy - Building video /content/drive/MyDrive/0._HCM_AI_Challenge_2023/Data_Process/Cut_Video/video_scenes_L03/L03_V001/video_from_30758_to_30844.mp4.\n",
            "MoviePy - Writing audio in video_from_30758_to_30844TEMP_MPY_wvf_snd.mp3\n"
          ]
        },
        {
          "name": "stderr",
          "output_type": "stream",
          "text": []
        },
        {
          "name": "stdout",
          "output_type": "stream",
          "text": [
            "MoviePy - Done.\n",
            "Moviepy - Writing video /content/drive/MyDrive/0._HCM_AI_Challenge_2023/Data_Process/Cut_Video/video_scenes_L03/L03_V001/video_from_30758_to_30844.mp4\n",
            "\n"
          ]
        },
        {
          "name": "stderr",
          "output_type": "stream",
          "text": []
        },
        {
          "name": "stdout",
          "output_type": "stream",
          "text": [
            "Moviepy - Done !\n",
            "Moviepy - video ready /content/drive/MyDrive/0._HCM_AI_Challenge_2023/Data_Process/Cut_Video/video_scenes_L03/L03_V001/video_from_30758_to_30844.mp4\n",
            "Moviepy - Building video /content/drive/MyDrive/0._HCM_AI_Challenge_2023/Data_Process/Cut_Video/video_scenes_L03/L03_V001/video_from_30845_to_30897.mp4.\n",
            "MoviePy - Writing audio in video_from_30845_to_30897TEMP_MPY_wvf_snd.mp3\n"
          ]
        },
        {
          "name": "stderr",
          "output_type": "stream",
          "text": []
        },
        {
          "name": "stdout",
          "output_type": "stream",
          "text": [
            "MoviePy - Done.\n",
            "Moviepy - Writing video /content/drive/MyDrive/0._HCM_AI_Challenge_2023/Data_Process/Cut_Video/video_scenes_L03/L03_V001/video_from_30845_to_30897.mp4\n",
            "\n"
          ]
        },
        {
          "name": "stderr",
          "output_type": "stream",
          "text": []
        },
        {
          "name": "stdout",
          "output_type": "stream",
          "text": [
            "Moviepy - Done !\n",
            "Moviepy - video ready /content/drive/MyDrive/0._HCM_AI_Challenge_2023/Data_Process/Cut_Video/video_scenes_L03/L03_V001/video_from_30845_to_30897.mp4\n",
            "Moviepy - Building video /content/drive/MyDrive/0._HCM_AI_Challenge_2023/Data_Process/Cut_Video/video_scenes_L03/L03_V001/video_from_30898_to_30977.mp4.\n",
            "MoviePy - Writing audio in video_from_30898_to_30977TEMP_MPY_wvf_snd.mp3\n"
          ]
        },
        {
          "name": "stderr",
          "output_type": "stream",
          "text": []
        },
        {
          "name": "stdout",
          "output_type": "stream",
          "text": [
            "MoviePy - Done.\n",
            "Moviepy - Writing video /content/drive/MyDrive/0._HCM_AI_Challenge_2023/Data_Process/Cut_Video/video_scenes_L03/L03_V001/video_from_30898_to_30977.mp4\n",
            "\n"
          ]
        },
        {
          "name": "stderr",
          "output_type": "stream",
          "text": []
        },
        {
          "name": "stdout",
          "output_type": "stream",
          "text": [
            "Moviepy - Done !\n",
            "Moviepy - video ready /content/drive/MyDrive/0._HCM_AI_Challenge_2023/Data_Process/Cut_Video/video_scenes_L03/L03_V001/video_from_30898_to_30977.mp4\n",
            "Moviepy - Building video /content/drive/MyDrive/0._HCM_AI_Challenge_2023/Data_Process/Cut_Video/video_scenes_L03/L03_V001/video_from_30978_to_31037.mp4.\n",
            "MoviePy - Writing audio in video_from_30978_to_31037TEMP_MPY_wvf_snd.mp3\n"
          ]
        },
        {
          "name": "stderr",
          "output_type": "stream",
          "text": []
        },
        {
          "name": "stdout",
          "output_type": "stream",
          "text": [
            "MoviePy - Done.\n",
            "Moviepy - Writing video /content/drive/MyDrive/0._HCM_AI_Challenge_2023/Data_Process/Cut_Video/video_scenes_L03/L03_V001/video_from_30978_to_31037.mp4\n",
            "\n"
          ]
        },
        {
          "name": "stderr",
          "output_type": "stream",
          "text": []
        },
        {
          "name": "stdout",
          "output_type": "stream",
          "text": [
            "Moviepy - Done !\n",
            "Moviepy - video ready /content/drive/MyDrive/0._HCM_AI_Challenge_2023/Data_Process/Cut_Video/video_scenes_L03/L03_V001/video_from_30978_to_31037.mp4\n",
            "Moviepy - Building video /content/drive/MyDrive/0._HCM_AI_Challenge_2023/Data_Process/Cut_Video/video_scenes_L03/L03_V001/video_from_31038_to_31114.mp4.\n",
            "MoviePy - Writing audio in video_from_31038_to_31114TEMP_MPY_wvf_snd.mp3\n"
          ]
        },
        {
          "name": "stderr",
          "output_type": "stream",
          "text": []
        },
        {
          "name": "stdout",
          "output_type": "stream",
          "text": [
            "MoviePy - Done.\n",
            "Moviepy - Writing video /content/drive/MyDrive/0._HCM_AI_Challenge_2023/Data_Process/Cut_Video/video_scenes_L03/L03_V001/video_from_31038_to_31114.mp4\n",
            "\n"
          ]
        },
        {
          "name": "stderr",
          "output_type": "stream",
          "text": []
        },
        {
          "name": "stdout",
          "output_type": "stream",
          "text": [
            "Moviepy - Done !\n",
            "Moviepy - video ready /content/drive/MyDrive/0._HCM_AI_Challenge_2023/Data_Process/Cut_Video/video_scenes_L03/L03_V001/video_from_31038_to_31114.mp4\n",
            "Moviepy - Building video /content/drive/MyDrive/0._HCM_AI_Challenge_2023/Data_Process/Cut_Video/video_scenes_L03/L03_V001/video_from_31115_to_31240.mp4.\n",
            "MoviePy - Writing audio in video_from_31115_to_31240TEMP_MPY_wvf_snd.mp3\n"
          ]
        },
        {
          "name": "stderr",
          "output_type": "stream",
          "text": []
        },
        {
          "name": "stdout",
          "output_type": "stream",
          "text": [
            "MoviePy - Done.\n",
            "Moviepy - Writing video /content/drive/MyDrive/0._HCM_AI_Challenge_2023/Data_Process/Cut_Video/video_scenes_L03/L03_V001/video_from_31115_to_31240.mp4\n",
            "\n"
          ]
        },
        {
          "name": "stderr",
          "output_type": "stream",
          "text": []
        },
        {
          "name": "stdout",
          "output_type": "stream",
          "text": [
            "Moviepy - Done !\n",
            "Moviepy - video ready /content/drive/MyDrive/0._HCM_AI_Challenge_2023/Data_Process/Cut_Video/video_scenes_L03/L03_V001/video_from_31115_to_31240.mp4\n",
            "Moviepy - Building video /content/drive/MyDrive/0._HCM_AI_Challenge_2023/Data_Process/Cut_Video/video_scenes_L03/L03_V001/video_from_31241_to_31309.mp4.\n",
            "MoviePy - Writing audio in video_from_31241_to_31309TEMP_MPY_wvf_snd.mp3\n"
          ]
        },
        {
          "name": "stderr",
          "output_type": "stream",
          "text": []
        },
        {
          "name": "stdout",
          "output_type": "stream",
          "text": [
            "MoviePy - Done.\n",
            "Moviepy - Writing video /content/drive/MyDrive/0._HCM_AI_Challenge_2023/Data_Process/Cut_Video/video_scenes_L03/L03_V001/video_from_31241_to_31309.mp4\n",
            "\n"
          ]
        },
        {
          "name": "stderr",
          "output_type": "stream",
          "text": []
        },
        {
          "name": "stdout",
          "output_type": "stream",
          "text": [
            "Moviepy - Done !\n",
            "Moviepy - video ready /content/drive/MyDrive/0._HCM_AI_Challenge_2023/Data_Process/Cut_Video/video_scenes_L03/L03_V001/video_from_31241_to_31309.mp4\n",
            "Moviepy - Building video /content/drive/MyDrive/0._HCM_AI_Challenge_2023/Data_Process/Cut_Video/video_scenes_L03/L03_V001/video_from_31310_to_31351.mp4.\n",
            "MoviePy - Writing audio in video_from_31310_to_31351TEMP_MPY_wvf_snd.mp3\n"
          ]
        },
        {
          "name": "stderr",
          "output_type": "stream",
          "text": []
        },
        {
          "name": "stdout",
          "output_type": "stream",
          "text": [
            "MoviePy - Done.\n",
            "Moviepy - Writing video /content/drive/MyDrive/0._HCM_AI_Challenge_2023/Data_Process/Cut_Video/video_scenes_L03/L03_V001/video_from_31310_to_31351.mp4\n",
            "\n"
          ]
        },
        {
          "name": "stderr",
          "output_type": "stream",
          "text": []
        },
        {
          "name": "stdout",
          "output_type": "stream",
          "text": [
            "Moviepy - Done !\n",
            "Moviepy - video ready /content/drive/MyDrive/0._HCM_AI_Challenge_2023/Data_Process/Cut_Video/video_scenes_L03/L03_V001/video_from_31310_to_31351.mp4\n",
            "Moviepy - Building video /content/drive/MyDrive/0._HCM_AI_Challenge_2023/Data_Process/Cut_Video/video_scenes_L03/L03_V001/video_from_31352_to_31371.mp4.\n",
            "MoviePy - Writing audio in video_from_31352_to_31371TEMP_MPY_wvf_snd.mp3\n"
          ]
        },
        {
          "name": "stderr",
          "output_type": "stream",
          "text": []
        },
        {
          "name": "stdout",
          "output_type": "stream",
          "text": [
            "MoviePy - Done.\n",
            "Moviepy - Writing video /content/drive/MyDrive/0._HCM_AI_Challenge_2023/Data_Process/Cut_Video/video_scenes_L03/L03_V001/video_from_31352_to_31371.mp4\n",
            "\n"
          ]
        },
        {
          "name": "stderr",
          "output_type": "stream",
          "text": []
        },
        {
          "name": "stdout",
          "output_type": "stream",
          "text": [
            "Moviepy - Done !\n",
            "Moviepy - video ready /content/drive/MyDrive/0._HCM_AI_Challenge_2023/Data_Process/Cut_Video/video_scenes_L03/L03_V001/video_from_31352_to_31371.mp4\n",
            "Moviepy - Building video /content/drive/MyDrive/0._HCM_AI_Challenge_2023/Data_Process/Cut_Video/video_scenes_L03/L03_V001/video_from_31372_to_31433.mp4.\n",
            "MoviePy - Writing audio in video_from_31372_to_31433TEMP_MPY_wvf_snd.mp3\n"
          ]
        },
        {
          "name": "stderr",
          "output_type": "stream",
          "text": []
        },
        {
          "name": "stdout",
          "output_type": "stream",
          "text": [
            "MoviePy - Done.\n",
            "Moviepy - Writing video /content/drive/MyDrive/0._HCM_AI_Challenge_2023/Data_Process/Cut_Video/video_scenes_L03/L03_V001/video_from_31372_to_31433.mp4\n",
            "\n"
          ]
        },
        {
          "name": "stderr",
          "output_type": "stream",
          "text": []
        },
        {
          "name": "stdout",
          "output_type": "stream",
          "text": [
            "Moviepy - Done !\n",
            "Moviepy - video ready /content/drive/MyDrive/0._HCM_AI_Challenge_2023/Data_Process/Cut_Video/video_scenes_L03/L03_V001/video_from_31372_to_31433.mp4\n",
            "Moviepy - Building video /content/drive/MyDrive/0._HCM_AI_Challenge_2023/Data_Process/Cut_Video/video_scenes_L03/L03_V001/video_from_31434_to_31495.mp4.\n",
            "MoviePy - Writing audio in video_from_31434_to_31495TEMP_MPY_wvf_snd.mp3\n"
          ]
        },
        {
          "name": "stderr",
          "output_type": "stream",
          "text": []
        },
        {
          "name": "stdout",
          "output_type": "stream",
          "text": [
            "MoviePy - Done.\n",
            "Moviepy - Writing video /content/drive/MyDrive/0._HCM_AI_Challenge_2023/Data_Process/Cut_Video/video_scenes_L03/L03_V001/video_from_31434_to_31495.mp4\n",
            "\n"
          ]
        },
        {
          "name": "stderr",
          "output_type": "stream",
          "text": []
        },
        {
          "name": "stdout",
          "output_type": "stream",
          "text": [
            "Moviepy - Done !\n",
            "Moviepy - video ready /content/drive/MyDrive/0._HCM_AI_Challenge_2023/Data_Process/Cut_Video/video_scenes_L03/L03_V001/video_from_31434_to_31495.mp4\n",
            "Moviepy - Building video /content/drive/MyDrive/0._HCM_AI_Challenge_2023/Data_Process/Cut_Video/video_scenes_L03/L03_V001/video_from_31496_to_31548.mp4.\n",
            "MoviePy - Writing audio in video_from_31496_to_31548TEMP_MPY_wvf_snd.mp3\n"
          ]
        },
        {
          "name": "stderr",
          "output_type": "stream",
          "text": []
        },
        {
          "name": "stdout",
          "output_type": "stream",
          "text": [
            "MoviePy - Done.\n",
            "Moviepy - Writing video /content/drive/MyDrive/0._HCM_AI_Challenge_2023/Data_Process/Cut_Video/video_scenes_L03/L03_V001/video_from_31496_to_31548.mp4\n",
            "\n"
          ]
        },
        {
          "name": "stderr",
          "output_type": "stream",
          "text": []
        },
        {
          "name": "stdout",
          "output_type": "stream",
          "text": [
            "Moviepy - Done !\n",
            "Moviepy - video ready /content/drive/MyDrive/0._HCM_AI_Challenge_2023/Data_Process/Cut_Video/video_scenes_L03/L03_V001/video_from_31496_to_31548.mp4\n",
            "Moviepy - Building video /content/drive/MyDrive/0._HCM_AI_Challenge_2023/Data_Process/Cut_Video/video_scenes_L03/L03_V001/video_from_31549_to_31574.mp4.\n",
            "MoviePy - Writing audio in video_from_31549_to_31574TEMP_MPY_wvf_snd.mp3\n"
          ]
        },
        {
          "name": "stderr",
          "output_type": "stream",
          "text": []
        },
        {
          "name": "stdout",
          "output_type": "stream",
          "text": [
            "MoviePy - Done.\n",
            "Moviepy - Writing video /content/drive/MyDrive/0._HCM_AI_Challenge_2023/Data_Process/Cut_Video/video_scenes_L03/L03_V001/video_from_31549_to_31574.mp4\n",
            "\n"
          ]
        },
        {
          "name": "stderr",
          "output_type": "stream",
          "text": []
        },
        {
          "name": "stdout",
          "output_type": "stream",
          "text": [
            "Moviepy - Done !\n",
            "Moviepy - video ready /content/drive/MyDrive/0._HCM_AI_Challenge_2023/Data_Process/Cut_Video/video_scenes_L03/L03_V001/video_from_31549_to_31574.mp4\n",
            "Moviepy - Building video /content/drive/MyDrive/0._HCM_AI_Challenge_2023/Data_Process/Cut_Video/video_scenes_L03/L03_V001/video_from_31575_to_31594.mp4.\n",
            "MoviePy - Writing audio in video_from_31575_to_31594TEMP_MPY_wvf_snd.mp3\n"
          ]
        },
        {
          "name": "stderr",
          "output_type": "stream",
          "text": []
        },
        {
          "name": "stdout",
          "output_type": "stream",
          "text": [
            "MoviePy - Done.\n",
            "Moviepy - Writing video /content/drive/MyDrive/0._HCM_AI_Challenge_2023/Data_Process/Cut_Video/video_scenes_L03/L03_V001/video_from_31575_to_31594.mp4\n",
            "\n"
          ]
        },
        {
          "name": "stderr",
          "output_type": "stream",
          "text": []
        },
        {
          "name": "stdout",
          "output_type": "stream",
          "text": [
            "Moviepy - Done !\n",
            "Moviepy - video ready /content/drive/MyDrive/0._HCM_AI_Challenge_2023/Data_Process/Cut_Video/video_scenes_L03/L03_V001/video_from_31575_to_31594.mp4\n",
            "Moviepy - Building video /content/drive/MyDrive/0._HCM_AI_Challenge_2023/Data_Process/Cut_Video/video_scenes_L03/L03_V001/video_from_31595_to_31634.mp4.\n",
            "MoviePy - Writing audio in video_from_31595_to_31634TEMP_MPY_wvf_snd.mp3\n"
          ]
        },
        {
          "name": "stderr",
          "output_type": "stream",
          "text": []
        },
        {
          "name": "stdout",
          "output_type": "stream",
          "text": [
            "MoviePy - Done.\n",
            "Moviepy - Writing video /content/drive/MyDrive/0._HCM_AI_Challenge_2023/Data_Process/Cut_Video/video_scenes_L03/L03_V001/video_from_31595_to_31634.mp4\n",
            "\n"
          ]
        },
        {
          "name": "stderr",
          "output_type": "stream",
          "text": []
        },
        {
          "name": "stdout",
          "output_type": "stream",
          "text": [
            "Moviepy - Done !\n",
            "Moviepy - video ready /content/drive/MyDrive/0._HCM_AI_Challenge_2023/Data_Process/Cut_Video/video_scenes_L03/L03_V001/video_from_31595_to_31634.mp4\n",
            "Moviepy - Building video /content/drive/MyDrive/0._HCM_AI_Challenge_2023/Data_Process/Cut_Video/video_scenes_L03/L03_V001/video_from_31635_to_31763.mp4.\n",
            "MoviePy - Writing audio in video_from_31635_to_31763TEMP_MPY_wvf_snd.mp3\n"
          ]
        },
        {
          "name": "stderr",
          "output_type": "stream",
          "text": []
        },
        {
          "name": "stdout",
          "output_type": "stream",
          "text": [
            "MoviePy - Done.\n",
            "Moviepy - Writing video /content/drive/MyDrive/0._HCM_AI_Challenge_2023/Data_Process/Cut_Video/video_scenes_L03/L03_V001/video_from_31635_to_31763.mp4\n",
            "\n"
          ]
        },
        {
          "name": "stderr",
          "output_type": "stream",
          "text": []
        },
        {
          "name": "stdout",
          "output_type": "stream",
          "text": [
            "Moviepy - Done !\n",
            "Moviepy - video ready /content/drive/MyDrive/0._HCM_AI_Challenge_2023/Data_Process/Cut_Video/video_scenes_L03/L03_V001/video_from_31635_to_31763.mp4\n",
            "Moviepy - Building video /content/drive/MyDrive/0._HCM_AI_Challenge_2023/Data_Process/Cut_Video/video_scenes_L03/L03_V001/video_from_31764_to_31816.mp4.\n",
            "MoviePy - Writing audio in video_from_31764_to_31816TEMP_MPY_wvf_snd.mp3\n"
          ]
        },
        {
          "name": "stderr",
          "output_type": "stream",
          "text": []
        },
        {
          "name": "stdout",
          "output_type": "stream",
          "text": [
            "MoviePy - Done.\n",
            "Moviepy - Writing video /content/drive/MyDrive/0._HCM_AI_Challenge_2023/Data_Process/Cut_Video/video_scenes_L03/L03_V001/video_from_31764_to_31816.mp4\n",
            "\n"
          ]
        },
        {
          "name": "stderr",
          "output_type": "stream",
          "text": []
        },
        {
          "name": "stdout",
          "output_type": "stream",
          "text": [
            "Moviepy - Done !\n",
            "Moviepy - video ready /content/drive/MyDrive/0._HCM_AI_Challenge_2023/Data_Process/Cut_Video/video_scenes_L03/L03_V001/video_from_31764_to_31816.mp4\n",
            "Moviepy - Building video /content/drive/MyDrive/0._HCM_AI_Challenge_2023/Data_Process/Cut_Video/video_scenes_L03/L03_V001/video_from_31817_to_31845.mp4.\n",
            "MoviePy - Writing audio in video_from_31817_to_31845TEMP_MPY_wvf_snd.mp3\n"
          ]
        },
        {
          "name": "stderr",
          "output_type": "stream",
          "text": []
        },
        {
          "name": "stdout",
          "output_type": "stream",
          "text": [
            "MoviePy - Done.\n",
            "Moviepy - Writing video /content/drive/MyDrive/0._HCM_AI_Challenge_2023/Data_Process/Cut_Video/video_scenes_L03/L03_V001/video_from_31817_to_31845.mp4\n",
            "\n"
          ]
        },
        {
          "name": "stderr",
          "output_type": "stream",
          "text": []
        },
        {
          "name": "stdout",
          "output_type": "stream",
          "text": [
            "Moviepy - Done !\n",
            "Moviepy - video ready /content/drive/MyDrive/0._HCM_AI_Challenge_2023/Data_Process/Cut_Video/video_scenes_L03/L03_V001/video_from_31817_to_31845.mp4\n",
            "Moviepy - Building video /content/drive/MyDrive/0._HCM_AI_Challenge_2023/Data_Process/Cut_Video/video_scenes_L03/L03_V001/video_from_31846_to_31894.mp4.\n",
            "MoviePy - Writing audio in video_from_31846_to_31894TEMP_MPY_wvf_snd.mp3\n"
          ]
        },
        {
          "name": "stderr",
          "output_type": "stream",
          "text": []
        },
        {
          "name": "stdout",
          "output_type": "stream",
          "text": [
            "MoviePy - Done.\n",
            "Moviepy - Writing video /content/drive/MyDrive/0._HCM_AI_Challenge_2023/Data_Process/Cut_Video/video_scenes_L03/L03_V001/video_from_31846_to_31894.mp4\n",
            "\n"
          ]
        },
        {
          "name": "stderr",
          "output_type": "stream",
          "text": []
        },
        {
          "name": "stdout",
          "output_type": "stream",
          "text": [
            "Moviepy - Done !\n",
            "Moviepy - video ready /content/drive/MyDrive/0._HCM_AI_Challenge_2023/Data_Process/Cut_Video/video_scenes_L03/L03_V001/video_from_31846_to_31894.mp4\n",
            "Moviepy - Building video /content/drive/MyDrive/0._HCM_AI_Challenge_2023/Data_Process/Cut_Video/video_scenes_L03/L03_V001/video_from_31895_to_31952.mp4.\n",
            "MoviePy - Writing audio in video_from_31895_to_31952TEMP_MPY_wvf_snd.mp3\n"
          ]
        },
        {
          "name": "stderr",
          "output_type": "stream",
          "text": []
        },
        {
          "name": "stdout",
          "output_type": "stream",
          "text": [
            "MoviePy - Done.\n",
            "Moviepy - Writing video /content/drive/MyDrive/0._HCM_AI_Challenge_2023/Data_Process/Cut_Video/video_scenes_L03/L03_V001/video_from_31895_to_31952.mp4\n",
            "\n"
          ]
        },
        {
          "name": "stderr",
          "output_type": "stream",
          "text": []
        },
        {
          "name": "stdout",
          "output_type": "stream",
          "text": [
            "Moviepy - Done !\n",
            "Moviepy - video ready /content/drive/MyDrive/0._HCM_AI_Challenge_2023/Data_Process/Cut_Video/video_scenes_L03/L03_V001/video_from_31895_to_31952.mp4\n",
            "Moviepy - Building video /content/drive/MyDrive/0._HCM_AI_Challenge_2023/Data_Process/Cut_Video/video_scenes_L03/L03_V001/video_from_31953_to_32012.mp4.\n",
            "MoviePy - Writing audio in video_from_31953_to_32012TEMP_MPY_wvf_snd.mp3\n"
          ]
        },
        {
          "name": "stderr",
          "output_type": "stream",
          "text": []
        },
        {
          "name": "stdout",
          "output_type": "stream",
          "text": [
            "MoviePy - Done.\n",
            "Moviepy - Writing video /content/drive/MyDrive/0._HCM_AI_Challenge_2023/Data_Process/Cut_Video/video_scenes_L03/L03_V001/video_from_31953_to_32012.mp4\n",
            "\n"
          ]
        },
        {
          "name": "stderr",
          "output_type": "stream",
          "text": []
        },
        {
          "name": "stdout",
          "output_type": "stream",
          "text": [
            "Moviepy - Done !\n",
            "Moviepy - video ready /content/drive/MyDrive/0._HCM_AI_Challenge_2023/Data_Process/Cut_Video/video_scenes_L03/L03_V001/video_from_31953_to_32012.mp4\n",
            "Moviepy - Building video /content/drive/MyDrive/0._HCM_AI_Challenge_2023/Data_Process/Cut_Video/video_scenes_L03/L03_V001/video_from_32013_to_32098.mp4.\n",
            "MoviePy - Writing audio in video_from_32013_to_32098TEMP_MPY_wvf_snd.mp3\n"
          ]
        },
        {
          "name": "stderr",
          "output_type": "stream",
          "text": []
        },
        {
          "name": "stdout",
          "output_type": "stream",
          "text": [
            "MoviePy - Done.\n",
            "Moviepy - Writing video /content/drive/MyDrive/0._HCM_AI_Challenge_2023/Data_Process/Cut_Video/video_scenes_L03/L03_V001/video_from_32013_to_32098.mp4\n",
            "\n"
          ]
        },
        {
          "name": "stderr",
          "output_type": "stream",
          "text": []
        },
        {
          "name": "stdout",
          "output_type": "stream",
          "text": [
            "Moviepy - Done !\n",
            "Moviepy - video ready /content/drive/MyDrive/0._HCM_AI_Challenge_2023/Data_Process/Cut_Video/video_scenes_L03/L03_V001/video_from_32013_to_32098.mp4\n",
            "Moviepy - Building video /content/drive/MyDrive/0._HCM_AI_Challenge_2023/Data_Process/Cut_Video/video_scenes_L03/L03_V001/video_from_32099_to_32150.mp4.\n",
            "MoviePy - Writing audio in video_from_32099_to_32150TEMP_MPY_wvf_snd.mp3\n"
          ]
        },
        {
          "name": "stderr",
          "output_type": "stream",
          "text": []
        },
        {
          "name": "stdout",
          "output_type": "stream",
          "text": [
            "MoviePy - Done.\n",
            "Moviepy - Writing video /content/drive/MyDrive/0._HCM_AI_Challenge_2023/Data_Process/Cut_Video/video_scenes_L03/L03_V001/video_from_32099_to_32150.mp4\n",
            "\n"
          ]
        },
        {
          "name": "stderr",
          "output_type": "stream",
          "text": []
        },
        {
          "name": "stdout",
          "output_type": "stream",
          "text": [
            "Moviepy - Done !\n",
            "Moviepy - video ready /content/drive/MyDrive/0._HCM_AI_Challenge_2023/Data_Process/Cut_Video/video_scenes_L03/L03_V001/video_from_32099_to_32150.mp4\n",
            "Moviepy - Building video /content/drive/MyDrive/0._HCM_AI_Challenge_2023/Data_Process/Cut_Video/video_scenes_L03/L03_V001/video_from_32151_to_32824.mp4.\n",
            "MoviePy - Writing audio in video_from_32151_to_32824TEMP_MPY_wvf_snd.mp3\n"
          ]
        },
        {
          "name": "stderr",
          "output_type": "stream",
          "text": []
        },
        {
          "name": "stdout",
          "output_type": "stream",
          "text": [
            "MoviePy - Done.\n",
            "Moviepy - Writing video /content/drive/MyDrive/0._HCM_AI_Challenge_2023/Data_Process/Cut_Video/video_scenes_L03/L03_V001/video_from_32151_to_32824.mp4\n",
            "\n"
          ]
        },
        {
          "name": "stderr",
          "output_type": "stream",
          "text": []
        },
        {
          "name": "stdout",
          "output_type": "stream",
          "text": [
            "Moviepy - Done !\n",
            "Moviepy - video ready /content/drive/MyDrive/0._HCM_AI_Challenge_2023/Data_Process/Cut_Video/video_scenes_L03/L03_V001/video_from_32151_to_32824.mp4\n",
            "Moviepy - Building video /content/drive/MyDrive/0._HCM_AI_Challenge_2023/Data_Process/Cut_Video/video_scenes_L03/L03_V001/video_from_32825_to_32909.mp4.\n",
            "MoviePy - Writing audio in video_from_32825_to_32909TEMP_MPY_wvf_snd.mp3\n"
          ]
        },
        {
          "name": "stderr",
          "output_type": "stream",
          "text": []
        },
        {
          "name": "stdout",
          "output_type": "stream",
          "text": [
            "MoviePy - Done.\n",
            "Moviepy - Writing video /content/drive/MyDrive/0._HCM_AI_Challenge_2023/Data_Process/Cut_Video/video_scenes_L03/L03_V001/video_from_32825_to_32909.mp4\n",
            "\n"
          ]
        },
        {
          "name": "stderr",
          "output_type": "stream",
          "text": []
        },
        {
          "name": "stdout",
          "output_type": "stream",
          "text": [
            "Moviepy - Done !\n",
            "Moviepy - video ready /content/drive/MyDrive/0._HCM_AI_Challenge_2023/Data_Process/Cut_Video/video_scenes_L03/L03_V001/video_from_32825_to_32909.mp4\n",
            "[TransNetV2] Extracting frames from /content/drive/MyDrive/0._HCM_AI_Challenge_2023/Data_Process/Video_BTC/Video/video_L03/L03_V002.mp4\n",
            "[TransNetV2] Processing video frames 30785/30785\n",
            "Moviepy - Building video /content/drive/MyDrive/0._HCM_AI_Challenge_2023/Data_Process/Cut_Video/video_scenes_L03/L03_V002/video_from_0_to_29.mp4.\n",
            "MoviePy - Writing audio in video_from_0_to_29TEMP_MPY_wvf_snd.mp3\n"
          ]
        },
        {
          "name": "stderr",
          "output_type": "stream",
          "text": []
        },
        {
          "name": "stdout",
          "output_type": "stream",
          "text": [
            "MoviePy - Done.\n",
            "Moviepy - Writing video /content/drive/MyDrive/0._HCM_AI_Challenge_2023/Data_Process/Cut_Video/video_scenes_L03/L03_V002/video_from_0_to_29.mp4\n",
            "\n"
          ]
        },
        {
          "name": "stderr",
          "output_type": "stream",
          "text": []
        },
        {
          "name": "stdout",
          "output_type": "stream",
          "text": [
            "Moviepy - Done !\n",
            "Moviepy - video ready /content/drive/MyDrive/0._HCM_AI_Challenge_2023/Data_Process/Cut_Video/video_scenes_L03/L03_V002/video_from_0_to_29.mp4\n",
            "Moviepy - Building video /content/drive/MyDrive/0._HCM_AI_Challenge_2023/Data_Process/Cut_Video/video_scenes_L03/L03_V002/video_from_30_to_482.mp4.\n",
            "MoviePy - Writing audio in video_from_30_to_482TEMP_MPY_wvf_snd.mp3\n"
          ]
        },
        {
          "name": "stderr",
          "output_type": "stream",
          "text": []
        },
        {
          "name": "stdout",
          "output_type": "stream",
          "text": [
            "MoviePy - Done.\n",
            "Moviepy - Writing video /content/drive/MyDrive/0._HCM_AI_Challenge_2023/Data_Process/Cut_Video/video_scenes_L03/L03_V002/video_from_30_to_482.mp4\n",
            "\n"
          ]
        },
        {
          "name": "stderr",
          "output_type": "stream",
          "text": []
        },
        {
          "name": "stdout",
          "output_type": "stream",
          "text": [
            "Moviepy - Done !\n",
            "Moviepy - video ready /content/drive/MyDrive/0._HCM_AI_Challenge_2023/Data_Process/Cut_Video/video_scenes_L03/L03_V002/video_from_30_to_482.mp4\n",
            "Moviepy - Building video /content/drive/MyDrive/0._HCM_AI_Challenge_2023/Data_Process/Cut_Video/video_scenes_L03/L03_V002/video_from_483_to_532.mp4.\n",
            "MoviePy - Writing audio in video_from_483_to_532TEMP_MPY_wvf_snd.mp3\n"
          ]
        },
        {
          "name": "stderr",
          "output_type": "stream",
          "text": []
        },
        {
          "name": "stdout",
          "output_type": "stream",
          "text": [
            "MoviePy - Done.\n",
            "Moviepy - Writing video /content/drive/MyDrive/0._HCM_AI_Challenge_2023/Data_Process/Cut_Video/video_scenes_L03/L03_V002/video_from_483_to_532.mp4\n",
            "\n"
          ]
        },
        {
          "name": "stderr",
          "output_type": "stream",
          "text": []
        },
        {
          "name": "stdout",
          "output_type": "stream",
          "text": [
            "Moviepy - Done !\n",
            "Moviepy - video ready /content/drive/MyDrive/0._HCM_AI_Challenge_2023/Data_Process/Cut_Video/video_scenes_L03/L03_V002/video_from_483_to_532.mp4\n",
            "Moviepy - Building video /content/drive/MyDrive/0._HCM_AI_Challenge_2023/Data_Process/Cut_Video/video_scenes_L03/L03_V002/video_from_533_to_584.mp4.\n",
            "MoviePy - Writing audio in video_from_533_to_584TEMP_MPY_wvf_snd.mp3\n"
          ]
        },
        {
          "name": "stderr",
          "output_type": "stream",
          "text": []
        },
        {
          "name": "stdout",
          "output_type": "stream",
          "text": [
            "MoviePy - Done.\n",
            "Moviepy - Writing video /content/drive/MyDrive/0._HCM_AI_Challenge_2023/Data_Process/Cut_Video/video_scenes_L03/L03_V002/video_from_533_to_584.mp4\n",
            "\n"
          ]
        },
        {
          "name": "stderr",
          "output_type": "stream",
          "text": []
        },
        {
          "name": "stdout",
          "output_type": "stream",
          "text": [
            "Moviepy - Done !\n",
            "Moviepy - video ready /content/drive/MyDrive/0._HCM_AI_Challenge_2023/Data_Process/Cut_Video/video_scenes_L03/L03_V002/video_from_533_to_584.mp4\n",
            "Moviepy - Building video /content/drive/MyDrive/0._HCM_AI_Challenge_2023/Data_Process/Cut_Video/video_scenes_L03/L03_V002/video_from_585_to_619.mp4.\n",
            "MoviePy - Writing audio in video_from_585_to_619TEMP_MPY_wvf_snd.mp3\n"
          ]
        },
        {
          "name": "stderr",
          "output_type": "stream",
          "text": []
        },
        {
          "name": "stdout",
          "output_type": "stream",
          "text": [
            "MoviePy - Done.\n",
            "Moviepy - Writing video /content/drive/MyDrive/0._HCM_AI_Challenge_2023/Data_Process/Cut_Video/video_scenes_L03/L03_V002/video_from_585_to_619.mp4\n",
            "\n"
          ]
        },
        {
          "name": "stderr",
          "output_type": "stream",
          "text": []
        },
        {
          "name": "stdout",
          "output_type": "stream",
          "text": [
            "Moviepy - Done !\n",
            "Moviepy - video ready /content/drive/MyDrive/0._HCM_AI_Challenge_2023/Data_Process/Cut_Video/video_scenes_L03/L03_V002/video_from_585_to_619.mp4\n",
            "Moviepy - Building video /content/drive/MyDrive/0._HCM_AI_Challenge_2023/Data_Process/Cut_Video/video_scenes_L03/L03_V002/video_from_620_to_660.mp4.\n",
            "MoviePy - Writing audio in video_from_620_to_660TEMP_MPY_wvf_snd.mp3\n"
          ]
        },
        {
          "name": "stderr",
          "output_type": "stream",
          "text": []
        },
        {
          "name": "stdout",
          "output_type": "stream",
          "text": [
            "MoviePy - Done.\n",
            "Moviepy - Writing video /content/drive/MyDrive/0._HCM_AI_Challenge_2023/Data_Process/Cut_Video/video_scenes_L03/L03_V002/video_from_620_to_660.mp4\n",
            "\n"
          ]
        },
        {
          "name": "stderr",
          "output_type": "stream",
          "text": []
        },
        {
          "name": "stdout",
          "output_type": "stream",
          "text": [
            "Moviepy - Done !\n",
            "Moviepy - video ready /content/drive/MyDrive/0._HCM_AI_Challenge_2023/Data_Process/Cut_Video/video_scenes_L03/L03_V002/video_from_620_to_660.mp4\n",
            "Moviepy - Building video /content/drive/MyDrive/0._HCM_AI_Challenge_2023/Data_Process/Cut_Video/video_scenes_L03/L03_V002/video_from_661_to_698.mp4.\n",
            "MoviePy - Writing audio in video_from_661_to_698TEMP_MPY_wvf_snd.mp3\n"
          ]
        },
        {
          "name": "stderr",
          "output_type": "stream",
          "text": []
        },
        {
          "name": "stdout",
          "output_type": "stream",
          "text": [
            "MoviePy - Done.\n",
            "Moviepy - Writing video /content/drive/MyDrive/0._HCM_AI_Challenge_2023/Data_Process/Cut_Video/video_scenes_L03/L03_V002/video_from_661_to_698.mp4\n",
            "\n"
          ]
        },
        {
          "name": "stderr",
          "output_type": "stream",
          "text": []
        },
        {
          "name": "stdout",
          "output_type": "stream",
          "text": [
            "Moviepy - Done !\n",
            "Moviepy - video ready /content/drive/MyDrive/0._HCM_AI_Challenge_2023/Data_Process/Cut_Video/video_scenes_L03/L03_V002/video_from_661_to_698.mp4\n",
            "Moviepy - Building video /content/drive/MyDrive/0._HCM_AI_Challenge_2023/Data_Process/Cut_Video/video_scenes_L03/L03_V002/video_from_699_to_761.mp4.\n",
            "MoviePy - Writing audio in video_from_699_to_761TEMP_MPY_wvf_snd.mp3\n"
          ]
        },
        {
          "name": "stderr",
          "output_type": "stream",
          "text": []
        },
        {
          "name": "stdout",
          "output_type": "stream",
          "text": [
            "MoviePy - Done.\n",
            "Moviepy - Writing video /content/drive/MyDrive/0._HCM_AI_Challenge_2023/Data_Process/Cut_Video/video_scenes_L03/L03_V002/video_from_699_to_761.mp4\n",
            "\n"
          ]
        },
        {
          "name": "stderr",
          "output_type": "stream",
          "text": []
        },
        {
          "name": "stdout",
          "output_type": "stream",
          "text": [
            "Moviepy - Done !\n",
            "Moviepy - video ready /content/drive/MyDrive/0._HCM_AI_Challenge_2023/Data_Process/Cut_Video/video_scenes_L03/L03_V002/video_from_699_to_761.mp4\n",
            "Moviepy - Building video /content/drive/MyDrive/0._HCM_AI_Challenge_2023/Data_Process/Cut_Video/video_scenes_L03/L03_V002/video_from_762_to_785.mp4.\n",
            "MoviePy - Writing audio in video_from_762_to_785TEMP_MPY_wvf_snd.mp3\n"
          ]
        },
        {
          "name": "stderr",
          "output_type": "stream",
          "text": []
        },
        {
          "name": "stdout",
          "output_type": "stream",
          "text": [
            "MoviePy - Done.\n",
            "Moviepy - Writing video /content/drive/MyDrive/0._HCM_AI_Challenge_2023/Data_Process/Cut_Video/video_scenes_L03/L03_V002/video_from_762_to_785.mp4\n",
            "\n"
          ]
        },
        {
          "name": "stderr",
          "output_type": "stream",
          "text": []
        },
        {
          "name": "stdout",
          "output_type": "stream",
          "text": [
            "Moviepy - Done !\n",
            "Moviepy - video ready /content/drive/MyDrive/0._HCM_AI_Challenge_2023/Data_Process/Cut_Video/video_scenes_L03/L03_V002/video_from_762_to_785.mp4\n",
            "Moviepy - Building video /content/drive/MyDrive/0._HCM_AI_Challenge_2023/Data_Process/Cut_Video/video_scenes_L03/L03_V002/video_from_786_to_835.mp4.\n",
            "MoviePy - Writing audio in video_from_786_to_835TEMP_MPY_wvf_snd.mp3\n"
          ]
        },
        {
          "name": "stderr",
          "output_type": "stream",
          "text": []
        },
        {
          "name": "stdout",
          "output_type": "stream",
          "text": [
            "MoviePy - Done.\n",
            "Moviepy - Writing video /content/drive/MyDrive/0._HCM_AI_Challenge_2023/Data_Process/Cut_Video/video_scenes_L03/L03_V002/video_from_786_to_835.mp4\n",
            "\n"
          ]
        },
        {
          "name": "stderr",
          "output_type": "stream",
          "text": []
        },
        {
          "name": "stdout",
          "output_type": "stream",
          "text": [
            "Moviepy - Done !\n",
            "Moviepy - video ready /content/drive/MyDrive/0._HCM_AI_Challenge_2023/Data_Process/Cut_Video/video_scenes_L03/L03_V002/video_from_786_to_835.mp4\n",
            "Moviepy - Building video /content/drive/MyDrive/0._HCM_AI_Challenge_2023/Data_Process/Cut_Video/video_scenes_L03/L03_V002/video_from_836_to_867.mp4.\n",
            "MoviePy - Writing audio in video_from_836_to_867TEMP_MPY_wvf_snd.mp3\n"
          ]
        },
        {
          "name": "stderr",
          "output_type": "stream",
          "text": []
        },
        {
          "name": "stdout",
          "output_type": "stream",
          "text": [
            "MoviePy - Done.\n",
            "Moviepy - Writing video /content/drive/MyDrive/0._HCM_AI_Challenge_2023/Data_Process/Cut_Video/video_scenes_L03/L03_V002/video_from_836_to_867.mp4\n",
            "\n"
          ]
        },
        {
          "name": "stderr",
          "output_type": "stream",
          "text": []
        },
        {
          "name": "stdout",
          "output_type": "stream",
          "text": [
            "Moviepy - Done !\n",
            "Moviepy - video ready /content/drive/MyDrive/0._HCM_AI_Challenge_2023/Data_Process/Cut_Video/video_scenes_L03/L03_V002/video_from_836_to_867.mp4\n",
            "Moviepy - Building video /content/drive/MyDrive/0._HCM_AI_Challenge_2023/Data_Process/Cut_Video/video_scenes_L03/L03_V002/video_from_868_to_906.mp4.\n",
            "MoviePy - Writing audio in video_from_868_to_906TEMP_MPY_wvf_snd.mp3\n"
          ]
        },
        {
          "name": "stderr",
          "output_type": "stream",
          "text": []
        },
        {
          "name": "stdout",
          "output_type": "stream",
          "text": [
            "MoviePy - Done.\n",
            "Moviepy - Writing video /content/drive/MyDrive/0._HCM_AI_Challenge_2023/Data_Process/Cut_Video/video_scenes_L03/L03_V002/video_from_868_to_906.mp4\n",
            "\n"
          ]
        },
        {
          "name": "stderr",
          "output_type": "stream",
          "text": []
        },
        {
          "name": "stdout",
          "output_type": "stream",
          "text": [
            "Moviepy - Done !\n",
            "Moviepy - video ready /content/drive/MyDrive/0._HCM_AI_Challenge_2023/Data_Process/Cut_Video/video_scenes_L03/L03_V002/video_from_868_to_906.mp4\n",
            "Moviepy - Building video /content/drive/MyDrive/0._HCM_AI_Challenge_2023/Data_Process/Cut_Video/video_scenes_L03/L03_V002/video_from_907_to_979.mp4.\n",
            "MoviePy - Writing audio in video_from_907_to_979TEMP_MPY_wvf_snd.mp3\n"
          ]
        },
        {
          "name": "stderr",
          "output_type": "stream",
          "text": []
        },
        {
          "name": "stdout",
          "output_type": "stream",
          "text": [
            "MoviePy - Done.\n",
            "Moviepy - Writing video /content/drive/MyDrive/0._HCM_AI_Challenge_2023/Data_Process/Cut_Video/video_scenes_L03/L03_V002/video_from_907_to_979.mp4\n",
            "\n"
          ]
        },
        {
          "name": "stderr",
          "output_type": "stream",
          "text": []
        },
        {
          "name": "stdout",
          "output_type": "stream",
          "text": [
            "Moviepy - Done !\n",
            "Moviepy - video ready /content/drive/MyDrive/0._HCM_AI_Challenge_2023/Data_Process/Cut_Video/video_scenes_L03/L03_V002/video_from_907_to_979.mp4\n",
            "Moviepy - Building video /content/drive/MyDrive/0._HCM_AI_Challenge_2023/Data_Process/Cut_Video/video_scenes_L03/L03_V002/video_from_980_to_1443.mp4.\n",
            "MoviePy - Writing audio in video_from_980_to_1443TEMP_MPY_wvf_snd.mp3\n"
          ]
        },
        {
          "name": "stderr",
          "output_type": "stream",
          "text": []
        },
        {
          "name": "stdout",
          "output_type": "stream",
          "text": [
            "MoviePy - Done.\n",
            "Moviepy - Writing video /content/drive/MyDrive/0._HCM_AI_Challenge_2023/Data_Process/Cut_Video/video_scenes_L03/L03_V002/video_from_980_to_1443.mp4\n",
            "\n"
          ]
        },
        {
          "name": "stderr",
          "output_type": "stream",
          "text": []
        },
        {
          "name": "stdout",
          "output_type": "stream",
          "text": [
            "Moviepy - Done !\n",
            "Moviepy - video ready /content/drive/MyDrive/0._HCM_AI_Challenge_2023/Data_Process/Cut_Video/video_scenes_L03/L03_V002/video_from_980_to_1443.mp4\n",
            "Moviepy - Building video /content/drive/MyDrive/0._HCM_AI_Challenge_2023/Data_Process/Cut_Video/video_scenes_L03/L03_V002/video_from_1444_to_1489.mp4.\n",
            "MoviePy - Writing audio in video_from_1444_to_1489TEMP_MPY_wvf_snd.mp3\n"
          ]
        },
        {
          "name": "stderr",
          "output_type": "stream",
          "text": []
        },
        {
          "name": "stdout",
          "output_type": "stream",
          "text": [
            "MoviePy - Done.\n",
            "Moviepy - Writing video /content/drive/MyDrive/0._HCM_AI_Challenge_2023/Data_Process/Cut_Video/video_scenes_L03/L03_V002/video_from_1444_to_1489.mp4\n",
            "\n"
          ]
        },
        {
          "name": "stderr",
          "output_type": "stream",
          "text": []
        },
        {
          "name": "stdout",
          "output_type": "stream",
          "text": [
            "Moviepy - Done !\n",
            "Moviepy - video ready /content/drive/MyDrive/0._HCM_AI_Challenge_2023/Data_Process/Cut_Video/video_scenes_L03/L03_V002/video_from_1444_to_1489.mp4\n",
            "Moviepy - Building video /content/drive/MyDrive/0._HCM_AI_Challenge_2023/Data_Process/Cut_Video/video_scenes_L03/L03_V002/video_from_1490_to_1558.mp4.\n",
            "MoviePy - Writing audio in video_from_1490_to_1558TEMP_MPY_wvf_snd.mp3\n"
          ]
        },
        {
          "name": "stderr",
          "output_type": "stream",
          "text": []
        },
        {
          "name": "stdout",
          "output_type": "stream",
          "text": [
            "MoviePy - Done.\n",
            "Moviepy - Writing video /content/drive/MyDrive/0._HCM_AI_Challenge_2023/Data_Process/Cut_Video/video_scenes_L03/L03_V002/video_from_1490_to_1558.mp4\n",
            "\n"
          ]
        },
        {
          "name": "stderr",
          "output_type": "stream",
          "text": []
        },
        {
          "name": "stdout",
          "output_type": "stream",
          "text": [
            "Moviepy - Done !\n",
            "Moviepy - video ready /content/drive/MyDrive/0._HCM_AI_Challenge_2023/Data_Process/Cut_Video/video_scenes_L03/L03_V002/video_from_1490_to_1558.mp4\n",
            "Moviepy - Building video /content/drive/MyDrive/0._HCM_AI_Challenge_2023/Data_Process/Cut_Video/video_scenes_L03/L03_V002/video_from_1559_to_1605.mp4.\n",
            "MoviePy - Writing audio in video_from_1559_to_1605TEMP_MPY_wvf_snd.mp3\n"
          ]
        },
        {
          "name": "stderr",
          "output_type": "stream",
          "text": []
        },
        {
          "name": "stdout",
          "output_type": "stream",
          "text": [
            "MoviePy - Done.\n",
            "Moviepy - Writing video /content/drive/MyDrive/0._HCM_AI_Challenge_2023/Data_Process/Cut_Video/video_scenes_L03/L03_V002/video_from_1559_to_1605.mp4\n",
            "\n"
          ]
        },
        {
          "name": "stderr",
          "output_type": "stream",
          "text": []
        },
        {
          "name": "stdout",
          "output_type": "stream",
          "text": [
            "Moviepy - Done !\n",
            "Moviepy - video ready /content/drive/MyDrive/0._HCM_AI_Challenge_2023/Data_Process/Cut_Video/video_scenes_L03/L03_V002/video_from_1559_to_1605.mp4\n",
            "Moviepy - Building video /content/drive/MyDrive/0._HCM_AI_Challenge_2023/Data_Process/Cut_Video/video_scenes_L03/L03_V002/video_from_1606_to_1655.mp4.\n",
            "MoviePy - Writing audio in video_from_1606_to_1655TEMP_MPY_wvf_snd.mp3\n"
          ]
        },
        {
          "name": "stderr",
          "output_type": "stream",
          "text": []
        },
        {
          "name": "stdout",
          "output_type": "stream",
          "text": [
            "MoviePy - Done.\n",
            "Moviepy - Writing video /content/drive/MyDrive/0._HCM_AI_Challenge_2023/Data_Process/Cut_Video/video_scenes_L03/L03_V002/video_from_1606_to_1655.mp4\n",
            "\n"
          ]
        },
        {
          "name": "stderr",
          "output_type": "stream",
          "text": []
        },
        {
          "name": "stdout",
          "output_type": "stream",
          "text": [
            "Moviepy - Done !\n",
            "Moviepy - video ready /content/drive/MyDrive/0._HCM_AI_Challenge_2023/Data_Process/Cut_Video/video_scenes_L03/L03_V002/video_from_1606_to_1655.mp4\n",
            "Moviepy - Building video /content/drive/MyDrive/0._HCM_AI_Challenge_2023/Data_Process/Cut_Video/video_scenes_L03/L03_V002/video_from_1656_to_1728.mp4.\n",
            "MoviePy - Writing audio in video_from_1656_to_1728TEMP_MPY_wvf_snd.mp3\n"
          ]
        },
        {
          "name": "stderr",
          "output_type": "stream",
          "text": []
        },
        {
          "name": "stdout",
          "output_type": "stream",
          "text": [
            "MoviePy - Done.\n",
            "Moviepy - Writing video /content/drive/MyDrive/0._HCM_AI_Challenge_2023/Data_Process/Cut_Video/video_scenes_L03/L03_V002/video_from_1656_to_1728.mp4\n",
            "\n"
          ]
        },
        {
          "name": "stderr",
          "output_type": "stream",
          "text": []
        },
        {
          "name": "stdout",
          "output_type": "stream",
          "text": [
            "Moviepy - Done !\n",
            "Moviepy - video ready /content/drive/MyDrive/0._HCM_AI_Challenge_2023/Data_Process/Cut_Video/video_scenes_L03/L03_V002/video_from_1656_to_1728.mp4\n",
            "Moviepy - Building video /content/drive/MyDrive/0._HCM_AI_Challenge_2023/Data_Process/Cut_Video/video_scenes_L03/L03_V002/video_from_1729_to_1772.mp4.\n",
            "MoviePy - Writing audio in video_from_1729_to_1772TEMP_MPY_wvf_snd.mp3\n"
          ]
        },
        {
          "name": "stderr",
          "output_type": "stream",
          "text": []
        },
        {
          "name": "stdout",
          "output_type": "stream",
          "text": [
            "MoviePy - Done.\n",
            "Moviepy - Writing video /content/drive/MyDrive/0._HCM_AI_Challenge_2023/Data_Process/Cut_Video/video_scenes_L03/L03_V002/video_from_1729_to_1772.mp4\n",
            "\n"
          ]
        },
        {
          "name": "stderr",
          "output_type": "stream",
          "text": []
        },
        {
          "name": "stdout",
          "output_type": "stream",
          "text": [
            "Moviepy - Done !\n",
            "Moviepy - video ready /content/drive/MyDrive/0._HCM_AI_Challenge_2023/Data_Process/Cut_Video/video_scenes_L03/L03_V002/video_from_1729_to_1772.mp4\n",
            "Moviepy - Building video /content/drive/MyDrive/0._HCM_AI_Challenge_2023/Data_Process/Cut_Video/video_scenes_L03/L03_V002/video_from_1773_to_1815.mp4.\n",
            "MoviePy - Writing audio in video_from_1773_to_1815TEMP_MPY_wvf_snd.mp3\n"
          ]
        },
        {
          "name": "stderr",
          "output_type": "stream",
          "text": []
        },
        {
          "name": "stdout",
          "output_type": "stream",
          "text": [
            "MoviePy - Done.\n",
            "Moviepy - Writing video /content/drive/MyDrive/0._HCM_AI_Challenge_2023/Data_Process/Cut_Video/video_scenes_L03/L03_V002/video_from_1773_to_1815.mp4\n",
            "\n"
          ]
        },
        {
          "name": "stderr",
          "output_type": "stream",
          "text": []
        },
        {
          "name": "stdout",
          "output_type": "stream",
          "text": [
            "Moviepy - Done !\n",
            "Moviepy - video ready /content/drive/MyDrive/0._HCM_AI_Challenge_2023/Data_Process/Cut_Video/video_scenes_L03/L03_V002/video_from_1773_to_1815.mp4\n",
            "Moviepy - Building video /content/drive/MyDrive/0._HCM_AI_Challenge_2023/Data_Process/Cut_Video/video_scenes_L03/L03_V002/video_from_1816_to_1849.mp4.\n",
            "MoviePy - Writing audio in video_from_1816_to_1849TEMP_MPY_wvf_snd.mp3\n"
          ]
        },
        {
          "name": "stderr",
          "output_type": "stream",
          "text": []
        },
        {
          "name": "stdout",
          "output_type": "stream",
          "text": [
            "MoviePy - Done.\n",
            "Moviepy - Writing video /content/drive/MyDrive/0._HCM_AI_Challenge_2023/Data_Process/Cut_Video/video_scenes_L03/L03_V002/video_from_1816_to_1849.mp4\n",
            "\n"
          ]
        },
        {
          "name": "stderr",
          "output_type": "stream",
          "text": []
        },
        {
          "name": "stdout",
          "output_type": "stream",
          "text": [
            "Moviepy - Done !\n",
            "Moviepy - video ready /content/drive/MyDrive/0._HCM_AI_Challenge_2023/Data_Process/Cut_Video/video_scenes_L03/L03_V002/video_from_1816_to_1849.mp4\n",
            "Moviepy - Building video /content/drive/MyDrive/0._HCM_AI_Challenge_2023/Data_Process/Cut_Video/video_scenes_L03/L03_V002/video_from_1850_to_1907.mp4.\n",
            "MoviePy - Writing audio in video_from_1850_to_1907TEMP_MPY_wvf_snd.mp3\n"
          ]
        },
        {
          "name": "stderr",
          "output_type": "stream",
          "text": []
        },
        {
          "name": "stdout",
          "output_type": "stream",
          "text": [
            "MoviePy - Done.\n",
            "Moviepy - Writing video /content/drive/MyDrive/0._HCM_AI_Challenge_2023/Data_Process/Cut_Video/video_scenes_L03/L03_V002/video_from_1850_to_1907.mp4\n",
            "\n"
          ]
        },
        {
          "name": "stderr",
          "output_type": "stream",
          "text": []
        },
        {
          "name": "stdout",
          "output_type": "stream",
          "text": [
            "Moviepy - Done !\n",
            "Moviepy - video ready /content/drive/MyDrive/0._HCM_AI_Challenge_2023/Data_Process/Cut_Video/video_scenes_L03/L03_V002/video_from_1850_to_1907.mp4\n",
            "Moviepy - Building video /content/drive/MyDrive/0._HCM_AI_Challenge_2023/Data_Process/Cut_Video/video_scenes_L03/L03_V002/video_from_1908_to_1956.mp4.\n",
            "MoviePy - Writing audio in video_from_1908_to_1956TEMP_MPY_wvf_snd.mp3\n"
          ]
        },
        {
          "name": "stderr",
          "output_type": "stream",
          "text": []
        },
        {
          "name": "stdout",
          "output_type": "stream",
          "text": [
            "MoviePy - Done.\n",
            "Moviepy - Writing video /content/drive/MyDrive/0._HCM_AI_Challenge_2023/Data_Process/Cut_Video/video_scenes_L03/L03_V002/video_from_1908_to_1956.mp4\n",
            "\n"
          ]
        },
        {
          "name": "stderr",
          "output_type": "stream",
          "text": []
        },
        {
          "name": "stdout",
          "output_type": "stream",
          "text": [
            "Moviepy - Done !\n",
            "Moviepy - video ready /content/drive/MyDrive/0._HCM_AI_Challenge_2023/Data_Process/Cut_Video/video_scenes_L03/L03_V002/video_from_1908_to_1956.mp4\n",
            "Moviepy - Building video /content/drive/MyDrive/0._HCM_AI_Challenge_2023/Data_Process/Cut_Video/video_scenes_L03/L03_V002/video_from_1957_to_1981.mp4.\n",
            "MoviePy - Writing audio in video_from_1957_to_1981TEMP_MPY_wvf_snd.mp3\n"
          ]
        },
        {
          "name": "stderr",
          "output_type": "stream",
          "text": []
        },
        {
          "name": "stdout",
          "output_type": "stream",
          "text": [
            "MoviePy - Done.\n",
            "Moviepy - Writing video /content/drive/MyDrive/0._HCM_AI_Challenge_2023/Data_Process/Cut_Video/video_scenes_L03/L03_V002/video_from_1957_to_1981.mp4\n",
            "\n"
          ]
        },
        {
          "name": "stderr",
          "output_type": "stream",
          "text": []
        },
        {
          "name": "stdout",
          "output_type": "stream",
          "text": [
            "Moviepy - Done !\n",
            "Moviepy - video ready /content/drive/MyDrive/0._HCM_AI_Challenge_2023/Data_Process/Cut_Video/video_scenes_L03/L03_V002/video_from_1957_to_1981.mp4\n",
            "Moviepy - Building video /content/drive/MyDrive/0._HCM_AI_Challenge_2023/Data_Process/Cut_Video/video_scenes_L03/L03_V002/video_from_1982_to_2044.mp4.\n",
            "MoviePy - Writing audio in video_from_1982_to_2044TEMP_MPY_wvf_snd.mp3\n"
          ]
        },
        {
          "name": "stderr",
          "output_type": "stream",
          "text": []
        },
        {
          "name": "stdout",
          "output_type": "stream",
          "text": [
            "MoviePy - Done.\n",
            "Moviepy - Writing video /content/drive/MyDrive/0._HCM_AI_Challenge_2023/Data_Process/Cut_Video/video_scenes_L03/L03_V002/video_from_1982_to_2044.mp4\n",
            "\n"
          ]
        },
        {
          "name": "stderr",
          "output_type": "stream",
          "text": []
        },
        {
          "name": "stdout",
          "output_type": "stream",
          "text": [
            "Moviepy - Done !\n",
            "Moviepy - video ready /content/drive/MyDrive/0._HCM_AI_Challenge_2023/Data_Process/Cut_Video/video_scenes_L03/L03_V002/video_from_1982_to_2044.mp4\n",
            "Moviepy - Building video /content/drive/MyDrive/0._HCM_AI_Challenge_2023/Data_Process/Cut_Video/video_scenes_L03/L03_V002/video_from_2045_to_2104.mp4.\n",
            "MoviePy - Writing audio in video_from_2045_to_2104TEMP_MPY_wvf_snd.mp3\n"
          ]
        },
        {
          "name": "stderr",
          "output_type": "stream",
          "text": []
        },
        {
          "name": "stdout",
          "output_type": "stream",
          "text": [
            "MoviePy - Done.\n",
            "Moviepy - Writing video /content/drive/MyDrive/0._HCM_AI_Challenge_2023/Data_Process/Cut_Video/video_scenes_L03/L03_V002/video_from_2045_to_2104.mp4\n",
            "\n"
          ]
        },
        {
          "name": "stderr",
          "output_type": "stream",
          "text": []
        },
        {
          "name": "stdout",
          "output_type": "stream",
          "text": [
            "Moviepy - Done !\n",
            "Moviepy - video ready /content/drive/MyDrive/0._HCM_AI_Challenge_2023/Data_Process/Cut_Video/video_scenes_L03/L03_V002/video_from_2045_to_2104.mp4\n",
            "Moviepy - Building video /content/drive/MyDrive/0._HCM_AI_Challenge_2023/Data_Process/Cut_Video/video_scenes_L03/L03_V002/video_from_2105_to_2139.mp4.\n",
            "MoviePy - Writing audio in video_from_2105_to_2139TEMP_MPY_wvf_snd.mp3\n"
          ]
        },
        {
          "name": "stderr",
          "output_type": "stream",
          "text": []
        },
        {
          "name": "stdout",
          "output_type": "stream",
          "text": [
            "MoviePy - Done.\n",
            "Moviepy - Writing video /content/drive/MyDrive/0._HCM_AI_Challenge_2023/Data_Process/Cut_Video/video_scenes_L03/L03_V002/video_from_2105_to_2139.mp4\n",
            "\n"
          ]
        },
        {
          "name": "stderr",
          "output_type": "stream",
          "text": []
        },
        {
          "name": "stdout",
          "output_type": "stream",
          "text": [
            "Moviepy - Done !\n",
            "Moviepy - video ready /content/drive/MyDrive/0._HCM_AI_Challenge_2023/Data_Process/Cut_Video/video_scenes_L03/L03_V002/video_from_2105_to_2139.mp4\n",
            "Moviepy - Building video /content/drive/MyDrive/0._HCM_AI_Challenge_2023/Data_Process/Cut_Video/video_scenes_L03/L03_V002/video_from_2140_to_2205.mp4.\n",
            "MoviePy - Writing audio in video_from_2140_to_2205TEMP_MPY_wvf_snd.mp3\n"
          ]
        },
        {
          "name": "stderr",
          "output_type": "stream",
          "text": []
        },
        {
          "name": "stdout",
          "output_type": "stream",
          "text": [
            "MoviePy - Done.\n",
            "Moviepy - Writing video /content/drive/MyDrive/0._HCM_AI_Challenge_2023/Data_Process/Cut_Video/video_scenes_L03/L03_V002/video_from_2140_to_2205.mp4\n",
            "\n"
          ]
        },
        {
          "name": "stderr",
          "output_type": "stream",
          "text": []
        },
        {
          "name": "stdout",
          "output_type": "stream",
          "text": [
            "Moviepy - Done !\n",
            "Moviepy - video ready /content/drive/MyDrive/0._HCM_AI_Challenge_2023/Data_Process/Cut_Video/video_scenes_L03/L03_V002/video_from_2140_to_2205.mp4\n",
            "Moviepy - Building video /content/drive/MyDrive/0._HCM_AI_Challenge_2023/Data_Process/Cut_Video/video_scenes_L03/L03_V002/video_from_2206_to_2274.mp4.\n",
            "MoviePy - Writing audio in video_from_2206_to_2274TEMP_MPY_wvf_snd.mp3\n"
          ]
        },
        {
          "name": "stderr",
          "output_type": "stream",
          "text": []
        },
        {
          "name": "stdout",
          "output_type": "stream",
          "text": [
            "MoviePy - Done.\n",
            "Moviepy - Writing video /content/drive/MyDrive/0._HCM_AI_Challenge_2023/Data_Process/Cut_Video/video_scenes_L03/L03_V002/video_from_2206_to_2274.mp4\n",
            "\n"
          ]
        },
        {
          "name": "stderr",
          "output_type": "stream",
          "text": []
        },
        {
          "name": "stdout",
          "output_type": "stream",
          "text": [
            "Moviepy - Done !\n",
            "Moviepy - video ready /content/drive/MyDrive/0._HCM_AI_Challenge_2023/Data_Process/Cut_Video/video_scenes_L03/L03_V002/video_from_2206_to_2274.mp4\n",
            "Moviepy - Building video /content/drive/MyDrive/0._HCM_AI_Challenge_2023/Data_Process/Cut_Video/video_scenes_L03/L03_V002/video_from_2275_to_2482.mp4.\n",
            "MoviePy - Writing audio in video_from_2275_to_2482TEMP_MPY_wvf_snd.mp3\n"
          ]
        },
        {
          "name": "stderr",
          "output_type": "stream",
          "text": []
        },
        {
          "name": "stdout",
          "output_type": "stream",
          "text": [
            "MoviePy - Done.\n",
            "Moviepy - Writing video /content/drive/MyDrive/0._HCM_AI_Challenge_2023/Data_Process/Cut_Video/video_scenes_L03/L03_V002/video_from_2275_to_2482.mp4\n",
            "\n"
          ]
        },
        {
          "name": "stderr",
          "output_type": "stream",
          "text": []
        },
        {
          "name": "stdout",
          "output_type": "stream",
          "text": [
            "Moviepy - Done !\n",
            "Moviepy - video ready /content/drive/MyDrive/0._HCM_AI_Challenge_2023/Data_Process/Cut_Video/video_scenes_L03/L03_V002/video_from_2275_to_2482.mp4\n",
            "Moviepy - Building video /content/drive/MyDrive/0._HCM_AI_Challenge_2023/Data_Process/Cut_Video/video_scenes_L03/L03_V002/video_from_2483_to_2546.mp4.\n",
            "MoviePy - Writing audio in video_from_2483_to_2546TEMP_MPY_wvf_snd.mp3\n"
          ]
        },
        {
          "name": "stderr",
          "output_type": "stream",
          "text": []
        },
        {
          "name": "stdout",
          "output_type": "stream",
          "text": [
            "MoviePy - Done.\n",
            "Moviepy - Writing video /content/drive/MyDrive/0._HCM_AI_Challenge_2023/Data_Process/Cut_Video/video_scenes_L03/L03_V002/video_from_2483_to_2546.mp4\n",
            "\n"
          ]
        },
        {
          "name": "stderr",
          "output_type": "stream",
          "text": []
        },
        {
          "name": "stdout",
          "output_type": "stream",
          "text": [
            "Moviepy - Done !\n",
            "Moviepy - video ready /content/drive/MyDrive/0._HCM_AI_Challenge_2023/Data_Process/Cut_Video/video_scenes_L03/L03_V002/video_from_2483_to_2546.mp4\n",
            "Moviepy - Building video /content/drive/MyDrive/0._HCM_AI_Challenge_2023/Data_Process/Cut_Video/video_scenes_L03/L03_V002/video_from_2547_to_2605.mp4.\n",
            "MoviePy - Writing audio in video_from_2547_to_2605TEMP_MPY_wvf_snd.mp3\n"
          ]
        },
        {
          "name": "stderr",
          "output_type": "stream",
          "text": []
        },
        {
          "name": "stdout",
          "output_type": "stream",
          "text": [
            "MoviePy - Done.\n",
            "Moviepy - Writing video /content/drive/MyDrive/0._HCM_AI_Challenge_2023/Data_Process/Cut_Video/video_scenes_L03/L03_V002/video_from_2547_to_2605.mp4\n",
            "\n"
          ]
        },
        {
          "name": "stderr",
          "output_type": "stream",
          "text": [
            "t:  97%|█████████▋| 57/59 [00:01<00:00, 28.89it/s, now=None]"
          ]
        }
      ],
      "source": [
        "import cv2\n",
        "import glob\n",
        "import os\n",
        "%cd /content/TransNetV2/inference\n",
        "from transnetv2 import TransNetV2\n",
        "\n",
        "from moviepy.video.io.VideoFileClip import VideoFileClip\n",
        "from moviepy.video.io.ffmpeg_tools import ffmpeg_extract_subclip\n",
        "\n",
        "\n",
        "def cut_videos(input_video_path, output_video_path, list_of_scenes):\n",
        "    video_clip = VideoFileClip(input_video_path)\n",
        "    # Convert scenes to time ranges\n",
        "    for start_frame, end_frame in scenes:\n",
        "        start_time = start_frame/25\n",
        "        end_time =  end_frame/25\n",
        "        subclip = video_clip.subclip(start_time, end_time)\n",
        "\n",
        "        subclip.write_videofile(output_video_path.format(start_frame, end_frame), codec=\"libx264\")\n",
        "\n",
        "    video_clip.reader.close()\n",
        "    video_clip.audio.reader.close_proc()\n",
        "\n",
        "model_dir = \"/content/TransNetV2/inference/transnetv2-weights\"\n",
        "model = TransNetV2(model_dir)\n",
        "video_paths = sorted(glob.glob('/content/drive/MyDrive/0._HCM_AI_Challenge_2023/Data_Process/Video_BTC/Video/video_L03/*.mp4'))\n",
        "des_path = '/content/drive/MyDrive/0._HCM_AI_Challenge_2023/Data_Process/Cut_Video/video_scenes_L03'\n",
        "for video_path in video_paths:\n",
        "    folder_name = video_path.split('/')[-1].replace('.mp4', '')\n",
        "\n",
        "    folder_path = os.path.join(des_path, folder_name)\n",
        "    os.mkdir(folder_path)\n",
        "\n",
        "    # TransNetV2\n",
        "    video_frames, single_frame_predictions, all_frame_predictions = \\\n",
        "        model.predict_video(video_path)\n",
        "    scenes = model.predictions_to_scenes(single_frame_predictions)\n",
        "\n",
        "    # Cut and save videos based on scenes\n",
        "    cut_videos(video_path, os.path.join(folder_path, \"video_from_{}_to_{}.mp4\"), scenes)\n"
      ]
    }
  ],
  "metadata": {
    "accelerator": "GPU",
    "colab": {
      "gpuType": "T4",
      "provenance": []
    },
    "kernelspec": {
      "display_name": "Python 3",
      "name": "python3"
    },
    "language_info": {
      "name": "python"
    }
  },
  "nbformat": 4,
  "nbformat_minor": 0
}
